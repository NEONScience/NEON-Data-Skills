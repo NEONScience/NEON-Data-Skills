{
 "cells": [
  {
   "cell_type": "markdown",
   "id": "bd511a0c",
   "metadata": {},
   "source": [
    "---\n",
    "syncID: 048ec0a5e30842acb2fbf1144454830e\n",
    "title: \"Intro to AOP Hyperspectral Data in Google Earth Engine (GEE) using Python geemap\"\n",
    "description: \"\"\n",
    "dateCreated: 2023-06-\n",
    "authors: Bridget Hass\n",
    "contributors: John Musinsky\n",
    "estimatedTime: 30 minutes\n",
    "packagesLibraries: earthengine-api, geemap\n",
    "topics:\n",
    "languagesTool: Python, Google Earth Engine\n",
    "dataProduct: DP3.30006.001\n",
    "code1: https://raw.githubusercontent.com/NEONScience/NEON-Data-Skills/main/tutorials/\n",
    "tutorialSeries: \n",
    "urlTitle: aop-refl-py-geemap\n",
    "---"
   ]
  },
  {
   "cell_type": "markdown",
   "id": "919ba0ee",
   "metadata": {},
   "source": [
    "<div id=\"ds-objectives\" markdown=\"1\">\n",
    "\n",
    "### Objectives\n",
    "After completing this tutorial, you will be able to use Python to:\n",
    "\n",
    "* Determine the available AOP Surface Directional Reflectance (SDR) datasets in Google Earth Engine\n",
    "* Use functions to read in SDR data sets and mask out bad weather data (>10% cloud cover)\n",
    "* Explore the interactive mapping features in geemap\n",
    "* Create a time-lapse animation of a site\n",
    "\n",
    "### Requirements\n",
    "\n",
    "To follow along with this code, you will need to \n",
    "1. Sign up for a non-commercial Google Earth Engine account here https://code.earthengine.google.com/register.\n",
    "2. Install **Python 3.x**\n",
    "3. Install required Python packages (matplotlib, cartopy and the dependent packages are only required for the last optional part of the tutorial, to create a time-lapse gif)\n",
    "    - earthengine-api\n",
    "    - geemap\n",
    "    - matplotlib\n",
    "    - cartopy (dependencies: geos, shapely, pyproj)\n",
    "\n",
    "Notes: \n",
    "- This tutorial was developed using Python 3.9, so if you are installing Python for the first time, we recommend that version. This lesson was written in **Jupyter Notebook** so you can run each cell chunk individually, but you can also use a different IDE (Interactive Development Environment) of your choice. If not using **Jupyter**, we recommend using **Spyder**, which has similar functionality. You can install both Python, Jupyter Notebooks, and Spyder by downloading <a href=\"https://www.anaconda.com/products/distribution\" target=\"_blank\">Anaconda</a>.\n",
    "  If cartopy is not installing using `conda install` or `pip install`, you may need to find the wheel file specific to your Python version, eg. `pip install Cartopy-0.20.2-cp39-cp39-win_amd64.whl`.\n",
    "\n",
    "</div>"
   ]
  },
  {
   "cell_type": "code",
   "execution_count": null,
   "id": "dadd2c67",
   "metadata": {},
   "outputs": [],
   "source": [
    "import os\n",
    "import ee\n",
    "import geemap"
   ]
  },
  {
   "cell_type": "code",
   "execution_count": null,
   "id": "373e4793",
   "metadata": {},
   "outputs": [],
   "source": [
    "ee.Authenticate()"
   ]
  },
  {
   "cell_type": "code",
   "execution_count": null,
   "id": "d6439550",
   "metadata": {},
   "outputs": [],
   "source": [
    "ee.Initialize()"
   ]
  },
  {
   "cell_type": "markdown",
   "id": "eab47367",
   "metadata": {},
   "source": [
    "The code below creates and displays the GEE interactive `Map` panel. It will then be updated by the subsequent code chunks."
   ]
  },
  {
   "cell_type": "code",
   "execution_count": null,
   "id": "8b50a654",
   "metadata": {},
   "outputs": [],
   "source": [
    "Map = geemap.Map()\n",
    "Map"
   ]
  },
  {
   "cell_type": "markdown",
   "id": "ddf64811",
   "metadata": {},
   "source": [
    "First we need to set the NEON <a href=\"https://www.neonscience.org/field-sites/explore-field-sites\" target=\"_blank\">NEON field site</a> (4-letter code) and the years of data we want to pull in. \n",
    "\n",
    "In this example we will look at the <a href=\"https://www.neonscience.org/field-sites/grsm\" target=\"_blank\">Great Smokey Mountain (GRSM)</a> site. To see all the AOP SDR data that are available in GEE, and the years of data available at GRSM, run the code chunks below."
   ]
  },
  {
   "cell_type": "code",
   "execution_count": null,
   "id": "963e30d3",
   "metadata": {},
   "outputs": [],
   "source": [
    "# Read in the NEON AOP Surface Directional Reflectance (SDR) Collection:\n",
    "sdrCol = ee.ImageCollection('projects/neon-prod-earthengine/assets/DP3-30006-001')\n",
    "\n",
    "# List all available sites in the NEON SDR image collection:\n",
    "print('All Available NEON SDR Images:')\n",
    "print(sdrCol.aggregate_array('system:index').getInfo())\n",
    "\n",
    "# Get the flight year and site information\n",
    "flightYears = sdrCol.aggregate_array('FLIGHT_YEAR').getInfo()\n",
    "sites = sdrCol.aggregate_array('NEON_SITE').getInfo()"
   ]
  },
  {
   "cell_type": "code",
   "execution_count": null,
   "id": "5cb6ac4b",
   "metadata": {},
   "outputs": [],
   "source": [
    "site = 'GRSM'"
   ]
  },
  {
   "cell_type": "code",
   "execution_count": null,
   "id": "0fad1505",
   "metadata": {},
   "outputs": [],
   "source": [
    "# See the years of data available for the specified site:\n",
    "print('\\nYears of data available in GEE for site',site,':')\n",
    "print([year_site[0] for year_site in zip(flightYears,sites) if site in year_site])"
   ]
  },
  {
   "cell_type": "markdown",
   "id": "9925f060",
   "metadata": {},
   "source": [
    "If you'd like to read in every year, you can use `ee.List.sequence(start_year, end_year)`, but since AOP data is not collected  every year at every site, and all of the data has not yet been added to GEE, we recommend you first check the data availability and then use `ee.List` to specify only data that are available (or the dates of interest). For this example, we'll create an earth engine list (`ee.List`) of the GRSM data from 2016, 2017, and 2021:"
   ]
  },
  {
   "cell_type": "code",
   "execution_count": null,
   "id": "ae18df9e",
   "metadata": {},
   "outputs": [],
   "source": [
    "years = ee.List([2016, 2017, 2021])\n",
    "print(years.getInfo())"
   ]
  },
  {
   "cell_type": "markdown",
   "id": "5213dfef",
   "metadata": {},
   "source": [
    "Next we can write a function that will read in the AOP SDR image collection, filter on a specified site, and then read in the `Weather_Quality_Indicator` band and mask the data to include only the clear weather (<10% cloud cover) data."
   ]
  },
  {
   "cell_type": "code",
   "execution_count": null,
   "id": "d9a25d4f",
   "metadata": {},
   "outputs": [],
   "source": [
    "def sdr_clear_weather(year):\n",
    "\n",
    "    # Specify the start and end dates\n",
    "    start_date = ee.Date.fromYMD(year, 1, 1) \n",
    "    end_date = start_date.advance(1, \"year\")\n",
    "    \n",
    "    # Filter the SDR image collection on the site and dates\n",
    "    aop_sdr = ee.ImageCollection('projects/neon-prod-earthengine/assets/DP3-30006-001') \\\n",
    "        .filterDate(start_date, end_date) \\\n",
    "        .filterMetadata('NEON_SITE', 'equals', site).mosaic()\n",
    "    \n",
    "    # Read in only the data bands, all of which start with \"B\", eg. \"B001\"\n",
    "    sdr_data = aop_sdr.select('B.*')\n",
    "    \n",
    "    # Extract Weather Quality Indicator layer\n",
    "    weather_quality_band = aop_sdr.select(['Weather_Quality_Indicator']);\n",
    "\n",
    "    # Select only the clear weather data (<10% cloud cover)\n",
    "    clear_weather = weather_quality_band.eq(1); # 1 = 0-10% cloud cover\n",
    "    \n",
    "    # Mask out all cloudy pixels from the SDR data cube\n",
    "    sdr_clear_weather = sdr_data.updateMask(clear_weather);\n",
    "\n",
    "    return sdr_clear_weather"
   ]
  },
  {
   "cell_type": "markdown",
   "id": "03be4603",
   "metadata": {},
   "source": [
    "We can now map this function over the list of years, and then add these images to the Map layer in a loop."
   ]
  },
  {
   "cell_type": "code",
   "execution_count": null,
   "id": "7f2e3d22",
   "metadata": {},
   "outputs": [],
   "source": [
    "# Map the function over the years of data, defined before as an ee.List\n",
    "images = years.map(sdr_clear_weather)\n",
    "\n",
    "# Set the visualization parameters so contrast is maximized, and display RGB bands (true-color image)\n",
    "visParams = {'min':0,'max':1200,'gamma':0.9,'bands':['B053','B035','B019']};\n",
    "\n",
    "for index in range(0, len(years.getInfo())):\n",
    "    image = ee.Image(images.get(index))\n",
    "    layer_name = site + \" \" + str(years.getInfo()[index]) + \" SDR\" \n",
    "    print('Adding ' + layer_name)\n",
    "    Map.addLayer(image, visParams, layer_name)\n",
    "    \n",
    "# Center the map on the site\n",
    "grsmCenter = ee.Geometry.Point([-83.5, 35.7]);\n",
    "Map.centerObject(grsmCenter, 11);"
   ]
  },
  {
   "cell_type": "markdown",
   "id": "0ad27cbf",
   "metadata": {},
   "source": [
    "The function below extracts the weather quality band for each year of data in the image collection."
   ]
  },
  {
   "cell_type": "code",
   "execution_count": null,
   "id": "3d8b2c84",
   "metadata": {},
   "outputs": [],
   "source": [
    "def yearly_weather_band(year):\n",
    "\n",
    "    start_date = ee.Date.fromYMD(year, 1, 1) \n",
    "    end_date = start_date.advance(1, \"year\")\n",
    "    \n",
    "#     print('filtering image collection by date and site')\n",
    "    aop_sdr = ee.ImageCollection('projects/neon-prod-earthengine/assets/DP3-30006-001') \\\n",
    "        .filterDate(start_date, end_date) \\\n",
    "        .filterMetadata('NEON_SITE', 'equals', site).mosaic()\n",
    "    \n",
    "    # Extract Weather Quality Indicator band\n",
    "    weather_quality_band = aop_sdr.select(['Weather_Quality_Indicator']);\n",
    "\n",
    "    return weather_quality_band"
   ]
  },
  {
   "cell_type": "markdown",
   "id": "82292e77",
   "metadata": {},
   "source": [
    "Similarly, we will map this function over the list of years, and then add these weather quality images to the Map layer in a loop. For this we can define a color palette that will match AOP's weather stop-light color convention, where green means good weather (<10% cloud cover), yellow is OK (10-50% cloud cover), and red is bad (>50% cloud cover)."
   ]
  },
  {
   "cell_type": "code",
   "execution_count": null,
   "id": "4f2bed70",
   "metadata": {},
   "outputs": [],
   "source": [
    "weather_bands = years.map(yearly_weather_band)\n",
    "\n",
    "# Define a palette for the weather - to match NEON AOP's weather color conventions (green-yellow-red)\n",
    "gyrPalette = ['00ff00', # green (<10% cloud cover)\n",
    "              'ffff00', # yellow (10-50% cloud cover)\n",
    "              'ff0000' # red (>50% cloud cover)\n",
    "             ];\n",
    "\n",
    "# parameters to display the weather bands (cloud conditions) with the green-yellow-red palette\n",
    "weather_visParams = {'min': 1, 'max': 3, 'palette': gyrPalette, 'opacity': 0.3};\n",
    "\n",
    "# loop through the layers and add them to the Map\n",
    "for index in range(0, len(years.getInfo())):\n",
    "    weather_band = ee.Image(weather_bands.get(index))\n",
    "    layer_name = site + \" \" + str(years.getInfo()[index]) + \" Cloud Cover\" \n",
    "    print('Adding ' + layer_name)\n",
    "    Map.addLayer(weather_band, weather_visParams, layer_name, 0) # 0 means the layers will not be selected \"on\" by default"
   ]
  },
  {
   "cell_type": "markdown",
   "id": "2aa21e4e",
   "metadata": {},
   "source": [
    "Now let's add the full image collection (all years) for a different site as a Map Layer. For this example, we'll use the site <a href=\"https://www.neonscience.org/field-sites/clbj\" target=\"_blank\">Lyndon B. Johnson National Grassland (CLBJ)</a>, as there are 5 years of reflectance data ingested in GEE for that site. This is a nice example for displaying the time-lapse feature in the interactive map."
   ]
  },
  {
   "cell_type": "code",
   "execution_count": null,
   "id": "55333579",
   "metadata": {},
   "outputs": [],
   "source": [
    "site = 'CLBJ'"
   ]
  },
  {
   "cell_type": "code",
   "execution_count": null,
   "id": "7a3aeab9",
   "metadata": {},
   "outputs": [],
   "source": [
    "# See the years of data available for the specified site:\n",
    "print('\\nData available in GEE for site',site,':')\n",
    "print([year_site[0] for year_site in zip(flightYears,sites) if site in year_site])"
   ]
  },
  {
   "cell_type": "code",
   "execution_count": null,
   "id": "24830b43",
   "metadata": {},
   "outputs": [],
   "source": [
    "Map = geemap.Map()\n",
    "Map"
   ]
  },
  {
   "cell_type": "code",
   "execution_count": null,
   "id": "9954fba3",
   "metadata": {},
   "outputs": [],
   "source": [
    "# Filter the SDR image collection at that site from all available years\n",
    "siteSDR = sdrCol.filterMetadata('NEON_SITE', 'equals', site);\n",
    "\n",
    "# Read in only the data bands, all of which start with \"B\", eg. \"B001\"\n",
    "siteSDR_data = siteSDR.select('B.*')\n",
    "\n",
    "# Read in the weather quality indicator band\n",
    "siteSDR_weatherQA = siteSDR.select(['Weather_Quality_Indicator']);\n",
    "\n",
    "# Set the visualization parameters so contrast is maximized, and display RGB bands (true-color image)\n",
    "visParams = {'min':0,'max':1200,'gamma':0.9,'bands':['B053','B035','B019']};\n",
    "\n",
    "# Add the site image collection as a layer to the Map\n",
    "Map.addLayer(siteSDR_data, visParams, site + ' SDR');\n",
    "\n",
    "# Add the weather quality layer as well, for context\n",
    "Map.addLayer(siteSDR_weatherQA, weather_visParams, site + ' Weather Quality Indicator',0)\n",
    "\n",
    "# Center the map on the site - change the lat/lon below if you are using a different site\n",
    "lon = -97.63\n",
    "lat = 33.37\n",
    "siteCenter = ee.Geometry.Point([lon, lat]);\n",
    "Map.centerObject(siteCenter, 12);"
   ]
  },
  {
   "cell_type": "markdown",
   "id": "e219810d",
   "metadata": {},
   "source": [
    "You should now see the Map panel populated with the CLBJ Image Collection and the Weather Quality Band. On your own, explore some of the options by click on the icon in the upper right corner of the map. Some options of interest may be the timelapse (double arrow), ..., and ... "
   ]
  },
  {
   "cell_type": "markdown",
   "id": "25bc945a",
   "metadata": {},
   "source": [
    "### Create  a Time-Lapse GIF\n",
    "Lastly, optionally, we can create a time-lapse gif of the site over all the collections. This part follows along code from the GeoPython 2021 workshop: https://geemap.org/workshops/GeoPython_2021/#create-timelapse-animations."
   ]
  },
  {
   "cell_type": "code",
   "execution_count": null,
   "id": "4ae9d3ad",
   "metadata": {},
   "outputs": [],
   "source": [
    "from geemap import cartoee\n",
    "import matplotlib.pyplot as plt"
   ]
  },
  {
   "cell_type": "code",
   "execution_count": null,
   "id": "6566254d",
   "metadata": {},
   "outputs": [],
   "source": [
    "# Define width and height (in degrees)\n",
    "w = 0.1\n",
    "h = 0.1\n",
    "\n",
    "region = [lon - w, lat - h, lon + w, lat + h]\n",
    "\n",
    "fig = plt.figure(figsize=(10, 8))\n",
    "\n",
    "# Use cartoee to get a map\n",
    "ax = geemap.cartoee.get_map(image, region=region, vis_params=visParams)\n",
    "\n",
    "# Add gridlines to the map at a specified interval\n",
    "geemap.cartoee.add_gridlines(ax, interval=[0.05, 0.05], linestyle=\":\")\n",
    "\n",
    "# Add scale bar\n",
    "scale_bar_dict = {\n",
    "    \"length\": 10,\n",
    "    \"xy\": (0.1, 0.05),\n",
    "    \"linewidth\": 3,\n",
    "    \"fontsize\": 20,\n",
    "    \"color\": \"white\",\n",
    "    \"unit\": \"km\",\n",
    "    \"ha\": \"center\",\n",
    "    \"va\": \"bottom\",\n",
    "}\n",
    "cartoee.add_scale_bar_lite(ax, **scale_bar_dict)\n",
    "\n",
    "ax.set_title(label='CLBJ', fontsize=15)\n",
    "\n",
    "plt.show()"
   ]
  },
  {
   "cell_type": "markdown",
   "id": "b68ee19a",
   "metadata": {},
   "source": [
    "We can then apply these settings and create the timelaps using `cartoee.get_image_collection_gif` as follows. This will create a \"timelapse\" subfolder in the Downloads directory."
   ]
  },
  {
   "cell_type": "code",
   "execution_count": null,
   "id": "241be475",
   "metadata": {},
   "outputs": [],
   "source": [
    "cartoee.get_image_collection_gif(\n",
    "    ee_ic=siteSDR,\n",
    "    out_dir=os.path.expanduser(\"~/Downloads/timelapse\"),\n",
    "    out_gif=\"clbj_gee_timelapse.gif\",\n",
    "    vis_params=visParams,\n",
    "    region=region,\n",
    "    fps=1,\n",
    "    mp4=True,\n",
    "    grid_interval=(0.05, 0.05),\n",
    "    plot_title=\"CLBJ AOP SDR Time Lapse\",\n",
    "    date_format='YYYY-MM-dd',\n",
    "    fig_size=(10, 8),\n",
    "    dpi_plot=100,\n",
    "    file_format=\"png\",\n",
    "    scale_bar_dict=scale_bar_dict,\n",
    ")"
   ]
  },
  {
   "cell_type": "markdown",
   "id": "5e7be9e5",
   "metadata": {},
   "source": [
    "<figure>\n",
    "  <a href=\"https://raw.githubusercontent.com/NEONScience/NEON-Data-Skills/main/graphics/aop-gee-python/intro_gee_py_functions/clbj_gee_timelapse.gif\">\n",
    "  <img src=\"https://raw.githubusercontent.com/NEONScience/NEON-Data-Skills/main/graphics/aop-gee-python/intro_gee_py_functions/clbj_gee_timelapse.gif\" alt=\"CLBJ Timelapse\" width=\"500\"><figcaption>Time Lapse of CLBJ Surface Directional Reflectance True-Color Images</figcaption></a></figure> \n",
    "\n",
    "### Recap\n",
    "\n",
    "In this lesson we covered how to read in AOP Surface Directional Reflectance (SDR) datasets into GEE using Python with the packages `ee` and `geemap`. You learned how to write functions that mask out any data collected in >10% cloud cover conditions. You also got a chance to explore the interactive mapping tools that are made available as part of geemap. We encourage you to start writing functions and Python code on your own to expand upon these examples!"
   ]
  }
 ],
 "metadata": {
  "kernelspec": {
   "display_name": "Python 3 (ipykernel)",
   "language": "python",
   "name": "python3"
  },
  "language_info": {
   "codemirror_mode": {
    "name": "ipython",
    "version": 3
   },
   "file_extension": ".py",
   "mimetype": "text/x-python",
   "name": "python",
   "nbconvert_exporter": "python",
   "pygments_lexer": "ipython3",
   "version": "3.9.12"
  }
 },
 "nbformat": 4,
 "nbformat_minor": 5
}
