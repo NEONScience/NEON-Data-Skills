{
 "cells": [
  {
   "cell_type": "markdown",
   "id": "5f178168",
   "metadata": {},
   "source": [
    "---\n",
    "syncID: d14552056cc440549ae3c1bac80eaeb7\n",
    "title: \"Intro to AOP Datasets in Google Earth Engine (GEE) using Python\"\n",
    "description: \"Explore AOP reflectance, camera, and lidar datasets in GEE\"\n",
    "dateCreated: 2023-07-25\n",
    "authors: Bridget Hass\n",
    "contributors: John Musinsky\n",
    "estimatedTime: 30 minutes\n",
    "packagesLibraries: earthengine-api, geemap\n",
    "topics:\n",
    "languagesTool: Python, Google Earth Engine\n",
    "dataProducts: DP3.30006.001, DP3.30006.002, DP3.30010.001, DP3.30015.001, DP3.30024.001\n",
    "code1: \t\n",
    "https://github.com/NEONScience/NEON-Data-Skills/edit/main/tutorials/Other/GEE_Python/01_aop_intro_gee_py/Intro_AOP_Datasets_GEE_Python.ipynb\n",
    "tutorialSeries: \n",
    "urlTitle: aop-gee-py-intro\n",
    "---"
   ]
  },
  {
   "cell_type": "markdown",
   "id": "1db9fb0b",
   "metadata": {},
   "source": [
    "<div id=\"ds-objectives\" markdown=\"1\">\n",
    "\n",
    "### Objectives\n",
    "After completing this tutorial, you will be able to use Python to:\n",
    "\n",
    "* Determine the available AOP datasets in Google Earth Engine\n",
    "* Read in and visualize AOP Reflectance, RGB Camera, and Lidar raster datasets\n",
    "* Become familiar with the AOP Image Properties\n",
    "* Filter data based off image properties to pull in dataset(s) of interest\n",
    "* Explore the interactive mapping features in geemap\n",
    "\n",
    "### Requirements\n",
    "\n",
    "To follow along with this code, you will need to:\n",
    "1. Sign up for a non-commercial Google Earth Engine account here https://code.earthengine.google.com/register.\n",
    "2. Install **Python 3.9+**\n",
    "3. Install required Python packages \n",
    "- `pip install earthengine-api --upgrade`\n",
    "- `pip install geemap`\n",
    "\n",
    "You may need to run the following to upgrade the `google-api-python-client`:\n",
    "- `pip install --upgrade google-api-python-client`\n",
    "\n",
    "Notes: \n",
    "- This tutorial was developed using Python 3.9, so if you are installing Python for the first time, we recommend that version or higher. This lesson was written in **Jupyter Notebook** so you can run each cell chunk individually, but you can also use a different IDE (Interactive Development Environment) of your choice. \n",
    "- If not using **Jupyter**, we recommend using **Spyder**, which has similar functionality. You can install both Python, Jupyter Notebooks, and Spyder by downloading <a href=\"https://www.anaconda.com/products/distribution\" target=\"_blank\">Anaconda</a>.\n",
    "\n",
    "### Additional Resources\n",
    "- <a href=\"https://developers.google.com/earth-engine/tutorials/community/intro-to-python-api\" target=\"_blank\">Google Developers Intro to Python API</a>\n",
    "- <a href=\"https://book.geemap.org/\" target=\"_blank\">`geemap` Text Book</a>\n",
    "- <a href=\"https://www.youtube.com/@giswqs\" target=\"_blank\">`geemap` YouTube Channel</a>\n",
    "\n",
    "</div>"
   ]
  },
  {
   "cell_type": "markdown",
   "id": "c2cc1770",
   "metadata": {},
   "source": [
    "## AOP data in Google Earth Engine\n",
    "\n",
    "[Google Earth Engine](https://earthengine.google.com/) is a platform for carrying out continental and planetary scale geospatial analyses. It has a multi-pedabyte catalog of satellite imagery and geospatial datasets, and is a powerful environment for comparing and scaling up NEON airborne datasets. \n",
    "\n",
    "The NEON data products that have been made available on GEE can be currently be accessed through the `projects/neon-prod-earthengine` folder with an appended suffix of the dataset Acronym and Revision Number, shown in the table below. \n",
    "\n",
    "| Acronym | Revision | Data Product      | Data Product ID |\n",
    "|---------|----------|-------------------|-----------------|\n",
    "| HSI_REFL | 001 | Surface Directional Reflectance | <a href=\"https://data.neonscience.org/data-products/DP3.30006.001\" target=\"_blank\">DP3.30006.001</a> |\n",
    "| HSI_REFL | 002 | Surface Bidirectional Reflectance | <a href=\"https://data.neonscience.org/data-products/DP3.30006.002\" target=\"_blank\">DP3.30006.002</a> |\n",
    "| RGB | 001 | Red Green Blue (Camera Imagery) | <a href=\"https://data.neonscience.org/data-products/DP3.30010.001\" target=\"_blank\">DP3.30010.001</a> |\n",
    "| DEM | 001 | Digital Surface and Terrain Models (DSM/DTM) | <a href=\"https://data.neonscience.org/data-products/DP3.30024.001\" target=\"_blank\">DP3.30024.001</a> |\n",
    "| CHM | 001 | Ecosystem Structure (Canopy Height Model; CHM) | <a href=\"https://data.neonscience.org/data-products/DP3.30015.001\" target=\"_blank\">DP3.30015.001</a> |\n",
    "\n",
    "To access the NEON AOP data you can read in the Image Collection `ee.ImageCollection` followed by the path, eg. the Surface Directional Reflectance can be found under the path `projects/neon-prod-earthengine/assets/HSI_REFL/001`. You can then filter down to a particular site and year of interest using the properties. \n",
    "\n",
    "First, import the relevant Earth Engine Python packages, `earthengine-api` [(ee)](https://developers.google.com/earth-engine/guides/python_install) and [geemap](https://geemap.org/). This lesson was written using geemap version 0.22.1. If you have an older version installed, used the command below to update.\n",
    "\n",
    "## GEE Python Package Installation and Authentication"
   ]
  },
  {
   "cell_type": "code",
   "execution_count": 1,
   "id": "ee5cc9ff",
   "metadata": {},
   "outputs": [],
   "source": [
    "import ee, geemap"
   ]
  },
  {
   "cell_type": "markdown",
   "id": "402aab2b",
   "metadata": {},
   "source": [
    "In order to use Earth Engine from within this Jupyter Notebook, we need to first Authenticate (which requires generating a token) and then Initialize, as below. For more detailed instructions on the Authentication process, please refer to the: \n",
    "<a href=\"https://book.geemap.org/chapters/01_introduction.html#earth-engine-authentication\" target=\"_blank\">geemap text book Earth Engine authentication section</a>."
   ]
  },
  {
   "cell_type": "code",
   "execution_count": 2,
   "id": "e09ea3cb",
   "metadata": {},
   "outputs": [
    {
     "data": {
      "text/plain": [
       "'0.22.1'"
      ]
     },
     "execution_count": 2,
     "metadata": {},
     "output_type": "execute_result"
    }
   ],
   "source": [
    "geemap.__version__"
   ]
  },
  {
   "cell_type": "code",
   "execution_count": 3,
   "id": "fad574d4",
   "metadata": {},
   "outputs": [
    {
     "data": {
      "text/html": [
       "<p>To authorize access needed by Earth Engine, open the following\n",
       "        URL in a web browser and follow the instructions:</p>\n",
       "        <p><a href=https://code.earthengine.google.com/client-auth?scopes=https%3A//www.googleapis.com/auth/earthengine%20https%3A//www.googleapis.com/auth/devstorage.full_control&request_id=d14Y5cPpjRI2xthDcGnDihZhifXKCYeSXN96Rfh6vZs&tc=vLZudoll6bTTGiTL2pRlB31GehartDDjHuVTwnH446M&cc=QBieU0J-NeNTC_uvd0gpCsAObmuETaWjFpO-t6g7naw>https://code.earthengine.google.com/client-auth?scopes=https%3A//www.googleapis.com/auth/earthengine%20https%3A//www.googleapis.com/auth/devstorage.full_control&request_id=d14Y5cPpjRI2xthDcGnDihZhifXKCYeSXN96Rfh6vZs&tc=vLZudoll6bTTGiTL2pRlB31GehartDDjHuVTwnH446M&cc=QBieU0J-NeNTC_uvd0gpCsAObmuETaWjFpO-t6g7naw</a></p>\n",
       "        <p>The authorization workflow will generate a code, which you should paste in the box below.</p>\n",
       "        "
      ],
      "text/plain": [
       "<IPython.core.display.HTML object>"
      ]
     },
     "metadata": {},
     "output_type": "display_data"
    },
    {
     "name": "stdin",
     "output_type": "stream",
     "text": [
      "Enter verification code:  "
     ]
    },
    {
     "name": "stdout",
     "output_type": "stream",
     "text": [
      "\n",
      "Successfully saved authorization token.\n"
     ]
    }
   ],
   "source": [
    "ee.Authenticate()"
   ]
  },
  {
   "cell_type": "code",
   "execution_count": 4,
   "id": "6797e07a",
   "metadata": {},
   "outputs": [],
   "source": [
    "ee.Initialize()"
   ]
  },
  {
   "cell_type": "markdown",
   "id": "83638ab9",
   "metadata": {},
   "source": [
    "Now that you've Authenticated and Initialized your Earth Engine account, you can start using the Python API to interact with GEE using the `ee` and `geemap` packageS.\n",
    "\n",
    "First let's read in the Surface Directional Reflectance Image Collection (`HSI_REFL/001`) and see what data are available in GEE."
   ]
  },
  {
   "cell_type": "code",
   "execution_count": 5,
   "id": "9ad8e956",
   "metadata": {},
   "outputs": [
    {
     "name": "stdout",
     "output_type": "stream",
     "text": [
      "Found 48 NEON Directional Reflectance Images in GEE\n",
      "\n",
      "Last 10 reflectance datasets available:\n",
      "['2021_GRSM_5', '2021_HEAL_4', '2021_JERC_6', '2021_JORN_4', '2021_MCRA_2', '2021_OAES_5', '2021_OSBS_6', '2021_SJER_5', '2021_SOAP_5', '2021_SRER_4']\n"
     ]
    }
   ],
   "source": [
    "# Read in the NEON AOP Surface Directional Reflectance (SDR) Collection:\n",
    "refl001 = ee.ImageCollection('projects/neon-prod-earthengine/assets/HSI_REFL/001')\n",
    "\n",
    "# Count and list all available sites in the NEON directional reflectance image collection:\n",
    "# Get the number of SDR images\n",
    "refl001_count = refl001.size()\n",
    "refl001_count = str(refl001_count.getInfo())\n",
    "print(f'Found {refl001_count} NEON Directional Reflectance Images in GEE')\n",
    "\n",
    "refl001_year_sites = refl001.aggregate_array('system:index').getInfo()\n",
    "print('\\nLast 10 reflectance datasets available:')\n",
    "print(refl001_year_sites[-10:])"
   ]
  },
  {
   "cell_type": "markdown",
   "id": "a3c058e6",
   "metadata": {},
   "source": [
    "We can also look for data for a specified site - for example look at all the years of AOP SDR data available for a given site."
   ]
  },
  {
   "cell_type": "code",
   "execution_count": 6,
   "id": "1d35789b",
   "metadata": {},
   "outputs": [
    {
     "name": "stdout",
     "output_type": "stream",
     "text": [
      "\n",
      "Years of Directional Reflectance data available in GEE for  CPER:\n",
      "[2013, 2017, 2020, 2020, 2021]\n"
     ]
    }
   ],
   "source": [
    "# See the years of data available for the specified site:\n",
    "site = 'CPER'\n",
    "\n",
    "# Get the flight year and site information\n",
    "flight_years = refl001.aggregate_array('FLIGHT_YEAR').getInfo()\n",
    "sites = refl001.aggregate_array('NEON_SITE').getInfo()\n",
    "\n",
    "print('\\nYears of Directional Reflectance data available in GEE for ',site+':')\n",
    "print([year_site[0] for year_site in zip(flight_years,sites) if site in year_site])"
   ]
  },
  {
   "cell_type": "markdown",
   "id": "832ae722",
   "metadata": {},
   "source": [
    "Let's take a look at another dataset, the high-resolution RGB camera imagery:"
   ]
  },
  {
   "cell_type": "code",
   "execution_count": 7,
   "id": "8c05a860",
   "metadata": {},
   "outputs": [
    {
     "name": "stdout",
     "output_type": "stream",
     "text": [
      "Available NEON Camera Images:\n",
      "Count:  44\n",
      "\n",
      "['2016_HARV_3', '2017_CLBJ_2', '2017_GRSM_3', '2017_SERC_3', '2018_CLBJ_3', '2018_OAES_3', '2018_SRER_2', '2018_TEAK_3', '2019_BART_5', '2019_CLBJ_4', '2019_HARV_6', '2019_HEAL_3', '2019_JORN_3', '2019_OAES_4', '2019_SOAP_4', '2020_CPER_7', '2020_NIWO_4', '2020_RMNP_3', '2020_UKFS_5', '2020_UNDE_4', '2020_YELL_3', '2021_ABBY_4', '2021_BLAN_4', '2021_BONA_4', '2021_CLBJ_5', '2021_DEJU_4', '2021_DELA_6', '2021_HEAL_4', '2021_JERC_6', '2021_JORN_4', '2021_LENO_6', '2021_MLBS_4', '2021_OAES_5', '2021_OSBS_6', '2021_SERC_5', '2021_SJER_5', '2021_SOAP_5', '2021_SRER_4', '2021_TALL_6', '2021_WREF_4', '2022_OAES_6', '2022_UNDE_5', '2023_CLBJ_7', '2023_OAES_7']\n"
     ]
    }
   ],
   "source": [
    "# Read in the NEON AOP Camera (RGB) Collection:\n",
    "rgb = ee.ImageCollection('projects/neon-prod-earthengine/assets/RGB/001')\n",
    "\n",
    "# List all available sites in the NEON SDR image collection:\n",
    "print('Available NEON Camera Images:')\n",
    "# Get the number of RGB images\n",
    "rgb_count = rgb.size()\n",
    "print('Count: ', str(rgb_count.getInfo())+'\\n')\n",
    "print(rgb.aggregate_array('system:index').getInfo())"
   ]
  },
  {
   "cell_type": "markdown",
   "id": "b016f6a3",
   "metadata": {},
   "source": [
    "Similarly, you can read in the DEM and CHM collections as follows:\n",
    "\n",
    "```python\n",
    "# Read in the NEON AOP DEM Collection (this includes the DTM and DSM as 2 bands)\n",
    "dem = ee.ImageCollection('projects/neon-prod-earthengine/assets/DEM/001')\n",
    "\n",
    "# Read in the NEON AOP CHM Collection\n",
    "chm = ee.ImageCollection('projects/neon-prod-earthengine/assets/CHM/001')\n",
    "```"
   ]
  },
  {
   "cell_type": "markdown",
   "id": "77bf4969",
   "metadata": {},
   "source": [
    "## Explore Image Properties\n",
    "\n",
    "Now that we've read in a couple of image collections, let's take a look at some of the image properties using `geemap.image_props`:"
   ]
  },
  {
   "cell_type": "code",
   "execution_count": 8,
   "id": "dd465eaa",
   "metadata": {
    "scrolled": true
   },
   "outputs": [
    {
     "data": {
      "text/plain": [
       "['AOP_VISIT_NUMBER',\n",
       " 'DESCRIPTION',\n",
       " 'FLIGHT_YEAR',\n",
       " 'IMAGE_DATE',\n",
       " 'NEON_DATA_PROD_ID',\n",
       " 'NEON_DATA_PROD_URL',\n",
       " 'NEON_DOMAIN',\n",
       " 'NEON_SITE',\n",
       " 'NOMINAL_SCALE',\n",
       " 'PROVISIONAL_RELEASED',\n",
       " 'RELEASE_YEAR',\n",
       " 'SCALE_FACTOR',\n",
       " 'SENSOR_NAME',\n",
       " 'SENSOR_NUMBER',\n",
       " 'WL_FWHM_B001',\n",
       " 'WL_FWHM_B002']"
      ]
     },
     "execution_count": 8,
     "metadata": {},
     "output_type": "execute_result"
    }
   ],
   "source": [
    "props = geemap.image_props(refl001.first())\n",
    "\n",
    "# Display the property names for the first 15 properties:\n",
    "props.keys().getInfo()[:16]\n",
    "\n",
    "# Optionally display all properties by uncommenting the line below\n",
    "# props"
   ]
  },
  {
   "cell_type": "markdown",
   "id": "d3384ca1",
   "metadata": {},
   "source": [
    "You can also look at all the Image properties by typing `props`. This generates a long output, so we will just show a portion of the output from that:\n",
    "\n",
    "```\n",
    "AOP_VISIT_NUMBER: 1\n",
    "DESCRIPTION :Orthorectified surface directional reflectance (0-1 unitless, scaled by 10000) ...\n",
    "FLIGHT_YEAR: 2013\n",
    "IMAGE_DATE: 2013-06-25\n",
    "NEON_DATA_PROD_ID: DP3.30006.001\n",
    "NEON_DATA_PROD_URL: https://data.neonscience.org/data-products/DP3.30006.001\n",
    "NEON_DOMAIN: D10\n",
    "NEON_SITE: CPER\n",
    "NOMINAL_SCALE: 1\n",
    "PROVISIONAL_RELEASED: RELEASED\r\n",
    "RELEASE_YEAR :2024R\n",
    "SCALING_FACTO 1:10000\n",
    "SENSOR_NAM E:AVIRIS-NG\n",
    "SENSOR_NUMBE R:NIS1\n",
    "WL_FWHM_B00 1:382.3465,5.8456\n",
    "    \n",
    "system:asset_size:68059.439009 MB\n",
    "system:band_names: List (442 elements)\n",
    "system:id:projects/neon-prod-earthengine/assets/HSI_REFL/001/2013_CPER_1\n",
    "system:index:2013_CPER_1DR\n",
    "system:time_end:2013-06-25 10:42:05\n",
    "system:time_start:2013-06-25 08:30:45\n",
    "system:version:1689911980211725\n",
    "```\n",
    "\n",
    "The image properties contain some additional relevant information about the dataset, and are variables you can filter on to select a subset of the data. A lot of these properties are self-explanatory, but some of them may be less apparent. A short description of a few properties is outlined below. Note that when the datasets become part of the Google Public Datasets, you will be able to see descriptions of the properties in GEE\n",
    "- `PROVISIONAL_RELEASED`: Whether the data are available provisionally, or are Released. See https://www.neonscience.org/data-samples/data-management/data-revisions-releases for more information on the NEON release process.\n",
    "- `RELEASE_YEAR`: The year of the release tag, if the data have been Released. .\n",
    "\n",
    "- `SENSOR_NAME`: The name of the hyperspectral sensor. All NEON sensors are JPL AVIRIS-NG sensors.\n",
    "- `SENSOR_NUMBER`: The payload number, NIS1 = NEON Imaging Spectrometer, Payload 1. NEON Operates 3 separate payloads, each with a unique hyperspectral sensor (as well as unique LiDAR and Camera sensors).\n",
    "- `WL_FWHM_B###`: Center Wavelength (WL) and Full Width Half Max (FWHM) of the band, both in nm\n",
    "\n",
    "In addition there are some `system` properties, including information about the size of the asset, the band names (most of these are just band numbers but the QA bands have more descriptive names), as well as the start and end time of the collection."
   ]
  },
  {
   "cell_type": "markdown",
   "id": "3a5432e7",
   "metadata": {},
   "source": [
    "## Filter an Image Collection\n",
    "\n",
    "One of the most useful aspects of having AOP data ingested in Earth Engine is the ability to filter by properties, such as the site name, dates, sensors, etc. In this next section, we will show how to filter datasets to extract only data of interest. We'll use the NEON's <a href=\"https://www.neonscience.org/field-sites/harv\" target=\"_blank\">Harvard Forest (HARV)</a>, in Massachusettes."
   ]
  },
  {
   "cell_type": "code",
   "execution_count": 9,
   "id": "f8f19d2b",
   "metadata": {},
   "outputs": [
    {
     "name": "stdout",
     "output_type": "stream",
     "text": [
      "\n",
      "Years of RGB data available in GEE for HARV:\n",
      "[2016, 2019]\n"
     ]
    }
   ],
   "source": [
    "# See the years of data available for a specified site:\n",
    "site = 'HARV'\n",
    "\n",
    "# Get the flight year and site information\n",
    "rgb_flight_years = rgb.aggregate_array('FLIGHT_YEAR').getInfo()\n",
    "rgb_sites = rgb.aggregate_array('NEON_SITE').getInfo()\n",
    "\n",
    "print('\\nYears of RGB data available in GEE for',site+':')\n",
    "print([year_site[0] for year_site in zip(rgb_flight_years, rgb_sites) if site in year_site])"
   ]
  },
  {
   "cell_type": "code",
   "execution_count": 10,
   "id": "3ce982c5",
   "metadata": {},
   "outputs": [
    {
     "name": "stdout",
     "output_type": "stream",
     "text": [
      "\n",
      "Years of Directional Reflectance data available in GEE for HARV:\n",
      "[2014, 2016, 2017, 2018, 2019]\n"
     ]
    }
   ],
   "source": [
    "# Get the flight year and site information\n",
    "refl001_flight_years = refl001.aggregate_array('FLIGHT_YEAR').getInfo()\n",
    "refl001_sites = refl001.aggregate_array('NEON_SITE').getInfo()\n",
    "\n",
    "print('\\nYears of Directional Reflectance data available in GEE for',site+':')\n",
    "print([year_site[0] for year_site in zip(refl001_flight_years, refl001_sites) if site in year_site])"
   ]
  },
  {
   "cell_type": "code",
   "execution_count": 11,
   "id": "82edb492",
   "metadata": {},
   "outputs": [],
   "source": [
    "# Specify the start and end dates\n",
    "year = 2019\n",
    "start_date2019 = ee.Date.fromYMD(year, 1, 1) \n",
    "end_date2019 = start_date2019.advance(1, \"year\")\n",
    "\n",
    "# Filter the RGB image collection on the site and dates\n",
    "harv_rgb2019 = rgb.filterDate(start_date2019, end_date2019).filterMetadata('NEON_SITE', 'equals', site).mosaic()"
   ]
  },
  {
   "cell_type": "markdown",
   "id": "1362a7d5",
   "metadata": {},
   "source": [
    "## Add Data Layers to the Map\n",
    "\n",
    "In order to visualize and interact with the dataset, we can use `geemap.Map()` as follows, to display Harvard Forest camera and directional reflectance imagery from 2019."
   ]
  },
  {
   "cell_type": "code",
   "execution_count": 12,
   "id": "6e5d85fc",
   "metadata": {},
   "outputs": [
    {
     "data": {
      "application/vnd.jupyter.widget-view+json": {
       "model_id": "b98ebef81fc0434d807d9b3337a84619",
       "version_major": 2,
       "version_minor": 0
      },
      "text/plain": [
       "Map(center=[42.5, -72.17], controls=(WidgetControl(options=['position', 'transparent_bg'], widget=HBox(childre…"
      ]
     },
     "execution_count": 12,
     "metadata": {},
     "output_type": "execute_result"
    }
   ],
   "source": [
    "Map = geemap.Map()\n",
    "\n",
    "# Specify center location of HARV\n",
    "# NEON field site information can be found on the NEON website here > https://www.neonscience.org/field-sites/harv\n",
    "geo = ee.Geometry.Point([-72.17, 42.5])\n",
    "\n",
    "# Set the visualization parameters so contrast is maximized\n",
    "rgb_vis_params = {'min': 45, 'max': 200, 'gamma': .6}\n",
    "\n",
    "# Add the RGB data as a layer to the Map\n",
    "Map.addLayer(harv_rgb2019, rgb_vis_params, 'HARV 2019 RGB Camera');\n",
    "\n",
    "# Center the map on the site center and set zoom level\n",
    "Map.centerObject(geo, 11);\n",
    "\n",
    "Map"
   ]
  },
  {
   "cell_type": "markdown",
   "id": "988eb857",
   "metadata": {},
   "source": [
    "## Surface Directional Reflectance (SDR)\n",
    "\n",
    "Next let's take a look at one of the SDR datasets. We will pull in only the data bands, for this example. \n",
    "\n",
    "### Reflectance Data Bands"
   ]
  },
  {
   "cell_type": "code",
   "execution_count": 13,
   "id": "25ccd2bc",
   "metadata": {},
   "outputs": [
    {
     "data": {
      "application/vnd.jupyter.widget-view+json": {
       "model_id": "ba1864aacc5b46cc94449da0d300cd8d",
       "version_major": 2,
       "version_minor": 0
      },
      "text/plain": [
       "Map(center=[42.5, -72.17], controls=(WidgetControl(options=['position', 'transparent_bg'], widget=HBox(childre…"
      ]
     },
     "execution_count": 13,
     "metadata": {},
     "output_type": "execute_result"
    }
   ],
   "source": [
    "Map = geemap.Map()\n",
    "\n",
    "# Read in the first image of the SDR Image Collection\n",
    "harv_refl2019 = refl001.filterDate(start_date2019, end_date2019).filterMetadata('NEON_SITE', 'equals', site).mosaic()\n",
    "\n",
    "# Read in only the data bands, all of which start with \"B\", eg. \"B001\"\n",
    "harv_refl2019_data = harv_refl2019.select('B.*')\n",
    "\n",
    "# Set the visualization parameters so contrast is maximized, and display RGB bands (true-color image)\n",
    "refl001_viz = {'min':0, 'max':1200, 'gamma':0.9, 'bands':['B053','B035','B019']};\n",
    "\n",
    "# Add the reflectance data as a Layer to the Map\n",
    "Map.addLayer(harv_refl2019_data, refl001_viz, 'Harvard Forest 2019 Directional Reflectance');\n",
    "\n",
    "# Center the map on the site center and set zoom level\n",
    "Map.centerObject(geo, 11);\n",
    "\n",
    "Map"
   ]
  },
  {
   "cell_type": "markdown",
   "id": "b962b9bc",
   "metadata": {},
   "source": [
    "### Reflectance QA Bands\n",
    "\n",
    "Before we used a regular expression to pull out only the bands starting with \"B\". We can also take a look at the remaining bands using a similar expression, but this time excluding bands starting with \"B\". These comprise all of the QA-related bands that provide additional information and context about the data bands. This next chunk of code prints out the IDs of all the QA bands."
   ]
  },
  {
   "cell_type": "code",
   "execution_count": 14,
   "id": "cbee020d",
   "metadata": {},
   "outputs": [
    {
     "name": "stdout",
     "output_type": "stream",
     "text": [
      "QA bands:\n",
      "\n",
      "Aerosol_Optical_Depth\n",
      "Aspect\n",
      "Cast_Shadow\n",
      "Dark_Dense_Vegetation_Classification\n",
      "Haze_Cloud_Water_Map\n",
      "Illumination_Factor\n",
      "Path_Length\n",
      "Sky_View_Factor\n",
      "Slope\n",
      "Smooth_Surface_Elevation\n",
      "Visibility_Index_Map\n",
      "Water_Vapor_Column\n",
      "to-sensor_Azimuth_Angle\n",
      "to-sensor_Zenith_Angle\n",
      "Weather_Quality_Indicator\n",
      "Acquisition_Date\n"
     ]
    }
   ],
   "source": [
    "# Read in only the QA bands, none of which start with \"B\"\n",
    "reflQA_bands = harv_refl2019.select('[^B].*')\n",
    "\n",
    "# Create a dictionary of the band information\n",
    "reflQA_band_info = reflQA_bands.getInfo()\n",
    "type(reflQA_band_info)\n",
    "\n",
    "# Loop through the band info dictionary to print out the ID of each band\n",
    "print('QA bands:\\n')\n",
    "for i in range(len(reflQA_band_info['bands'])):\n",
    "    print(reflQA_band_info['bands'][i]['id'])"
   ]
  },
  {
   "cell_type": "markdown",
   "id": "5b3e62ad",
   "metadata": {},
   "source": [
    "Most of these QA bands are related to the Atmospheric Correction (ATCOR), one of the spectrometer processing steps which converts Radiance to Reflectance. For more details on this process, NEON provides an Algorithm Theoretical Basis Document (ATBD), which is available on the NEON data portal and linked here: <a href=\"https://data.neonscience.org/api/v0/documents/NEON.DOC.001288vB?inline=true\" target=\"_blank\">NEON Imaging Spectrometer Radiance to Reflectance ATBD </a>. \n",
    "\n",
    "The `Weather_Quality_Indicator` is particularly useful for assessing data quality. The weather quality indicator includes information about the cloud conditions during the flight, as reported by the flight operators, where 1 corresponds to <10% cloud cover, 2 corresponds to 10-50% cloud cover, and 3 corresponds to >50% cloud cover. We recommend using only clear-sky data (1) for a typical analysis, as it results in the highest quality reflectance data.\n",
    "\n",
    "You mayalso  be interested in the `Acquisition_Date` if, for example, you are linking field data collected on a specific date, or are interested in finding satellite data collected close in time to the AOP imagery.\n",
    "\n",
    "The next chunks of code show how to add the Weather QA bands to the Map Layer."
   ]
  },
  {
   "cell_type": "markdown",
   "id": "4c180960",
   "metadata": {},
   "source": [
    "### Weather Quality Indicator Band"
   ]
  },
  {
   "cell_type": "code",
   "execution_count": 15,
   "id": "995b61dd",
   "metadata": {},
   "outputs": [
    {
     "data": {
      "application/vnd.jupyter.widget-view+json": {
       "model_id": "27d6fef5ff644706930b4b4964a106f4",
       "version_major": 2,
       "version_minor": 0
      },
      "text/plain": [
       "Map(center=[42.5, -72.17], controls=(WidgetControl(options=['position', 'transparent_bg'], widget=HBox(childre…"
      ]
     },
     "execution_count": 15,
     "metadata": {},
     "output_type": "execute_result"
    }
   ],
   "source": [
    "Map = geemap.Map()\n",
    "\n",
    "harv_refl_weather_qa2019 = harv_refl2019.select(['Weather_Quality_Indicator']);\n",
    "\n",
    "# Define a palette for the weather - to match NEON AOP's weather color conventions (green-yellow-red)\n",
    "gyr_palette = ['green','yellow','red']\n",
    "\n",
    "# Visualization parameters to display the weather bands (cloud conditions) with the green-yellow-red palette\n",
    "weather_viz = {'min': 1, 'max': 3, 'palette': gyr_palette, 'opacity': 0.3};\n",
    "\n",
    "# Add the RGB data as a layer to the Map\n",
    "Map.addLayer(harv_refl_weather_qa2019, weather_viz, 'HARV 2019 Weather QA');\n",
    "\n",
    "# Center the map on the site center and set zoom level\n",
    "Map.centerObject(geo, 11);\n",
    "\n",
    "Map"
   ]
  },
  {
   "cell_type": "markdown",
   "id": "16d3543d-4b06-42a7-99f7-60105961e259",
   "metadata": {},
   "source": [
    "In 2019, the AOP was able to collect all but the easternmost flightline in green, or clear-sky weather conditions. Let's take a look at the data from 2018 for comparison:"
   ]
  },
  {
   "cell_type": "code",
   "execution_count": 16,
   "id": "a1cb4d60-7421-4ebc-bcf6-6869fd4cfd64",
   "metadata": {},
   "outputs": [
    {
     "data": {
      "application/vnd.jupyter.widget-view+json": {
       "model_id": "c80d2bfc954a4ea7982f6ea9184ca649",
       "version_major": 2,
       "version_minor": 0
      },
      "text/plain": [
       "Map(center=[42.5, -72.17], controls=(WidgetControl(options=['position', 'transparent_bg'], widget=HBox(childre…"
      ]
     },
     "execution_count": 16,
     "metadata": {},
     "output_type": "execute_result"
    }
   ],
   "source": [
    "# Specify the start and end dates\n",
    "year = 2018\n",
    "start_date2018 = ee.Date.fromYMD(year, 1, 1) \n",
    "end_date2018 = start_date2018.advance(1, \"year\")\n",
    "\n",
    "# Filter the reflectance image collection on the site and dates\n",
    "harv_refl2018 = refl001.filterDate(start_date2018, end_date2018).filterMetadata('NEON_SITE', 'equals', site).mosaic()\n",
    "\n",
    "Map = geemap.Map()\n",
    "\n",
    "harv_refl_weather_qa2018 = harv_refl2018.select(['Weather_Quality_Indicator']);\n",
    "\n",
    "# Define a palette for the weather - to match NEON AOP's weather color conventions (green-yellow-red)\n",
    "gyr_palette = ['green','yellow','red']\n",
    "\n",
    "# Visualization parameters to display the weather bands (cloud conditions) with the green-yellow-red palette\n",
    "weather_viz = {'min': 1, 'max': 3, 'palette': gyr_palette, 'opacity': 0.3};\n",
    "\n",
    "# Add the weather QA layer to the map\n",
    "Map.addLayer(harv_refl_weather_qa2018, weather_viz, 'HARV 2019 Weather QA');\n",
    "\n",
    "# Center the map on the site center and set zoom level\n",
    "Map.centerObject(geo, 11);\n",
    "\n",
    "Map"
   ]
  },
  {
   "cell_type": "markdown",
   "id": "0c402f0a",
   "metadata": {},
   "source": [
    "We can see that in 2019, the weather conditions were sub-optimal for collecting. When working with the AOP data, this is important information to keep in mind - as the reflectance data (and other optical data, such as the camera data) collected in cloudy sky conditions are not directly comparable to data collected in clear skies.\n",
    "\n",
    "## Recap\n",
    "\n",
    "In this lesson, you learned how to access the five NEON datasets that are available in GEE: Bidirectional Reflectance (`HSI_REFL/002`), Surface Directional Reflectance (`HSI_REFL/001`), Camera (`RGB/001`), and LiDAR-derived Digital Elevation (Terrain and Surface) Models (`DEM/001`) and Ecosystem Structure / Canopy Height Model (`CHM/001`). You generated code to determine which AOP datasets are available in GEE for a given Image Collection. You explored the directional reflectance image properties and learned how to filter on metadata to pull out a subset of Images or a single Image from an Image Collection. You learned how to use the `geemap` package to add data layers to the interactive map panel. And lastly, you learned how to select and visualize the `Weather_Quality_Indicator` band, which is a useful first step in assessing the data quality of the AOP reflectance and camera imagery.\n",
    "\n",
    "This is a great starting point for your own research!"
   ]
  }
 ],
 "metadata": {
  "kernelspec": {
   "display_name": "Python 3 (ipykernel)",
   "language": "python",
   "name": "python3"
  },
  "language_info": {
   "codemirror_mode": {
    "name": "ipython",
    "version": 3
   },
   "file_extension": ".py",
   "mimetype": "text/x-python",
   "name": "python",
   "nbconvert_exporter": "python",
   "pygments_lexer": "ipython3",
   "version": "3.9.18"
  }
 },
 "nbformat": 4,
 "nbformat_minor": 5
}
