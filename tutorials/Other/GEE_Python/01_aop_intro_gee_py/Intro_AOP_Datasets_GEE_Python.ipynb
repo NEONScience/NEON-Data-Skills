{
 "cells": [
  {
   "cell_type": "markdown",
   "id": "5f178168",
   "metadata": {},
   "source": [
    "---\n",
    "syncID: \n",
    "title: \"Intro to AOP Datasets in Google Earth Engine (GEE) using Python\"\n",
    "description: \"Explore AOP reflectance, camera, and lidar datasets in GEE\"\n",
    "dateCreated: 2023-07-25\n",
    "authors: Bridget Hass\n",
    "contributors: John Musinsky\n",
    "estimatedTime: 30 minutes\n",
    "packagesLibraries: earthengine-api, geemap\n",
    "topics:\n",
    "languagesTool: Python, Google Earth Engine\n",
    "dataProducts: DP3.30006.001, DP3.30010.001, DP3.30015.001, DP3.30024.001\n",
    "code1: \t\n",
    "https://github.com/NEONScience/NEON-Data-Skills/edit/main/tutorials/Other/GEE_Python/01_aop_intro_gee_py/Intro_AOP_Datasets_GEE_Python.ipynb\n",
    "tutorialSeries: \n",
    "urlTitle: aop-gee-py-intro\n",
    "---"
   ]
  },
  {
   "cell_type": "markdown",
   "id": "1db9fb0b",
   "metadata": {},
   "source": [
    "<div id=\"ds-objectives\" markdown=\"1\">\n",
    "\n",
    "### Objectives\n",
    "After completing this tutorial, you will be able to use Python to:\n",
    "\n",
    "* Determine the available AOP datasets in Google Earth Engine\n",
    "* Read in and visualize AOP Reflectance, RGB Camera, and Lidar Raster datasets\n",
    "* Become familiar with the AOP Image Properties\n",
    "* Filter data based off image properties to pull in dataset(s) of interest\n",
    "* Explore the interactive mapping features in geemap\n",
    "\n",
    "### Requirements\n",
    "\n",
    "To follow along with this code, you will need to \n",
    "1. Sign up for a non-commercial Google Earth Engine account here https://code.earthengine.google.com/register.\n",
    "2. Install **Python 3.x**\n",
    "3. Install required Python packages (matplotlib, cartopy and the dependent packages are only required for the last optional part of the tutorial, to create a time-lapse gif)\n",
    "    - earthengine-api\n",
    "    - geemap\n",
    "\n",
    "Notes: \n",
    "- This tutorial was developed using Python 3.9, so if you are installing Python for the first time, we recommend that version. This lesson was written in **Jupyter Notebook** so you can run each cell chunk individually, but you can also use a different IDE (Interactive Development Environment) of your choice. \n",
    "- If not using **Jupyter**, we recommend using **Spyder**, which has similar functionality. You can install both Python, Jupyter Notebooks, and Spyder by downloading <a href=\"https://www.anaconda.com/products/distribution\" target=\"_blank\">Anaconda</a>.\n",
    "\n",
    "\n",
    "### Additional Resources\n",
    "- <a href=\"https://book.geemap.org/\" target=\"_blank\">geemap book</a>\n",
    "- <a href=\"https://www.youtube.com/@giswqs\" target=\"_blank\">geemap YouTube channel</a>\n",
    "\n",
    "</div>"
   ]
  },
  {
   "cell_type": "markdown",
   "id": "c2cc1770",
   "metadata": {},
   "source": [
    "## AOP data in GEE\n",
    "\n",
    "[Google Earth Engine](https://earthengine.google.com/) is a platform idea for carrying out continental and planetary scale geospatial analyses. It has a multi-pedabyte catalog of satellite imagery and geospatial datasets, and is a powerful tool for comparing and scaling up NEON airborne datasets. \n",
    "\n",
    "The NEON data products can currently be accessed through the `projects/neon-prod-earthengine/assets/` folder with an appended prefix of the data product ID (DPID) similar to what you see on the [NEON data portal](https://data.neonscience.org/data-products/explore). The table below shows the corresponding prefixes to use for the available data products.\n",
    "\n",
    "| Acronym | Data Product      | Data Product ID (Prefix)          |\n",
    "|----------|------------|-------------------------|\n",
    "| SDR | Surface Directional Reflectance | DP3-30006-001 |\n",
    "| RGB | Red Green Blue (Camera Imagery) | DP3-30010-001 |\n",
    "| CHM | Canopy Height Model | DP3-30015-001 |\n",
    "| DSM | Digital Surface Model | DP3-30024-001 |\n",
    "| DTM | Digital Terrain Model | DP3-30024-001 |\n",
    "\n",
    "\n",
    "To access the NEON AOP data you can read in the Image Collection `ee.ImageCollection` and filter by the date and other properties of interest.\n",
    "\n",
    "First, import the relevant Earth Engine Python packages, `earthengine-api` [(ee)](https://developers.google.com/earth-engine/guides/python_install) and [geemap](https://geemap.org/). This lesson was written using geemap version 0.22.1. If you have an older version installed, used the command below to update.\n",
    "\n",
    "## GEE Python API"
   ]
  },
  {
   "cell_type": "code",
   "execution_count": null,
   "id": "ee5cc9ff",
   "metadata": {},
   "outputs": [],
   "source": [
    "import ee, geemap"
   ]
  },
  {
   "cell_type": "markdown",
   "id": "402aab2b",
   "metadata": {},
   "source": [
    "In order to use Earth Engine from within this Jupyter Notebook, we need to first Authenticate (which requires generating a token) and then Initialize, as below. For more detailed instructions on the Authentication process, please refer to the: \n",
    "<a href=\"https://book.geemap.org/chapters/01_introduction.html#earth-engine-authentication\" target=\"_blank\">geemap text book Earth Engine authentication section</a>."
   ]
  },
  {
   "cell_type": "code",
   "execution_count": null,
   "id": "e09ea3cb",
   "metadata": {},
   "outputs": [],
   "source": [
    "geemap.__version__"
   ]
  },
  {
   "cell_type": "code",
   "execution_count": null,
   "id": "fad574d4",
   "metadata": {},
   "outputs": [],
   "source": [
    "ee.Authenticate()"
   ]
  },
  {
   "cell_type": "code",
   "execution_count": null,
   "id": "6797e07a",
   "metadata": {},
   "outputs": [],
   "source": [
    "ee.Initialize()"
   ]
  },
  {
   "cell_type": "markdown",
   "id": "83638ab9",
   "metadata": {},
   "source": [
    "Now that you've logged in to your Earth Engine account, you can start using the Python API with the `ee` package.\n",
    "\n",
    "First let's read in the Surface Directional Reflectance (SDR) Image Collection and take a look at the available data."
   ]
  },
  {
   "cell_type": "code",
   "execution_count": null,
   "id": "9ad8e956",
   "metadata": {},
   "outputs": [],
   "source": [
    "# Read in the NEON AOP Surface Directional Reflectance (SDR) Collection:\n",
    "sdrCol = ee.ImageCollection('projects/neon-prod-earthengine/assets/DP3-30006-001')\n",
    "\n",
    "# List all available sites in the NEON SDR image collection:\n",
    "print('All Available NEON SDR Images:')\n",
    "\n",
    "# Get the number of SDR images\n",
    "sdrCount = sdrCol.size()\n",
    "print('Count: ', str(sdrCount.getInfo())+'\\n')\n",
    "\n",
    "print(sdrCol.aggregate_array('system:index').getInfo())"
   ]
  },
  {
   "cell_type": "markdown",
   "id": "a3c058e6",
   "metadata": {},
   "source": [
    "We can also look for data for a specified site - for example look at all the years of AOP SDR data available for a given site."
   ]
  },
  {
   "cell_type": "code",
   "execution_count": null,
   "id": "1d35789b",
   "metadata": {},
   "outputs": [],
   "source": [
    "# See the years of data available for the specified site:\n",
    "site = 'CPER'\n",
    "\n",
    "# Get the flight year and site information\n",
    "flightYears = sdrCol.aggregate_array('FLIGHT_YEAR').getInfo()\n",
    "sites = sdrCol.aggregate_array('NEON_SITE').getInfo()\n",
    "\n",
    "print('\\nYears of SDR data available in GEE for',site+':')\n",
    "print([year_site[0] for year_site in zip(flightYears,sites) if site in year_site])"
   ]
  },
  {
   "cell_type": "markdown",
   "id": "832ae722",
   "metadata": {},
   "source": [
    "Let's take a look at another dataset, the high-resolution RGB camera imagery:"
   ]
  },
  {
   "cell_type": "code",
   "execution_count": null,
   "id": "8c05a860",
   "metadata": {},
   "outputs": [],
   "source": [
    "# Read in the NEON AOP Camera (RGB) Collection:\n",
    "rgbCol = ee.ImageCollection('projects/neon-prod-earthengine/assets/DP3-30010-001')\n",
    "\n",
    "# List all available sites in the NEON SDR image collection:\n",
    "print('All Available NEON Camera Images:')\n",
    "# Get the number of RGB images\n",
    "rgbCount = rgbCol.size()\n",
    "print('Count: ', str(sdrCount.getInfo())+'\\n')\n",
    "print(rgbCol.aggregate_array('system:index').getInfo())"
   ]
  },
  {
   "cell_type": "markdown",
   "id": "b016f6a3",
   "metadata": {},
   "source": [
    "Similarly, you can read in the DEM and CHM collections as follows:\n",
    "\n",
    "```python\n",
    "# Read in the NEON AOP DEM Collection (this includes the DTM and DSM as 2 bands)\n",
    "demCol = ee.ImageCollection('projects/neon-prod-earthengine/assets/DP3-30024-001')\n",
    "\n",
    "# Read in the NEON AOP CHM Collection\n",
    "chmCol = ee.ImageCollection('projects/neon-prod-earthengine/assets/DP3-30015-001')\n",
    "```"
   ]
  },
  {
   "cell_type": "markdown",
   "id": "77bf4969",
   "metadata": {},
   "source": [
    "## Explore Image Properties\n",
    "\n",
    "Now that we've read in a couple of image collections, let's take a look at some of the image properties using `geemap.image_props`:"
   ]
  },
  {
   "cell_type": "code",
   "execution_count": null,
   "id": "dd465eaa",
   "metadata": {},
   "outputs": [],
   "source": [
    "props = geemap.image_props(sdrCol.first())\n",
    "\n",
    "# Optionally display all properties by uncommenting the line below\n",
    "# props"
   ]
  },
  {
   "cell_type": "code",
   "execution_count": null,
   "id": "0ca2e1c7",
   "metadata": {},
   "outputs": [],
   "source": [
    "# Display the property names for the first 15 properties:\n",
    "props.keys().getInfo()[:15]"
   ]
  },
  {
   "cell_type": "markdown",
   "id": "d3384ca1",
   "metadata": {},
   "source": [
    "You can also look at all the Image properties by typing `props`. This generates a long output, so we will just show a portion of the output from that:\n",
    "\n",
    "```\n",
    "AOP_VISIT_NUMBER:1\n",
    "DESCRIPTION:Orthorectified surface directional reflectance (0-1 unitless, scaled by 10000) ...\n",
    "FLIGHT_YEAR:2013\n",
    "IMAGE_DATE:2013-06-25\n",
    "NEON_DATA_PROD_ID:DP3.30006.001\n",
    "NEON_DATA_PROD_URL:https://data.neonscience.org/data-products/DP3.30006.001\n",
    "NEON_DOMAIN:D10\n",
    "NEON_SITE:CPER\n",
    "NOMINAL_SCALE:1\n",
    "PRODUCT_TYPE:SDR\n",
    "SCALING_FACTOR:10000\n",
    "SENSOR_NAME:AVIRIS-NG\n",
    "SENSOR_NUMBER:NIS1\n",
    "WL_FWHM_B001:382.3465,5.8456\n",
    "    \n",
    "system:asset_size:68059.439009 MB\n",
    "system:band_names: List (442 elements)\n",
    "system:id:projects/neon-prod-earthengine/assets/DP3-30006-001/2013_CPER_1_SDR\n",
    "system:index:2013_CPER_1_SDR\n",
    "system:time_end:2013-06-25 10:42:05\n",
    "system:time_start:2013-06-25 08:30:45\n",
    "system:version:1689911980211725\n",
    "```\n",
    "\n",
    "The image properties contain some additional relevant information about the dataset, and are variables you can filter on to select a subset of the data. A lot of these properties are self-explanatory, but some of them may be less apparent. A short description of a few properties is outlined below. Note that when the datasets become part of the Google Public Datasets, you will be able to see descriptions of the properties in GEE.\n",
    "\n",
    "- `SENSOR_NAME`: The name of the hyperspectral sensor. All NEON sensors are JPL AVIRIS-NG sensors.\n",
    "- `SENSOR_NUMBER`: The payload number, NIS1 = NEON Imaging Spectrometer, Payload 1. NEON Operates 3 separate payloads, each with a unique hyperspectral sensor (as well as unique LiDAR and Camera sensors).\n",
    "- `WL_FWHM_B###`: Center Wavelength (WL) and Full Width Half Max (FWHM) of the band, both in nm\n",
    "\n",
    "In addition there are some `system` properties, including information about the size of the asset, the band names (most of these are just band numbers but the QA bands have more descriptive names), as well as the start and end time of the collection."
   ]
  },
  {
   "cell_type": "markdown",
   "id": "3a5432e7",
   "metadata": {},
   "source": [
    "## Filter an Image Collection\n",
    "\n",
    "One of the most useful aspects of having AOP data ingested in Earth Engine is the ability to filter by properties, such as the site name, dates, sensors, etc. In this next section, we will show how to filter datasets to extract only data of interest. We'll use the NEON's <a href=\"https://www.neonscience.org/field-sites/serc\" target=\"_blank\">Smithsonian Environmental Research Center (SERC)</a>, in Maryland."
   ]
  },
  {
   "cell_type": "code",
   "execution_count": null,
   "id": "f8f19d2b",
   "metadata": {},
   "outputs": [],
   "source": [
    "# See the years of data available for the specified site:\n",
    "site = 'SERC'\n",
    "\n",
    "# Get the flight year and site information\n",
    "flightYears = rgbCol.aggregate_array('FLIGHT_YEAR').getInfo()\n",
    "sites = rgbCol.aggregate_array('NEON_SITE').getInfo()\n",
    "\n",
    "print('\\nYears of RGB data available in GEE for',site+':')\n",
    "print([year_site[0] for year_site in zip(flightYears,sites) if site in year_site])"
   ]
  },
  {
   "cell_type": "code",
   "execution_count": null,
   "id": "3ce982c5",
   "metadata": {},
   "outputs": [],
   "source": [
    "# Get the flight year and site information\n",
    "flightYears = sdrCol.aggregate_array('FLIGHT_YEAR').getInfo()\n",
    "sites = sdrCol.aggregate_array('NEON_SITE').getInfo()\n",
    "\n",
    "print('\\nYears of SDR data available in GEE for',site+':')\n",
    "print([year_site[0] for year_site in zip(flightYears,sites) if site in year_site])"
   ]
  },
  {
   "cell_type": "code",
   "execution_count": null,
   "id": "82edb492",
   "metadata": {},
   "outputs": [],
   "source": [
    "# Specify the start and end dates\n",
    "year = 2017\n",
    "start_date = ee.Date.fromYMD(year, 1, 1) \n",
    "end_date = start_date.advance(1, \"year\")\n",
    "\n",
    "# Filter the RGB image collection on the site and dates\n",
    "SERC_RGB_2017 = rgbCol.filterDate(start_date, end_date).filterMetadata('NEON_SITE', 'equals', site).mosaic()"
   ]
  },
  {
   "cell_type": "markdown",
   "id": "1362a7d5",
   "metadata": {},
   "source": [
    "## Add Data Layers to the Map\n",
    "\n",
    "In order to visualize and interact with the dataset, we can use `geemap.Map()` as follows:"
   ]
  },
  {
   "cell_type": "code",
   "execution_count": null,
   "id": "6e5d85fc",
   "metadata": {},
   "outputs": [],
   "source": [
    "Map = geemap.Map()\n",
    "Map"
   ]
  },
  {
   "cell_type": "markdown",
   "id": "d1f05ac8",
   "metadata": {},
   "source": [
    "We'll start by reading in an RGB image over the Smithsonian Environmental Research Center (SERC) and adding the layer to the Map."
   ]
  },
  {
   "cell_type": "code",
   "execution_count": null,
   "id": "fcc399da",
   "metadata": {},
   "outputs": [],
   "source": [
    "# Specify center location of SERC: 38.890131, -76.560014\n",
    "# NEON field site information can be found on the NEON website here > https://www.neonscience.org/field-sites/serc\n",
    "geo = ee.Geometry.Point([-76.56, 38.89])\n",
    "\n",
    "# Set the visualization parameters so contrast is maximized\n",
    "rgb_vis_params = {'min': 0, 'max': 250, 'gamma': 0.8}\n",
    "\n",
    "# Add the SERC RGB data as a layer to the Map\n",
    "Map.addLayer(SERC_RGB_2017, rgb_vis_params, 'SERC 2017 RGB Camera');\n",
    "\n",
    "# Center the map on SERC and set zoom level\n",
    "Map.centerObject(geo, 12);"
   ]
  },
  {
   "cell_type": "markdown",
   "id": "988eb857",
   "metadata": {},
   "source": [
    "## Surface Directional Reflectance (SDR)\n",
    "\n",
    "Next let's take a look at one of the SDR datasets. We will pull in only the data bands, for this example. \n",
    "\n",
    "### SDR Data Bands"
   ]
  },
  {
   "cell_type": "code",
   "execution_count": null,
   "id": "25ccd2bc",
   "metadata": {},
   "outputs": [],
   "source": [
    "# Read in the first image of the SDR Image Collection\n",
    "sdrImage = sdrCol.filterDate(start_date, end_date).filterMetadata('NEON_SITE', 'equals', site).mosaic()\n",
    "\n",
    "# Read in only the data bands, all of which start with \"B\", eg. \"B001\"\n",
    "sdrData = sdrImage.select('B.*')\n",
    "\n",
    "# Set the visualization parameters so contrast is maximized, and display RGB bands (true-color image)\n",
    "sdrVisParams = {'min':0, 'max':1200, 'gamma':0.9, 'bands':['B053','B035','B019']};\n",
    "\n",
    "# Add the SERC RGB data as a layer to the Map\n",
    "Map.addLayer(sdrData, sdrVisParams, 'SERC 2017 SDR');"
   ]
  },
  {
   "cell_type": "markdown",
   "id": "b962b9bc",
   "metadata": {},
   "source": [
    "### SDR QA Bands\n",
    "\n",
    "Before we used a regular expression to pull out only the bands starting with \"B\". We can also take a look at the remaining bands using a similar expression, but this time excluding bands starting with \"B\". These comprise all of the QA-related bands that provide additional information and context about the data bands. This next chunk of code prints out the IDs of all the QA bands."
   ]
  },
  {
   "cell_type": "code",
   "execution_count": null,
   "id": "cbee020d",
   "metadata": {},
   "outputs": [],
   "source": [
    "# Read in only the QA bands, none of which start with \"B\"\n",
    "sdrQA_bands = sdrImage.select('[^B].*')\n",
    "\n",
    "# Create a dictionary of the band information\n",
    "sdrQA_band_info = sdrQA_bands.getInfo()\n",
    "type(sdrQA_band_info)\n",
    "\n",
    "# Loop through the band info dictionary to print out the ID of each band\n",
    "print('QA band IDs:\\n')\n",
    "for i in range(len(sdrQA_band_info['bands'])):\n",
    "    print(sdrQA_band_info['bands'][i]['id'])"
   ]
  },
  {
   "cell_type": "markdown",
   "id": "5b3e62ad",
   "metadata": {},
   "source": [
    "Most of these QA bands are related to the Atmospheric Correction (ATCOR), one of the processing steps in converting Radiance to Reflectance. For more details on this process, NEON provides an Algorithm Theoretical Basis Document (ATBD), which is available from the data portal. https://data.neonscience.org/api/v0/documents/NEON.DOC.001288vB?inline=true\n",
    "\n",
    "Bands that may be most useful for standard analyses are the `Weather_Quality_Indicator` and `Acquisition_Date`. The weather quality indicator includes information about the cloud conditions during the flight, as reported by the flight operators, where 1 corresponds to <10% cloud cover, 2 corresponds to 10-50% cloud cover, and 3 corresponds to >50% cloud cover. We recommend using only clear-sky data for a typical analysis, as it comprises the highest quality reflectance data.\n",
    "\n",
    "You may be interested in the acquisition date if, for example, you are linking field data collected on a specific date, or are interested in finding satellite data collected close in time to the AOP imagery.\n",
    "\n",
    "The next chunks of code show how to add the Weather QA bands to the Map Layer."
   ]
  },
  {
   "cell_type": "markdown",
   "id": "4c180960",
   "metadata": {},
   "source": [
    "### Weather Quality Indicator Band"
   ]
  },
  {
   "cell_type": "code",
   "execution_count": null,
   "id": "995b61dd",
   "metadata": {},
   "outputs": [],
   "source": [
    "sdrWeatherQA = sdrCol.select(['Weather_Quality_Indicator']);\n",
    "\n",
    "# Define a palette for the weather - to match NEON AOP's weather color conventions (green-yellow-red)\n",
    "gyrPalette = ['00ff00', # green (<10% cloud cover)\n",
    "              'ffff00', # yellow (10-50% cloud cover)\n",
    "              'ff0000']; # red (>50% cloud cover)\n",
    "             \n",
    "# Visualization parameters to display the weather bands (cloud conditions) with the green-yellow-red palette\n",
    "weatherVisParams = {'min': 1, 'max': 3, 'palette': gyrPalette, 'opacity': 0.3};\n",
    "\n",
    "# Add the SERC RGB data as a layer to the Map\n",
    "Map.addLayer(sdrWeatherQA, weatherVisParams, 'SERC 2017 Weather QA');"
   ]
  },
  {
   "cell_type": "markdown",
   "id": "0c402f0a",
   "metadata": {},
   "source": [
    "## Recap\n",
    "\n",
    "In this lesson, you learned how to access the four NEON datasets that are available in GEE: Surface Directional Reflectance (SDR), Camera (RGB), and LiDAR-derived Digital Elevation (Terrain and Surface) Models (DTM and DSM) and Ecosystem Structure / Canopy Height Model (CHM). You generated code to determine which AOP datasets are available in GEE for a given Image Collection. You explored the SDR image properties and learned how to filter on specified metadata to pull out a subset of Images or a single Image from an Image Collection. You learned how to use `geemap` to add data layers to the interactive map panel. And lastly, you learned how to select and visualize the `Weather_Quality_Indicator` band, which is a useful first step in working with AOP reflectance data. \n",
    "\n",
    "This is a great starting point for your own research!"
   ]
  }
 ],
 "metadata": {
  "kernelspec": {
   "display_name": "Python 3 (ipykernel)",
   "language": "python",
   "name": "python3"
  },
  "language_info": {
   "codemirror_mode": {
    "name": "ipython",
    "version": 3
   },
   "file_extension": ".py",
   "mimetype": "text/x-python",
   "name": "python",
   "nbconvert_exporter": "python",
   "pygments_lexer": "ipython3",
   "version": "3.9.12"
  }
 },
 "nbformat": 4,
 "nbformat_minor": 5
}
