{
 "cells": [
  {
   "cell_type": "markdown",
   "id": "bd511a0c",
   "metadata": {},
   "source": [
    "---\n",
    "syncID: 048ec0a5e30842acb2fbf1144454830e\n",
    "title: \"Intro to AOP Hyperspectral Data in Google Earth Engine (GEE) using Python geemap\"\n",
    "description: \"\"\n",
    "dateCreated: 2023-06-20\n",
    "authors: Bridget Hass\n",
    "contributors: John Musinsky\n",
    "estimatedTime: 30 minutes\n",
    "packagesLibraries: earthengine-api, geemap\n",
    "topics:\n",
    "languagesTool: Python, Google Earth Engine\n",
    "dataProduct: DP3.30006.001, DP3.30006.002\n",
    "code1: https://github.com/NEONScience/NEON-Data-Skills/edit/main/tutorials/Other/GEE_Python/02_sdr_timelapse/GEE_SDR_Functions_Timelapse.ipynb\n",
    "tutorialSeries: \n",
    "urlTitle: aop-refl-py-geemap\n",
    "---"
   ]
  },
  {
   "cell_type": "markdown",
   "id": "919ba0ee",
   "metadata": {},
   "source": [
    "<div id=\"ds-objectives\" markdown=\"1\">\n",
    "\n",
    "### Objectives\n",
    "After completing this tutorial, you will be able to use Python to:\n",
    "\n",
    "* Determine the available AOP reflectance (DP3.30006.001, DP3.30006.002) datasets in Google Earth Engine\n",
    "* Use functions to read in reflectance data sets and mask out bad weather data (>10% cloud cover)\n",
    "* Explore the interactive mapping features in geemap\n",
    "* Create a time-lapse animation of a site\n",
    "\n",
    "### Requirements\n",
    "\n",
    "To follow along with this code, you will need to \n",
    "1. Sign up for a non-commercial Google Earth Engine account here https://code.earthengine.google.com/register.\n",
    "2. Install **Python 3.x**\n",
    "3. Install required Python packages (matplotlib, cartopy and the dependent packages are only required for the last optional part of the tutorial, to create a time-lapse gif)\n",
    "    - earthengine-api\n",
    "    - geemap\n",
    "    - matplotlib\n",
    "    - cartopy (dependencies: geos, shapely, pyproj)\n",
    "\n",
    "Notes: \n",
    "- This tutorial was developed using Python 3.9, so if you are installing Python for the first time, we recommend that version. This lesson was written in **Jupyter Notebook** so you can run each cell chunk individually, but you can also use a different IDE (Interactive Development Environment) of your choice. If not using **Jupyter**, we recommend using **Spyder**, which has similar functionality. You can install both Python, Jupyter Notebooks, and Spyder by downloading <a href=\"https://www.anaconda.com/products/distribution\" target=\"_blank\">Anaconda</a>.\n",
    "- If cartopy is not installing using `conda install` or `pip install`, you may need to find the wheel file specific to your Python version, eg. `pip install Cartopy-0.20.2-cp39-cp39-win_amd64.whl`.\n",
    "  \n",
    "### Additional Resources\n",
    "- <a href=\"https://book.geemap.org/\" target=\"_blank\">geemap book</a>\n",
    "- <a href=\"https://www.youtube.com/@giswqs\" target=\"_blank\">geemap YouTube channel</a>\n",
    "\n",
    "</div>"
   ]
  },
  {
   "cell_type": "code",
   "execution_count": 1,
   "id": "dadd2c67",
   "metadata": {},
   "outputs": [],
   "source": [
    "import os\n",
    "import ee\n",
    "import geemap"
   ]
  },
  {
   "cell_type": "markdown",
   "id": "5d682bc2",
   "metadata": {},
   "source": [
    "In order to use Earth Engine from within this Jupyter Notebook, we need to first `Authenticate` (which requires generating a token) and `Initialize`, as below. For more detailed instructions on the Authentication process, please refer to the: \n",
    "<a href=\"https://book.geemap.org/chapters/01_introduction.html#earth-engine-authentication\" target=\"_blank\">geemap text book Earth Engine authentication section</a>."
   ]
  },
  {
   "cell_type": "code",
   "execution_count": 2,
   "id": "373e4793",
   "metadata": {},
   "outputs": [
    {
     "data": {
      "text/html": [
       "<p>To authorize access needed by Earth Engine, open the following\n",
       "        URL in a web browser and follow the instructions:</p>\n",
       "        <p><a href=https://code.earthengine.google.com/client-auth?scopes=https%3A//www.googleapis.com/auth/earthengine%20https%3A//www.googleapis.com/auth/devstorage.full_control&request_id=YgLVqY6EZQQa8TIEdgZAOGcqXLKcgtZCQDBtcdQoEk0&tc=T1-TmSDdiyMEPg5hon9_3xWAhGIjhwWwOnB92sEPiqQ&cc=A-kiHJOTX3FzO3VnhMz9YJOXAn1NHFCed2I3vsStaYw>https://code.earthengine.google.com/client-auth?scopes=https%3A//www.googleapis.com/auth/earthengine%20https%3A//www.googleapis.com/auth/devstorage.full_control&request_id=YgLVqY6EZQQa8TIEdgZAOGcqXLKcgtZCQDBtcdQoEk0&tc=T1-TmSDdiyMEPg5hon9_3xWAhGIjhwWwOnB92sEPiqQ&cc=A-kiHJOTX3FzO3VnhMz9YJOXAn1NHFCed2I3vsStaYw</a></p>\n",
       "        <p>The authorization workflow will generate a code, which you should paste in the box below.</p>\n",
       "        "
      ],
      "text/plain": [
       "<IPython.core.display.HTML object>"
      ]
     },
     "metadata": {},
     "output_type": "display_data"
    },
    {
     "name": "stdin",
     "output_type": "stream",
     "text": [
      "Enter verification code:  4/1ASVgi3KHdXqUZt6fsIOP8kmlF278PCQEH8ccxihhEAmqI2H9vLpkaqILWRM\n"
     ]
    },
    {
     "name": "stdout",
     "output_type": "stream",
     "text": [
      "\n",
      "Successfully saved authorization token.\n"
     ]
    }
   ],
   "source": [
    "ee.Authenticate()"
   ]
  },
  {
   "cell_type": "code",
   "execution_count": 3,
   "id": "d6439550",
   "metadata": {},
   "outputs": [],
   "source": [
    "ee.Initialize()"
   ]
  },
  {
   "cell_type": "markdown",
   "id": "ddf64811",
   "metadata": {},
   "source": [
    "First let's take a look at the available reflectance datasets - these come in 2 varieties: directional, and bidirectional. The bidirectional reflectance data have Bidirectional Reflectance Distribution Function (BRDF) and topographic corrections applied. The next few chunks of code show how you can do some initial data exploration, and determine what sites and how many years of data per site are available."
   ]
  },
  {
   "cell_type": "code",
   "execution_count": 4,
   "id": "5bf50989-bb5d-4e49-b315-bd27538ac9c7",
   "metadata": {},
   "outputs": [
    {
     "name": "stdout",
     "output_type": "stream",
     "text": [
      "Available NEON Directional Reflectance Images:\n",
      "61 images available from the directional reflectance image collection\n",
      "first 10 images:\n",
      "['2013_CPER_1', '2014_HARV_2', '2014_JERC_1', '2015_MLBS_1', '2015_TALL_1', '2016_CLBJ_1', '2016_GRSM_2', '2016_HARV_3', '2016_JERC_2', '2016_SERC_1']\n",
      "\n",
      "Available NEON Bidirectional Reflectance Images:\n",
      "68 images available from the bidirectional reflectance image collection\n",
      "first 10 images:\n",
      "['2022_ABBY_5', '2022_ARIK_4', '2022_BART_6', '2022_BLAN_5', '2022_CHEQ_7', '2022_CLBJ_6', '2022_CUPE_2', '2022_GUAN_2', '2022_GUIL_2', '2022_HOPB_4']\n"
     ]
    }
   ],
   "source": [
    "# Read in the NEON AOP Surface Directional Reflectance (HSI_REFL/001) Collection:\n",
    "refl001 = ee.ImageCollection('projects/neon-prod-earthengine/assets/HSI_REFL/001')\n",
    "\n",
    "# Read in the NEON AOP Surface Bidirectional Reflectance (HSI_REFL/002) Collection:\n",
    "refl002 = ee.ImageCollection('projects/neon-prod-earthengine/assets/HSI_REFL/002')\n",
    "\n",
    "# Determine available images in the NEON directional reflectance image collection:\n",
    "refl001_list = refl001.aggregate_array('system:index').getInfo()\n",
    "print('Available NEON Directional Reflectance Images:')\n",
    "print(f'{len(refl001_list)} images available from the directional reflectance image collection')\n",
    "print('first 10 images:')\n",
    "print(refl001_list[:10])\n",
    "\n",
    "# Determine available images in the NEON bidirectional reflectance image collection:\n",
    "refl002_list = refl002.aggregate_array('system:index').getInfo()\n",
    "print('\\nAvailable NEON Bidirectional Reflectance Images:')\n",
    "print(f'{len(refl002_list)} images available from the bidirectional reflectance image collection')\n",
    "print('first 10 images:')\n",
    "print(refl002_list[:10])"
   ]
  },
  {
   "cell_type": "markdown",
   "id": "ad19a44a-7f65-42c2-8436-0a4d40b0212d",
   "metadata": {},
   "source": [
    "There are over 60 images in the directional and bidirectional reflectance image collections as of January 2025. Bidirectional data are currently only available for data collected between 2022-2024. More data for earlier years of data will be added in 2025, or you can request data for older directional reflectance data to be added if there is a site you would like to work with sooner. For this exercise, we will start by showing an example of the directional reflectance data since there currently is a longer archive of data available for that data product, but you would handle the bidirectional reflectance data the same way."
   ]
  },
  {
   "cell_type": "code",
   "execution_count": 5,
   "id": "1a25409e-e658-44f6-a72e-ba913453ba62",
   "metadata": {},
   "outputs": [
    {
     "name": "stdout",
     "output_type": "stream",
     "text": [
      "NEON sites included in the directional reflectance collection: \n",
      " ['ABBY', 'BONA', 'CLBJ', 'CPER', 'GRSM', 'GUAN', 'HARV', 'HEAL', 'JERC', 'JORN', 'MCRA', 'MLBS', 'NIWO', 'OAES', 'OSBS', 'RMNP', 'SERC', 'SJER', 'SOAP', 'SRER', 'TALL', 'YELL']\n",
      "NEON years included in the directional reflectance collection: \n",
      " [2016, 2017, 2018, 2019, 2020, 2021, 2013, 2014, 2015]\n",
      "\n",
      "NEON sites included in the bidirectional reflectance collection: \n",
      " ['ABBY', 'ARIK', 'BART', 'BLAN', 'BONA', 'CHEQ', 'CLBJ', 'CUPE', 'DEJU', 'DELA', 'DSNY', 'GUAN', 'GUIL', 'HEAL', 'HOPB', 'JERC', 'JORN', 'KONZ', 'LENO', 'LIRO', 'MCDI', 'MCRA', 'MLBS', 'MOAB', 'NIWO', 'NOGP', 'OAES', 'ONAQ', 'OSBS', 'PRIN', 'REDB', 'RMNP', 'SCBI', 'SERC', 'SJER', 'SOAP', 'SRER', 'STEI', 'STER', 'TALL', 'TEAK', 'TOOL', 'UKFS', 'UNDE', 'WLOU', 'WOOD', 'WREF', 'YELL']\n",
      "NEON years included in the bidirectional reflectance collection: \n",
      " [2024, 2022, 2023]\n"
     ]
    }
   ],
   "source": [
    "# Get the flight year and site information\n",
    "refl001_years = refl001.aggregate_array('FLIGHT_YEAR').getInfo()\n",
    "refl001_sites = refl001.aggregate_array('NEON_SITE').getInfo()\n",
    "unique_refl001_sites = list(set(refl001_sites))\n",
    "unique_refl001_sites.sort()\n",
    "print('NEON sites included in the directional reflectance collection: \\n', unique_refl001_sites)\n",
    "print('NEON years included in the directional reflectance collection: \\n', list(set(refl001_years)))\n",
    "# print('NEON flight years included in the directional reflectance collection: \\n', list(set(flightYears)))\n",
    "\n",
    "# Get the flight year and site information\n",
    "refl002_years = refl002.aggregate_array('FLIGHT_YEAR').getInfo()\n",
    "refl002_sites = refl002.aggregate_array('NEON_SITE').getInfo()\n",
    "unique_refl002_sites = list(set(refl002_sites))\n",
    "unique_refl002_sites.sort()\n",
    "print('\\nNEON sites included in the bidirectional reflectance collection: \\n', unique_refl002_sites)\n",
    "print('NEON years included in the bidirectional reflectance collection: \\n', list(set(refl002_years)))"
   ]
  },
  {
   "cell_type": "markdown",
   "id": "8e7c1720-d9ea-480f-a504-ed21b34357d1",
   "metadata": {},
   "source": [
    "We can also make a function to display information about the sites including the # of years available and list of available years. This can be useful for determining which site you want to explore, especially if you are looking to do a time-series analysis."
   ]
  },
  {
   "cell_type": "code",
   "execution_count": 6,
   "id": "830fc21e-79a2-4a39-9bb6-8d325ad5a05d",
   "metadata": {},
   "outputs": [],
   "source": [
    "def summarize_site_info(site_list):\n",
    "    # Initialize a dictionary of the summary info about the image collection\n",
    "    image_site_summary = {}\n",
    "    \n",
    "    # Pull out the year and site code information for each image, called ysv (year_site_visit) in the list of sites\n",
    "    for ysv in site_list:\n",
    "        # Split the entry to extract year and code\n",
    "        year, site_code, _ = ysv.split('_')\n",
    "        year = int(year)\n",
    "        \n",
    "        # Initialize the site_code in the dictionary if not already present\n",
    "        if site_code not in image_site_summary:\n",
    "            image_site_summary[site_code] = {'cumulative_years': 0, 'years_list': []}\n",
    "        \n",
    "        # Update the cumulative sum and list of years\n",
    "        if year not in image_site_summary[site_code]['years_list']:\n",
    "            image_site_summary[site_code]['years_list'].append(year)\n",
    "            image_site_summary[site_code]['cumulative_years'] += 1\n",
    "    \n",
    "    # Sort the results by cumulative years in descending order\n",
    "    sorted_image_site_summary = sorted(image_site_summary.items(), key=lambda item: item[1]['cumulative_years'], reverse=True)\n",
    "    \n",
    "    # Print the sorted summary information\n",
    "    for site_code, info in sorted_image_site_summary:\n",
    "        print(f\"{site_code}: {info['cumulative_years']} years - {info['years_list']}\")"
   ]
  },
  {
   "cell_type": "markdown",
   "id": "ce3b6bad-2eb5-4a14-a7d9-554a680455e0",
   "metadata": {},
   "source": [
    "Apply this function to the `refl001_list` and `refl002_list` as shown below."
   ]
  },
  {
   "cell_type": "code",
   "execution_count": 7,
   "id": "17ae328c-b978-4940-a646-0293742d6bbd",
   "metadata": {},
   "outputs": [
    {
     "name": "stdout",
     "output_type": "stream",
     "text": [
      "JERC: 6 years - [2014, 2016, 2017, 2018, 2019, 2021]\n",
      "TALL: 6 years - [2015, 2016, 2017, 2018, 2019, 2021]\n",
      "HARV: 5 years - [2014, 2016, 2017, 2018, 2019]\n",
      "CPER: 4 years - [2013, 2017, 2020, 2021]\n",
      "CLBJ: 4 years - [2016, 2017, 2019, 2021]\n",
      "SERC: 4 years - [2016, 2017, 2019, 2021]\n",
      "OAES: 4 years - [2017, 2018, 2019, 2021]\n",
      "SRER: 4 years - [2017, 2018, 2019, 2021]\n",
      "MLBS: 3 years - [2015, 2017, 2018]\n",
      "GRSM: 3 years - [2016, 2017, 2021]\n",
      "MCRA: 2 years - [2018, 2021]\n",
      "HEAL: 2 years - [2019, 2021]\n",
      "JORN: 2 years - [2019, 2021]\n",
      "NIWO: 2 years - [2019, 2020]\n",
      "SOAP: 2 years - [2019, 2021]\n",
      "GUAN: 1 years - [2018]\n",
      "RMNP: 1 years - [2020]\n",
      "YELL: 1 years - [2020]\n",
      "ABBY: 1 years - [2021]\n",
      "BONA: 1 years - [2021]\n",
      "OSBS: 1 years - [2021]\n",
      "SJER: 1 years - [2021]\n"
     ]
    }
   ],
   "source": [
    "summarize_site_info(refl001_list)"
   ]
  },
  {
   "cell_type": "code",
   "execution_count": 8,
   "id": "65d820c1-f780-4e9f-8366-f8ea66a72a9e",
   "metadata": {},
   "outputs": [
    {
     "name": "stdout",
     "output_type": "stream",
     "text": [
      "ABBY: 2 years - [2022, 2023]\n",
      "ARIK: 2 years - [2022, 2023]\n",
      "CLBJ: 2 years - [2022, 2023]\n",
      "HOPB: 2 years - [2022, 2024]\n",
      "KONZ: 2 years - [2022, 2023]\n",
      "MCDI: 2 years - [2022, 2024]\n",
      "MCRA: 2 years - [2022, 2023]\n",
      "MLBS: 2 years - [2022, 2023]\n",
      "OAES: 2 years - [2022, 2023]\n",
      "PRIN: 2 years - [2022, 2023]\n",
      "REDB: 2 years - [2022, 2023]\n",
      "SRER: 2 years - [2022, 2024]\n",
      "UKFS: 2 years - [2022, 2023]\n",
      "WREF: 2 years - [2022, 2023]\n",
      "YELL: 2 years - [2022, 2023]\n",
      "JERC: 2 years - [2023, 2024]\n",
      "SJER: 2 years - [2023, 2024]\n",
      "SOAP: 2 years - [2023, 2024]\n",
      "WLOU: 2 years - [2023, 2024]\n",
      "BART: 1 years - [2022]\n",
      "BLAN: 1 years - [2022]\n",
      "CHEQ: 1 years - [2022]\n",
      "CUPE: 1 years - [2022]\n",
      "GUAN: 1 years - [2022]\n",
      "GUIL: 1 years - [2022]\n",
      "JORN: 1 years - [2022]\n",
      "LIRO: 1 years - [2022]\n",
      "SERC: 1 years - [2022]\n",
      "STEI: 1 years - [2022]\n",
      "STER: 1 years - [2022]\n",
      "TOOL: 1 years - [2022]\n",
      "UNDE: 1 years - [2022]\n",
      "BONA: 1 years - [2023]\n",
      "DEJU: 1 years - [2023]\n",
      "DELA: 1 years - [2023]\n",
      "DSNY: 1 years - [2023]\n",
      "HEAL: 1 years - [2023]\n",
      "LENO: 1 years - [2023]\n",
      "MOAB: 1 years - [2023]\n",
      "NIWO: 1 years - [2023]\n",
      "NOGP: 1 years - [2023]\n",
      "ONAQ: 1 years - [2023]\n",
      "OSBS: 1 years - [2023]\n",
      "RMNP: 1 years - [2023]\n",
      "SCBI: 1 years - [2023]\n",
      "TALL: 1 years - [2023]\n",
      "TEAK: 1 years - [2023]\n",
      "WOOD: 1 years - [2023]\n"
     ]
    }
   ],
   "source": [
    "summarize_site_info(refl002_list)"
   ]
  },
  {
   "cell_type": "markdown",
   "id": "8d9edcd3-f31a-466f-9b59-2252d6fcde55",
   "metadata": {},
   "source": [
    "This provides some useful summary information about the sites and years of data that are available on GEE for the two reflectance datasets. We can see that there are only 1-2 years of data available for the bidirectional reflectance datasets. This is because AOP only started applying the BRDF and topographic corrections starting in 2024, for data collected between 2022-2024. For more information about the status of the BRDF corrections, you can follow the <a href=\"https://www.neonscience.org/data-samples/data-notifications\" target=\"_blank\">NEON Data Notifications</a>, and you can also sign up to receive email notifications about NEON data products of interest via the NEON Data Portal.\n",
    "\n",
    "Now that we've determined what we have to work with, we can choose a site. In this example we will look at the <a href=\"https://www.neonscience.org/field-sites/grsm\" target=\"_blank\">Great Smokey Mountain (GRSM)</a> site. You can see all the AOP directional reflectance data that are available in GEE and the years of data available at GRSM (similar to what we showed above) using the code chunk below."
   ]
  },
  {
   "cell_type": "code",
   "execution_count": 9,
   "id": "de05cee3-e0c0-4f25-a529-06f0c6694c4e",
   "metadata": {},
   "outputs": [
    {
     "name": "stdout",
     "output_type": "stream",
     "text": [
      "\n",
      "Years of data available in GEE for site GRSM :\n",
      "[2016, 2017, 2021]\n"
     ]
    }
   ],
   "source": [
    "# Define the site code\n",
    "site = 'GRSM'\n",
    "\n",
    "# Display the years of data available for the specified site:\n",
    "print('\\nYears of data available in GEE for site',site,':')\n",
    "print([year_site[0] for year_site in zip(refl001_years,refl001_sites) if site in year_site])"
   ]
  },
  {
   "cell_type": "markdown",
   "id": "9925f060",
   "metadata": {},
   "source": [
    "If you'd like to read in every year, you can use `ee.List.sequence(start_year, end_year)`, but since AOP data is not collected  every year at every site, and all of the data has not yet been added to GEE, we recommend you first check the data availability and then use `ee.List` to specify only data that are available (or the dates of interest). For this example, we'll create an earth engine list (`ee.List`) of the GRSM data from 2016, 2017, and 2021:"
   ]
  },
  {
   "cell_type": "code",
   "execution_count": 10,
   "id": "ae18df9e",
   "metadata": {},
   "outputs": [
    {
     "name": "stdout",
     "output_type": "stream",
     "text": [
      "[2016, 2017, 2021]\n"
     ]
    }
   ],
   "source": [
    "years = ee.List([2016, 2017, 2021])\n",
    "print(years.getInfo())"
   ]
  },
  {
   "cell_type": "markdown",
   "id": "5213dfef",
   "metadata": {},
   "source": [
    "Next we can write a function that will read in the AOP SDR image collection, filter on a specified site, and then read in the `Weather_Quality_Indicator` band and mask the data to include only the clear weather (<10% cloud cover) data."
   ]
  },
  {
   "cell_type": "code",
   "execution_count": 11,
   "id": "d9a25d4f",
   "metadata": {},
   "outputs": [],
   "source": [
    "def sdr_clear_weather(year):\n",
    "\n",
    "    # Specify the start and end dates\n",
    "    start_date = ee.Date.fromYMD(year, 1, 1) \n",
    "    end_date = start_date.advance(1, \"year\")\n",
    "    \n",
    "    # Filter the SDR image collection on the site and dates\n",
    "    aop_sdr = refl001.filterDate(start_date, end_date) \\\n",
    "                    .filterMetadata('NEON_SITE', 'equals', site).mosaic()\n",
    "    \n",
    "    # Read in only the data bands, all of which start with \"B\", eg. \"B001\"\n",
    "    sdr_data = aop_sdr.select('B.*')\n",
    "    \n",
    "    # Extract Weather Quality Indicator layer\n",
    "    weather_quality_band = aop_sdr.select(['Weather_Quality_Indicator']);\n",
    "\n",
    "    # Select only the clear weather data (<10% cloud cover)\n",
    "    clear_weather = weather_quality_band.eq(1); # 1 = 0-10% cloud cover\n",
    "    \n",
    "    # Mask out all cloudy pixels from the SDR data cube\n",
    "    sdr_clear_weather = sdr_data.updateMask(clear_weather);\n",
    "\n",
    "    return sdr_clear_weather"
   ]
  },
  {
   "cell_type": "markdown",
   "id": "03be4603",
   "metadata": {},
   "source": [
    "We can now map this function over the list of years, and then add these images to the Map layer in a loop."
   ]
  },
  {
   "cell_type": "code",
   "execution_count": 12,
   "id": "7f2e3d22",
   "metadata": {},
   "outputs": [
    {
     "name": "stdout",
     "output_type": "stream",
     "text": [
      "Adding GRSM 2016 Directional Reflectance\n",
      "Adding GRSM 2017 Directional Reflectance\n",
      "Adding GRSM 2021 Directional Reflectance\n"
     ]
    },
    {
     "data": {
      "application/vnd.jupyter.widget-view+json": {
       "model_id": "695a0ed6303b4bbdb52a96cd1bfb07ab",
       "version_major": 2,
       "version_minor": 0
      },
      "text/plain": [
       "Map(center=[35.65, -83.5], controls=(WidgetControl(options=['position', 'transparent_bg'], widget=HBox(childre…"
      ]
     },
     "execution_count": 12,
     "metadata": {},
     "output_type": "execute_result"
    }
   ],
   "source": [
    "Map = geemap.Map()\n",
    "\n",
    "# Map the function over the years of data, defined before as an ee.List\n",
    "images = years.map(sdr_clear_weather)\n",
    "\n",
    "# Set the visualization parameters so contrast is maximized, and display RGB bands (true-color image)\n",
    "visParams = {'min':0,'max':1200,'gamma':0.9,'bands':['B053','B035','B019']};\n",
    "\n",
    "for index in range(0, len(years.getInfo())):\n",
    "    image = ee.Image(images.get(index))\n",
    "    layer_name = site + \" \" + str(years.getInfo()[index]) + \" Directional Reflectance\" \n",
    "    print('Adding ' + layer_name)\n",
    "    Map.addLayer(image, visParams, layer_name)\n",
    "\n",
    "# Center the map on the site\n",
    "grsmCenter = ee.Geometry.Point([-83.5, 35.65]);\n",
    "Map.centerObject(grsmCenter, 11);\n",
    "Map"
   ]
  },
  {
   "cell_type": "markdown",
   "id": "0ad27cbf",
   "metadata": {},
   "source": [
    "The function below extracts the weather quality band for each year of data in the image collection."
   ]
  },
  {
   "cell_type": "code",
   "execution_count": 13,
   "id": "3d8b2c84",
   "metadata": {},
   "outputs": [],
   "source": [
    "def yearly_weather_band(year):\n",
    "\n",
    "    start_date = ee.Date.fromYMD(year, 1, 1) \n",
    "    end_date = start_date.advance(1, \"year\")\n",
    "    \n",
    "#     print('filtering image collection by date and site')\n",
    "    aop_refl001 = refl001 \\\n",
    "        .filterDate(start_date, end_date) \\\n",
    "        .filterMetadata('NEON_SITE', 'equals', site).mosaic()\n",
    "    \n",
    "    # Extract Weather Quality Indicator band\n",
    "    weather_quality_band = aop_refl001.select(['Weather_Quality_Indicator']);\n",
    "\n",
    "    return weather_quality_band"
   ]
  },
  {
   "cell_type": "markdown",
   "id": "82292e77",
   "metadata": {},
   "source": [
    "Similarly, we will map this function over the list of years, and then add these weather quality images to the Map layer in a loop. For this we can define a color palette that will match AOP's weather stop-light color convention, where green means good weather (<10% cloud cover), yellow is OK (10-50% cloud cover), and red is bad (>50% cloud cover)."
   ]
  },
  {
   "cell_type": "code",
   "execution_count": 14,
   "id": "4f2bed70",
   "metadata": {},
   "outputs": [
    {
     "name": "stdout",
     "output_type": "stream",
     "text": [
      "Adding GRSM 2016 Cloud Cover Layer\n",
      "Adding GRSM 2017 Cloud Cover Layer\n",
      "Adding GRSM 2021 Cloud Cover Layer\n"
     ]
    },
    {
     "data": {
      "application/vnd.jupyter.widget-view+json": {
       "model_id": "750c92cbb49c4ca298456ac4ab328fe6",
       "version_major": 2,
       "version_minor": 0
      },
      "text/plain": [
       "Map(center=[35.65, -83.5], controls=(WidgetControl(options=['position', 'transparent_bg'], widget=HBox(childre…"
      ]
     },
     "execution_count": 14,
     "metadata": {},
     "output_type": "execute_result"
    }
   ],
   "source": [
    "Map = geemap.Map()\n",
    "\n",
    "weather_bands = years.map(yearly_weather_band)\n",
    "\n",
    "# Define a palette for the weather - to match NEON AOP's weather color conventions (green-yellow-red)\n",
    "gyrPalette = ['green', 'yellow', 'red']; # green: <10% cloud cover, yellow: 10-50% cloud cover, red: > 50% cloud cover\n",
    "\n",
    "# parameters to display the weather bands (cloud conditions) with the green-yellow-red palette\n",
    "weather_visParams = {'min': 1, 'max': 3, 'palette': gyrPalette, 'opacity': 0.3};\n",
    "\n",
    "# loop through the layers and add them to the Map\n",
    "for index in range(0, len(years.getInfo())):\n",
    "    weather_band = ee.Image(weather_bands.get(index))\n",
    "    layer_name = site + \" \" + str(years.getInfo()[index]) + \" Cloud Cover Layer\" \n",
    "    print('Adding ' + layer_name)\n",
    "    Map.addLayer(weather_band, weather_visParams, layer_name, 1) # can change 1 to 0 if you don't want the layers to be selected \"on\" by default\n",
    "\n",
    "Map.centerObject(grsmCenter, 11);\n",
    "Map"
   ]
  },
  {
   "cell_type": "markdown",
   "id": "2aa21e4e",
   "metadata": {},
   "source": [
    "Now let's add the full image collection (all years) for a different site as a Map Layer. For this example, we'll use the site <a href=\"https://www.neonscience.org/field-sites/clbj\" target=\"_blank\">Lyndon B. Johnson National Grassland (CLBJ)</a>, as there are 5 years of reflectance data ingested in GEE for that site. This is a nice example for displaying the time-lapse feature in the interactive map."
   ]
  },
  {
   "cell_type": "code",
   "execution_count": 15,
   "id": "7a3aeab9",
   "metadata": {},
   "outputs": [
    {
     "name": "stdout",
     "output_type": "stream",
     "text": [
      "\n",
      "Reflectance data available in GEE for site CLBJ :\n",
      "[2016, 2017, 2019, 2021]\n"
     ]
    }
   ],
   "source": [
    "# Define the site code\n",
    "site = 'CLBJ'\n",
    "\n",
    "# Display the years of data available for the specified site:\n",
    "print('\\nReflectance data available in GEE for site',site,':')\n",
    "print([year_site[0] for year_site in zip(refl001_years,refl001_sites) if site in year_site])"
   ]
  },
  {
   "cell_type": "code",
   "execution_count": 16,
   "id": "9954fba3",
   "metadata": {},
   "outputs": [
    {
     "data": {
      "application/vnd.jupyter.widget-view+json": {
       "model_id": "a527f6c9172c493fb9337ad503608061",
       "version_major": 2,
       "version_minor": 0
      },
      "text/plain": [
       "Map(center=[33.36477599782718, -97.60670493430632], controls=(WidgetControl(options=['position', 'transparent_…"
      ]
     },
     "execution_count": 16,
     "metadata": {},
     "output_type": "execute_result"
    }
   ],
   "source": [
    "Map = geemap.Map()\n",
    "\n",
    "# Filter the refl001 and refl002 image collections at the selected site from all available years\n",
    "site_refl001 = refl001.filterMetadata('NEON_SITE', 'equals', site);\n",
    "site_refl002 = refl002.filterMetadata('NEON_SITE', 'equals', site);\n",
    "\n",
    "# Read in only the data bands, all of which start with \"B\", eg. \"B001\"\n",
    "site_refl001_data = site_refl001.select('B.*')\n",
    "site_refl002_data = site_refl002.select('B.*')\n",
    "\n",
    "# Read in the weather quality indicator band\n",
    "site_refl001_weatherQA = site_refl001.select(['Weather_Quality_Indicator']);\n",
    "site_refl002_weatherQA = site_refl002.select(['Weather_Quality_Indicator']);\n",
    "\n",
    "# Set the visualization parameters so contrast is maximized, and display RGB bands (true-color image)\n",
    "visParams = {'min':0,'max':1200,'gamma':0.9,'bands':['B053','B035','B019']};\n",
    "\n",
    "# Add the site image collection as a layer to the Map\n",
    "Map.addLayer(site_refl001_data, visParams, site + ' Refl 001');\n",
    "Map.addLayer(site_refl002_data, visParams, site + ' Refl 002');\n",
    "\n",
    "# Add the weather quality indicator (WQI) layer as well, for context\n",
    "Map.addLayer(site_refl001_weatherQA, weather_visParams, site + ' Refl 001 WQI',0)\n",
    "Map.addLayer(site_refl002_weatherQA, weather_visParams, site + ' Refl 002 WQI',0)\n",
    "\n",
    "# Center the map on the site reflectance imaage\n",
    "Map.centerObject(site_refl001, 12);\n",
    "Map"
   ]
  },
  {
   "cell_type": "markdown",
   "id": "e219810d",
   "metadata": {},
   "source": [
    "You should now see the Map panel populated with the CLBJ Image Collection and the Weather Quality Band. On your own, explore some of the options by click on the icon in the upper right corner of the map. Some options of interest may be the Create timelapse (globe icon), Inspector (I icon), and GEE toolbox for cloud computing. You can open and close the Layers window and interactively explore the different layers."
   ]
  },
  {
   "cell_type": "markdown",
   "id": "25bc945a",
   "metadata": {},
   "source": [
    "### Create  a Time-Lapse GIF\n",
    "Lastly, optionally, we can create a time-lapse gif of the site over all the collections. This part follows along code from the GeoPython 2021 workshop: https://geemap.org/workshops/GeoPython_2021/#create-timelapse-animations."
   ]
  },
  {
   "cell_type": "code",
   "execution_count": null,
   "id": "4ae9d3ad",
   "metadata": {},
   "outputs": [],
   "source": [
    "from geemap import cartoee\n",
    "import matplotlib.pyplot as plt"
   ]
  },
  {
   "cell_type": "code",
   "execution_count": null,
   "id": "6566254d",
   "metadata": {},
   "outputs": [],
   "source": [
    "# Define width and height (in degrees)\n",
    "w = 0.1\n",
    "h = 0.1\n",
    "\n",
    "region = [lon - w, lat - h, lon + w, lat + h]\n",
    "\n",
    "fig = plt.figure(figsize=(10, 8))\n",
    "\n",
    "# Use cartoee to get a map\n",
    "ax = geemap.cartoee.get_map(image, region=region, vis_params=visParams)\n",
    "\n",
    "# Add gridlines to the map at a specified interval\n",
    "geemap.cartoee.add_gridlines(ax, interval=[0.05, 0.05], linestyle=\":\")\n",
    "\n",
    "# Add scale bar\n",
    "scale_bar_dict = {\n",
    "    \"length\": 10,\n",
    "    \"xy\": (0.1, 0.05),\n",
    "    \"linewidth\": 3,\n",
    "    \"fontsize\": 20,\n",
    "    \"color\": \"white\",\n",
    "    \"unit\": \"km\",\n",
    "    \"ha\": \"center\",\n",
    "    \"va\": \"bottom\",\n",
    "}\n",
    "cartoee.add_scale_bar_lite(ax, **scale_bar_dict)\n",
    "\n",
    "ax.set_title(label='CLBJ', fontsize=15)\n",
    "\n",
    "plt.show()"
   ]
  },
  {
   "cell_type": "markdown",
   "id": "b68ee19a",
   "metadata": {},
   "source": [
    "We can then apply these settings and create the timelaps using `cartoee.get_image_collection_gif` as follows. This will create a \"timelapse\" subfolder in the Downloads directory."
   ]
  },
  {
   "cell_type": "code",
   "execution_count": null,
   "id": "241be475",
   "metadata": {},
   "outputs": [],
   "source": [
    "cartoee.get_image_collection_gif(\n",
    "    ee_ic=siteSDR,\n",
    "    out_dir=os.path.expanduser(\"~/Downloads/timelapse\"),\n",
    "    out_gif=\"clbj_gee_timelapse.gif\",\n",
    "    vis_params=visParams,\n",
    "    region=region,\n",
    "    fps=1,\n",
    "    mp4=True,\n",
    "    grid_interval=(0.05, 0.05),\n",
    "    plot_title=\"CLBJ AOP SDR Time Lapse\",\n",
    "    date_format='YYYY-MM-dd',\n",
    "    fig_size=(10, 8),\n",
    "    dpi_plot=100,\n",
    "    file_format=\"png\",\n",
    "    scale_bar_dict=scale_bar_dict,\n",
    ")"
   ]
  },
  {
   "cell_type": "markdown",
   "id": "5e7be9e5",
   "metadata": {},
   "source": [
    "<figure>\n",
    "  <a href=\"https://raw.githubusercontent.com/NEONScience/NEON-Data-Skills/main/graphics/aop-gee-python/intro_gee_py_functions/clbj_gee_timelapse.gif\">\n",
    "  <img src=\"https://raw.githubusercontent.com/NEONScience/NEON-Data-Skills/main/graphics/aop-gee-python/intro_gee_py_functions/clbj_gee_timelapse.gif\" alt=\"CLBJ Timelapse\" width=\"500\"><figcaption>Time Lapse of CLBJ Surface Directional Reflectance True-Color Images</figcaption></a></figure> \n",
    "\n",
    "### Recap\n",
    "\n",
    "In this lesson we covered how to read in AOP Surface Directional Reflectance (SDR) datasets into GEE using Python with the packages `ee` and `geemap`. You learned how to write functions that mask out any data collected in >10% cloud cover conditions. You also got a chance to explore the interactive mapping tools that are made available as part of geemap. We encourage you to start writing functions and Python code on your own to expand upon these examples!"
   ]
  }
 ],
 "metadata": {
  "kernelspec": {
   "display_name": "Python 3 (ipykernel)",
   "language": "python",
   "name": "python3"
  },
  "language_info": {
   "codemirror_mode": {
    "name": "ipython",
    "version": 3
   },
   "file_extension": ".py",
   "mimetype": "text/x-python",
   "name": "python",
   "nbconvert_exporter": "python",
   "pygments_lexer": "ipython3",
   "version": "3.9.18"
  }
 },
 "nbformat": 4,
 "nbformat_minor": 5
}
