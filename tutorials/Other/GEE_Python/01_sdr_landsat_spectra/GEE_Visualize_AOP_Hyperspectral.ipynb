{
 "cells": [
  {
   "cell_type": "markdown",
   "id": "soviet-complex",
   "metadata": {},
   "source": [
    "# Visualizing AOP Hyperspectral Data in Google Earth Engine (GEE) using the Python API\n",
    "Authors: John Musinsky, Bridget Hass\n",
    "\n",
    "Modified from Qiusheng Wu's [GEE Tutorial #9 - Interactive plotting of Earth Engine data with minimal coding](https://www.youtube.com/watch?v=PDab8mkAFL0), [giswqs_geemap_plotting_notebook](https://github.com/giswqs/geemap/blob/master/examples/notebooks/09_plotting.ipynb)\n",
    "\n",
    "## AOP data in GEE\n",
    "\n",
    "[Google Earth Engine](https://earthengine.google.com/) is a platform idea for carrying out continental and planetary scale geospatial analyses. It has a multi-pedabyte catalog of satellite imagery and geospatial datasets, and is a powerful tool for comparing and scaling up NEON airborne datasets. \n",
    "\n",
    "The NEON data products can currently be accessed through the `projects/neon-prod-earthengine/assets/` folder with an appended prefix of the data product ID (DPID) similar to what you see on the [NEON data portal](https://data.neonscience.org/data-products/explore). The table below shows the corresponding prefixes to use for given data products.\n",
    "\n",
    "| Acronym | Data Product      | Data Product ID (Prefix)          |\n",
    "|----------|------------|-------------------------|\n",
    "| SDR | Surface Directional Reflectance | DP3-30006-001 |\n",
    "| RGB | Red Green Blue (Camera Imagery) | DP3-30010-001 |\n",
    "| CHM | Canopy Height Model | DP3-30015-001 |\n",
    "| DSM | Digital Surface Model | DP3-30024-001 |\n",
    "| DTM | Digital Terrain Model | DP3-30024-001 |\n",
    "\n",
    "## Hyperspectral Visualization\n",
    "In this tutorial, we will take a look at the Healy (HEAL) SDR (hyperspectral) data collected in 2021. The data product prefix to pull in the data is (`projects/neon-prod-earthengine/assets/DP3-30006-001`). \n",
    "\n",
    "This tutorial uses the `geemap` Python package, and was modified from the Jupyter notebook [GEE Tutorial #9 - Interactive plotting of Earth Engine data with minimal coding](https://geemap.org/notebooks/09_plotting/). We will pull in AOP SDR data in addition to Landsat data, and compare the two.\n",
    "\n",
    "To access the NEON AOP data you can either use the earth engine `ee.Image` if you know the name of the image you want to pull in or read in the Image Collection `ee.ImageCollection` and filter by the date and other properties of interest.\n",
    "\n",
    "First, import the relevant Earth Engine (ee) packages, [ee](https://developers.google.com/earth-engine/guides/python_install) and [geemap](https://geemap.org/). This lesson was written using geemap version 0.22.1. If you have an older version installed, used the command below to update."
   ]
  },
  {
   "cell_type": "markdown",
   "id": "d94f6230",
   "metadata": {},
   "source": [
    "!pip install --upgrade geemap"
   ]
  },
  {
   "cell_type": "code",
   "execution_count": 1,
   "id": "editorial-pocket",
   "metadata": {},
   "outputs": [],
   "source": [
    "import ee, geemap"
   ]
  },
  {
   "cell_type": "code",
   "execution_count": 2,
   "id": "4b5843db",
   "metadata": {},
   "outputs": [
    {
     "data": {
      "text/plain": [
       "'0.22.1'"
      ]
     },
     "execution_count": 2,
     "metadata": {},
     "output_type": "execute_result"
    }
   ],
   "source": [
    "geemap.__version__"
   ]
  },
  {
   "cell_type": "markdown",
   "id": "solid-straight",
   "metadata": {},
   "source": [
    "First you will need to generate a code to Authenticate Earth Engine. The `ee.AuthenticateLine()` will open up a web browser. Click through the prompts to generate a token, then copy the Authorization code into the `Enter verification code:` box below and click enter to complete."
   ]
  },
  {
   "cell_type": "code",
   "execution_count": 3,
   "id": "likely-avenue",
   "metadata": {},
   "outputs": [
    {
     "data": {
      "text/html": [
       "<p>To authorize access needed by Earth Engine, open the following\n",
       "        URL in a web browser and follow the instructions:</p>\n",
       "        <p><a href=https://code.earthengine.google.com/client-auth?scopes=https%3A//www.googleapis.com/auth/earthengine%20https%3A//www.googleapis.com/auth/devstorage.full_control&request_id=7QHweqZoVbQRut-ohPWXa9XRJUquvovt1IK1-NMiOt0&tc=Q6JYxq-UnQwDmDbkuV67WYbnPaq4fkpoIPQOt9RSTLE&cc=P9tYOTljgj3DCaawMpXD510j850B0H03ueKlbmkEXjE>https://code.earthengine.google.com/client-auth?scopes=https%3A//www.googleapis.com/auth/earthengine%20https%3A//www.googleapis.com/auth/devstorage.full_control&request_id=7QHweqZoVbQRut-ohPWXa9XRJUquvovt1IK1-NMiOt0&tc=Q6JYxq-UnQwDmDbkuV67WYbnPaq4fkpoIPQOt9RSTLE&cc=P9tYOTljgj3DCaawMpXD510j850B0H03ueKlbmkEXjE</a></p>\n",
       "        <p>The authorization workflow will generate a code, which you should paste in the box below.</p>\n",
       "        "
      ],
      "text/plain": [
       "<IPython.core.display.HTML object>"
      ]
     },
     "metadata": {},
     "output_type": "display_data"
    },
    {
     "name": "stdout",
     "output_type": "stream",
     "text": [
      "Enter verification code: 4/1AbUR2VNruXcNzEtWNyL8OGzdG8MvhuyuLdhngs0wkESjtCVktb2W46D-ho0\n",
      "\n",
      "Successfully saved authorization token.\n"
     ]
    }
   ],
   "source": [
    "ee.Authenticate()"
   ]
  },
  {
   "cell_type": "markdown",
   "id": "976b5a89",
   "metadata": {},
   "source": [
    "Now that you've Authenticated, you need to initialize, and then we can get started using Earth Engine in this Python Jupyter Notebook."
   ]
  },
  {
   "cell_type": "code",
   "execution_count": 4,
   "id": "divided-resource",
   "metadata": {},
   "outputs": [],
   "source": [
    "ee.Initialize()"
   ]
  },
  {
   "cell_type": "markdown",
   "id": "1309c2f8",
   "metadata": {},
   "source": [
    "You can create a Map using `geemap.Map()`. This will show a map that looks like the Map panel in the code editor version of GEE. By default it will show the world."
   ]
  },
  {
   "cell_type": "code",
   "execution_count": 5,
   "id": "89c45163",
   "metadata": {},
   "outputs": [
    {
     "data": {
      "application/vnd.jupyter.widget-view+json": {
       "model_id": "08aee453ae71472ba920836be6047db5",
       "version_major": 2,
       "version_minor": 0
      },
      "text/plain": [
       "Map(center=[20, 0], controls=(WidgetControl(options=['position', 'transparent_bg'], widget=HBox(children=(Togg…"
      ]
     },
     "metadata": {},
     "output_type": "display_data"
    }
   ],
   "source": [
    "Map = geemap.Map()\n",
    "Map"
   ]
  },
  {
   "cell_type": "markdown",
   "id": "09ea90a1",
   "metadata": {},
   "source": [
    "Start by defining the location, and we can extract the Healy AOP flightbox boundary from the feature collection so we can clip our satellite data by this area."
   ]
  },
  {
   "cell_type": "code",
   "execution_count": 6,
   "id": "2129f275",
   "metadata": {},
   "outputs": [],
   "source": [
    "# Specify center location of HEAL (63.875798, -149.21335)\n",
    "# NEON field site information can be found on the NEON website here > https://www.neonscience.org/field-sites/heal\n",
    "geo = ee.Geometry.Point([-149.213, 63.876])\n",
    "\n",
    "# We can also read in the AOP flight boundary around Healy as follows:\n",
    "flightbox_boundaries = ee.FeatureCollection('projects/neon-sandbox-dataflow-ee/assets/AOP_flightboxesAllSites').select('ADM0_NAME')\n",
    "\n",
    "# Filter the feature collection to subset on the Healy site.\n",
    "heal_flightbox = flightbox_boundaries.filterBounds(ee.Geometry.Rectangle(-150, 60, -145, 65))\n",
    "\n",
    "# Set the style for the polygon to appear in the Map\n",
    "style = {'color': 'black', 'fillColor': \"00000000\"}\n",
    "\n",
    "Map.addLayer(heal_flightbox.style(**style), {}, \"Healy Flightbox\")\n",
    "\n",
    "# Center the map on HEAL\n",
    "Map.centerObject(geo, 11);"
   ]
  },
  {
   "cell_type": "markdown",
   "id": "a791d8c5",
   "metadata": {},
   "source": [
    "## Add Landsat 8 Imagery from 2018 to 2021\n",
    "\n",
    "https://tutorials.geemap.org/ImageCollection/cloud_free_composite/"
   ]
  },
  {
   "cell_type": "code",
   "execution_count": 7,
   "id": "689e7eec",
   "metadata": {},
   "outputs": [],
   "source": [
    "start_year = 2018\n",
    "end_year = 2021\n",
    "\n",
    "years = ee.List.sequence(start_year, end_year)\n",
    "years.getInfo()\n",
    "\n",
    "def yearly_landsat_image(year):\n",
    "    \n",
    "    # read in only data from the summer months to simulate peak-greenness \n",
    "    # (AOP typically collects data from D19 in July-August)\n",
    "    start_date = ee.Date.fromYMD(year, 5, 15) \n",
    "    end_date = start_date.advance(4, \"month\")\n",
    "    \n",
    "    l8_collection = ee.ImageCollection('LANDSAT/LC08/C01/T1') \\\n",
    "        .filterDate(start_date, end_date) \\\n",
    "        .filterBounds(geo) \n",
    "    \n",
    "    # create a simple cloud-free composite\n",
    "    image = ee.Algorithms.Landsat.simpleComposite(l8_collection).clipToCollection(heal_flightbox)\n",
    "    \n",
    "    # can also try a custom composite\n",
    "    # customComposite = ee.Algorithms.Landsat.simpleComposite(l8_collection, 75, 5).clipToCollection(heal_flightbox);\n",
    "\n",
    "    return image\n",
    "#     return customComposite\n",
    "\n",
    "images = years.map(yearly_landsat_image)\n",
    "\n",
    "vis_params = {'bands': ['B4',  'B3',  'B2'], 'min': 10, 'max': 200, 'gamma': 2}\n",
    "\n",
    "for index in range(0, 3):\n",
    "    image = ee.Image(images.get(index))\n",
    "    layer_name = \"Landsat 8 \" + str(index + start_year)\n",
    "    Map.addLayer(image, vis_params, layer_name)\n",
    "    \n",
    "# Center the map on HEAL\n",
    "Map.centerObject(geo, 11);"
   ]
  },
  {
   "cell_type": "markdown",
   "id": "rapid-indian",
   "metadata": {},
   "source": [
    "## Add HEAL Surface Directional Reflectance Data\n",
    "\n",
    "This next chunk of code shows how to add the AOP SDR imagery, using the Red, Green, and Blue bands for visualizing a true-color image."
   ]
  },
  {
   "cell_type": "code",
   "execution_count": 8,
   "id": "818e05be",
   "metadata": {},
   "outputs": [],
   "source": [
    "# Read in Surface Directional Reflectance (SDR) Images \n",
    "aopSDR = ee.ImageCollection('projects/neon-prod-earthengine/assets/DP3-30006-001')\n",
    "\n",
    "# Filter by geometry to read in HEAL SDR image from 2021\n",
    "healSDR_2021 = aopSDR.filterDate('2021-01-01', '2021-12-31').filterBounds(geo).first();\n",
    "\n",
    "# Read in only the data bands, all of which start with \"B\", eg. \"B001\"\n",
    "healSDR_2021_data = healSDR_2021.select('B.*')\n",
    "\n",
    "# Set the visualization parameters so contrast is maximized, and display RGB bands (true-color image)\n",
    "visParams = {'min':0,'max':1200,'gamma':0.9,'bands':['B053','B035','B019']};\n",
    "\n",
    "# Add the HEAL data as a layer to the Map\n",
    "Map.addLayer(healSDR_2021_data, visParams, 'HEAL 2021 SDR');\n",
    "\n",
    "# Center the map on HEAL\n",
    "Map.centerObject(geo, 11);"
   ]
  },
  {
   "cell_type": "markdown",
   "id": "b650c18c",
   "metadata": {},
   "source": [
    "We can also set some plot options for the spectral signature plot, which is a built in feature!"
   ]
  },
  {
   "cell_type": "markdown",
   "id": "attended-specialist",
   "metadata": {},
   "source": [
    "### Map.set_plot_options \n",
    "\n",
    "There are various options to change with the plot, for this example we will set overlay to true. Refer to the [documentation](https://geemap.org/geemap/#geemap.geemap.Map.set_plot_options) for more options."
   ]
  },
  {
   "cell_type": "code",
   "execution_count": 9,
   "id": "fitted-specific",
   "metadata": {},
   "outputs": [],
   "source": [
    "Map.set_plot_options?"
   ]
  },
  {
   "cell_type": "code",
   "execution_count": 10,
   "id": "c4cfd995",
   "metadata": {},
   "outputs": [],
   "source": [
    "Map.set_plot_options(plot_type='scatter',\n",
    "                     add_marker_cluster=True,\n",
    "                     default_size=12,\n",
    "                     stroke_width=2,\n",
    "                     axes_options={\"x\": {\"label\": \"band number\"},\"y\": {\"label\": \"reflectance\"}})"
   ]
  },
  {
   "cell_type": "code",
   "execution_count": null,
   "id": "powered-original",
   "metadata": {},
   "outputs": [],
   "source": [
    "#optionally can set overlay to True to see multiple spectral signatures on the same plot\n",
    "Map.set_plot_options(overlay=True)"
   ]
  },
  {
   "cell_type": "markdown",
   "id": "9013177e",
   "metadata": {},
   "source": [
    "To clear features from the map you can use `MAP.remove_drawn_feature`. You may also need to re-run the cells starting with `Map = geemap.Map()` to clear the Map panel and start from scratch. Feel free to explore on your own!"
   ]
  },
  {
   "cell_type": "code",
   "execution_count": null,
   "id": "15773ba6",
   "metadata": {},
   "outputs": [],
   "source": [
    "Map.remove_drawn_features()"
   ]
  },
  {
   "cell_type": "markdown",
   "id": "1e529a22",
   "metadata": {},
   "source": [
    "## Image Properties\n",
    "We can look into the properties of the Healy imagery using `geemap.image_props`. We encourage you to explore the dataset!"
   ]
  },
  {
   "cell_type": "code",
   "execution_count": null,
   "id": "vanilla-sight",
   "metadata": {},
   "outputs": [],
   "source": [
    "props = geemap.image_props(healSDR_2021_data)\n",
    "props"
   ]
  },
  {
   "cell_type": "markdown",
   "id": "regulation-participant",
   "metadata": {},
   "source": [
    "## Optional Exercises\n",
    "\n",
    "Here are a few more exercises to try out:\n",
    "1. Create a function to read in AOP SDR images, similar to the Landsat function, and read in all the years of HEAL data.\n",
    "2. Explore the GEE map functionality to convert Javascript to Python."
   ]
  },
  {
   "cell_type": "markdown",
   "id": "incomplete-freeze",
   "metadata": {},
   "source": [
    "### geemap.js_snippet_to_py\n",
    "`js_snippet_to_py` converts a snippet of `JavaScript` (js) code to python. Try out on your own! "
   ]
  },
  {
   "cell_type": "code",
   "execution_count": null,
   "id": "demonstrated-reviewer",
   "metadata": {},
   "outputs": [],
   "source": [
    "geemap.js_snippet_to_py?"
   ]
  },
  {
   "cell_type": "code",
   "execution_count": null,
   "id": "three-competition",
   "metadata": {},
   "outputs": [],
   "source": [
    "js_snippet = \"\"\n",
    "geemap.js_snippet_to_py(js_snippet, add_new_cell=True, import_ee=True, import_geemap=True, show_map=True)"
   ]
  },
  {
   "cell_type": "markdown",
   "id": "transparent-glenn",
   "metadata": {},
   "source": [
    "## Additional Python-GEE Resources to Explore!\n",
    "\n",
    "- https://developers.google.com/earth-engine/guides/python_install\n",
    "- https://github.com/giswqs\n",
    "- https://github.com/giswqs/geemap/blob/master/examples/notebooks/\n",
    "- https://github.com/giswqs/earthengine-py-notebooks\n",
    "\n",
    "Wu, Q., (2020). geemap: A Python package for interactive mapping with Google Earth Engine. The Journal of Open Source Software, 5(51), 2305. https://doi.org/10.21105/joss.02305"
   ]
  }
 ],
 "metadata": {
  "kernelspec": {
   "display_name": "Python 3 (ipykernel)",
   "language": "python",
   "name": "python3"
  },
  "language_info": {
   "codemirror_mode": {
    "name": "ipython",
    "version": 3
   },
   "file_extension": ".py",
   "mimetype": "text/x-python",
   "name": "python",
   "nbconvert_exporter": "python",
   "pygments_lexer": "ipython3",
   "version": "3.9.12"
  }
 },
 "nbformat": 4,
 "nbformat_minor": 5
}
