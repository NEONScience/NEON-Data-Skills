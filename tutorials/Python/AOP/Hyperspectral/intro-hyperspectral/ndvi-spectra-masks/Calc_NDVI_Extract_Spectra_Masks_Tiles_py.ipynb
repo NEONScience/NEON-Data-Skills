{
 "cells": [
  {
   "cell_type": "markdown",
   "metadata": {},
   "source": [
    "---\n",
    "syncID: 19e0b890b3c64f46b2189c8273a2e0a4\n",
    "title: \"Calculate NDVI & Extract Spectra Using Masks in Python - Tiled Data\"\n",
    "description: \"Learn to calculate Normalized Difference Vegetation Index (NDVI) and extract spectral using masks with Python and NEON tiled hyperspectral data products.\" \n",
    "dateCreated: 2018-07-05 \n",
    "authors: Bridget Hass\n",
    "contributors: Donal O'Leary\n",
    "estimatedTime: 0.5 hours\n",
    "packagesLibraries: numpy, h5py, gdal, matplotlib.pyplot\n",
    "topics: hyperspectral-remote-sensing, HDF5, remote-sensing, \n",
    "languagesTool: python\n",
    "dataProduct: NEON.DP3.30006, NEON.DP3.30008\n",
    "code1: https://raw.githubusercontent.com/NEONScience/NEON-Data-Skills/main/tutorials/Python/Hyperspectral/indices/Calc_NDVI_Extract_Spectra_Masks_Tiles_py/Calc_NDVI_Extract_Spectra_Masks_Tiles_py.ipynb\n",
    "tutorialSeries: intro-hsi-py-series\n",
    "urlTitle: calc-ndvi-tiles-py\n",
    "---"
   ]
  },
  {
   "cell_type": "markdown",
   "metadata": {},
   "source": [
    "In this tutorial, we will calculate the Normalized Difference Vegetation Index \n",
    "(NDVI). \n",
    "\n",
    "This tutorial uses the mosaiced or tiled NEON data product. For a tutorial \n",
    "using the flightline data, please see <a href=\"/calc-ndvi-py\" target=\"_blank\"> Calculate NDVI & Extract Spectra Using Masks in Python - Flightline Data</a>.\n",
    "\n",
    "\n",
    "<div id=\"ds-objectives\" markdown=\"1\">\n",
    "\n",
    "### Objectives\n",
    "After completing this tutorial, you will be able to:\n",
    "\n",
    "* Calculate NDVI from hyperspectral data in Python.\n",
    "\n",
    "### Install Python Packages\n",
    "\n",
    "* **numpy**\n",
    "* **pandas**\n",
    "* **gdal** \n",
    "* **matplotlib** \n",
    "* **h5py**\n",
    "\n",
    "\n",
    "### Download Data\n",
    "\n",
    "To complete this tutorial, you will use data available from the NEON 2017 Data\n",
    "Institute.\n",
    "\n",
    "This tutorial uses the following files:\n",
    "\n",
    "<ul>\n",
    "    <li> <a href=\"https://www.neonscience.org/sites/default/files/neon_aop_spectral_python_functions_tiled_data.zip\">neon_aop_spectral_python_functions_tiled_data.zip (10 KB)</a> <- Click to Download</li>\n",
    "    <li><a href=\"https://ndownloader.figshare.com/files/25752665\" target=\"_blank\">NEON_D02_SERC_DP3_368000_4306000_reflectance.h5 (618 MB)</a> <- Click to Download</li>\n",
    "</ul>\n",
    "\n",
    "<a href=\"https://ndownloader.figshare.com/files/25752665\" class=\"link--button link--arrow\">\n",
    "Download Dataset</a>\n",
    "\n",
    "The LiDAR and imagery data used to create this raster teaching data subset \n",
    "were collected over the \n",
    "<a href=\"http://www.neonscience.org/\" target=\"_blank\"> National Ecological Observatory Network's</a> \n",
    "<a href=\"http://www.neonscience.org/science-design/field-sites/\" target=\"_blank\" >field sites</a>\n",
    "and processed at NEON headquarters.\n",
    "The entire dataset can be accessed on the \n",
    "<a href=\"http://data.neonscience.org\" target=\"_blank\"> NEON data portal</a>.\n",
    "\n",
    "</div>\n"
   ]
  },
  {
   "cell_type": "markdown",
   "metadata": {},
   "source": [
    "# Calculate NDVI & Extract Spectra with Masks\n",
    "\n",
    "## Background:\n",
    "The Normalized Difference Vegetation Index (NDVI) is a standard band-ratio calculation frequently used to analyze ecological remote sensing data. NDVI indicates whether the remotely-sensed target contains live green vegetation. When sunlight strikes objects, certain wavelengths of the electromagnetic spectrum are absorbed and other wavelengths are reflected. The pigment chlorophyll in plant leaves strongly absorbs visible light (with wavelengths in the range of 400-700 nm) for use in photosynthesis. The cell structure of the leaves, however, strongly reflects near-infrared light (wavelengths ranging from 700 - 1100 nm). Plants reflect up to 60% more light in the near infrared portion of the spectrum than they do in the green portion of the spectrum. By calculating the ratio of Near Infrared (NIR) to Visible (VIS) bands in hyperspectral data, we can obtain a metric of vegetation density and health.  \n",
    "\n",
    "The formula for NDVI is: $$NDVI = \\frac{(NIR - VIS)}{(NIR+ VIS)}$$\n",
    "\n",
    "<figure>\n",
    "\t<a href=\"https://raw.githubusercontent.com/NEONScience/NEON-Data-Skills/main/graphics/hyperspectral-indices/ndvi_tree.png\">\n",
    "\t<img src=\"https://raw.githubusercontent.com/NEONScience/NEON-Data-Skills/main/graphics/hyperspectral-indices/ndvi_tree.png\"></a>\n",
    "\t<figcaption> NDVI is calculated from the visible and near-infrared light\n",
    "    reflected by vegetation. Healthy vegetation (left) absorbs most of the\n",
    "    visible light that hits it, and reflects a large portion of\n",
    "    near-infrared light. Unhealthy or sparse vegetation (right) reflects more\n",
    "    visible light and less near-infrared light. Source: <a href=\"https://www.researchgate.net/figure/266947355_fig1_Figure-1-Green-vegetation-left-absorbs-visible-light-and-reflects-near-infrared-light\" target=\"_blank\">Figure 1 in Wu et. al. 2014. PLOS. </a>   \n",
    "\t</figcaption>\n",
    "</figure>\n",
    "\n",
    "Start by setting plot preferences and loading the neon_aop_refl_hdf5_functions module:"
   ]
  },
  {
   "cell_type": "code",
   "execution_count": null,
   "metadata": {},
   "outputs": [],
   "source": [
    "import numpy as np\n",
    "import matplotlib.pyplot as plt\n",
    "%matplotlib inline \n",
    "import warnings\n",
    "warnings.filterwarnings('ignore') #don't display warnings"
   ]
  },
  {
   "cell_type": "code",
   "execution_count": null,
   "metadata": {},
   "outputs": [],
   "source": [
    "# %load ../neon_aop_hyperspectral.py\n",
    "\"\"\"\n",
    "Created on Wed Jun 20 10:34:49 2018\n",
    "\n",
    "@author: bhass\n",
    "\"\"\"\n",
    "\n",
    "import matplotlib.pyplot as plt\n",
    "import numpy as np\n",
    "import h5py, os, copy\n",
    "\n",
    "def aop_h5refl2array(refl_filename):\n",
    "    \"\"\"aop_h5refl2array reads in a NEON AOP reflectance hdf5 file and returns \n",
    "           1. reflectance array (with the no data value and reflectance scale factor applied)\n",
    "           2. dictionary of metadata including spatial information, and wavelengths of the bands\n",
    "    --------\n",
    "    Parameters\n",
    "        refl_filename -- full or relative path and name of reflectance hdf5 file\n",
    "    --------\n",
    "    Returns \n",
    "    --------\n",
    "    reflArray:\n",
    "        array of reflectance values\n",
    "    metadata:\n",
    "        dictionary containing the following metadata:\n",
    "            bad_band_window1 (tuple)\n",
    "            bad_band_window2 (tuple)\n",
    "            bands: # of bands (float)\n",
    "            data ignore value: value corresponding to no data (float)\n",
    "            epsg: coordinate system code (float)\n",
    "            map info: coordinate system, datum & ellipsoid, pixel dimensions, and origin coordinates (string)\n",
    "            reflectance scale factor: factor by which reflectance is scaled (float)\n",
    "            wavelength: wavelength values (float)\n",
    "            wavelength unit: 'm' (string)\n",
    "    --------\n",
    "    NOTE: This function applies to the NEON hdf5 format implemented in 2016, and should be used for\n",
    "    data acquired 2016 and after. Data in earlier NEON hdf5 format (collected prior to 2016) is \n",
    "    expected to be re-processed after the 2018 flight season. \n",
    "    --------\n",
    "    Example Execution:\n",
    "    --------\n",
    "    sercRefl, sercRefl_metadata = h5refl2array('NEON_D02_SERC_DP3_368000_4306000_reflectance.h5') \"\"\"\n",
    "    \n",
    "    import h5py\n",
    "    \n",
    "    #Read in reflectance hdf5 file \n",
    "    hdf5_file = h5py.File(refl_filename,'r')\n",
    "\n",
    "    #Get the site name\n",
    "    file_attrs_string = str(list(hdf5_file.items()))\n",
    "    file_attrs_string_split = file_attrs_string.split(\"'\")\n",
    "    sitename = file_attrs_string_split[1]\n",
    "    \n",
    "    #Extract the reflectance & wavelength datasets\n",
    "    refl = hdf5_file[sitename]['Reflectance']\n",
    "    reflData = refl['Reflectance_Data']\n",
    "    reflRaw = refl['Reflectance_Data'].value\n",
    "    \n",
    "    #Create dictionary containing relevant metadata information\n",
    "    metadata = {}\n",
    "    metadata['map info'] = refl['Metadata']['Coordinate_System']['Map_Info'].value\n",
    "    metadata['wavelength'] = refl['Metadata']['Spectral_Data']['Wavelength'].value\n",
    "\n",
    "    #Extract no data value & scale factor\n",
    "    metadata['data ignore value'] = float(reflData.attrs['Data_Ignore_Value'])\n",
    "    metadata['reflectance scale factor'] = float(reflData.attrs['Scale_Factor'])\n",
    "    #metadata['interleave'] = reflData.attrs['Interleave']\n",
    "    \n",
    "    #Apply no data value\n",
    "    reflClean = reflRaw.astype(float)\n",
    "    arr_size = reflClean.shape\n",
    "    if metadata['data ignore value'] in reflRaw:\n",
    "        print('% No Data: ',np.round(np.count_nonzero(reflClean==metadata['data ignore value'])*100/(arr_size[0]*arr_size[1]*arr_size[2]),1))\n",
    "        nodata_ind = np.where(reflClean==metadata['data ignore value'])\n",
    "        reflClean[nodata_ind]=np.nan \n",
    "    \n",
    "    #Apply scale factor\n",
    "    reflArray = reflClean/metadata['reflectance scale factor']\n",
    "    \n",
    "    #Extract spatial extent from attributes\n",
    "    metadata['spatial extent'] = reflData.attrs['Spatial_Extent_meters']\n",
    "    \n",
    "    #Extract bad band windows\n",
    "    metadata['bad band window1'] = (refl.attrs['Band_Window_1_Nanometers'])\n",
    "    metadata['bad band window2'] = (refl.attrs['Band_Window_2_Nanometers'])\n",
    "    \n",
    "    #Extract projection information\n",
    "    #metadata['projection'] = refl['Metadata']['Coordinate_System']['Proj4'].value\n",
    "    metadata['epsg'] = int(refl['Metadata']['Coordinate_System']['EPSG Code'].value)\n",
    "    \n",
    "    #Extract map information: spatial extent & resolution (pixel size)\n",
    "    mapInfo = refl['Metadata']['Coordinate_System']['Map_Info'].value\n",
    "    \n",
    "    hdf5_file.close        \n",
    "    \n",
    "    return reflArray, metadata\n",
    "\n",
    "def plot_aop_refl(band_array,refl_extent,colorlimit=(0,1),ax=plt.gca(),title='',cbar ='on',cmap_title='',colormap='Greys'):\n",
    "    \n",
    "    '''plot_refl_data reads in and plots a single band or 3 stacked bands of a reflectance array\n",
    "    --------\n",
    "    Parameters\n",
    "    --------\n",
    "        band_array: array of reflectance values, created from aop_h5refl2array\n",
    "        refl_extent: extent of reflectance data to be plotted (xMin, xMax, yMin, yMax) \n",
    "                     use metadata['spatial extent'] from aop_h5refl2array function\n",
    "        colorlimit: optional, range of values to plot (min,max). \n",
    "                    - helpful to look at the histogram of reflectance values before plotting to determine colorlimit.\n",
    "        ax: optional, default = current axis\n",
    "        title: optional; plot title (string)\n",
    "        cmap_title: optional; colorbar title \n",
    "        colormap: optional (string, see https://matplotlib.org/examples/color/colormaps_reference.html) for list of colormaps\n",
    "    --------\n",
    "    Returns \n",
    "    --------\n",
    "        plots flightline array of single band of reflectance data\n",
    "    --------\n",
    "\n",
    "    Examples:\n",
    "    --------\n",
    "    plot_aop_refl(sercb56,\n",
    "              sercMetadata['spatial extent'],\n",
    "              colorlimit=(0,0.3),\n",
    "              title='SERC Band 56 Reflectance',\n",
    "              cmap_title='Reflectance',\n",
    "              colormap='Greys_r') '''\n",
    "    \n",
    "    import matplotlib.pyplot as plt\n",
    "    \n",
    "    plot = plt.imshow(band_array,extent=refl_extent,clim=colorlimit); \n",
    "    if cbar == 'on':\n",
    "        cbar = plt.colorbar(plot,aspect=40); plt.set_cmap(colormap); \n",
    "        cbar.set_label(cmap_title,rotation=90,labelpad=20)\n",
    "    plt.title(title); ax = plt.gca(); \n",
    "    ax.ticklabel_format(useOffset=False, style='plain'); #do not use scientific notation for ticklabels\n",
    "    rotatexlabels = plt.setp(ax.get_xticklabels(),rotation=90); #rotate x tick labels 90 degrees\n",
    "    \n",
    "def stack_rgb(reflArray,bands):\n",
    "    \n",
    "    red = reflArray[:,:,bands[0]-1]\n",
    "    green = reflArray[:,:,bands[1]-1]\n",
    "    blue = reflArray[:,:,bands[2]-1]\n",
    "    \n",
    "    stackedRGB = np.stack((red,green,blue),axis=2)\n",
    "    \n",
    "    return stackedRGB\n",
    "\n",
    "def plot_aop_rgb(rgbArray,ext,ls_pct=5,plot_title=''):\n",
    "    \n",
    "    from skimage import exposure\n",
    "    \n",
    "    pLow, pHigh = np.percentile(rgbArray[~np.isnan(rgbArray)], (ls_pct,100-ls_pct))\n",
    "    img_rescale = exposure.rescale_intensity(rgbArray, in_range=(pLow,pHigh))\n",
    "    plt.imshow(img_rescale,extent=ext)\n",
    "    plt.title(plot_title + '\\n Linear ' + str(ls_pct) + '% Contrast Stretch'); \n",
    "    ax = plt.gca(); ax.ticklabel_format(useOffset=False, style='plain') #do not use scientific notation #\n",
    "    rotatexlabels = plt.setp(ax.get_xticklabels(),rotation=90) #rotate x tick labels 90 degree"
   ]
  },
  {
   "cell_type": "markdown",
   "metadata": {},
   "source": [
    "### Read in SERC Reflectance Tile"
   ]
  },
  {
   "cell_type": "code",
   "execution_count": null,
   "metadata": {},
   "outputs": [],
   "source": [
    "# Note you will need to update this filepath for your local machine\n",
    "sercRefl, sercRefl_md = aop_h5refl2array('/Users/olearyd/Git/data/NEON_D02_SERC_DP3_368000_4306000_reflectance.h5')"
   ]
  },
  {
   "cell_type": "markdown",
   "metadata": {},
   "source": [
    "### Extract NIR and VIS bands\n",
    "\n",
    "Now that we have uploaded all the required functions, we can calculate NDVI and plot it. \n",
    "Below we print the center wavelengths that these bands correspond to:"
   ]
  },
  {
   "cell_type": "code",
   "execution_count": null,
   "metadata": {},
   "outputs": [],
   "source": [
    "print('band 58 center wavelength (nm): ',sercRefl_md['wavelength'][57])\n",
    "print('band 90 center wavelength (nm) : ', sercRefl_md['wavelength'][89])"
   ]
  },
  {
   "cell_type": "markdown",
   "metadata": {},
   "source": [
    "## Calculate & Plot NDVI"
   ]
  },
  {
   "cell_type": "markdown",
   "metadata": {},
   "source": [
    "Here we see that band 58 represents red visible light, while band 90 is in the NIR portion of the spectrum. Let's extract these two bands from the reflectance array and calculate the ratio using the `numpy.divide` which divides arrays element-wise. "
   ]
  },
  {
   "cell_type": "code",
   "execution_count": null,
   "metadata": {},
   "outputs": [],
   "source": [
    "vis = sercRefl[:,:,57]\n",
    "nir = sercRefl[:,:,89]\n",
    "\n",
    "ndvi = np.divide((nir-vis),(nir+vis))"
   ]
  },
  {
   "cell_type": "markdown",
   "metadata": {},
   "source": [
    "We can use the function `plot_aop_refl` to plot this, and choose the `seismic` color pallette to highlight the difference between positive and negative NDVI values. Since this is a normalized index, the values should range from -1 to +1. "
   ]
  },
  {
   "cell_type": "code",
   "execution_count": null,
   "metadata": {},
   "outputs": [],
   "source": [
    "plot_aop_refl(ndvi,sercRefl_md['spatial extent'],\n",
    "              colorlimit = (np.min(ndvi),np.max(ndvi)),\n",
    "              title='SERC Subset NDVI \\n (VIS = Band 58, NIR = Band 90)',\n",
    "              cmap_title='NDVI',\n",
    "              colormap='seismic')"
   ]
  },
  {
   "cell_type": "markdown",
   "metadata": {},
   "source": [
    "## Extract Spectra Using Masks\n",
    "\n",
    "In the second part of this tutorial, we will learn how to extract the average spectra of pixels whose NDVI exceeds a specified threshold value. There are several ways to do this using `numpy`, including the mask functions `numpy.ma`, as well as `numpy.where` and finally using `boolean` indexing. \n",
    "\n",
    "To start, lets copy the NDVI calculated above and use booleans to create an array only containing NDVI > 0.6."
   ]
  },
  {
   "cell_type": "code",
   "execution_count": null,
   "metadata": {},
   "outputs": [],
   "source": [
    "import copy\n",
    "ndvi_gtpt6 = copy.copy(ndvi)\n",
    "#set all pixels with NDVI < 0.6 to nan, keeping only values > 0.6\n",
    "ndvi_gtpt6[ndvi<0.6] = np.nan  \n",
    "print('Mean NDVI > 0.6:',round(np.nanmean(ndvi_gtpt6),2))"
   ]
  },
  {
   "cell_type": "code",
   "execution_count": null,
   "metadata": {},
   "outputs": [],
   "source": [
    "plot_aop_refl(ndvi_gtpt6,\n",
    "                sercRefl_md['spatial extent'],\n",
    "                colorlimit=(0.6,1),\n",
    "                title='SERC Subset NDVI > 0.6 \\n (VIS = Band 58, NIR = Band 90)',\n",
    "                cmap_title='NDVI',\n",
    "                colormap='RdYlGn')"
   ]
  },
  {
   "cell_type": "markdown",
   "metadata": {},
   "source": [
    "## Calculate the mean spectra, thresholded by NDVI \n",
    "Below we will demonstrate how to calculate statistics on arrays where you have applied a mask `numpy.ma`. In this example, the function calculates the mean spectra for values that remain after masking out values by a specified threshold. "
   ]
  },
  {
   "cell_type": "code",
   "execution_count": null,
   "metadata": {},
   "outputs": [],
   "source": [
    "import numpy.ma as ma\n",
    "def calculate_mean_masked_spectra(reflArray,ndvi,ndvi_threshold,ineq='>'):\n",
    "    \n",
    "    mean_masked_refl = np.zeros(reflArray.shape[2])\n",
    "    \n",
    "    for i in np.arange(reflArray.shape[2]):\n",
    "        refl_band = reflArray[:,:,i]\n",
    "        \n",
    "        if ineq == '>':\n",
    "            ndvi_mask = ma.masked_where((ndvi<=ndvi_threshold) | (np.isnan(ndvi)),ndvi)\n",
    "        elif ineq == '<':\n",
    "            ndvi_mask = ma.masked_where((ndvi>=ndvi_threshold) | (np.isnan(ndvi)),ndvi)   \n",
    "        else:\n",
    "            print('ERROR: Invalid inequality. Enter < or >')\n",
    "            \n",
    "        masked_refl = ma.MaskedArray(refl_band,mask=ndvi_mask.mask)\n",
    "        mean_masked_refl[i] = ma.mean(masked_refl)\n",
    "            \n",
    "    return mean_masked_refl"
   ]
  },
  {
   "cell_type": "markdown",
   "metadata": {},
   "source": [
    "We can test out this function for various NDVI thresholds. We'll test two together, and you can try out different values on your own. Let's look at the average spectra for healthy vegetation (NDVI > 0.6), and for a lower threshold (NDVI < 0.3)."
   ]
  },
  {
   "cell_type": "code",
   "execution_count": null,
   "metadata": {},
   "outputs": [],
   "source": [
    "sercSpectra_ndvi_gtpt6 = calculate_mean_masked_spectra(sercRefl,ndvi,0.6)\n",
    "sercSpectra_ndvi_ltpt3 = calculate_mean_masked_spectra(sercRefl,ndvi,0.3,ineq='<') "
   ]
  },
  {
   "cell_type": "markdown",
   "metadata": {},
   "source": [
    "Finally, we can use `pandas` to plot the mean spectra. First set up the pandas dataframe."
   ]
  },
  {
   "cell_type": "code",
   "execution_count": null,
   "metadata": {},
   "outputs": [],
   "source": [
    "import pandas\n",
    "\n",
    "#Remove water vapor bad band windows & last 10 bands \n",
    "w = copy.copy(sercRefl_md['wavelength'])\n",
    "w[((w >= 1340) & (w <= 1445)) | ((w >= 1790) & (w <= 1955))]=np.nan\n",
    "w[-10:]=np.nan;  \n",
    "\n",
    "nan_ind = np.argwhere(np.isnan(w))\n",
    "\n",
    "sercSpectra_ndvi_gtpt6[nan_ind] = np.nan\n",
    "sercSpectra_ndvi_ltpt3[nan_ind] = np.nan\n",
    "\n",
    "#Create dataframe with masked NDVI mean spectra\n",
    "sercSpectra_ndvi_df = pandas.DataFrame()\n",
    "sercSpectra_ndvi_df['wavelength'] = w\n",
    "sercSpectra_ndvi_df['mean_refl_ndvi_gtpt6'] = sercSpectra_ndvi_gtpt6\n",
    "sercSpectra_ndvi_df['mean_refl_ndvi_ltpt3'] = sercSpectra_ndvi_ltpt3"
   ]
  },
  {
   "cell_type": "markdown",
   "metadata": {},
   "source": [
    "Plot the masked NDVI dataframe to display the mean spectra for NDVI values that exceed 0.6 and that are less than 0.3:"
   ]
  },
  {
   "cell_type": "code",
   "execution_count": null,
   "metadata": {},
   "outputs": [],
   "source": [
    "ax = plt.gca();\n",
    "sercSpectra_ndvi_df.plot(ax=ax,x='wavelength',y='mean_refl_ndvi_gtpt6',color='green',\n",
    "                         edgecolor='none',kind='scatter',label='NDVI > 0.6',legend=True);\n",
    "sercSpectra_ndvi_df.plot(ax=ax,x='wavelength',y='mean_refl_ndvi_ltpt3',color='red',\n",
    "                         edgecolor='none',kind='scatter',label='NDVI < 0.3',legend=True);\n",
    "ax.set_title('Mean Spectra of Reflectance Masked by NDVI')\n",
    "ax.set_xlim([np.nanmin(w),np.nanmax(w)]); ax.set_ylim(0,0.45)\n",
    "ax.set_xlabel(\"Wavelength, nm\"); ax.set_ylabel(\"Reflectance\")\n",
    "ax.grid('on'); "
   ]
  }
 ],
 "metadata": {
  "kernelspec": {
   "display_name": "py37",
   "language": "python",
   "name": "py37"
  },
  "language_info": {
   "codemirror_mode": {
    "name": "ipython",
    "version": 3
   },
   "file_extension": ".py",
   "mimetype": "text/x-python",
   "name": "python",
   "nbconvert_exporter": "python",
   "pygments_lexer": "ipython3",
   "version": "3.7.7"
  }
 },
 "nbformat": 4,
 "nbformat_minor": 1
}
