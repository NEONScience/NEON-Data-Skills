{
 "cells": [
  {
   "cell_type": "markdown",
   "metadata": {},
   "source": [
    "---\n",
    "syncID: e046a83d83f2042d8b40dea1b20fd6779\n",
    "title: \"Read in and visualize hyperspectral data using functions in Python\"\n",
    "description: \"Learn to efficiently work with tiled NEON AOP hyperspectral data in Python using functions.\"\n",
    "dateCreated: 2017-06-19 \n",
    "authors: Bridget Hass\n",
    "contributors: Tristan Goulden\n",
    "estimatedTime: 1 hour\n",
    "packagesLibraries: h5py, requests, skimage\n",
    "topics: hyperspectral, remote-sensing, hdf5\n",
    "languagesTool: Python\n",
    "dataProduct: NEON.DP3.30006.001\n",
    "code1: https://raw.githubusercontent.com/NEONScience/NEON-Data-Skills/main/tutorials\\Python\\AOP\\hyperspectral\\into_hyperspectral_functions.ipynb\n",
    "tutorialSeries: \n",
    "urlTitle: refl-functions-py\n",
    "---"
   ]
  },
  {
   "cell_type": "markdown",
   "metadata": {},
   "source": [
    "In this tutorial, you will learn how to efficiently read in hdf5 data and metadata, plot a single band and rgb band combinations of a reflectance data tile using Python functions created for working with and visualizing NEON AOP hyperspectral data.\n",
    "\n",
    "<div id=\"ds-ojectives\" markdown=\"1\">\n",
    "\n",
    "### Objectives\n",
    "After completing this tutorial, you will be able to:\n",
    "\n",
    "* Work with Python modules and functions\n",
    "* Read in tiled NEON AOP reflectance hdf5 data and associated metadata\n",
    "* Plot a single band of reflectance data\n",
    "* Stack and plot 3-band combinations to visualize true color and false color images\n",
    "\n",
    "### Install Python Packages\n",
    "\n",
    "* **h5py**\n",
    "* **gdal** \n",
    "* **requests**\n",
    "\n",
    "### Data\n",
    "\n",
    "Data and additional scripts required for this lesson are downloaded programmatically as part of the tutorial.\n",
    "\n",
    "The LiDAR and imagery data used to create this raster teaching data subset were collected over the <a href=\"http://www.neonscience.org/\" target=\"_blank\"> National Ecological Observatory Network's</a> \n",
    "<a href=\"https://www.neonscience.org/field-sites/dsny\" target=\"_blank\">https://www.neonscience.org/field-sites/dsny (DSNY)</a> field site and processed at NEON headquarters.\n",
    "\n",
    "The dataset can also be downloaded from the <a href=\"http://data.neonscience.org\" target=\"_blank\">NEON data portal</a>.\n",
    "\n",
    "</div>"
   ]
  },
  {
   "cell_type": "markdown",
   "metadata": {},
   "source": [
    "We can combine any three bands from the NEON reflectance data to make an RGB image that will depict different information about the Earth's surface. A **natural color** image, made with bands from the red, green, and blue wavelengths looks close to what we would see with the naked eye. We can also choose band combinations from other wavelenghts, and map them to the red, blue, \n",
    "and green colors to highlight different features. A **false color** image is made with one or more bands from a non-visible portion of the electromagnetic spectrum that are mapped to red, green, and blue colors. These images can display other information about the landscape that is not easily seen with a natural color image. \n",
    "\n",
    "The NASA Goddard Media Studio video \"Peeling Back Landsat's Layers of Data\" gives a good quick overview of natural and false color band combinations. Note that the Landsat multispectral sensor collects information from 11 bands, while NEON AOP hyperspectral data captures information spanning 426 bands!\n",
    "\n",
    "#### Peeling Back Landsat's Layers of Data Video\n",
    "\n",
    "<iframe width=\"560\" height=\"315\" src=\"https://www.youtube.com/embed/YP0et8l_bvY\" frameborder=\"0\" allowfullscreen></iframe>\n",
    "\n",
    "\n",
    "### Further Reading\n",
    "\n",
    "* Check out the NASA Earth Observatory article \n",
    "<a href=\"https://earthobservatory.nasa.gov/Features/FalseColor/\" target=\"_blank\">How to Interpret a False-Color Satellite Image</a>. \n",
    "* Read the supporting article for the video above, \n",
    "<a href=\"https://svs.gsfc.nasa.gov//vis/a010000/a011400/a011491/index.html\" target=\"_blank\"> Landsat 8 Onion Skin</a>. \n",
    "\n",
    "\n",
    "## Load Function Module\n",
    "\n",
    "First we can import the required packages and the `neon_aop_hyperspectral` module, which includes a number of functions which we will use to read in the hyperspectral hdf5 data as well as visualize the data."
   ]
  },
  {
   "cell_type": "code",
   "execution_count": null,
   "metadata": {},
   "outputs": [],
   "source": [
    "import os\n",
    "import sys\n",
    "import time\n",
    "import copy\n",
    "import h5py\n",
    "import requests\n",
    "import numpy as np\n",
    "import matplotlib.pyplot as plt"
   ]
  },
  {
   "cell_type": "markdown",
   "metadata": {},
   "source": [
    "This next function is a handy way to download the Python module and data that we will be using for this lesson. This uses hte `requests` package. Don't worry too much about the details."
   ]
  },
  {
   "cell_type": "code",
   "execution_count": null,
   "metadata": {},
   "outputs": [],
   "source": [
    "# function to download data stored on the internet in a public url to a local file\n",
    "def download_url(url,download_dir):\n",
    "    if not os.path.isdir(download_dir):\n",
    "        os.makedirs(download_dir)\n",
    "    filename = url.split('/')[-1]\n",
    "    r = requests.get(url, allow_redirects=True)\n",
    "    file_object = open(os.path.join(download_dir,filename),'wb')\n",
    "    file_object.write(r.content)"
   ]
  },
  {
   "cell_type": "code",
   "execution_count": null,
   "metadata": {},
   "outputs": [],
   "source": [
    "module_url = \"https://raw.githubusercontent.com/NEONScience/NEON-Data-Skills/main/tutorials/Python/AOP/aop_python_modules/neon_aop_hyperspectral.py\"\n",
    "download_url(module_url,'../python_modules')\n",
    "# os.listdir('../python_modules') #optionally show the contents of this directory to confirm the file downloaded"
   ]
  },
  {
   "cell_type": "code",
   "execution_count": null,
   "metadata": {},
   "outputs": [],
   "source": [
    "# add the python_modules to the path and import the python neon download and hyperspectral functions\n",
    "sys.path.insert(0, '../python_modules')\n",
    "# import the neon_aop_hyperspectral module, the semicolon supresses an empty plot from displaying\n",
    "import neon_aop_hyperspectral as neon_hs;"
   ]
  },
  {
   "cell_type": "markdown",
   "metadata": {},
   "source": [
    "The first function we will use is `aop_h5refl2array`. We encourage you to look through the code to understand what it is doing behind the scenes. This function automates the steps required to read AOP hdf5 reflectance files into a Python numpy array. This function also cleans the data: it sets any no data values within the reflectance tile to `nan` (not a number) and applies the reflectance scale factor so the final array that is returned represents unitless scaled reflectance, with values ranging between 0 and 1 (0-100%). "
   ]
  },
  {
   "cell_type": "markdown",
   "metadata": {},
   "source": [
    "If you forget what this function does, or don't want to scroll up to read the docstrings, remember you can use `help` or `?` to display the associated docstrings. "
   ]
  },
  {
   "cell_type": "code",
   "execution_count": null,
   "metadata": {},
   "outputs": [],
   "source": [
    "help(neon_hs.aop_h5refl2array)\n",
    "# neon_hs.aop_h5refl2array? #uncomment for an alternate way to show the help"
   ]
  },
  {
   "cell_type": "markdown",
   "metadata": {},
   "source": [
    "Now that we have an idea of how this function works, let's try it out. First, let's download a file. For this tutorial, we will use requests to download from the public link where the data is stored on the cloud (Google Cloud Storage). This downloads to a data folder in the working directory, but you can download it to a different location if you prefer."
   ]
  },
  {
   "cell_type": "code",
   "execution_count": null,
   "metadata": {},
   "outputs": [],
   "source": [
    "# define the data_url to point to the cloud storage location of the the hyperspectral hdf5 data file\n",
    "data_url = \"https://storage.googleapis.com/neon-aop-products/2021/FullSite/D03/2021_DSNY_6/L3/Spectrometer/Reflectance/NEON_D03_DSNY_DP3_454000_3113000_reflectance.h5\""
   ]
  },
  {
   "cell_type": "code",
   "execution_count": null,
   "metadata": {},
   "outputs": [],
   "source": [
    "# download the h5 data and display how much time it took to download (uncomment 1st and 3rd lines)\n",
    "# start_time = time.time()\n",
    "download_url(data_url,'.\\data')\n",
    "# print(\"--- It took %s seconds to download the data ---\" % round((time.time() - start_time),1))"
   ]
  },
  {
   "cell_type": "code",
   "execution_count": null,
   "metadata": {},
   "outputs": [],
   "source": [
    "# display the contents in the ./data folder to confirm the download completed\n",
    "os.listdir('./data')"
   ]
  },
  {
   "cell_type": "code",
   "execution_count": null,
   "metadata": {},
   "outputs": [],
   "source": [
    "# read the h5 reflectance file (including the full path) to the variable h5_file_name\n",
    "h5_file_name = data_url.split('/')[-1]\n",
    "h5_tile = os.path.join(\".\\data\",h5_file_name)\n",
    "print(f'h5_tile: {h5_tile}')"
   ]
  },
  {
   "cell_type": "markdown",
   "metadata": {},
   "source": [
    "Now that we've specified our reflectance tile, we can call `aop_h5refl2array` to read in the reflectance tile as a python array called `refl` , the metadata into a dictionary called `refl_metadata`, and the wavelengths into an array."
   ]
  },
  {
   "cell_type": "code",
   "execution_count": null,
   "metadata": {},
   "outputs": [],
   "source": [
    "# read in the reflectance data using the aop_h5refl2array function, this may also take a bit of time\n",
    "start_time = time.time()\n",
    "refl, refl_metadata, wavelengths = neon_hs.aop_h5refl2array(h5_tile,'Reflectance')\n",
    "print(\"--- It took %s seconds to read in the data ---\" % round((time.time() - start_time),0))"
   ]
  },
  {
   "cell_type": "code",
   "execution_count": null,
   "metadata": {},
   "outputs": [],
   "source": [
    "# display the reflectance metadata dictionary\n",
    "refl_metadata"
   ]
  },
  {
   "cell_type": "code",
   "execution_count": null,
   "metadata": {},
   "outputs": [],
   "source": [
    "# display the first 5 values of the wavelengths\n",
    "wavelengths[:5]"
   ]
  },
  {
   "cell_type": "markdown",
   "metadata": {},
   "source": [
    "We can use the `shape` method to see the dimensions of the array we read in. Use this method to confirm that the size of the reflectance array makes sense given the hyperspectral data cube, which is 1000 meters x 1000 meters x 426 bands."
   ]
  },
  {
   "cell_type": "code",
   "execution_count": null,
   "metadata": {},
   "outputs": [],
   "source": [
    "refl.shape"
   ]
  },
  {
   "cell_type": "markdown",
   "metadata": {},
   "source": [
    "## `plot_aop_refl`: plot a single band of the reflectance data\n",
    "\n",
    "Next we'll use the function `plot_aop_refl` to plot a single band of reflectance data. You can use `help` to understand the required inputs and data types for each of these; only the band and spatial extent are required inputs, the rest are optional inputs. If specified, these optional inputs allow you to set the range color values, specify the axis, add a title, colorbar, colorbar title, and change the colormap (default is to plot in greyscale). "
   ]
  },
  {
   "cell_type": "code",
   "execution_count": null,
   "metadata": {},
   "outputs": [],
   "source": [
    "band56 = refl[:,:,55]"
   ]
  },
  {
   "cell_type": "code",
   "execution_count": null,
   "metadata": {},
   "outputs": [],
   "source": [
    "neon_hs.plot_aop_refl(band56/refl_metadata['scale_factor'],\n",
    "                      refl_metadata['extent'],\n",
    "                      colorlimit=(0,0.3),\n",
    "                      title='DSNY Tile Band 56',\n",
    "                      cmap_title='Reflectance',\n",
    "                      colormap='gist_earth')"
   ]
  },
  {
   "cell_type": "markdown",
   "metadata": {},
   "source": [
    "## RGB Plots - Band Stacking\n",
    "It is often useful to look at several bands together. We can extract and stack three reflectance bands in the red, green, and blue (RGB) spectrums to produce a color image that looks like what we see with our eyes; this is your typical camera image. In the next part of this tutorial, we will learn to stack multiple bands and make a geotif raster from the compilation of these bands. We can see that different combinations of bands allow for different visualizations of the remotely-sensed objects and also conveys useful information about the chemical makeup of the Earth's surface. \n",
    "\n",
    "We will select bands that fall within the visible range of the electromagnetic spectrum (400-700 nm) and at specific points that correspond to what we see as red, green, and blue.\n",
    "\n",
    "<figure>\n",
    "\t<a href=\"https://raw.githubusercontent.com/NEONScience/NEON-Data-Skills/main/graphics/hyperspectral-general/spectrum_RGBcombined.png\">\n",
    "\t<img src=\"https://raw.githubusercontent.com/NEONScience/NEON-Data-Skills/main/graphics/hyperspectral-general/spectrum_RGBcombined.png\" width = 600></a>\n",
    "\t<figcaption> NEON Imaging Spectrometer bands and their respective wavelengths. Source: National Ecological Observatory Network (NEON)  \n",
    "\t</figcaption>\n",
    "</figure>\n",
    "\n",
    "For this exercise, we'll first use the function `stack_rgb` to extract the bands we want to stack. This function uses splicing to extract the nth band from the reflectance array, and then uses the numpy function `stack` to create a new 3D array (1000 x 1000 x 3) consisting of only the three bands we want. "
   ]
  },
  {
   "cell_type": "code",
   "execution_count": null,
   "metadata": {},
   "outputs": [],
   "source": [
    "# pull out the true-color band combinations\n",
    "rgb_bands = (58,34,19) # set the red, green, and blue bands\n",
    "\n",
    "# stack the 3-band combinations (rgb and cir) using stack_rgb function\n",
    "rgb_unscaled = neon_hs.stack_rgb(refl,rgb_bands)\n",
    "\n",
    "# apply the reflectance scale factor\n",
    "rgb = rgb_unscaled/refl_metadata['scale_factor']"
   ]
  },
  {
   "cell_type": "markdown",
   "metadata": {},
   "source": [
    "We can display the red, green, and blue band center wavelengths, whose indices were defined above. To confirm that these band indices correspond to wavelengths in the expected portion of the spectrum, we can print out the wavelength values in nanometers."
   ]
  },
  {
   "cell_type": "code",
   "execution_count": null,
   "metadata": {},
   "outputs": [],
   "source": [
    "print('Center wavelengths:')\n",
    "print('Band 58: %.1f' %(wavelengths[57]),'nm')\n",
    "print('Band 33: %.1f' %(wavelengths[33]),'nm')\n",
    "print('Band 19: %.1f' %(wavelengths[18]),'nm')"
   ]
  },
  {
   "cell_type": "markdown",
   "metadata": {},
   "source": [
    "## plot_aop_rgb: plot an RGB band combination\n",
    "\n",
    "Next, we can use the function `plot_aop_rgb` to plot the band stack as follows:"
   ]
  },
  {
   "cell_type": "code",
   "execution_count": null,
   "metadata": {},
   "outputs": [],
   "source": [
    "# plot the true color image (rgb)\n",
    "neon_hs.plot_aop_rgb(rgb,\n",
    "                     refl_metadata['extent'],\n",
    "                     plot_title='DSNY Reflectance RGB Image')"
   ]
  },
  {
   "cell_type": "markdown",
   "metadata": {},
   "source": [
    "## False Color Image - Color Infrared (CIR)\n",
    "We can also create an image from bands outside of the visible spectrum. An image containing one or more bands outside of the visible range is called a **false-color image**. Here we'll use the green and blue bands as before, but we replace the red band with a near-infrared (NIR) band. \n",
    "\n",
    "For more information about non-visible wavelengths, false color images, and some frequently used false-color band combinations, refer to <a href=\"https://earthobservatory.nasa.gov/Features/FalseColor/\" target=\"_blank\">NASA's Earth Observatory page</a>.\n"
   ]
  },
  {
   "cell_type": "code",
   "execution_count": null,
   "metadata": {},
   "outputs": [],
   "source": [
    "cir_bands = (90,34,19)\n",
    "print('Band 90 Center Wavelength = %.1f' %(wavelengths[89]),'nm')\n",
    "print('Band 34 Center Wavelength = %.1f' %(wavelengths[33]),'nm')\n",
    "print('Band 19 Center Wavelength = %.1f' %(wavelengths[18]),'nm')\n",
    "\n",
    "cir = neon_hs.stack_rgb(refl,cir_bands)\n",
    "neon_hs.plot_aop_rgb(cir,\n",
    "                     refl_metadata['extent'],\n",
    "                     ls_pct=20,\n",
    "                     plot_title='DSNY Color Infrared Image')"
   ]
  },
  {
   "cell_type": "markdown",
   "metadata": {},
   "source": [
    "## References\n",
    "\n",
    "Kekesi, Alex et al. \n",
    "<a href=\"https://svs.gsfc.nasa.gov/vis/a010000/a011400/a011491/\" target=\"_blank\"> \"NASA | Peeling Back Landsat's Layers of Data\". </a>\n",
    "https://svs.gsfc.nasa.gov/vis/a010000/a011400/a011491/. Published on Feb 24, 2014.\n",
    "\n",
    "Riebeek, Holli. \n",
    "<a href=\"https://earthobservatory.nasa.gov/Features/FalseColor/\" target=\"_blank\"> \"Why is that Forest Red and that Cloud Blue? How to Interpret a False-Color Satellite Image\" </a> \n",
    "https://earthobservatory.nasa.gov/Features/FalseColor/ \n"
   ]
  }
 ],
 "metadata": {
  "kernelspec": {
   "display_name": "Python 3 (ipykernel)",
   "language": "python",
   "name": "python3"
  },
  "language_info": {
   "codemirror_mode": {
    "name": "ipython",
    "version": 3
   },
   "file_extension": ".py",
   "mimetype": "text/x-python",
   "name": "python",
   "nbconvert_exporter": "python",
   "pygments_lexer": "ipython3",
   "version": "3.9.18"
  },
  "widgets": {
   "state": {
    "3c0b9dc3198943dc810a7ba3a4c04249": {
     "views": [
      {
       "cell_index": 18
      }
     ]
    },
    "614fe957a514497bbb4c2b7059c09274": {
     "views": [
      {
       "cell_index": 27
      }
     ]
    },
    "908bc6883c354c2699a617c27ace9de7": {
     "views": [
      {
       "cell_index": 19
      }
     ]
    }
   },
   "version": "1.2.0"
  }
 },
 "nbformat": 4,
 "nbformat_minor": 4
}
