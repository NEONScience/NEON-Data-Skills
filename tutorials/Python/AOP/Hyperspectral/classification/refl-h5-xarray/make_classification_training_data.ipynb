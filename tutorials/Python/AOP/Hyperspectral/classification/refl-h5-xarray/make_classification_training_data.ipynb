{
 "cells": [
  {
   "cell_type": "markdown",
   "metadata": {},
   "source": [
    "---\n",
    "syncID: 6eb4422d262440408f7905d1dd3d1ae2\n",
    "title: \"Make Training Data for Species Modeling from NEON TOS Vegetation Structure Data\"\n",
    "description: \"Create a training dataset for tree classification using TOS vegetation structure data.\"\n",
    "dateCreated: 2025-07-30\n",
    "authors: Bridget Hass\n",
    "contributors: Claire Lunch\n",
    "estimatedTime: 30 minutes\n",
    "packagesLibraries: Python\n",
    "topics: vegetation structure, classification\n",
    "languageTool: Python\n",
    "dataProduct: DP1.10098.001\n",
    "code1: https://raw.githubusercontent.com/NEONScience/NEON-Data-Skills/main/tutorials/Python/AOP/Hyperspectral/classification/refl-h5-xarray/make_classification_training_data.ipynb\n",
    "tutorialSeries: \n",
    "urlTitle: classification-training-data\n",
    "\n",
    "---"
   ]
  },
  {
   "cell_type": "markdown",
   "metadata": {},
   "source": [
    "<div id=\"ds-objectives\" markdown=\"1\">\n",
    "\n",
    "This notebook demonstrates how to generate a training dataset consisting of tree species, family, and location from the NEON Terrestrial Observation System (TOS) Vegetation Structure data product <a href=\"https://data.neonscience.org/data-products/DP1.10098.001\" target=_blank>DP1.10098.001</a>. We will use data from the <a href=\"https://www.neonscience.org/field-sites/serc\" target=_blank>Smithsonian Environmental Research Center (SERC)</a> site in Maryland. In a subsequent tutorial titled <a href=\"https://www.neonscience.org/resources/learning-hub/tutorials/refl-classification-pyxarray\" target=_blank>Tree Classification with NEON Airborne Imaging Spectrometer Data using Python xarray</a>, we will use this training dataset to train a random forest machine learning model that predicts tree families from the hyperspectral signatures obtained from the airborne remote sensing data. These two tutorials outline a relatively simple modeling example, and represent a starting point for conducting machine learning analyses using NEON data!\n",
    "\n",
    "### Set Up Python Environment\n",
    "\n",
    "To run this notebook, you will need the following Python packages, which can be installed using `!pip install` or `!conda install` from within the notebook. Note that to use the `neonutilities` package, you will need Python version 3.9 or higher.\n",
    "\n",
    "- matplotlib\n",
    "- neonutilities\n",
    "- numpy\n",
    "- pandas\n",
    "- requests\n",
    "- seaborn\n",
    "\n",
    "### Create a NEON AOP Token\n",
    " - NEON API Token (optional, but strongly recommended), see [NEON API Tokens Tutorial](https://www.neonscience.org/resources/learning-hub/tutorials/neon-api-tokens-tutorial) for more details on how to create and set up your token in Python (and R). Once you create your token (on the [NEON User Accounts](https://www.neonscience.org/about/user-accounts)) page, this notebook will show you how to set it as an environment variable and use it for downloading AOP data.\n",
    "\n",
    "### Learning Objectives\n",
    "- Use the `neonutilities` `load_by_product` function to read in NEON vegetation structure data at a given site\n",
    "- Use the NEON locations API to determine the geographic position of the vegetation records in UTM x, y coordinates\n",
    "- Filter the datset to include only the latest data and columns of interest\n",
    "- Filter the data geospatially to keep data that are within a single AOP 1 km x 1 km tile\n",
    "\n",
    "**Disclaimer**: this notebook is intended to provide an example of how to create an initial training data set for pairing with remote sensing data, and to conduct some exploratory analysis of the vegetation structure data. This does not incorporate outlier detection and removal, or comprehensive pre-processing steps. As part of creating a machine learning model, it is important to assess the training data quality and look for outliers or other potential data quality issues which may impact model results. Refer to the <a href=\"https://www.neonscience.org/resources/learning-hub/tutorials/tree-heights-veg-structure-chm\" target=_blank>Compare tree height measured from the ground to a Lidar-based Canopy Height Model</a> lesson (the first additional resource above) for more details on how you would address geographic mismatch between the AOP and TOS data.\n",
    "\n",
    "### Additional Resources\n",
    "\n",
    "- The lesson <a href=\"https://www.neonscience.org/resources/learning-hub/tutorials/tree-heights-veg-structure-chm\" target=_blank>Compare tree height measured from the ground to a Lidar-based Canopy Height Model</a> is another example of linking ground to airborne data, and shows similar steps of pre-processing TOS woody vegetation data.\n",
    "\n",
    "- The paper <a href=\"https://journals.plos.org/plosbiology/article?id=10.1371/journal.pbio.3002700\" target=_blank>Individual canopy tree species maps for the National Ecological Observatory Network</a> outlines methods for large-scale classification using NEON data. The associated NEON Science Seminar <a href=\"https://www.neonscience.org/get-involved/events/science-seminar-harnessing-neon-enable-future-forest-remote-sensing\" target=_blank>Harnessing NEON to enable the future of forest remote sensing</a> may be a useful resource. This talk provides a high-level overview of modeling approaches for tree crown delineation and tree classification using NEON airborne remote sensing data. You can also watch the video below.\n",
    "\n",
    "<p align=\"center\"><iframe src=\"https://www.youtube.com/embed/Weru3hJbwTs\" title=\"Science Seminar: Harnessing NEON to enable the future of forest remote sensing\" frameborder=\"0\" allowfullscreen></iframe>\n",
    "\n",
    "- Refer to the <a href=\"https://data.neonscience.org/api/v0/documents/NEON_vegStructure_userGuide_vE?inline=true\" target=_blank>Vegetation Structure User Guide</a> for more details on this data product, and to better understand the data quality flags, the sampling.\n",
    "\n",
    "</div>"
   ]
  },
  {
   "cell_type": "markdown",
   "metadata": {},
   "source": [
    "## 1. Download and Explore Vegetation Structure Data (DP1.10098.001)\n",
    "\n",
    "In this first section we’ll load the vegetation structure data, find the locations of the mapped trees, and join to the species and family observations.\n",
    "\n",
    "Let's get started! First, import the required Python packages."
   ]
  },
  {
   "cell_type": "code",
   "execution_count": null,
   "metadata": {},
   "outputs": [],
   "source": [
    "import matplotlib.pyplot as plt\n",
    "import matplotlib.ticker as mticker\n",
    "import neonutilities as nu\n",
    "import numpy as np\n",
    "import pandas as pd\n",
    "import requests\n",
    "import seaborn as sns"
   ]
  },
  {
   "cell_type": "markdown",
   "metadata": {},
   "source": [
    "Set up your NEON token. See the setup instructions at the beginning of the tutorial on how to set up a NEON user account and create a token, if you have not already done so."
   ]
  },
  {
   "cell_type": "code",
   "execution_count": null,
   "metadata": {},
   "outputs": [],
   "source": [
    "# copy and paste your NEON token from your NEON user account page here\n",
    "my_token=\"\""
   ]
  },
  {
   "cell_type": "markdown",
   "metadata": {},
   "source": [
    "We can load the vegetation structure data using the `load_by_product` function in the `neonutilities` package (imported as `nu`). Inputs to the function can be shown by typing `help(load_by_product)`.\n",
    "  \r\n",
    "Refer tot e  <a href=\"https://www.neonscience.org/sites/default/files/cheat-sheet-neonUtilities.pdf\" target=_blank>R neonUtilities cheat sheet</a>  or teh <a href=\"https://neon-utilities-python.readthedocs.io/en/latest/\" target=_blank>Python neonutilities documentation</a  for more details and the complet elisx of possible function inputs. The cheat sheet is focused on the R package, but nearly all the inputs are the smae in Python neonutilitiese\n",
    "\n",
    "Note that in this example, we will pull in all the woody vegetation data (collected over all years), but if you are trying to mode ldata collected  in a single year, you can select just that year by specifying the `startdate` and `enddate`, or later filtering out the vegetation data by the` eventI`D We have set `check_size=False` since the data are not very large, but to check the size of what the data you are downloading first, you could omit this input, or set it to `True`."
   ]
  },
  {
   "cell_type": "code",
   "execution_count": null,
   "metadata": {},
   "outputs": [],
   "source": [
    "veg_dict = nu.load_by_product(dpid=\"DP1.10098.001\", \n",
    "                              site=\"SERC\", \n",
    "                              package=\"basic\", \n",
    "                              release=\"RELEASE-2025\",\n",
    "                              token=my_token,\n",
    "                              check_size=False)"
   ]
  },
  {
   "cell_type": "markdown",
   "metadata": {},
   "source": [
    "Get a list of the points"
   ]
  },
  {
   "cell_type": "code",
   "execution_count": null,
   "metadata": {},
   "outputs": [],
   "source": [
    "veg_map_all = veg_dict[\"vst_mappingandtagging\"]\n",
    "veg_map = veg_map_all.loc[veg_map_all[\"pointID\"] != \"\"]\n",
    "veg_map = veg_map.reindex()\n",
    "veg_map[\"points\"] = veg_map[\"namedLocation\"] + \".\" + veg_map[\"pointID\"]\n",
    "veg_points = list(set(list(veg_map[\"points\"])))"
   ]
  },
  {
   "cell_type": "markdown",
   "metadata": {},
   "source": [
    "Look at the unique `eventID`s. . All sampling at a site that occurs within a given bout is identified by a unique eventID, which represents the date of the bout."
   ]
  },
  {
   "cell_type": "code",
   "execution_count": null,
   "metadata": {},
   "outputs": [],
   "source": [
    "veg_map_all.eventID.unique()"
   ]
  },
  {
   "cell_type": "markdown",
   "metadata": {},
   "source": [
    "Get the number of records for each `eventID`:"
   ]
  },
  {
   "cell_type": "code",
   "execution_count": null,
   "metadata": {},
   "outputs": [],
   "source": [
    "# Group by 'eventID' and get the count\n",
    "eventID_counts = veg_map_all[['individualID','eventID']].groupby(['eventID']).count()\n",
    "print(\"\\nCounts of each eventID:\\n\", eventID_counts)"
   ]
  },
  {
   "cell_type": "markdown",
   "metadata": {},
   "source": [
    "It looks like most of the trees were mapped in 2015 and 2016, which was when the SERC plots were first established. You could look at data only from one year, and compare to AOP data from the same year, or if you are not too worried about matching measurements to remote sensing data collected in the same year, you could use all years. We'll do the latter in this example."
   ]
  },
  {
   "cell_type": "markdown",
   "metadata": {},
   "source": [
    "## 2. Determine the geographic location of the surveyed vegetation\n",
    "\n",
    "Loop through all of the points in `veg_points` to determine the easting and northing from the <a href=\"https://data.neonscience.org/data-api/endpoints/locations/\" target=_blank>NEON Locations API</a>."
   ]
  },
  {
   "cell_type": "code",
   "execution_count": null,
   "metadata": {},
   "outputs": [],
   "source": [
    "easting = []\n",
    "northing = []\n",
    "coord_uncertainty = []\n",
    "elev_uncertainty = []\n",
    "for i in veg_points:\n",
    "    vres = requests.get(\"https://data.neonscience.org/api/v0/locations/\"+i)\n",
    "    vres_json = vres.json()\n",
    "    easting.append(vres_json[\"data\"][\"locationUtmEasting\"])\n",
    "    northing.append(vres_json[\"data\"][\"locationUtmNorthing\"])\n",
    "    props = pd.DataFrame.from_dict(vres_json[\"data\"][\"locationProperties\"])\n",
    "    cu = props.loc[props[\"locationPropertyName\"]==\"Value for Coordinate uncertainty\"][\"locationPropertyValue\"]\n",
    "    coord_uncertainty.append(cu[cu.index[0]])\n",
    "    eu = props.loc[props[\"locationPropertyName\"]==\"Value for Elevation uncertainty\"][\"locationPropertyValue\"]\n",
    "    elev_uncertainty.append(eu[eu.index[0]])\n",
    "\n",
    "pt_dict = dict(points=veg_points, \n",
    "               easting=easting,\n",
    "               northing=northing,\n",
    "               coordinateUncertainty=coord_uncertainty,\n",
    "               elevationUncertainty=elev_uncertainty)\n",
    "\n",
    "pt_df = pd.DataFrame.from_dict(pt_dict)\n",
    "pt_df.set_index(\"points\", inplace=True)\n",
    "\n",
    "veg_map = veg_map.join(pt_df, \n",
    "                     on=\"points\", \n",
    "                     how=\"inner\")"
   ]
  },
  {
   "cell_type": "markdown",
   "metadata": {},
   "source": [
    "Next, use the `stemDistance` and `stemAzimuth` data to calculate the precise locations of individuals, relative to the reference locations.\n",
    "\n",
    "- $Easting = easting.pointID + stemDistance*sin(\\theta)$\n",
    "- $Northing = northing.pointID + stemDistance*cos(\\theta)$\n",
    "- $\\theta = stemAzimuth*\\pi/180$\n",
    "\n",
    "Also adjust the coordinate and elevation uncertainties."
   ]
  },
  {
   "cell_type": "code",
   "execution_count": null,
   "metadata": {},
   "outputs": [],
   "source": [
    "veg_map[\"adjEasting\"] = (veg_map[\"easting\"]\n",
    "                        + veg_map[\"stemDistance\"]\n",
    "                        * np.sin(veg_map[\"stemAzimuth\"]\n",
    "                                   * np.pi / 180))\n",
    "\n",
    "veg_map[\"adjNorthing\"] = (veg_map[\"northing\"]\n",
    "                        + veg_map[\"stemDistance\"]\n",
    "                        * np.cos(veg_map[\"stemAzimuth\"]\n",
    "                                   * np.pi / 180))\n",
    "\n",
    "veg_map[\"adjCoordinateUncertainty\"] = veg_map[\"coordinateUncertainty\"] + 0.6\n",
    "\n",
    "veg_map[\"adjElevationUncertainty\"] = veg_map[\"elevationUncertainty\"] + 1"
   ]
  },
  {
   "cell_type": "markdown",
   "metadata": {},
   "source": [
    "Look at the columns to see all the information contained in this dataset."
   ]
  },
  {
   "cell_type": "code",
   "execution_count": null,
   "metadata": {},
   "outputs": [],
   "source": [
    "# look at a subset of the columns that may be relevant\n",
    "veg_map[['date','individualID','scientificName','taxonID','family','plotID','pointID','adjEasting','adjNorthing']].head(5)"
   ]
  },
  {
   "cell_type": "code",
   "execution_count": null,
   "metadata": {},
   "outputs": [],
   "source": [
    "len(veg_map)"
   ]
  },
  {
   "cell_type": "markdown",
   "metadata": {},
   "source": [
    "## 3. Filter to trees within an AOP tile extent\n",
    "\n",
    "Now create a new dataframe containing only the veg data that are within a single AOP tile (which are 1 km x 1 km in size). For this, you will need to know the bounds (minimum and maximum UTM easting and northing) of the area you are sampling. For this exercise, we will choose the AOP data with SW (lower left) UTM coordinates of 364000, 4305000. This tile encompasses the NEON tower at the SERC site."
   ]
  },
  {
   "cell_type": "code",
   "execution_count": null,
   "metadata": {},
   "outputs": [],
   "source": [
    "veg_tower_tile = veg_map[(veg_map['adjEasting'].between(364000, 365000)) & (veg_map['adjNorthing'].between(4305000, 4306000))]"
   ]
  },
  {
   "cell_type": "markdown",
   "metadata": {},
   "source": [
    "How many records do we have within this tile?"
   ]
  },
  {
   "cell_type": "code",
   "execution_count": null,
   "metadata": {},
   "outputs": [],
   "source": [
    "len(veg_tower_tile)"
   ]
  },
  {
   "cell_type": "markdown",
   "metadata": {},
   "source": [
    "There are 211 unique vegetation records in this area. We can also look at the unique `taxonID`s that are represented."
   ]
  },
  {
   "cell_type": "code",
   "execution_count": null,
   "metadata": {},
   "outputs": [],
   "source": [
    "# look at the unique Taxon IDs\n",
    "veg_tower_tile.taxonID.unique()"
   ]
  },
  {
   "cell_type": "markdown",
   "metadata": {},
   "source": [
    "Let's keep only a subset of the columns that we are interested in, and look at the dataframe:"
   ]
  },
  {
   "cell_type": "code",
   "execution_count": null,
   "metadata": {},
   "outputs": [],
   "source": [
    "veg_tower_tile_short = veg_tower_tile[['date','individualID','scientificName','taxonID','family','adjEasting','adjNorthing']]\n",
    "veg_tower_tile_short.reset_index(drop=True, inplace=True)\n",
    "veg_tower_tile_short"
   ]
  },
  {
   "cell_type": "markdown",
   "metadata": {},
   "source": [
    "To get a better sense of the data, we can also look at the # of each species, to see if some species have more representation than others."
   ]
  },
  {
   "cell_type": "code",
   "execution_count": null,
   "metadata": {},
   "outputs": [],
   "source": [
    "# display the taxonID counts, sorted descending\n",
    "veg_tower_tile_taxon_counts = veg_tower_tile[['individualID','taxonID']].groupby(['taxonID']).count()\n",
    "veg_tower_tile_taxon_counts.sort_values(by='individualID',ascending=False)"
   ]
  },
  {
   "cell_type": "code",
   "execution_count": null,
   "metadata": {},
   "outputs": [],
   "source": [
    "# display the family counts, sorted descending\n",
    "veg_tower_tile_family_counts = veg_tower_tile[['individualID','family']].groupby(['family']).count()\n",
    "veg_tower_tile_family_counts.sort_values(by='individualID',ascending=False)"
   ]
  },
  {
   "cell_type": "markdown",
   "metadata": {},
   "source": [
    "It looks like there are a number of different species (and families) mapped in this tower plot. You can use the https://plants.usda.gov website to look up the species information. The top 5 most abundant mapped species are linked below.\n",
    "\n",
    "- [FAGR](https://plants.usda.gov/plant-profile/FAGR): American Beech (Fagus grandifolia Ehrh.)\n",
    "- [LITU](https://plants.usda.gov/plant-profile/LITU): Tuliptree (Liriodendron tulipifera L.)\n",
    "- [LIST2](https://plants.usda.gov/plant-profile/LIST2): Sweetgum (Liquidambar styraciflua L.)\n",
    "- [ACRU](https://plants.usda.gov/plant-profile/ACRU): Red Maple (Acer rubrum L.)\n",
    "- [CAGL8](https://plants.usda.gov/plant-profile/CAGL8): Sweet pignut hickory (Carya glabra (Mill.))\n",
    "\n",
    "When carrying out classification, the species that only have small representation (1-5 samples) may not be modeled accurately due to a lack of sufficient training data. The challenge of mapping rarer species due to insufficient training data is well known. In the next tutorial, we will remove these poorly represented samples before generating a model. \n",
    "\n",
    "## 4. Write training dataframe to csv file\n",
    "\n",
    "Nonetheless, we have a fairly decent training dataset to work with. We can save the dataframe to a csv file called `serc_training_data.csv` as follows:"
   ]
  },
  {
   "cell_type": "code",
   "execution_count": null,
   "metadata": {},
   "outputs": [],
   "source": [
    "veg_tower_tile_short.to_csv(r'./data/serc_training_data.csv',index=False)"
   ]
  },
  {
   "cell_type": "markdown",
   "metadata": {},
   "source": [
    "## 5. Plot tree families in map view\n",
    "\n",
    "Finally, we can make a quick plot using `seaborn` (imported as `sns`) to show the spatial distrubtion of the trees surveyed in this area, along with their species (`scientificName`). Most of this code helps improve the formatting and appearance of the figure; the first `sns.scatterplot` chunk is all you really need to do to plot the essentials."
   ]
  },
  {
   "cell_type": "code",
   "execution_count": null,
   "metadata": {
    "scrolled": true
   },
   "outputs": [],
   "source": [
    "ax = sns.scatterplot(\n",
    "    data=veg_tower_tile_short,\n",
    "    x='adjEasting',\n",
    "    y='adjNorthing',\n",
    "    hue='family',\n",
    ")\n",
    "\n",
    "# Make the x and y dimensions are equal\n",
    "ax.set_aspect('equal', adjustable='box')\n",
    "\n",
    "# Remove scientific notation on the x and y axes labels\n",
    "ax.xaxis.set_major_formatter(mticker.FuncFormatter(lambda x, _: f'{x:.0f}'))\n",
    "ax.yaxis.set_major_formatter(mticker.FuncFormatter(lambda y, _: f'{y:.0f}'))\n",
    "\n",
    "# Place the legend outside the plot at the center right\n",
    "plt.legend(loc='center left', bbox_to_anchor=(1.05, 0.5))\n",
    "\n",
    "# Adjust layout to prevent legend overlap\n",
    "plt.tight_layout()\n",
    "\n",
    "# Add title and axis labels\n",
    "ax.set_title(\"SERC Tree Families\", fontsize=14)\n",
    "ax.set_xlabel(\"Easting (m)\", fontsize=12)\n",
    "ax.set_ylabel(\"Northing (m)\", fontsize=12)\n",
    "plt.yticks(fontsize=8)  \n",
    "plt.xticks(fontsize=8)  \n",
    "\n",
    "plt.show()"
   ]
  },
  {
   "cell_type": "markdown",
   "metadata": {},
   "source": [
    "Great! We can see all the trees that were surveyed in this AOP tile. The trees are sampled in discrete plots. For more information about the TOS sampling design, please refer to the <a href=\"https://data.neonscience.org/data-products/DP1.10098.001\" target=_blank>Vegetation structure</a> data product page.\n",
    "\n",
    "## Recap\n",
    "\n",
    "In this lesson, we have created a training data set containing information about the tree family and species as well as their geographic locations in UTM x, y coordinates. We can now pair this training data set with the remote sensing data and create a model to predict the tree's family based off airborne spectral data. The next tutorial, <a href=\"https://www.neonscience.org/resources/learning-hub/tutorials/refl-classification-pyxarray\" target=_blank>Tree Classification with NEON Airborne Imaging Spectrometer Data using Python xarray</a>, will show how to do this!\n",
    "\n",
    "**Note:** you may wish to create a training dataframe that contains additional information about the trees. For example, you can also include parameters like the growth form (e.g. whether the vegetation is a shrub, single-bole or multi-bole tree, etc.), the plant status (whether the tree is healthy or standing dead), and measurements such as the stem diameter and tree height. To do this, you would need to join the `vst_mappingandtagging` table with the `vst_apparentindividual` tables. Refer to the <a href=\"https://data.neonscience.org/api/v0/documents/quick-start-guides/NEON.QSG.DP1.00001.001v2?inline=TRUE\" target=_blank>Quick Start Guide for Vegetation Structure</a> for more information about the data tables and the joining instructions. You can also refer to the lesson <a href=\"https://www.neonscience.org/resources/learning-hub/tutorials/tree-heights-veg-structure-chm\" target=_blank>Compare tree height measured from the ground to a Lidar-based Canopy Height Model</a> which provides an example of how to do this and compare the TOS measured data with the AOP Lidar-derived Canopy Height Model (Ecosystem Structure) data product."
   ]
  }
 ],
 "metadata": {
  "kernelspec": {
   "display_name": "Python 3 (ipykernel)",
   "language": "python",
   "name": "python3"
  },
  "language_info": {
   "codemirror_mode": {
    "name": "ipython",
    "version": 3
   },
   "file_extension": ".py",
   "mimetype": "text/x-python",
   "name": "python",
   "nbconvert_exporter": "python",
   "pygments_lexer": "ipython3",
   "version": "3.10.14"
  }
 },
 "nbformat": 4,
 "nbformat_minor": 4
}
