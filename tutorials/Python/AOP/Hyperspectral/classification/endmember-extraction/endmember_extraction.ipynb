{
 "cells": [
  {
   "cell_type": "markdown",
   "metadata": {},
   "source": [
    "---\n",
    "syncID: a9ef8a3acfb841e2b77b1f6360e22648\n",
    "title: \"Unsupervised Spectral Classification in Python: Endmember Extraction\"\n",
    "description: \"Learn to classify spectral data using Endmember Extraction, Spectral Information Divergence, and Spectral Angle Mapping.\"\n",
    "dateCreated: 2018-07-10 \n",
    "authors: Bridget Hass\n",
    "contributors: Donal O'Leary\n",
    "estimatedTime: 1 hour\n",
    "packagesLibraries: numpy, gdal, matplotlib, matplotlib.pyplot\n",
    "topics: hyperspectral-remote-sensing, HDF5, remote-sensing\n",
    "languagesTool: python\n",
    "dataProduct: NEON.DP1.30006, NEON.DP3.30006, NEON.DP1.30008\n",
    "code1: https://raw.githubusercontent.com/NEONScience/NEON-Data-Skills/main/tutorials/Python/Hyperspectral/hyperspectral-classification/classification_endmember_extraction_py/classification_endmember_extraction_py.ipynb\n",
    "tutorialSeries: intro-hsi-py-series\n",
    "urlTitle: classification-endmember-python\n",
    "---"
   ]
  },
  {
   "cell_type": "markdown",
   "metadata": {},
   "source": [
    "This tutorial runs through an example of spectral unmixing to carry out unsupervised classification of a SERC hyperspectral data file using the <a href=\"https://pysptools.sourceforge.io/index.html\" target=\"_blank\">PySpTools package</a> to carry out **endmember extraction**, plot **abundance maps** of the spectral endmembers, and use **Spectral Angle Mapping** and **Spectral Information Divergence** to classify the SERC tile. \n",
    "\n",
    "<div id=\"ds-objectives\" markdown=\"1\">\n",
    "\n",
    "### Objectives\n",
    "After completing this tutorial, you will be able to:\n",
    "\n",
    "* Classify spectral remote sensing data. \n",
    "\n",
    "### Install Python Packages\n",
    "\n",
    "* **numpy**\n",
    "* **gdal** \n",
    "* **matplotlib** \n",
    "* **matplotlib.pyplot** \n",
    "\n",
    "\n",
    "### Download Data\n",
    "\n",
    "This tutorial uses a 1km AOP Hyperspectral Reflectance 'tile' from the SERC site. <a href=\"https://ndownloader.figshare.com/files/25752665\">\n",
    "Download the spectral classification teaching data subset here</a>.\n",
    "\n",
    "<a href=\"https://ndownloader.figshare.com/files/25752665\" class=\"link--button link--arrow\">\n",
    "Download Dataset</a>\n",
    "\n",
    "</div>"
   ]
  },
  {
   "cell_type": "markdown",
   "metadata": {},
   "source": [
    "This tutorial runs through an example of spectral unmixing to carry out unsupervised classification of a SERC hyperspectral data file using the <a href=\"https://pysptools.sourceforge.io/index.html\" target=\"_blank\">PySpTools package</a> to carry out **endmember extraction**, plot **abundance maps** of the spectral endmembers, and use **Spectral Angle Mapping** and **Spectral Information Divergence** to classify the SERC tile.  \n",
    "\n",
    "Since spectral data is so large in size, it is often useful to remove any unncessary or redundant data in order to save computational time. In this example, we will remove the water vapor bands, but you can also take a subset of bands, depending on your research application. \n",
    "\n",
    "## Set up\n",
    "\n",
    "To run this notebook, the following Python packages need to be installed. \n",
    "\n",
    "You can install required packages from command line `pip install pysptools scikit-learn cvxopt`.\n",
    "\n",
    "or if already in a Jupyter Notebook:  \n",
    "\n",
    "1. PySpTools: Download <a href=\"https://pypi.python.org/pypi/pysptools\" target=\"_blank\">pysptools-0.14.2.tar.gz</a>.\n",
    "2. Run the following code in a Notebook code cell. "
   ]
  },
  {
   "cell_type": "code",
   "execution_count": null,
   "metadata": {},
   "outputs": [],
   "source": [
    "import sys\n",
    "# You will need to download the package using the link above \n",
    "# and re-point the filepath to the tar.gz file below\n",
    "!{sys.executable} -m pip install \"/Users/olearyd/Downloads/pysptools-0.15.0.tar.gz\"\n",
    "!conda install --yes --prefix {sys.prefix} scikit-learn\n",
    "!conda install --yes --prefix {sys.prefix} cvxopt"
   ]
  },
  {
   "cell_type": "markdown",
   "metadata": {},
   "source": [
    "We will also use the following user-defined functions: \n",
    "\n",
    "* **`read_neon_reflh5`**: function to read in NEON AOP Hyperspectral Data file (in hdf5 format)\n",
    "* **`clean_neon_refl_data`**: function to clean NEON hyperspectral data, including applying the data ignore value and reflectance scale factor, and removing water vapor bands\n",
    "* **`plot_aop_refl`**: function to plot a band of NEON hyperspectral data for reference\n",
    "\n",
    "Once PySpTools is installed, import the following packages. "
   ]
  },
  {
   "cell_type": "code",
   "execution_count": null,
   "metadata": {},
   "outputs": [],
   "source": [
    "import h5py, os, copy\n",
    "import matplotlib.pyplot as plt\n",
    "import numpy as np\n",
    "import pysptools.util as util\n",
    "import pysptools.eea as eea #endmembers extraction algorithms\n",
    "import pysptools.abundance_maps as amap\n",
    "import pysptools.classification as cls\n",
    "import pysptools.material_count as cnt\n",
    "\n",
    "%matplotlib inline\n",
    "\n",
    "#for clean output, to not print warnings, don't use when developing script\n",
    "import warnings\n",
    "warnings.filterwarnings('ignore')"
   ]
  },
  {
   "cell_type": "markdown",
   "metadata": {},
   "source": [
    "Define the function `read_neon_reflh5` to read in the h5 file, without cleaning it (applying the no-data value and scale factor); we will do that with a separate function that also removes the water vapor bad band windows. "
   ]
  },
  {
   "cell_type": "code",
   "execution_count": null,
   "metadata": {},
   "outputs": [],
   "source": [
    "def read_neon_reflh5(refl_filename):\n",
    "    \"\"\"read in a NEON AOP reflectance hdf5 file and returns \n",
    "    reflectance array, and metadata dictionary containing metadata \n",
    "    (similar to envi header format)\n",
    "    --------\n",
    "    Parameters\n",
    "        refl_filename -- full or relative path and name of reflectance hdf5 file\n",
    "    --------\n",
    "    Returns \n",
    "    --------\n",
    "    reflArray:\n",
    "        array of reflectance values\n",
    "    metadata:\n",
    "        dictionary containing the following metadata (all strings):\n",
    "            bad_band_window1: min and max wavelenths of first water vapor window (tuple)\n",
    "            bad_band_window2: min and max wavelenths of second water vapor window (tuple)\n",
    "            bands: # of bands (float)\n",
    "            coordinate system string: coordinate system information (string)\n",
    "            data ignore value: value corresponding to no data (float)\n",
    "            interleave: 'BSQ' (string)\n",
    "            reflectance scale factor: factor by which reflectance is scaled (float)\n",
    "            wavelength: wavelength values (float)\n",
    "            wavelength unit: 'm' (string)\n",
    "            spatial extent: extent of tile [xMin, xMax, yMin, yMax], UTM meters\n",
    "    --------\n",
    "    Example Execution:\n",
    "    --------\n",
    "    sercRefl, sercMetadata = h5refl2array('NEON_D02_SERC_DP1_20160807_160559_reflectance.h5') \"\"\"\n",
    "    \n",
    "    #Read in reflectance hdf5 file \n",
    "    hdf5_file = h5py.File(refl_filename,'r')\n",
    "\n",
    "    #Get the site name\n",
    "    file_attrs_string = str(list(hdf5_file.items()))\n",
    "    file_attrs_string_split = file_attrs_string.split(\"'\")\n",
    "    sitename = file_attrs_string_split[1]\n",
    "    \n",
    "    #Extract the reflectance & wavelength datasets\n",
    "    refl = hdf5_file[sitename]['Reflectance']\n",
    "    reflData = refl['Reflectance_Data']\n",
    "    reflArray = refl['Reflectance_Data'].value\n",
    "    \n",
    "    #Create dictionary containing relevant metadata information\n",
    "    metadata = {}\n",
    "    metadata['map info'] = refl['Metadata']['Coordinate_System']['Map_Info'].value\n",
    "    metadata['wavelength'] = refl['Metadata']['Spectral_Data']['Wavelength'].value\n",
    "\n",
    "    #Extract no data value & set no data value to NaN\n",
    "    metadata['data ignore value'] = float(reflData.attrs['Data_Ignore_Value'])\n",
    "    metadata['reflectance scale factor'] = float(reflData.attrs['Scale_Factor'])\n",
    "    metadata['interleave'] = reflData.attrs['Interleave']\n",
    "    \n",
    "    #Extract spatial extent from attributes\n",
    "    metadata['spatial extent'] = reflData.attrs['Spatial_Extent_meters']\n",
    "    \n",
    "    #Extract bad band windows\n",
    "    metadata['bad_band_window1'] = (refl.attrs['Band_Window_1_Nanometers'])\n",
    "    metadata['bad_band_window2'] = (refl.attrs['Band_Window_2_Nanometers'])\n",
    "    \n",
    "    #Extract projection information\n",
    "    metadata['projection'] = refl['Metadata']['Coordinate_System']['Proj4'].value\n",
    "    metadata['epsg'] = int(refl['Metadata']['Coordinate_System']['EPSG Code'].value)\n",
    "    \n",
    "    #Extract map information: spatial extent & resolution (pixel size)\n",
    "    mapInfo = refl['Metadata']['Coordinate_System']['Map_Info'].value\n",
    "    \n",
    "    hdf5_file.close        \n",
    "    \n",
    "    return reflArray, metadata\n"
   ]
  },
  {
   "cell_type": "markdown",
   "metadata": {},
   "source": [
    "Now that the function is defined, we can call it to read in the sample reflectance file. Note that if your data is stored in a different location, you'll have to change the relative path, or include the absolute path. "
   ]
  },
  {
   "cell_type": "code",
   "execution_count": null,
   "metadata": {},
   "outputs": [],
   "source": [
    "# You will need to download the example dataset using the link above, \n",
    "# then update the filepath below to fit your local file structure\n",
    "h5refl_filename = '/Users/olearyd/Git/data/NEON_D02_SERC_DP3_368000_4306000_reflectance.h5'\n",
    "data,metadata = read_neon_reflh5(h5refl_filename)"
   ]
  },
  {
   "cell_type": "markdown",
   "metadata": {},
   "source": [
    "Let's take a quick look at the data contained in the `metadata` dictionary with a `for loop`:"
   ]
  },
  {
   "cell_type": "code",
   "execution_count": null,
   "metadata": {},
   "outputs": [],
   "source": [
    "for key in sorted(metadata.keys()):\n",
    "  print(key)"
   ]
  },
  {
   "cell_type": "markdown",
   "metadata": {},
   "source": [
    "    bad_band_window1\n",
    "    bad_band_window2\n",
    "    data ignore value\n",
    "    epsg\n",
    "    interleave\n",
    "    map info\n",
    "    projection\n",
    "    reflectance scale factor\n",
    "    spatial extent\n",
    "    wavelength\n",
    "\n",
    "\n",
    "Now we can define a function that cleans the reflectance cube. Note that this also removes the water vapor bands, stored in the metadata as `bad_band_window1` and `bad_band_window2`, as well as the last 10 bands, which tend to be noisy. It is important to remove these values before doing classification or other analysis."
   ]
  },
  {
   "cell_type": "code",
   "execution_count": null,
   "metadata": {},
   "outputs": [],
   "source": [
    "def clean_neon_refl_data(data,metadata):\n",
    "    \"\"\"Clean h5 reflectance data and metadata\n",
    "    1. set data ignore value (-9999) to NaN\n",
    "    2. apply reflectance scale factor (10000)\n",
    "    3. remove bad bands (water vapor band windows + last 10 bands): \n",
    "        Band_Window_1_Nanometers = 1340,1445\n",
    "        Band_Window_2_Nanometers = 1790,1955\n",
    "    \"\"\"\n",
    "    \n",
    "    # use copy so original data and metadata doesn't change\n",
    "    data_clean = data.copy().astype(float)\n",
    "    metadata_clean = metadata.copy()\n",
    "    \n",
    "    #set data ignore value (-9999) to NaN:\n",
    "    if metadata['data ignore value'] in data:\n",
    "        nodata_ind = np.where(data_clean==metadata['data ignore value'])\n",
    "        data_clean[nodata_ind]=np.nan \n",
    "    \n",
    "    #apply reflectance scale factor (divide by 10000)\n",
    "    data_clean = data_clean/metadata['reflectance scale factor']\n",
    "    \n",
    "    #remove bad bands \n",
    "    #1. define indices corresponding to min/max center wavelength for each bad band window:\n",
    "    bb1_ind0 = np.max(np.where((np.asarray(metadata['wavelength'])<float(metadata['bad_band_window1'][0]))))\n",
    "    bb1_ind1 = np.min(np.where((np.asarray(metadata['wavelength'])>float(metadata['bad_band_window1'][1]))))\n",
    "\n",
    "    bb2_ind0 = np.max(np.where((np.asarray(metadata['wavelength'])<float(metadata['bad_band_window2'][0]))))\n",
    "    bb2_ind1 = np.min(np.where((np.asarray(metadata['wavelength'])>float(metadata['bad_band_window2'][1]))))\n",
    "\n",
    "    bb3_ind0 = len(metadata['wavelength'])-10\n",
    "    \n",
    "    #define valid band ranges from indices:\n",
    "    vb1 = list(range(0,bb1_ind0)); \n",
    "    vb2 = list(range(bb1_ind1,bb2_ind0))\n",
    "    vb3 = list(range(bb2_ind1,bb3_ind0))\n",
    "    \n",
    "    valid_band_range = [i for j in (range(0,bb1_ind0),\n",
    "                                    range(bb1_ind1,bb2_ind0),\n",
    "                                    range(bb2_ind1,bb3_ind0)) for i in j]\n",
    "    \n",
    "    data_clean = data_clean[:,:,vb1+vb2+vb3]\n",
    "    \n",
    "    metadata_clean['wavelength'] = [metadata['wavelength'][i] for i in valid_band_range]\n",
    "    \n",
    "    return data_clean, metadata_clean\n"
   ]
  },
  {
   "cell_type": "markdown",
   "metadata": {},
   "source": [
    "Now, use this function to pre-process the data:"
   ]
  },
  {
   "cell_type": "code",
   "execution_count": null,
   "metadata": {},
   "outputs": [],
   "source": [
    "data_clean,metadata_clean = clean_neon_refl_data(data,metadata)"
   ]
  },
  {
   "cell_type": "markdown",
   "metadata": {},
   "source": [
    "Let's see the dimensions of the data before and after cleaning:"
   ]
  },
  {
   "cell_type": "code",
   "execution_count": null,
   "metadata": {},
   "outputs": [],
   "source": [
    "print('Raw Data Dimensions:',data.shape)\n",
    "print('Cleaned Data Dimensions:',data_clean.shape)"
   ]
  },
  {
   "cell_type": "markdown",
   "metadata": {},
   "source": [
    "    Raw Data Dimensions: (1000, 1000, 426)\n",
    "    Cleaned Data Dimensions: (1000, 1000, 360)\n",
    "\n",
    "\n",
    "Note that we have retained 360 of the 426 bands. This still contains plenty of information, in your processing, you may wish to subset even further. Let's take a look at a histogram of the cleaned data:"
   ]
  },
  {
   "cell_type": "code",
   "execution_count": null,
   "metadata": {},
   "outputs": [],
   "source": [
    "plt.hist(data_clean[~np.isnan(data_clean)],50);"
   ]
  },
  {
   "cell_type": "markdown",
   "metadata": {},
   "source": [
    "![ ](https://raw.githubusercontent.com/NEONScience/NEON-Data-Skills/main/graphics/py-figs/classification_endmember_extraction_py/output_17_0.png)\n",
    "\n",
    "Lastly, let's take a look at the data using the function `plot_aop_refl` function:"
   ]
  },
  {
   "cell_type": "code",
   "execution_count": null,
   "metadata": {},
   "outputs": [],
   "source": [
    "def plot_aop_refl(band_array,\n",
    "                  refl_extent,\n",
    "                  colorlimit=(0,1),\n",
    "                  ax=plt.gca(),\n",
    "                  title='',\n",
    "                  cbar ='on',\n",
    "                  cmap_title='',\n",
    "                  colormap='Greys'):  \n",
    "    plot = plt.imshow(band_array,extent=refl_extent,clim=colorlimit); \n",
    "    if cbar == 'on':\n",
    "        cbar = plt.colorbar(plot,aspect=40); plt.set_cmap(colormap); \n",
    "        cbar.set_label(cmap_title,rotation=90,labelpad=20);\n",
    "    plt.title(title); ax = plt.gca(); \n",
    "    ax.ticklabel_format(useOffset=False, style='plain'); \n",
    "    rotatexlabels = plt.setp(ax.get_xticklabels(),rotation=90); "
   ]
  },
  {
   "cell_type": "code",
   "execution_count": null,
   "metadata": {},
   "outputs": [],
   "source": [
    "plot_aop_refl(data_clean[:,:,0],\n",
    "              metadata_clean['spatial extent'],\n",
    "              (0,0.2))"
   ]
  },
  {
   "cell_type": "markdown",
   "metadata": {},
   "source": [
    "![ ](https://raw.githubusercontent.com/NEONScience/NEON-Data-Skills/main/graphics/py-figs/classification_endmember_extraction_py/output_20_0.png)\n",
    "\n",
    "\n",
    "## Unsupervised Classification with Spectral Unmixing: \n",
    "### Endmember Extraction and Abundance Mapping\n",
    "\n",
    "**Spectral Unmixing** allows pixels to be composed of fractions or abundances of each class.**Spectral Endmembers** can be thought of as the basis spectra of an image. Once these endmember spectra are determined, the image cube can be 'unmixed' into the fractional abundance of each material in each pixel (Winter, 1999).\n",
    "\n",
    "**Spectral Angle Mapper (SAM):** is a physically-based spectral classification that uses an n-D angle to match pixels to reference spectra. The algorithm determines the spectral similarity between two spectra by calculating the angle between the spectra and treating them as vectors in a space with dimensionality equal to the number of bands. This technique, when used on calibrated reflectance data, is relatively insensitive to illumination and albedo effects. Endmember spectra used by SAM in this example are extracted from the NFINDR algorithm. SAM compares the angle between the endmember spectrum vector and each pixel vector in n-D space. Smaller angles represent closer matches to the reference spectrum. Pixels further away than the specified maximum angle threshold in radians are not classified.\n",
    "\n",
    "Read more on Spectral Angle Mapper from \n",
    "<a href=\"http://www.harrisgeospatial.com/docs/SpectralAngleMapper.html\" target=\"_blank\">Harris Geospatial</a>. \n",
    "\n",
    "**Spectral Information Divergence (SID):** is a spectral classification method that uses a divergence measure to match pixels to reference spectra. The smaller the divergence, the more likely the pixels are similar. Pixels with a measurement greater than the specified maximum divergence threshold are not classified. Endmember spectra used by SID in this example are extracted from the NFINDR endmembor extraction algorithm.\n",
    "\n",
    "Read more on Spectral Information Divergence from \n",
    "<a href=\"http://www.harrisgeospatial.com/docs/SpectralInformationDivergence.html\" target=\"_blank\">Harris Geospatial</a>. \n",
    "\n",
    "First we need to define the endmember extraction algorithm, and use the `extract` method to extract the endmembers from our data cube. You have to specify the # of endmembers you want to find, and can optionally specify a maximum number of iterations (by default it will use 3p, where p is the 3rd dimension of the HSI cube (m x n x p). For this example, we will specify a small # of iterations in the interest of time. "
   ]
  },
  {
   "cell_type": "code",
   "execution_count": null,
   "metadata": {},
   "outputs": [],
   "source": [
    "#eea = data_clean\n",
    "ee = eea.NFINDR()\n",
    "U = ee.extract(data_clean,4,maxit=5,\n",
    "               normalize=False,ATGP_init=True)"
   ]
  },
  {
   "cell_type": "markdown",
   "metadata": {},
   "source": [
    "In order to display these endmember spectra, we need to define the endmember axes `dictionary`. Specifically we want to show the wavelength values on the x-axis. The `metadata['wavelength']` is a `list`, but the ee_axes requires a `float` data type, so we have to cast it to the right data type. "
   ]
  },
  {
   "cell_type": "code",
   "execution_count": null,
   "metadata": {},
   "outputs": [],
   "source": [
    "type(metadata_clean['wavelength'])"
   ]
  },
  {
   "cell_type": "markdown",
   "metadata": {},
   "source": [
    "    list"
   ]
  },
  {
   "cell_type": "code",
   "execution_count": null,
   "metadata": {},
   "outputs": [],
   "source": [
    "ee_axes = {} # set ee_axes data type to dictionary\n",
    "# cast wavelength values to float to apply to ee_axes for display purposes\n",
    "ee_axes['wavelength'] = [float(i) for i in metadata_clean['wavelength']]\n",
    "ee_axes['x']='Wavelength, nm' #x axis label\n",
    "ee_axes['y']='Reflectance' #y axis label "
   ]
  },
  {
   "cell_type": "markdown",
   "metadata": {},
   "source": [
    "Now that the axes are defined, we can display the spectral endmembers with `ee.display`:"
   ]
  },
  {
   "cell_type": "code",
   "execution_count": null,
   "metadata": {},
   "outputs": [],
   "source": [
    "ee.display(axes=ee_axes,suffix='SERC')"
   ]
  },
  {
   "cell_type": "markdown",
   "metadata": {},
   "source": [
    "![ ](https://raw.githubusercontent.com/NEONScience/NEON-Data-Skills/main/graphics/py-figs/classification_endmember_extraction_py/output_28_0.png)\n",
    "\n",
    "\n",
    "Now that we have extracted the spectral endmembers, we can take a look at the abundance maps for each member. These show the fractional components of each of the endmembers. "
   ]
  },
  {
   "cell_type": "code",
   "execution_count": null,
   "metadata": {},
   "outputs": [],
   "source": [
    "am = amap.FCLS() #define am object using the amap \n",
    "amaps = am.map(data_clean,U,normalize=False) #create abundance maps for the HSI cubems"
   ]
  },
  {
   "cell_type": "markdown",
   "metadata": {},
   "source": [
    "Use `am.display` to plot these abundance maps:"
   ]
  },
  {
   "cell_type": "code",
   "execution_count": null,
   "metadata": {},
   "outputs": [],
   "source": [
    "am.display(colorMap='jet',columns=4,suffix='SERC')"
   ]
  },
  {
   "cell_type": "markdown",
   "metadata": {},
   "source": [
    "![ ](https://raw.githubusercontent.com/NEONScience/NEON-Data-Skills/main/graphics/py-figs/classification_endmember_extraction_py/output_32_0.png)\n",
    "\n",
    "\n",
    "![ ](https://raw.githubusercontent.com/NEONScience/NEON-Data-Skills/main/graphics/py-figs/classification_endmember_extraction_py/output_32_1.png)\n",
    "\n",
    "\n",
    "![ ](https://raw.githubusercontent.com/NEONScience/NEON-Data-Skills/main/graphics/py-figs/classification_endmember_extraction_py/output_32_2.png)\n",
    "\n",
    "\n",
    "![ ](https://raw.githubusercontent.com/NEONScience/NEON-Data-Skills/main/graphics/py-figs/classification_endmember_extraction_py/output_32_3.png)\n",
    "\n",
    "\n",
    "    <Figure size 432x288 with 0 Axes>\n",
    "\n",
    "\n",
    "Print mean values of each abundance map to better estimate thresholds to use in the classification routines. "
   ]
  },
  {
   "cell_type": "code",
   "execution_count": null,
   "metadata": {},
   "outputs": [],
   "source": [
    "print('Abundance Map Mean Values:')\n",
    "print('EM1:',np.mean(amaps[:,:,0]))\n",
    "print('EM2:',np.mean(amaps[:,:,1]))\n",
    "print('EM3:',np.mean(amaps[:,:,2]))\n",
    "print('EM4:',np.mean(amaps[:,:,3]))"
   ]
  },
  {
   "cell_type": "markdown",
   "metadata": {},
   "source": [
    "    Abundance Map Mean Values:\n",
    "    EM1: 0.59177357\n",
    "    EM2: 0.00089541974\n",
    "    EM3: 0.3809638\n",
    "    EM4: 0.026367119\n",
    "\n",
    "\n",
    "You can also look at histogram of each abundance map:"
   ]
  },
  {
   "cell_type": "code",
   "execution_count": null,
   "metadata": {},
   "outputs": [],
   "source": [
    "import matplotlib.pyplot as plt\n",
    "fig = plt.figure(figsize=(18,8))\n",
    "\n",
    "ax1 = fig.add_subplot(2,4,1); plt.title('EM1')\n",
    "amap1_hist = plt.hist(np.ndarray.flatten(amaps[:,:,0]),bins=50,range=[0,1.0]) \n",
    "\n",
    "ax2 = fig.add_subplot(2,4,2); plt.title('EM2')\n",
    "amap1_hist = plt.hist(np.ndarray.flatten(amaps[:,:,1]),bins=50,range=[0,0.001]) \n",
    "\n",
    "ax3 = fig.add_subplot(2,4,3); plt.title('EM3')\n",
    "amap1_hist = plt.hist(np.ndarray.flatten(amaps[:,:,2]),bins=50,range=[0,0.5]) \n",
    "\n",
    "ax4 = fig.add_subplot(2,4,4); plt.title('EM4')\n",
    "amap1_hist = plt.hist(np.ndarray.flatten(amaps[:,:,3]),bins=50,range=[0,0.05]) "
   ]
  },
  {
   "cell_type": "markdown",
   "metadata": {},
   "source": [
    "![ ](https://raw.githubusercontent.com/NEONScience/NEON-Data-Skills/main/graphics/py-figs/classification_endmember_extraction_py/output_36_0.png)\n",
    "\n",
    "\n",
    "Below we define a function to compute and display Spectral Information Diverngence (SID):"
   ]
  },
  {
   "cell_type": "code",
   "execution_count": null,
   "metadata": {},
   "outputs": [],
   "source": [
    "def SID(data,E,thrs=None):\n",
    "    sid = cls.SID()\n",
    "    cmap = sid.classify(data,E,threshold=thrs)\n",
    "    sid.display(colorMap='tab20b',suffix='SERC')"
   ]
  },
  {
   "cell_type": "markdown",
   "metadata": {},
   "source": [
    "Now we can call this function using the three endmembers (classes) that contain the most information: "
   ]
  },
  {
   "cell_type": "code",
   "execution_count": null,
   "metadata": {},
   "outputs": [],
   "source": [
    "U2 = U[[0,2,3],:]\n",
    "SID(data_clean, U2, [0.8,0.3,0.03])"
   ]
  },
  {
   "cell_type": "markdown",
   "metadata": {},
   "source": [
    "![ ](https://raw.githubusercontent.com/NEONScience/NEON-Data-Skills/main/graphics/py-figs/classification_endmember_extraction_py/output_40_0.png)\n",
    "\n",
    "\n",
    "From this map we can see that SID did a pretty good job of identifying the water (dark blue), roads/buildings (orange), and vegetation (blue). We can compare it to the <a href=\"https://viewer.nationalmap.gov/\" target=\"_blank\">USA Topo Base map</a>.\n",
    "\n",
    " <figure>\n",
    "\t<a href=\"https://raw.githubusercontent.com/NEONScience/NEON-Data-Skills/main/graphics/hyperspectral-general/SERC_368000_4307000_UStopo.png\">\n",
    "\t<img src=\"https://raw.githubusercontent.com/NEONScience/NEON-Data-Skills/main/graphics/hyperspectral-general/SERC_368000_4307000_UStopo.png\" width=\"300\" height=\"300\"></a>\n",
    "\t<figcaption> The NEON SJER field site. Source: National Ecological Observatory Network (NEON) \n",
    "\t</figcaption>\n",
    "</figure>\n",
    "\n",
    "## Challenges\n",
    "\n",
    "1. On your own, try the Spectral Angle Mapper. If you aren't sure where to start, refer to \n",
    "<a href=\"https://pysptools.sourceforge.io/classification.html#spectral-angle-mapper-sam\" target=\"_blank\">PySpTools SAM documentation</a> \n",
    "and the \n",
    "<a href=\"https://pysptools.sourceforge.io/examples_front.html#examples-using-the-ipython-notebook\" target=\"_blank\">Pine Creek example 1</a>. \n",
    "\n",
    "**Hint**: use the SAM function below, and refer to the SID syntax used above. "
   ]
  },
  {
   "cell_type": "code",
   "execution_count": null,
   "metadata": {},
   "outputs": [],
   "source": [
    "def SAM(data,E,thrs=None):\n",
    "    sam = cls.SAM()\n",
    "    cmap = sam.classify(data,E,threshold=thrs)\n",
    "    sam.display(colorMap='Paired')"
   ]
  },
  {
   "cell_type": "markdown",
   "metadata": {},
   "source": [
    "2. Experiment with different settings with SID and SAM (e.g., adjust the # of endmembers, thresholds, etc.) \n",
    "\n",
    "3. Determine which algorithm (SID, SAM) you think does a better job classifying the SERC data tile. Synthesize your results in a markdown cell. \n",
    "\n",
    "4. Take a subset of the bands before running endmember extraction. How different is the classification if you use only half the data points? How much faster does the algorithm run? When running analysis on large data sets, it is useful to \n",
    "\n",
    "**Hints**: \n",
    "\n",
    "* To extract every 10th element from the array `A`, use `A[0::10]`\n",
    "* Import the package `time` to track the amount of time it takes to run a script. "
   ]
  },
  {
   "cell_type": "code",
   "execution_count": null,
   "metadata": {},
   "outputs": [],
   "source": [
    "#start_time = time.time()\n",
    "# code\n",
    "#elapsed_time = time.time() - start_time"
   ]
  },
  {
   "cell_type": "markdown",
   "metadata": {},
   "source": [
    "## What Next?\n",
    "\n",
    "`PySpTools` has an alpha interface with the Python machine learning package `scikit-learn`. To apply more advanced machine learning techniques, you may wish to explore some of these algorithms.  \n",
    "\n",
    "* <a href=\"https://pysptools.sourceforge.io/skl.html\" target=\"_blank\">Scikit-learn documentation on SourceForge</a>.\n",
    "* <a href=\"http://scikit-learn.org/stable/\" target=\"_blank\">Scikit-learn website</a>."
   ]
  }
 ],
 "metadata": {
  "kernelspec": {
   "display_name": "Python 3",
   "language": "python",
   "name": "python3"
  },
  "language_info": {
   "codemirror_mode": {
    "name": "ipython",
    "version": 3
   },
   "file_extension": ".py",
   "mimetype": "text/x-python",
   "name": "python",
   "nbconvert_exporter": "python",
   "pygments_lexer": "ipython3",
   "version": "3.7.7"
  }
 },
 "nbformat": 4,
 "nbformat_minor": 4
}
