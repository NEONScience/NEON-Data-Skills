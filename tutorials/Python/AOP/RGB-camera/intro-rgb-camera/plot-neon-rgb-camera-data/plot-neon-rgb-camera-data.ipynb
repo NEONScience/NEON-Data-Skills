{
 "cells": [
  {
   "cell_type": "markdown",
   "metadata": {},
   "source": [
    "---\n",
    "syncID: 67a5e95e1b7445aca7d7750b75c0ee98\n",
    "title: \"Plot NEON RGB Camera Imagery in Python\"\n",
    "description: \"Introduction to RGB camera images and reading in multi-band images in Python with rasterio.\"\n",
    "dateCreated: 2018-06-30\n",
    "authors: Bridget Hass \n",
    "contributors: Donal O'Leary\n",
    "estimatedTime: 20 minutes\n",
    "packagesLibraries: gdal, rasterio, matplotlib\n",
    "topics: data-analysis, data-visualization, spatial-data-gis \n",
    "languagesTool: Python\n",
    "dataProduct: DP3.30010.001\n",
    "code1: https://raw.githubusercontent.com/NEONScience/NEON-Data-Skills/main/tutorials/Python/RGB-camera/intro-rgb-camera/plot-neon-rgb-camera-data/plot-neon-rgb-camera-data.ipynb\n",
    "tutorialSeries:\n",
    "urlTitle: plot-neon-rgb-py\n",
    "---"
   ]
  },
  {
   "cell_type": "markdown",
   "metadata": {},
   "source": [
    "This tutorial introduces NEON RGB camera images (<a href=\"https://data.neonscience.org/data-products/DP3.30010.001\" target=\"_blank\">Data Product DP3.30010.001</a>) and uses the Python package `rasterio` to read in and plot the camera data in Python. In this lesson, we will read in an RGB camera tile collected over the NEON Smithsonian Environmental Research Center (SERC) site and plot the mutliband image, as well as the individual bands. This lesson was adapted from the <a href=\"https://rasterio.readthedocs.io/en/stable/topics/plotting.html\" target=\"_blank\">rasterio plotting documentation</a>.\n",
    "\n",
    "### Objectives\n",
    "\n",
    "After completing this tutorial, you will be able to: \n",
    "\n",
    "* Plot a NEON RGB Camera Tile (<a href=\"https://data.neonscience.org/data-products/DP3.30010.001\" target=\"_blank\">Data Product DP3.30010.001</a>) in Python using `rasterio`\n",
    "\n",
    "### Package Requirements\n",
    "This tutorial was run in Python version 3.9, using the following packages:\n",
    "\n",
    "* rasterio\n",
    "* matplotlib\n",
    "\n",
    "### Download the Data \n",
    "\n",
    "Download the NEON GeoTiFF file of the \n",
    "<a href=\"https://storage.googleapis.com/neon-aop-products/2021/FullSite/D02/2021_SERC_5/L3/Camera/Mosaic/2021_SERC_5_368000_4306000_image.tif\">camera (RGB) imagery tile</a>\n",
    "collected over the Smithsonian Environmental Research Station (SERC) NEON field site in 2021. Move this data to a desired folder on your local workstation. You will need to know the file path to this data.  \n",
    "\n",
    "Note, the tutorial will also demonstrate how to download the data directly from Python into your working directory, but we recommend re-organizing in a way that makes sense for you.\n",
    "\n",
    "### Background\n",
    "\n",
    "As part of the \n",
    "<a href=\"https://www.neonscience.org/data-collection/airborne-remote-sensing\" target=\"_blank\"> NEON Airborne Operation Platform's</a> \n",
    "suite of remote sensing instruments, the digital camera producing high-resolution (<= 10 cm) photographs of the earth’s surface. The camera records light energy that has reflected off the ground in the visible portion (red, green and blue) of the electromagnetic spectrum. Often the camera images are used to provide context for the hyperspectral and LiDAR data, but they can also be used for research purposes in their own right. One such example is the tree-crown mapping work by Weinstein et al. - see the links below for more information!\n",
    "\n",
    "- <a href=\"https://www.mdpi.com/2072-4292/11/11/1309\" target=\"_blank\">Individual Tree-Crown Detection in RGB Imagery Using Semi-Supervised Deep Learning Neural Networks</a>\n",
    "- <a href=\"https://elifesciences.org/articles/62922\" target=\"_blank\">A remote sensing derived data set of 100 million individual tree crowns for the National Ecological Observatory Network</a>\n",
    "- <a href=\"https://besjournals.onlinelibrary.wiley.com/doi/full/10.1111/2041-210X.13472\" target=\"_blank\">DeepForest: A Python package for RGB deep learning tree crown delineation</a>\n",
    "\n",
    "In this lesson we will keep it simple and just show how to read in and plot a single camera RGB tile - a first step in any research incorporating the AOP camera data (in Python).\n",
    "\n",
    "**Tip:** To run a code chunk (cell) in Jupyter Notebook you can either select `Cell > Run Cells` with your cursor placed in the cell you want to run, or use the shortcut key `Shift + Enter`. For more handy shortcuts, refer to the tab `Help > Keyboard Shortcuts`. "
   ]
  },
  {
   "cell_type": "markdown",
   "metadata": {},
   "source": [
    "### Import required packages\n",
    "First let's import the packages that we'll be using in this lesson."
   ]
  },
  {
   "cell_type": "code",
   "execution_count": null,
   "metadata": {},
   "outputs": [],
   "source": [
    "import os\n",
    "import requests\n",
    "import rasterio as rio\n",
    "from rasterio.plot import show, show_hist\n",
    "import matplotlib.pyplot as plt"
   ]
  },
  {
   "cell_type": "markdown",
   "metadata": {},
   "source": [
    "Next, let's download a camera file. For this tutorial, we will use the `requests` package to download a raster file from the public link where the data is stored. For simplicity, we will show how to download to a data folder in the working directory. You can move the data to a different folder, but if you do that, be sure to update the path to your data accordingly. "
   ]
  },
  {
   "cell_type": "code",
   "execution_count": null,
   "metadata": {},
   "outputs": [],
   "source": [
    "def download_url(url,download_dir):\n",
    "    if not os.path.isdir(download_dir):\n",
    "        os.makedirs(download_dir)\n",
    "    filename = url.split('/')[-1]\n",
    "    r = requests.get(url, allow_redirects=True)\n",
    "    file_object = open(os.path.join(download_dir,filename),'wb')\n",
    "    file_object.write(r.content)"
   ]
  },
  {
   "cell_type": "code",
   "execution_count": null,
   "metadata": {},
   "outputs": [],
   "source": [
    "# public url where the RGB camera tile is stored\n",
    "rgb_url = \"https://storage.googleapis.com/neon-aop-products/2021/FullSite/D02/2021_SERC_5/L3/Camera/Mosaic/2021_SERC_5_368000_4306000_image.tif\"\n",
    "\n",
    "# download the camera tile to a ./data subfolder in your working directory\n",
    "download_url(rgb_url,'.\\data')\n",
    "\n",
    "# display the contents in the ./data folder to confirm the download completed\n",
    "os.listdir('./data')"
   ]
  },
  {
   "cell_type": "markdown",
   "metadata": {},
   "source": [
    "## Open the Camera RGB data with `rasterio`\n",
    "\n",
    "We can open and read this RGB data that we downloaded in Python using the ```rasterio.open``` function:"
   ]
  },
  {
   "cell_type": "code",
   "execution_count": null,
   "metadata": {},
   "outputs": [],
   "source": [
    "# read the RGB file (including the full path) to the variable rgb_dataset\n",
    "rgb_name = rgb_url.split('/')[-1]\n",
    "rgb_file = os.path.join(\".\\data\",rgb_name)\n",
    "rgb_dataset = rio.open(rgb_file)"
   ]
  },
  {
   "cell_type": "markdown",
   "metadata": {},
   "source": [
    "Let's look at a few properties of this dataset to get a sense of the information stored in the rasterio object:"
   ]
  },
  {
   "cell_type": "code",
   "execution_count": null,
   "metadata": {},
   "outputs": [],
   "source": [
    "print('rgb_dataset:\\n',rgb_dataset)\n",
    "print('\\nshape:\\n',rgb_dataset.shape)\n",
    "print('\\nspatial extent:\\n',rgb_dataset.bounds)\n",
    "print('\\ncoordinate information (crs):\\n',rgb_dataset.crs)"
   ]
  },
  {
   "cell_type": "markdown",
   "metadata": {},
   "source": [
    "Unlike the other AOP data products, camera imagery is generated at 10cm resolution, so each 1km x 1km tile will contain 10000 pixels (other 1m resolution data products will have 1000 x 1000 pixels per tile, where each pixel represents 1 meter)."
   ]
  },
  {
   "cell_type": "markdown",
   "metadata": {},
   "source": [
    "## Plot the RGB multiband image\n",
    "\n",
    "We can use rasterio's built-in functions `show` to plot the CHM tile."
   ]
  },
  {
   "cell_type": "code",
   "execution_count": null,
   "metadata": {},
   "outputs": [],
   "source": [
    "show(rgb_dataset);"
   ]
  },
  {
   "cell_type": "markdown",
   "metadata": {},
   "source": [
    "## Plot each band of the RGB image \n",
    "\n",
    "We can also plot each band (red, green, and blue) individually as follows:"
   ]
  },
  {
   "cell_type": "code",
   "execution_count": null,
   "metadata": {},
   "outputs": [],
   "source": [
    "fig, (axr, axg, axb) = plt.subplots(1,3, figsize=(21,7))\n",
    "show((rgb_dataset, 1), ax=axr, cmap='Reds', title='red channel')\n",
    "show((rgb_dataset, 2), ax=axg, cmap='Greens', title='green channel')\n",
    "show((rgb_dataset, 3), ax=axb, cmap='Blues', title='blue channel')\n",
    "plt.show()"
   ]
  },
  {
   "cell_type": "markdown",
   "metadata": {},
   "source": [
    "That's all for this example! Most of the other AOP raster data are all single band images, but `rasterio` is a handy Python package for working with any geotiff files. You can download and visualize the lidar and spectrometer derived raster images similarly."
   ]
  }
 ],
 "metadata": {
  "kernelspec": {
   "display_name": "Python 3 (ipykernel)",
   "language": "python",
   "name": "python3"
  },
  "language_info": {
   "codemirror_mode": {
    "name": "ipython",
    "version": 3
   },
   "file_extension": ".py",
   "mimetype": "text/x-python",
   "name": "python",
   "nbconvert_exporter": "python",
   "pygments_lexer": "ipython3",
   "version": "3.9.12"
  }
 },
 "nbformat": 4,
 "nbformat_minor": 2
}
