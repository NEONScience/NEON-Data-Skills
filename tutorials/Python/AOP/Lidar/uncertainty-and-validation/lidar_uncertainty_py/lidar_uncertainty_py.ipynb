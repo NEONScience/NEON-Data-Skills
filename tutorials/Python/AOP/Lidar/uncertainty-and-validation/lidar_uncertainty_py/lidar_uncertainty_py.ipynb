{
 "cells": [
  {
   "cell_type": "markdown",
   "id": "proved-indianapolis",
   "metadata": {},
   "source": [
    "--- \n",
    "syncID: a6db1047adb34f41b9d17d6ed41f5fd5\n",
    "title: \"Exploring Uncertainty in LiDAR Data using Python\"\n",
    "description: \"Learn to analyze the difference between rasters taken a few days apart to assess the uncertainty between days.\" \n",
    "dateCreated: 2017-06-21 \n",
    "authors: Tristan Goulden\n",
    "contributors: Donal O'Leary\n",
    "estimatedTime: 30 minutes\n",
    "packagesLibraries: numpy, gdal, matplotlib\n",
    "topics: hyperspectral-remote-sensing, remote-sensing\n",
    "languagesTool: python\n",
    "dataProduct: \n",
    "code1: https://raw.githubusercontent.com/NEONScience/NEON-Data-Skills/main/tutorials/Python/Lidar/uncertainty-and-validation/lidar_uncertainty_py/lidar_uncertainty_py.py\n",
    "tutorialSeries: rs-uncertainty-py-series\n",
    "urlTitle: lidar-uncertainty-py\n",
    "---"
   ]
  },
  {
   "cell_type": "markdown",
   "id": "scheduled-peter",
   "metadata": {},
   "source": [
    "\n",
    "In this exercise we will analyze the several NEON level 3 lidar rasters to assess \n",
    "the uncertainty between days. \n",
    "\n",
    "<div id=\"ds-objectives\" markdown=\"1\">\n",
    "\n",
    "### Objectives\n",
    "After completing this tutorial, you will be able to:\n",
    "\n",
    "* Load several tif files with metadata\n",
    "* Difference tif files\n",
    "* Create histograms\n",
    "* Remove areas of DSM & DTMs through logical indexing of the CHM\n",
    "\n",
    "### Install Python Packages\n",
    "\n",
    "* numpy\n",
    "* gdal\n",
    "* matplotlib.pyplot\n",
    "* h5py\n",
    "\n",
    "### Download Data\n",
    "\n",
    "The link below contains all the data from the 2017 Data Institute (17 GB). <strong>For this tutorial, we\n",
    "need ONLY the data in the CHEQ, F07A, and PRIN subfolders.</strong> To minimize the size of your\n",
    "download, please select only these subdirectories to download.\n",
    "\n",
    "<a href=\"https://neondata.sharefile.com/share/view/cdc8242e24ad4517/fo0c2f24-c7d2-4c77-b297-015366afa9f4\" target=\"_blank\"class=\"link--button link--arrow\">\n",
    "Download Uncertainty Exercises Dataset</a>\n",
    "\n",
    "</div>\n",
    "\n",
    "\n",
    "In 2016 the NEON AOP flew the PRIN site in D11 on a poor weather day to \n",
    "ensure coverage of the site. The following day, the weather improved and the \n",
    "site was flown again to collect good weather spectrometer data. Having \n",
    "collections only one day apart provides an opportunity to assess LiDAR \n",
    "uncertainty because we should expect that nothing has chnaged between the \n",
    "two collects. In this exercise we will analyze the several NEON Level 3 lidar \n",
    "rasters to assess the uncertainty.\n",
    "\n",
    "## Set up system\n",
    "\n",
    "First, we'll set up our system and load needed packages. \n",
    "\n"
   ]
  },
  {
   "cell_type": "code",
   "execution_count": null,
   "id": "proof-shift",
   "metadata": {},
   "outputs": [],
   "source": [
    "import sys\n",
    "sys.version"
   ]
  },
  {
   "cell_type": "code",
   "execution_count": null,
   "id": "voluntary-fever",
   "metadata": {},
   "outputs": [],
   "source": [
    "import gdal\n",
    "import h5py\n",
    "import numpy as np\n",
    "from math import floor\n",
    "import os\n",
    "import matplotlib.pyplot as plt"
   ]
  },
  {
   "cell_type": "markdown",
   "id": "prescribed-sense",
   "metadata": {},
   "source": [
    "## Define functions\n",
    "\n",
    "Next, we'll define a few functions that we will use throughout the code. "
   ]
  },
  {
   "cell_type": "code",
   "execution_count": null,
   "id": "favorite-mortgage",
   "metadata": {},
   "outputs": [],
   "source": [
    "def plot_band_array(band_array,image_extent,title,cmap_title,colormap,colormap_limits):\n",
    "    plt.imshow(diff_dsm_array,extent=image_extent)\n",
    "    cbar = plt.colorbar(); plt.set_cmap(colormap); plt.clim(colormap_limits)\n",
    "    cbar.set_label(cmap_title,rotation=270,labelpad=20)\n",
    "    plt.title(title); ax = plt.gca()\n",
    "    ax.ticklabel_format(useOffset=False, style='plain') \n",
    "    rotatexlabels = plt.setp(ax.get_xticklabels(),rotation=90)"
   ]
  },
  {
   "cell_type": "code",
   "execution_count": null,
   "id": "spatial-combination",
   "metadata": {},
   "outputs": [],
   "source": [
    "def raster2array(geotif_file):\n",
    "    metadata = {}\n",
    "    dataset = gdal.Open(geotif_file)\n",
    "    metadata['array_rows'] = dataset.RasterYSize\n",
    "    metadata['array_cols'] = dataset.RasterXSize\n",
    "    metadata['bands'] = dataset.RasterCount\n",
    "    metadata['driver'] = dataset.GetDriver().LongName\n",
    "    metadata['projection'] = dataset.GetProjection()\n",
    "    metadata['geotransform'] = dataset.GetGeoTransform()\n",
    "\n",
    "    mapinfo = dataset.GetGeoTransform()\n",
    "    metadata['pixelWidth'] = mapinfo[1]\n",
    "    metadata['pixelHeight'] = mapinfo[5]\n",
    "\n",
    "    metadata['ext_dict'] = {}\n",
    "    metadata['ext_dict']['xMin'] = mapinfo[0]\n",
    "    metadata['ext_dict']['xMax'] = mapinfo[0] + dataset.RasterXSize/mapinfo[1]\n",
    "    metadata['ext_dict']['yMin'] = mapinfo[3] + dataset.RasterYSize/mapinfo[5]\n",
    "    metadata['ext_dict']['yMax'] = mapinfo[3]\n",
    "\n",
    "    metadata['extent'] = (metadata['ext_dict']['xMin'],metadata['ext_dict']['xMax'],\n",
    "                          metadata['ext_dict']['yMin'],metadata['ext_dict']['yMax'])\n",
    "\n",
    "    if metadata['bands'] == 1:\n",
    "        raster = dataset.GetRasterBand(1)\n",
    "        metadata['noDataValue'] = raster.GetNoDataValue()\n",
    "        metadata['scaleFactor'] = raster.GetScale()\n",
    "\n",
    "        # band statistics\n",
    "        metadata['bandstats'] = {} #make a nested dictionary to store band stats in same \n",
    "        stats = raster.GetStatistics(True,True)\n",
    "        metadata['bandstats']['min'] = round(stats[0],2)\n",
    "        metadata['bandstats']['max'] = round(stats[1],2)\n",
    "        metadata['bandstats']['mean'] = round(stats[2],2)\n",
    "        metadata['bandstats']['stdev'] = round(stats[3],2)\n",
    "\n",
    "        array = dataset.GetRasterBand(1).ReadAsArray(0,0,metadata['array_cols'],metadata['array_rows']).astype(np.float)\n",
    "        array[array==int(metadata['noDataValue'])]=np.nan\n",
    "        array = array/metadata['scaleFactor']\n",
    "        return array, metadata\n",
    "\n",
    "    elif metadata['bands'] > 1:\n",
    "        print('More than one band ... need to modify function for case of multiple bands')"
   ]
  },
  {
   "cell_type": "markdown",
   "id": "upset-input",
   "metadata": {},
   "source": [
    "This next piece of code just helps identify where the script portion of our code starts. It is not essential to the code but can be useful when running scripts. "
   ]
  },
  {
   "cell_type": "code",
   "execution_count": null,
   "id": "meaning-december",
   "metadata": {},
   "outputs": [],
   "source": [
    "print('Start Uncertainty Script')"
   ]
  },
  {
   "cell_type": "markdown",
   "id": "straight-there",
   "metadata": {},
   "source": [
    "To start, we can define all of the input files. This will include two Digital Surface Model (DSMs) tifs from the flight days, two Digital Terrain Models (DTMs) from the flight days, and a single Canopy Height Model (CHM). In this case, all input GeoTiff rasters are a single tile of the site that measures 1000 m by 1000 m."
   ]
  },
  {
   "cell_type": "code",
   "execution_count": null,
   "id": "destroyed-foundation",
   "metadata": {},
   "outputs": [],
   "source": [
    "dsm1_filename = '/Users/olearyd/Git/data/2016_PRIN_1_607000_3696000_DSM.tif'\n",
    "dsm2_filename = '/Users/olearyd/Git/data/2016_PRIN_2_607000_3696000_DSM.tif'\n",
    "dtm1_filename = '/Users/olearyd/Git/data/2016_PRIN_1_607000_3696000_DTM.tif'\n",
    "dtm2_filename = '/Users/olearyd/Git/data/2016_PRIN_2_607000_3696000_DTM.tif'\n",
    "chm_filename = '/Users/olearyd/Git/data/2016_PRIN_1_607000_3696000_pit_free_CHM.tif'"
   ]
  },
  {
   "cell_type": "markdown",
   "id": "approved-acoustic",
   "metadata": {},
   "source": [
    "Open all of the tif data in the previous files using the raster2array function written for NEON data."
   ]
  },
  {
   "cell_type": "code",
   "execution_count": null,
   "id": "entitled-democracy",
   "metadata": {},
   "outputs": [],
   "source": [
    "dsm1_array, dsm1_array_metadata = raster2array(dsm1_filename)\n",
    "dsm2_array, dsm2_array_metadata = raster2array(dsm2_filename)\n",
    "dtm1_array, dtm1_array_metadata = raster2array(dtm1_filename)\n",
    "dtm2_array, dtm2_array_metadata = raster2array(dtm2_filename)\n",
    "chm_array, chm_array_metadata = raster2array(chm_filename)"
   ]
  },
  {
   "cell_type": "markdown",
   "id": "ecological-boulder",
   "metadata": {},
   "source": [
    "Since we want to know what the changed between the two days, we will create an array with any of the pixel differneces across the two arrays.  To do this let's subtract the two DSMs. "
   ]
  },
  {
   "cell_type": "code",
   "execution_count": null,
   "id": "static-frederick",
   "metadata": {},
   "outputs": [],
   "source": [
    "diff_dsm_array = np.subtract(dsm1_array,dsm2_array)\n",
    "diff_dtm_array = np.subtract(dtm1_array,dtm2_array) "
   ]
  },
  {
   "cell_type": "markdown",
   "id": "domestic-limit",
   "metadata": {},
   "source": [
    "Let's get some summary statistics for this DSM differences array. "
   ]
  },
  {
   "cell_type": "code",
   "execution_count": null,
   "id": "soviet-august",
   "metadata": {},
   "outputs": [],
   "source": [
    "diff_dsm_array_mean = np.mean(diff_dsm_array)\n",
    "diff_dsm_array_std = np.std(diff_dsm_array)\n",
    "print('Mean difference in DSMs: ',round(diff_dsm_array_mean,3),' (m)')\n",
    "print('Standard deviations of difference in DSMs: ',round(diff_dsm_array_std,3),' (m)')"
   ]
  },
  {
   "cell_type": "markdown",
   "id": "furnished-report",
   "metadata": {},
   "source": [
    "As a result we get the following:\n",
    "\n",
    "* Mean difference in DSMs:  0.019  (m)\n",
    "* Standard deviations of difference in DSMs:  0.743  (m)\n",
    "\n",
    "The mean is close to zero indicating there was very little systematic bias between the two days. However, we notice that the standard deviation of the data is quite high at 0.743 meters. Generally we expect NEON LiDAR data to have an error below 0.15 meters! Let's take a look at a histogram of the DSM difference. We use the flatten function on the 2D `diff_dsm_array` to convert it into a 1D array which allows the `hist()` function to run faster."
   ]
  },
  {
   "cell_type": "code",
   "execution_count": null,
   "id": "residential-adobe",
   "metadata": {},
   "outputs": [],
   "source": [
    "plt.figure(1)\n",
    "plt.hist(diff_dsm_array.flatten(),100)\n",
    "plt.title('Histogram of PRIN DSM')\n",
    "plt.xlabel('Height Difference(m)'); plt.ylabel('Frequency')\n",
    "plt.show()"
   ]
  },
  {
   "cell_type": "markdown",
   "id": "advance-venezuela",
   "metadata": {},
   "source": [
    "The histogram has long tails, obscuring the distribution near the center. To constrain the x-limits of the histogram we will use the mean and standard deviation just calculated. Since the data appears to be normally distributed, we can constrain the histogram to 95% of the data by including 2 standard deviations above and below the mean.   "
   ]
  },
  {
   "cell_type": "code",
   "execution_count": null,
   "id": "individual-herald",
   "metadata": {},
   "outputs": [],
   "source": [
    "plt.figure(1)\n",
    "plt.hist(diff_dsm_array.flatten(),100,range=[diff_dsm_array_mean-2*diff_dsm_array_std, diff_dsm_array_mean+2*diff_dsm_array_std])\n",
    "plt.title('Histogram of PRIN DSM')\n",
    "plt.xlabel('Height Difference(m)'); plt.ylabel('Frequency')\n",
    "plt.show()"
   ]
  },
  {
   "cell_type": "markdown",
   "id": "modular-disabled",
   "metadata": {},
   "source": [
    "The histogram shows a wide variation in DSM differences, with those at the 95% limit at around +/- 1.5 m. Let's take a look at the spatial distribution of the errors by plotting a map of the difference between the two DSMs. Here we'll also use the extra variable in the plot function to constrain the limits of the colorbar to 95% of the observations. "
   ]
  },
  {
   "cell_type": "code",
   "execution_count": null,
   "id": "elder-destination",
   "metadata": {},
   "outputs": [],
   "source": [
    "plt.figure(3)\n",
    "plot_band_array(diff_dsm_array,dsm1_array_metadata['extent'],'DSM Difference','Difference (m)','bwr',[diff_dsm_array_mean-2*diff_dsm_array_std, diff_dsm_array_mean+2*diff_dsm_array_std])\n",
    "plt.show()"
   ]
  },
  {
   "cell_type": "markdown",
   "id": "executive-humor",
   "metadata": {},
   "source": [
    "It seems that there is a spatial pattern in the distribution of errors. Now let's take a look at the histogram and map for the difference in DTMs."
   ]
  },
  {
   "cell_type": "code",
   "execution_count": null,
   "id": "varying-patrick",
   "metadata": {},
   "outputs": [],
   "source": [
    "diff_dtm_array_mean = np.nanmean(diff_dtm_array)\n",
    "diff_dtm_array_std = np.nanstd(diff_dtm_array)\n",
    "print('Mean difference in DTMs: ',round(diff_dtm_array_mean,3),' (m)')\n",
    "print('Standard deviations of difference in DTMs: ',round(diff_dtm_array_std,3),' (m)')          \n",
    "\n",
    "plt.figure(4)\n",
    "plt.hist(diff_dtm_array.flatten()[~np.isnan(diff_dtm_array.flatten())],100,range=[diff_dtm_array_mean-2*diff_dtm_array_std, diff_dtm_array_mean+2*diff_dtm_array_std])\n",
    "plt.title('Histogram of PRIN DTM')\n",
    "plt.xlabel('Height Difference(m)'); plt.ylabel('Frequency')\n",
    "plt.show()\n",
    "\n",
    "plt.figure(5)\n",
    "plot_band_array(diff_dtm_array,dtm1_array_metadata['extent'],'DTM Difference','Difference (m)','bwr',[diff_dtm_array_mean-2*diff_dtm_array_std, diff_dtm_array_mean+2*diff_dtm_array_std])\n",
    "plt.show()"
   ]
  },
  {
   "cell_type": "markdown",
   "id": "differential-wound",
   "metadata": {},
   "source": [
    "The overall magnitude of differences are smaller than in the DSM but the same spatial pattern of the error is evident. \n",
    "\n",
    "Now, we'll plot the Canopy Height Model (CHM) of the same area. In the CHM, the tree heights above ground are represented, with all ground pixels having zero elevation. This time we'll use a colorbar which shows the ground as light green and the highest vegetation as dark green. We can set the lower limit of the color bar to zero and the upper limit to the mean canopy height to get a good color variation. "
   ]
  },
  {
   "cell_type": "code",
   "execution_count": null,
   "id": "intelligent-barbados",
   "metadata": {},
   "outputs": [],
   "source": [
    "chm_array_mean = np.nanmean(chm_array)\n",
    "chm_array_std = np.nanstd(chm_array)\n",
    "plt.figure(6)\n",
    "plot_band_array(chm_array,dtm1_array_metadata['extent'],'Canopy height Model','Canopy height (m)','Greens',[0, chm_array_mean])\n",
    "plt.savefig('PRIN_CHM.png',dpi=300,orientation='landscape',bbox_inches='tight',pad_inches=0.1)\n",
    "plt.show()"
   ]
  },
  {
   "cell_type": "markdown",
   "id": "incomplete-wesley",
   "metadata": {},
   "source": [
    "From the CHM, it appears the spatial distribution of error patterns follow the location of vegetation. \n",
    "\n",
    "Now let's isolate only the pixels in the difference DSM that correspond to vegetation location, calcualte the mean and standard deviation and plot the associated histogram. Before displaying the histogram, we'll remove the no data values from the difference DSM and the non-zero pixels from the CHM. To keep the number of elements the same in each vector to allow element-wise logical operations in Python, we have to remove the difference DSM no data elements from the CHM array as well. "
   ]
  },
  {
   "cell_type": "code",
   "execution_count": null,
   "id": "medium-envelope",
   "metadata": {},
   "outputs": [],
   "source": [
    "diff_dsm_array_veg_mean = np.nanmean(diff_dsm_array[chm_array!=0.0])\n",
    "diff_dsm_array_veg_std = np.nanstd(diff_dsm_array[chm_array!=0.0])\n",
    "plt.figure(7)\n",
    "print('Mean difference in DSMs on veg points: ',round(diff_dsm_array_veg_mean,3),' (m)')\n",
    "print('Standard deviations of difference in DSMs on veg points: ',round(diff_dsm_array_veg_std,3),' (m)')\n",
    "\n",
    "plt.figure(8)\n",
    "diff_dsm_array_nodata_removed = diff_dsm_array[~np.isnan(diff_dsm_array)]\n",
    "chm_dsm_nodata_removed = chm_array[~np.isnan(diff_dsm_array)]\n",
    "plt.hist(diff_dsm_array_nodata_removed[chm_dsm_nodata_removed!=0.0],100,range=[diff_dsm_array_veg_mean-2*diff_dsm_array_veg_std, diff_dsm_array_veg_mean+2*diff_dsm_array_veg_std])\n",
    "plt.title('Histogram of PRIN DSM (veg)')\n",
    "plt.xlabel('Height Difference(m)'); plt.ylabel('Frequency')\n",
    "plt.show()"
   ]
  },
  {
   "cell_type": "markdown",
   "id": "minus-planning",
   "metadata": {},
   "source": [
    "The results show a similar mean difference of near zero, but an extremely high standard deviation of 1.381 m! Since the DSM represents the top of the tree canopy, this provides the level of uncertainty we can expect in the canopy height in forests characteristic of the PRIN site using NEON LiDAR data. \n",
    "\n",
    "Next we'll calculate the statistics and plot the histogram of the DTM vegetated areas"
   ]
  },
  {
   "cell_type": "code",
   "execution_count": null,
   "id": "normal-facial",
   "metadata": {},
   "outputs": [],
   "source": [
    "diff_dtm_array_veg_mean = np.nanmean(diff_dtm_array[chm_array!=0.0])\n",
    "diff_dtm_array_veg_std = np.nanstd(diff_dtm_array[chm_array!=0.0])\n",
    "plt.figure(9)\n",
    "print('Mean difference in DTMs on veg points: ',round(diff_dtm_array_veg_mean,3),' (m)')\n",
    "print('Standard deviations of difference in DTMs on veg points: ',round(diff_dtm_array_veg_std,3),' (m)')\n",
    "\n",
    "plt.figure(10)\n",
    "diff_dtm_array_nodata_removed = diff_dtm_array[~np.isnan(diff_dtm_array)] \n",
    "chm_dtm_nodata_removed = chm_array[~np.isnan(diff_dtm_array)]\n",
    "plt.hist((diff_dtm_array_nodata_removed[chm_dtm_nodata_removed!=0.0]),100,range=[diff_dtm_array_veg_mean-2*diff_dtm_array_veg_std, diff_dtm_array_veg_mean+2*diff_dtm_array_veg_std])\n",
    "plt.title('Histogram of PRIN DTM (veg)')\n",
    "plt.xlabel('Height Difference(m)'); plt.ylabel('Frequency')\n",
    "plt.show()"
   ]
  },
  {
   "cell_type": "markdown",
   "id": "empirical-processing",
   "metadata": {},
   "source": [
    "Here we can see that the mean difference is almost zero at 0.023 m, and the variation in less than the DSM at 0.163 m. \n",
    "\n",
    "Although the variation is reduced, it is still larger than expected for LiDAR. This is because under vegetation there may not be much laser energy reaching the ground, and those points that do may return with lower signal. The sparsity of points leads to surface interpolation over larger areas which can miss variations in the topography. Since the distribution of LIDAR and their location varied for each day, this resulted in different terrain representations and a uncertianty in the ground surface. This shows that the accuracy of LiDAR DTMs is reduced when under vegetation.\n",
    "\n",
    "Finally, let's look at the DTM difference on only the ground points (where CHM = 0)."
   ]
  },
  {
   "cell_type": "code",
   "execution_count": null,
   "id": "rising-leone",
   "metadata": {},
   "outputs": [],
   "source": [
    "diff_dtm_array_ground_mean = np.nanmean(diff_dtm_array[chm_array==0.0])\n",
    "diff_dtm_array_ground_std = np.nanstd(diff_dtm_array[chm_array==0.0])\n",
    "print('Mean difference in DTMs on ground points: ',round(diff_dtm_array_ground_mean,3),' (m)')\n",
    "print('Standard deviations of difference in DTMs on ground points: ',round(diff_dtm_array_ground_std,3),' (m)')\n",
    "\n",
    "plt.figure(11)\n",
    "plt.hist((diff_dtm_array_nodata_removed[chm_dtm_nodata_removed==0.0]),100,range=[diff_dtm_array_ground_mean-2*diff_dtm_array_ground_std, diff_dtm_array_ground_mean+2*diff_dtm_array_ground_std])\n",
    "plt.title('Histogram of PRIN DTM (ground)')\n",
    "plt.xlabel('Height Difference(m)'); plt.ylabel('Frequency')\n",
    "plt.show()"
   ]
  },
  {
   "cell_type": "markdown",
   "id": "romance-university",
   "metadata": {},
   "source": [
    "In the open ground scenario we are able to produce the error chatracteristics we expect with a mean difference of only 0.011 m and a variation of 0.068 m. \n",
    "\n",
    "This shows that the uncertainty we expect in the NEON LiDAR system (~0.15 m) is only valid in bare, open, hard surface scenarios. We cannot expect the accuracy of the LiDAR to reach this level when vegetation is present. Quantifying the top of the canopy is particularly difficult and can lead to uncertainty in excess of 1 m for any given pixel.  "
   ]
  },
  {
   "cell_type": "code",
   "execution_count": null,
   "id": "capable-tuning",
   "metadata": {},
   "outputs": [],
   "source": []
  }
 ],
 "metadata": {
  "kernelspec": {
   "display_name": "py37",
   "language": "python",
   "name": "py37"
  },
  "language_info": {
   "codemirror_mode": {
    "name": "ipython",
    "version": 3
   },
   "file_extension": ".py",
   "mimetype": "text/x-python",
   "name": "python",
   "nbconvert_exporter": "python",
   "pygments_lexer": "ipython3",
   "version": "3.7.7"
  }
 },
 "nbformat": 4,
 "nbformat_minor": 5
}
