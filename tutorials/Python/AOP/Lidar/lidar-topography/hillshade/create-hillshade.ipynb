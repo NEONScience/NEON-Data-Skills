{
 "cells": [
  {
   "cell_type": "markdown",
   "metadata": {},
   "source": [
    "---\n",
    "syncID: 7e916532e9fa49aeba7464350e661778\n",
    "title: \"Create a Hillshade from a Terrain Raster in Python\"\n",
    "description: \"Learn how to create a hillshade from a terrain raster in Python.\" \n",
    "dateCreated: 2017-06-21 \n",
    "authors: Bridget Hass\n",
    "contributors: Donal O'Leary\n",
    "estimatedTime: 0.5 hour\n",
    "packagesLibraries: gdal, rasterio, requests\n",
    "topics: lidar, raster, remote-sensing, elevation\n",
    "languagesTool: Python\n",
    "dataProduct: DP1.30003, DP3.30015, DP3.30024, DP3.30025\n",
    "code1: https://raw.githubusercontent.com/NEONScience/NEON-Data-Skills/main/tutorials/Python/AOP/Lidar/lidar-topography/hillshade/create-hillshade.ipynb\n",
    "tutorialSeries: intro-lidar-py-series\n",
    "urlTitle: create-hillshade-py\n",
    "---"
   ]
  },
  {
   "cell_type": "markdown",
   "metadata": {},
   "source": [
    "This tutorial covers how to create a hillshade from a terrain raster in Python, and demonstrates a few options for visualizing lidar-derived Digital Elevation Models. \n",
    "\n",
    "<div id=\"ds-objectives\" markdown=\"1\">\n",
    "\n",
    "### Objectives\n",
    "\n",
    "After completing this tutorial, you will be able to:\n",
    "\n",
    "* Understand how to read in and visualize Lidar elevation models (DTM, DSM) in Python\n",
    "* Plot a contour map of the DTM\n",
    "* Create a hillshade from the DTM\n",
    "* Calculate and plot Canopy Height along with hillshade and elevation\n",
    "\n",
    "### Install Python Packages\n",
    "\n",
    "* **gdal** \n",
    "* **rasterio**\n",
    "* **requests** \n",
    "\n",
    "### Download Data\n",
    "\n",
    "For this lesson, we will read in Digital Terrain Model (DTM) data collected at NEON's <a href=\"https://www.neonscience.org/field-sites/teak\" target=\"_blank\">Lower Teakettle (TEAK)</a> site in California. This data is downloaded in the first part of the tutorial, using the Python `requests` package.\n",
    "\n",
    "### Additional Resources\n",
    "\n",
    "NEON'S Airborne Observation Platform provides Algorithm Theoretical Basis Documents (ATBDs) for all of their data products. Please refer to the ATBDs below for a more in-depth understanding of how the Lidar-derived rasters are generated.\n",
    "\n",
    "- <a href=\"https://data.neonscience.org/api/v0/documents/NEON.DOC.002390vB?inline=true\" target=\"_blank\">Elevation (DSM and DTM) ATBD</a>\n",
    "- <a href=\"https://data.neonscience.org/api/v0/documents/NEON.DOC.002387vB?inline=true\" target=\"_blank\">Ecosystem Structure ATBD</a>\n",
    "\n",
    "</div>\n",
    "\n",
    "First, let's import the required packages:"
   ]
  },
  {
   "cell_type": "code",
   "execution_count": null,
   "metadata": {},
   "outputs": [],
   "source": [
    "import os\n",
    "import numpy as np\n",
    "import requests\n",
    "import rasterio as rio\n",
    "from rasterio.plot import show\n",
    "import matplotlib.pyplot as plt"
   ]
  },
  {
   "cell_type": "markdown",
   "metadata": {},
   "source": [
    "## Read in the datasets\n",
    "### Download Lidar Elevation Models from TEAK\n",
    "\n",
    "To start, we will download the NEON Elevation Models (DTM and DSM) which are provided in geotiff (.tif) format. Use the `download_url` function below to download the data directly from the cloud storage location.\n",
    "\n",
    "For more information on these data products, refer to the NEON Data Portal page, linked below:\n",
    "\n",
    "<a href=\"https://data.neonscience.org/data-products/DP3.30024.001\" target=\"_blank\">Elevation - LiDAR</a>."
   ]
  },
  {
   "cell_type": "code",
   "execution_count": null,
   "metadata": {},
   "outputs": [],
   "source": [
    "# function to download data stored on the internet in a public url to a local file\n",
    "def download_url(url,download_dir):\n",
    "    if not os.path.isdir(download_dir):\n",
    "        os.makedirs(download_dir)\n",
    "    filename = url.split('/')[-1]\n",
    "    r = requests.get(url, allow_redirects=True)\n",
    "    file_object = open(os.path.join(download_dir,filename),'wb')\n",
    "    file_object.write(r.content)"
   ]
  },
  {
   "cell_type": "code",
   "execution_count": null,
   "metadata": {},
   "outputs": [],
   "source": [
    "# define the urls for downloading the Aspect and NDVI geotiff tiles\n",
    "dtm_url = \"https://storage.googleapis.com/neon-aop-products/2021/FullSite/D17/2021_TEAK_5/L3/DiscreteLidar/DTMGtif/NEON_D17_TEAK_DP3_320000_4092000_DTM.tif\"\n",
    "dsm_url = \"https://storage.googleapis.com/neon-aop-products/2021/FullSite/D17/2021_TEAK_5/L3/DiscreteLidar/DSMGtif/NEON_D17_TEAK_DP3_320000_4092000_DSM.tif\"\n",
    "\n",
    "# download the raster data using the download_url function\n",
    "download_url(dtm_url,'.\\data')\n",
    "download_url(dsm_url,'.\\data')\n",
    "\n",
    "# display the contents in the ./data folder to confirm the download completed\n",
    "os.listdir('./data')"
   ]
  },
  {
   "cell_type": "markdown",
   "metadata": {},
   "source": [
    "###  Calculate Hillshade\n",
    "\n",
    "Hillshade is used to visualize the hypothetical illumination value (from 0-255) of each pixel on a surface given a specified light source. To calculate hillshade, we need the zenith (altitude) and azimuth of the illumination source, as well as the slope and aspect of the terrain. The formula for hillshade is:\n",
    "\n",
    "$$Hillshade = 255.0 * (( cos(zenith_I)*cos(slope_T))+(sin(zenith_I)*sin(slope_T)*cos(azimuth_I-aspect_T))$$\n",
    "\n",
    "Where all angles are in radians. \n",
    "\n",
    "For more information about how hillshades work, refer to the ESRI ArcGIS page \n",
    "<a href=\"https://pro.arcgis.com/en/pro-app/3.0/tool-reference/3d-analyst/how-hillshade-works.htm#\" target=\"_blank\">How Hillshade Works</a>. "
   ]
  },
  {
   "cell_type": "code",
   "execution_count": null,
   "metadata": {},
   "outputs": [],
   "source": [
    "# function to caluclate hillshade\n",
    "def hillshade(array,azimuth,angle_altitude):\n",
    "    azimuth = 360.0 - azimuth \n",
    "    \n",
    "    x, y = np.gradient(array)\n",
    "    slope = np.pi/2. - np.arctan(np.sqrt(x*x + y*y))\n",
    "    aspect = np.arctan2(-x, y)\n",
    "    azm_rad = azimuth*np.pi/180. #azimuth in radians\n",
    "    alt_rad = angle_altitude*np.pi/180. #altitude in radians\n",
    " \n",
    "    shaded = np.sin(alt_rad)*np.sin(slope) + np.cos(alt_rad)*np.cos(slope)*np.cos((azm_rad - np.pi/2.) - aspect)\n",
    "    \n",
    "    return 255*(shaded + 1)/2"
   ]
  },
  {
   "cell_type": "code",
   "execution_count": null,
   "metadata": {},
   "outputs": [],
   "source": [
    "dtm_dataset = rio.open(os.path.join('.\\data','NEON_D17_TEAK_DP3_320000_4092000_DTM.tif'))\n",
    "dtm_data = dtm_dataset.read(1)"
   ]
  },
  {
   "cell_type": "code",
   "execution_count": null,
   "metadata": {},
   "outputs": [],
   "source": [
    "fig, ax = plt.subplots(1, 1, figsize=(6,6))\n",
    "dtm_map = show(dtm_dataset,title='Digital Terrain Model',ax=ax);\n",
    "show(dtm_dataset,contour=True, ax=ax); #overlay the contours\n",
    "im = dtm_map.get_images()[0]\n",
    "fig.colorbar(im, label = 'Elevation (m)', ax=ax) # add a colorbar\n",
    "ax.ticklabel_format(useOffset=False, style='plain') # turn off scientific notation"
   ]
  },
  {
   "cell_type": "markdown",
   "metadata": {},
   "source": [
    "Now that we have a function to generate hillshade, we need to read in the DTM raster using rasterio and then calculate hillshade using the `hillshade` function. We can then plot both."
   ]
  },
  {
   "cell_type": "code",
   "execution_count": null,
   "metadata": {},
   "outputs": [],
   "source": [
    "# Use hillshade function on the DTM data array\n",
    "hs_data = hillshade(dtm_data,225,45)"
   ]
  },
  {
   "cell_type": "code",
   "execution_count": null,
   "metadata": {},
   "outputs": [],
   "source": [
    "fig, ax = plt.subplots(1, 1, figsize=(6,6))\n",
    "ext = [dtm_dataset.bounds.left, dtm_dataset.bounds.right, dtm_dataset.bounds.bottom, dtm_dataset.bounds.top]\n",
    "plt.imshow(hs_data,extent=ext)\n",
    "plt.colorbar(); plt.set_cmap('RdYlGn'); \n",
    "plt.title('TEAK Hillshade')\n",
    "ax=plt.gca(); ax.ticklabel_format(useOffset=False, style='plain') #do not use scientific notation \n",
    "rotatexlabels = plt.setp(ax.get_xticklabels(),rotation=90) #rotate x tick labels 90 degrees"
   ]
  },
  {
   "cell_type": "code",
   "execution_count": null,
   "metadata": {},
   "outputs": [],
   "source": [
    "#Overlay transparent hillshade on DTM:\n",
    "fig, ax = plt.subplots(1, 1, figsize=(6,6))\n",
    "im1 = plt.imshow(dtm_data,cmap='terrain_r',extent=ext); \n",
    "cbar = plt.colorbar(); cbar.set_label('Elevation, m',rotation=270,labelpad=20)\n",
    "im2 = plt.imshow(hs_data,cmap='Greys',alpha=0.8,extent=ext); #plt.colorbar()\n",
    "ax=plt.gca(); ax.ticklabel_format(useOffset=False, style='plain') #do not use scientific notation \n",
    "rotatexlabels = plt.setp(ax.get_xticklabels(),rotation=90) #rotate x tick labels 90 degrees\n",
    "plt.grid('on'); # plt.colorbar(); \n",
    "plt.title('TEAK Hillshade + DTM');"
   ]
  },
  {
   "cell_type": "markdown",
   "metadata": {},
   "source": [
    "### Calculate CHM & Overlay on Top of Hillshade\n",
    "\n",
    "Canopy Height can be simply calculated by subtracting the Digital Terrain Model from the Digital Surface Model. While NEON's CHM is calculated using a slightly more sophisticated \"pit-free\" algorithm (see the ATBD linked at the top of this tutorial), in this example, we'll calculate the CHM with the simple difference formula. First, read in the DSM data set, which we previously downloaded into the data folder."
   ]
  },
  {
   "cell_type": "code",
   "execution_count": null,
   "metadata": {},
   "outputs": [],
   "source": [
    "dsm_dataset = rio.open(os.path.join('.\\data','NEON_D17_TEAK_DP3_320000_4092000_DSM.tif'))\n",
    "dsm_data = dsm_dataset.read(1)"
   ]
  },
  {
   "cell_type": "code",
   "execution_count": null,
   "metadata": {},
   "outputs": [],
   "source": [
    "# calculate CHM by differencing the terrain model (DTM) from the surface model (DSM):\n",
    "chm_data = dsm_data - dtm_data;"
   ]
  },
  {
   "cell_type": "markdown",
   "metadata": {},
   "source": [
    "Plot the Canopy Height Model for reference:"
   ]
  },
  {
   "cell_type": "code",
   "execution_count": null,
   "metadata": {},
   "outputs": [],
   "source": [
    "fig, ax = plt.subplots(1, 1, figsize=(6,6))\n",
    "im1 = plt.imshow(chm_data,cmap='Greens',extent=ext); \n",
    "ax=plt.gca(); ax.ticklabel_format(useOffset=False, style='plain') #do not use scientific notation \n",
    "ax.set_title('Canopy Height Model (DSM-DTM)');"
   ]
  },
  {
   "cell_type": "markdown",
   "metadata": {},
   "source": [
    "Finally, we can make a plot to bring together all of these visualizations from earlier in the tutorial."
   ]
  },
  {
   "cell_type": "code",
   "execution_count": null,
   "metadata": {},
   "outputs": [],
   "source": [
    "#Overlay transparent hillshade on DTM:\n",
    "fig, ax = plt.subplots(1, 1, figsize=(10,10))\n",
    "\n",
    "#Terrain\n",
    "im1 = plt.imshow(dtm_data,cmap='terrain',extent=ext); \n",
    "cbar1 = plt.colorbar(im1,fraction=0.04,pad=0.08,ax=ax); \n",
    "cbar1.set_label('Elevation, m',rotation=270,labelpad=20)\n",
    "\n",
    "#Hillshade\n",
    "im2 = plt.imshow(hs_data,cmap='Greys',alpha=.5,extent=ext); \n",
    "\n",
    "#Canopy\n",
    "im3 = plt.imshow(chm_data,cmap='Greens',alpha=0.6,extent=ext); \n",
    "cbar2 = plt.colorbar(im3,fraction=0.045,pad=0.04,ax=ax); cbar2.set_label('Canopy Height, m',rotation=270,labelpad=15)\n",
    "\n",
    "ax=plt.gca(); ax.ticklabel_format(useOffset=False, style='plain') #do not use scientific notation \n",
    "rotatexlabels = plt.setp(ax.get_xticklabels(),rotation=90) #rotate x tick labels 90 degrees\n",
    "plt.grid('on'); # plt.colorbar(); \n",
    "plt.title('Terrain, Hillshade, & Canopy Height');"
   ]
  }
 ],
 "metadata": {
  "kernelspec": {
   "display_name": "Python 3 (ipykernel)",
   "language": "python",
   "name": "python3"
  },
  "language_info": {
   "codemirror_mode": {
    "name": "ipython",
    "version": 3
   },
   "file_extension": ".py",
   "mimetype": "text/x-python",
   "name": "python",
   "nbconvert_exporter": "python",
   "pygments_lexer": "ipython3",
   "version": "3.9.12"
  }
 },
 "nbformat": 4,
 "nbformat_minor": 1
}
