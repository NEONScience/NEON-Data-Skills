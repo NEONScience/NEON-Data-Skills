{
 "cells": [
  {
   "cell_type": "markdown",
   "metadata": {},
   "source": [
    "---\n",
    "syncID: c67de95147e9414a88ea876f3fc5252b\n",
    "title: \"Mask Rasters Using Thresholds in Python\"\n",
    "description: \"Mask Lidar Aspect and Spectrometer NDVI rasters by threshold values in Python.\" \n",
    "dateCreated: 2017-06-21 \n",
    "authors: Bridget Hass\n",
    "contributors: \n",
    "estimatedTime: 45 minutes\n",
    "packagesLibraries: gdal, rasterio, requests, zipfile\n",
    "topics: lidar, raster, remote-sensing\n",
    "languagesTool: Python\n",
    "dataProduct: DP1.30003, DP3.30015, DP3.30024, DP3.30025\n",
    "code1: https://raw.githubusercontent.com/NEONScience/NEON-Data-Skills/main/tutorials/Python/AOP/Lidar/intro-lidar/mask-lidar-rasters/mask-rasters-py.ipynb\n",
    "tutorialSeries: intro-lidar-py-series\n",
    "urlTitle: mask-rasters-py\n",
    "---"
   ]
  },
  {
   "cell_type": "markdown",
   "metadata": {},
   "source": [
    "In this tutorial, we demonstrate how to remove parts of a raster based on pixel values using a mask we create. A mask raster layer contains pixel values of either 1 or 0 to where 1 represents pixels that will be used in the analysis and 0 are pixels that are assigned a value of nan (not a number). This can be useful in a number of scenarios, when you are interested in only a certain portion of the data, or need to remove poor-quality data, for example.\n",
    "\n",
    "<div id=\"ds-objectives\" markdown=\"1\">\n",
    "\n",
    "### Objectives\n",
    "\n",
    "After completing this tutorial, you will be able to:\n",
    "\n",
    "* User rasterio to read in NEON lidar aspect and vegetation indices geotiff files\n",
    "* Plot a raster tile and histogram of the data values\n",
    "* Create a mask based on values from the aspect and ndvi data\n",
    "\n",
    "### Install Python Packages\n",
    "\n",
    "* **gdal** \n",
    "* **rasterio**\n",
    "* **requests** \n",
    "* **zipfile**\n",
    "\n",
    "### Download Data\n",
    "\n",
    "For this lesson, we will read in a Canopy Height Model data collected at NEON's <a href=\"https://www.neonscience.org/field-sites/teak\" target=\"_blank\">Lower Teakettle (TEAK)</a> site in California. This data is downloaded in the first part of the tutorial, using the Python `requests` package.\n",
    "\n",
    "</div>\n",
    "\n",
    "<img src=\"http://neon-workwithdata.github.io/neon-data-institute-2016/images/spatialData/raster_masks.jpg\" style=\"width: 750px;\"/>"
   ]
  },
  {
   "cell_type": "markdown",
   "metadata": {},
   "source": [
    "## Lidar Elevation Models\n",
    "\n",
    "To start, we will open the NEON LiDAR Digital Surface and Digital Terrain Models (DSM and DTM) which are provided in geotiff (.tif) format. For this exercise we will continue working with the TEAK data subset. "
   ]
  },
  {
   "cell_type": "code",
   "execution_count": null,
   "metadata": {},
   "outputs": [],
   "source": [
    "import os\n",
    "import copy\n",
    "import numpy as np\n",
    "import numpy.ma as ma\n",
    "import rasterio as rio\n",
    "from rasterio.plot import show, show_hist\n",
    "import requests\n",
    "import zipfile\n",
    "import matplotlib.pyplot as plt\n",
    "from matplotlib import colors\n",
    "import matplotlib.patches as mpatches\n",
    "%matplotlib inline"
   ]
  },
  {
   "cell_type": "markdown",
   "metadata": {},
   "source": [
    "## Read in the datasets\n",
    "### Download Lidar Elevation Models and Vegetation Indices from TEAK"
   ]
  },
  {
   "cell_type": "code",
   "execution_count": null,
   "metadata": {},
   "outputs": [],
   "source": [
    "# function to download data stored on the internet in a public url to a local file\n",
    "def download_url(url,download_dir):\n",
    "    if not os.path.isdir(download_dir):\n",
    "        os.makedirs(download_dir)\n",
    "    filename = url.split('/')[-1]\n",
    "    r = requests.get(url, allow_redirects=True)\n",
    "    file_object = open(os.path.join(download_dir,filename),'wb')\n",
    "    file_object.write(r.content)"
   ]
  },
  {
   "cell_type": "code",
   "execution_count": null,
   "metadata": {},
   "outputs": [],
   "source": [
    "# define the urls for downloading the Aspect and NDVI geotiff tiles\n",
    "aspect_url = \"https://storage.googleapis.com/neon-aop-products/2021/FullSite/D17/2021_TEAK_5/L3/DiscreteLidar/AspectGtif/NEON_D17_TEAK_DP3_320000_4092000_aspect.tif\"\n",
    "ndvi_url = \"https://storage.googleapis.com/neon-aop-products/2021/FullSite/D17/2021_TEAK_5/L3/Spectrometer/VegIndices/NEON_D17_TEAK_DP3_320000_4092000_VegetationIndices.zip\"\n",
    "\n",
    "# download the raster data using the download_url function\n",
    "download_url(aspect_url,'.\\data')\n",
    "download_url(ndvi_url,'.\\data')\n",
    "\n",
    "# display the contents in the ./data folder to confirm the download completed\n",
    "os.listdir('./data')"
   ]
  },
  {
   "cell_type": "markdown",
   "metadata": {},
   "source": [
    "We can use `zipfile` to unzip the VegetationIndices folder in order to read the NDVI file (which is included in the zipped folder)."
   ]
  },
  {
   "cell_type": "code",
   "execution_count": null,
   "metadata": {},
   "outputs": [],
   "source": [
    "with zipfile.ZipFile(\"./data/NEON_D17_TEAK_DP3_320000_4092000_VegetationIndices.zip\",\"r\") as zip_ref:\n",
    "    zip_ref.extractall(\"./data\")"
   ]
  },
  {
   "cell_type": "code",
   "execution_count": null,
   "metadata": {},
   "outputs": [],
   "source": [
    "os.listdir('./data')"
   ]
  },
  {
   "cell_type": "code",
   "execution_count": null,
   "metadata": {},
   "outputs": [],
   "source": [
    "aspect_file = os.path.join(\"./data\",'NEON_D17_TEAK_DP3_320000_4092000_aspect.tif')\n",
    "aspect_dataset = rio.open(aspect_file)\n",
    "aspect_data = aspect_dataset.read(1)\n",
    "\n",
    "# preview the aspect data\n",
    "aspect_data"
   ]
  },
  {
   "cell_type": "code",
   "execution_count": null,
   "metadata": {},
   "outputs": [],
   "source": [
    "# define and view the spatial extent so we can use this for plotting later on\n",
    "ext = [aspect_dataset.bounds.left,\n",
    "       aspect_dataset.bounds.right,\n",
    "       aspect_dataset.bounds.bottom,\n",
    "       aspect_dataset.bounds.top]\n",
    "ext"
   ]
  },
  {
   "cell_type": "code",
   "execution_count": null,
   "metadata": {},
   "outputs": [],
   "source": [
    "fig, (ax1, ax2) = plt.subplots(1, 2, figsize=(14,6))\n",
    "aspect_map = show(aspect_dataset, ax=ax1);\n",
    "im = aspect_map.get_images()[0]\n",
    "fig.colorbar(im, label = 'Aspect (degrees)', ax=ax1) # add a colorbar\n",
    "ax1.ticklabel_format(useOffset=False, style='plain') # turn off scientific notation\n",
    "\n",
    "show_hist(aspect_dataset, bins=50, histtype='stepfilled',\n",
    "          lw=0.0, stacked=False, alpha=0.3, ax=ax2);\n",
    "ax2.set_xlabel(\"Canopy Height (meters)\");\n",
    "ax2.get_legend().remove()\n",
    "\n",
    "plt.show();"
   ]
  },
  {
   "cell_type": "markdown",
   "metadata": {},
   "source": [
    "Classify aspect by direction (North and South)"
   ]
  },
  {
   "cell_type": "code",
   "execution_count": null,
   "metadata": {},
   "outputs": [],
   "source": [
    "aspect_reclass = aspect_data.copy()\n",
    "\n",
    "# classify North and South as 1 & 2\n",
    "aspect_reclass[np.where(((aspect_data>=0) & (aspect_data<=45)) | (aspect_data>=315))] = 1 #North - Class 1\n",
    "aspect_reclass[np.where((aspect_data>=135) & (aspect_data<=225))] = 2 #South - Class 2\n",
    "# West and East are unclassified (nan)\n",
    "aspect_reclass[np.where(((aspect_data>45) & (aspect_data<135)) | ((aspect_data>225) & (aspect_data<315)))] = np.nan "
   ]
  },
  {
   "cell_type": "code",
   "execution_count": null,
   "metadata": {},
   "outputs": [],
   "source": [
    "ndvi_file = os.path.join(\"./data\",'NEON_D17_TEAK_DP3_320000_4092000_NDVI.tif')\n",
    "ndvi_dataset = rio.open(ndvi_file)\n",
    "ndvi_data = ndvi_dataset.read(1)"
   ]
  },
  {
   "cell_type": "code",
   "execution_count": null,
   "metadata": {},
   "outputs": [],
   "source": [
    "fig, (ax1, ax2) = plt.subplots(1, 2, figsize=(14,6))\n",
    "ndvi_map = show(ndvi_dataset, cmap = 'RdYlGn', ax=ax1);\n",
    "im = ndvi_map.get_images()[0]\n",
    "fig.colorbar(im, label = 'NDVI', ax=ax1) # add a colorbar\n",
    "ax1.ticklabel_format(useOffset=False, style='plain') # turn off scientific notation\n",
    "\n",
    "show_hist(ndvi_dataset, bins=50, histtype='stepfilled',\n",
    "          lw=0.0, stacked=False, alpha=0.3, ax=ax2);\n",
    "ax2.set_xlabel(\"NDVI\");\n",
    "ax2.get_legend().remove()\n",
    "\n",
    "plt.show();"
   ]
  },
  {
   "cell_type": "code",
   "execution_count": null,
   "metadata": {},
   "outputs": [],
   "source": [
    "# Plot classified aspect (N-S) array\n",
    "fig, ax = plt.subplots(1, 1, figsize=(6,6))\n",
    "cmap_NS = colors.ListedColormap(['blue','white','red'])\n",
    "plt.imshow(aspect_reclass,extent=ext,cmap=cmap_NS)\n",
    "plt.title('TEAK North & South Facing Slopes')\n",
    "ax=plt.gca(); ax.ticklabel_format(useOffset=False, style='plain') #do not use scientific notation \n",
    "rotatexlabels = plt.setp(ax.get_xticklabels(),rotation=90) #rotate x tick labels 90 degrees\n",
    "\n",
    "# Create custom legend to label N & S\n",
    "white_box = mpatches.Patch(facecolor='white',label='East, West, or NaN')\n",
    "blue_box = mpatches.Patch(facecolor='blue', label='North')\n",
    "red_box = mpatches.Patch(facecolor='red', label='South')\n",
    "ax.legend(handles=[white_box,blue_box,red_box],handlelength=0.7,bbox_to_anchor=(1.05, 0.45), \n",
    "          loc='lower left', borderaxespad=0.);"
   ]
  },
  {
   "cell_type": "markdown",
   "metadata": {},
   "source": [
    "## Mask Data by Aspect and NDVI\n",
    "Now that we have imported and converted the classified aspect and NDVI rasters to arrays, we can use information from these to find create a new raster consisting of pixels are North facing and have an NDVI > 0.4."
   ]
  },
  {
   "cell_type": "code",
   "execution_count": null,
   "metadata": {},
   "outputs": [],
   "source": [
    "#Mask out pixels that are north facing:\n",
    "# first make a copy of the ndvi array so we can further select a subset\n",
    "ndvi_gtpt4 = ndvi_data.copy()\n",
    "ndvi_gtpt4[ndvi_data<0.4]=np.nan\n",
    "\n",
    "fig, ax = plt.subplots(1, 1, figsize=(6,6))\n",
    "plt.imshow(ndvi_gtpt4,extent=ext)\n",
    "plt.colorbar(); plt.set_cmap('RdYlGn'); \n",
    "plt.title('TEAK NDVI > 0.4')\n",
    "ax=plt.gca(); ax.ticklabel_format(useOffset=False, style='plain') #do not use scientific notation \n",
    "rotatexlabels = plt.setp(ax.get_xticklabels(),rotation=90) #rotate x tick labels 90 degrees"
   ]
  },
  {
   "cell_type": "code",
   "execution_count": null,
   "metadata": {},
   "outputs": [],
   "source": [
    "#Now include additional requirement that slope is North-facing (i.e. aspectNS_array = 1)\n",
    "ndvi_gtpt4_Nslope = ndvi_gtpt4.copy()\n",
    "ndvi_gtpt4_Nslope[aspect_reclass != 1] = np.nan\n",
    "\n",
    "fig, ax = plt.subplots(1, 1, figsize=(6,6))\n",
    "plt.imshow(ndvi_gtpt4_Nslope,extent=ext)\n",
    "plt.colorbar(); plt.set_cmap('RdYlGn'); \n",
    "plt.title('TEAK, North Facing & NDVI > 0.4')\n",
    "ax=plt.gca(); ax.ticklabel_format(useOffset=False, style='plain') #do not use scientific notation \n",
    "rotatexlabels = plt.setp(ax.get_xticklabels(),rotation=90) #rotate x tick labels 90 degrees"
   ]
  },
  {
   "cell_type": "markdown",
   "metadata": {},
   "source": [
    "It looks like there aren't that many parts of the North facing slopes where the NDVI > 0.4. Can you think of why this might be? \n",
    "Hint: consider both ecological reasons and how the flight acquisition might affect NDVI.\n",
    "\n",
    "Let's also look at where NDVI > 0.4 on south facing slopes."
   ]
  },
  {
   "cell_type": "code",
   "execution_count": null,
   "metadata": {},
   "outputs": [],
   "source": [
    "#Now include additional requirement that slope is Sorth-facing (i.e. aspect_reclass = 2)\n",
    "ndvi_gtpt4_south = ndvi_gtpt4.copy()\n",
    "ndvi_gtpt4_south[aspect_reclass != 2] = np.nan\n",
    "\n",
    "plt.imshow(ndvi_gtpt4_south,extent=ext)\n",
    "plt.colorbar(); plt.set_cmap('RdYlGn'); \n",
    "plt.title('TEAK, South Facing & NDVI > 0.4')\n",
    "ax=plt.gca(); ax.ticklabel_format(useOffset=False, style='plain') #do not use scientific notation \n",
    "rotatexlabels = plt.setp(ax.get_xticklabels(),rotation=90) #rotate x tick labels 90 degrees"
   ]
  },
  {
   "cell_type": "markdown",
   "metadata": {},
   "source": [
    "## Export Masked Raster to Geotiff\n",
    "We can also use rasterio to write out the geotiff file. In this case, we will just copy over the metadata from the NDVI raster so that the projection information and everything else is correct. You could create your own metadata dictionary and change the coordinate system, etc. if you chose, but we will keep it simple for this example."
   ]
  },
  {
   "cell_type": "code",
   "execution_count": null,
   "metadata": {},
   "outputs": [],
   "source": [
    "out_meta = ndvi_dataset.meta.copy()\n",
    "with rio.open('TEAK_NDVIgtpt4_South.tif', 'w', **out_meta) as dst:\n",
    "    dst.write(ndvi_gtpt4_south, 1)"
   ]
  },
  {
   "cell_type": "markdown",
   "metadata": {},
   "source": [
    "For peace of mind, let's read back in this raster that we generated and confirm that the contents are identical to the array that we used to generate it. We can do this visually, by plotting it, and also with an equality test."
   ]
  },
  {
   "cell_type": "code",
   "execution_count": null,
   "metadata": {},
   "outputs": [],
   "source": [
    "out_file = \"TEAK_NDVIgtpt4_South.tif\"\n",
    "new_dataset = rio.open(out_file)\n",
    "show(new_dataset);"
   ]
  },
  {
   "cell_type": "code",
   "execution_count": null,
   "metadata": {},
   "outputs": [],
   "source": [
    "# use np.array_equal to check that the contents of the file we read back in is the same as the original array \n",
    "np.array_equal(new_dataset.read(1),ndvi_gtpt4_south,equal_nan=True)"
   ]
  }
 ],
 "metadata": {
  "kernelspec": {
   "display_name": "Python 3 (ipykernel)",
   "language": "python",
   "name": "python3"
  },
  "language_info": {
   "codemirror_mode": {
    "name": "ipython",
    "version": 3
   },
   "file_extension": ".py",
   "mimetype": "text/x-python",
   "name": "python",
   "nbconvert_exporter": "python",
   "pygments_lexer": "ipython3",
   "version": "3.9.12"
  }
 },
 "nbformat": 4,
 "nbformat_minor": 1
}
