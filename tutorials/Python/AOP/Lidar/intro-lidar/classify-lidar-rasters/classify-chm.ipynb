{
 "cells": [
  {
   "cell_type": "markdown",
   "metadata": {},
   "source": [
    "---\n",
    "syncID: b0860577d1994b6e8abd23a6edf9e005\n",
    "title: \"Classify a Lidar Raster in Python\"\n",
    "description: \"Read NEON lidar raster GeoTIFFs (e.g., CHM, slope, aspect) and create a classified raster object.\" \n",
    "dateCreated: 2018-07-04 \n",
    "authors: Bridget Hass\n",
    "contributors: Donal O'Leary, Max Burner\n",
    "estimatedTime: 30 minutes\n",
    "packagesLibraries: gdal, rasterio, requests\n",
    "topics: lidar, raster, remote-sensing\n",
    "languagesTool: Python\n",
    "dataProduct: DP1.30003, DP3.30015, DP3.30024, DP3.30025\n",
    "code1: https://raw.githubusercontent.com/NEONScience/NEON-Data-Skills/main/tutorials/Python/AOP/Lidar/intro-lidar/classify-lidar-rasters/classify-chm.ipynb\n",
    "tutorialSeries: intro-lidar-py-series\n",
    "urlTitle: classify-chm-py\n",
    "---"
   ]
  },
  {
   "cell_type": "markdown",
   "metadata": {},
   "source": [
    "This tutorial covers how to read in a NEON lidar Canopy Height Model (CHM) geotiff file into a Python `rasterio` object, shows some basic information about the raster data, and then ends with classifying the CHM into height bins.\n",
    "\n",
    "<div id=\"ds-objectives\" markdown=\"1\">\n",
    "\n",
    "### Objectives\n",
    "\n",
    "After completing this tutorial, you will be able to:\n",
    "\n",
    "* User rasterio to read in a NEON lidar raster geotiff file (e.g., CHM, slope aspect) \n",
    "* Plot a raster tile and histogram of the values\n",
    "* Create a classified raster object using thresholds\n",
    "\n",
    "### Install Python Packages\n",
    "\n",
    "* **gdal** \n",
    "* **rasterio**\n",
    "* **requests** \n",
    "\n",
    "### Download Data\n",
    "\n",
    "For this lesson, we will read in a Canopy Height Model data collected at NEON's <a href=\"https://www.neonscience.org/field-sites/teak\" target=\"_blank\">Lower Teakettle (TEAK)</a> site in California. This data is downloaded in the first part of the tutorial, using the Python `requests` package.\n",
    "\n",
    "</div>"
   ]
  },
  {
   "cell_type": "markdown",
   "metadata": {},
   "source": [
    "In this tutorial, we will work with the NEON AOP L3 LiDAR ecoysystem structure (Canopy Height Model) data product. For more information about NEON data products and the CHM product DP3.30015.001, see the <a href=\"http://data.neonscience.org/data-products/DP3.30015.001\" target=\"_blank\">Ecosystem structure</a> data product page on NEON's Data Portal. \n",
    "\n",
    "First, let's import the required packages and set our plot display to be in-line:"
   ]
  },
  {
   "cell_type": "code",
   "execution_count": null,
   "metadata": {},
   "outputs": [],
   "source": [
    "import os\n",
    "import copy\n",
    "import requests\n",
    "import numpy as np\n",
    "import rasterio as rio\n",
    "from rasterio.plot import show, show_hist\n",
    "import matplotlib.pyplot as plt\n",
    "%matplotlib inline"
   ]
  },
  {
   "cell_type": "markdown",
   "metadata": {},
   "source": [
    "Next, let's download a file. For this tutorial, we will use the `requests` package to download a raster file from the public link where the data is stored. For simplicity, we will show how to download to a data folder in the working directory. You can move the data to a different folder, but be sure to update the path to your data accordingly. "
   ]
  },
  {
   "cell_type": "code",
   "execution_count": null,
   "metadata": {},
   "outputs": [],
   "source": [
    "# function to download data stored on the internet in a public url to a local file\n",
    "def download_url(url,download_dir):\n",
    "    if not os.path.isdir(download_dir):\n",
    "        os.makedirs(download_dir)\n",
    "    filename = url.split('/')[-1]\n",
    "    r = requests.get(url, allow_redirects=True)\n",
    "    file_object = open(os.path.join(download_dir,filename),'wb')\n",
    "    file_object.write(r.content)"
   ]
  },
  {
   "cell_type": "code",
   "execution_count": null,
   "metadata": {},
   "outputs": [],
   "source": [
    "# public url where the CHM tile is stored\n",
    "chm_url = \"https://storage.googleapis.com/neon-aop-products/2021/FullSite/D17/2021_TEAK_5/L3/DiscreteLidar/CanopyHeightModelGtif/NEON_D17_TEAK_DP3_320000_4092000_CHM.tif\"\n",
    "\n",
    "# download the CHM tile\n",
    "download_url(chm_url,'.\\data')\n",
    "\n",
    "# display the contents in the ./data folder to confirm the download completed\n",
    "os.listdir('./data')"
   ]
  },
  {
   "cell_type": "markdown",
   "metadata": {},
   "source": [
    "## Open a GeoTIFF with `rasterio`\n",
    "\n",
    "Let's look at the TEAK Canopy Height Model (CHM) to start. We can open and read this in Python using the ```rasterio.open``` function:"
   ]
  },
  {
   "cell_type": "code",
   "execution_count": null,
   "metadata": {},
   "outputs": [],
   "source": [
    "# read the chm file (including the full path) to the variable chm_dataset\n",
    "chm_name = chm_url.split('/')[-1]\n",
    "chm_file = os.path.join(\".\\data\",chm_name)\n",
    "chm_dataset = rio.open(chm_file)"
   ]
  },
  {
   "cell_type": "markdown",
   "metadata": {},
   "source": [
    "Now we can look at a few properties of this dataset to start to get a feel for the rasterio object:"
   ]
  },
  {
   "cell_type": "code",
   "execution_count": null,
   "metadata": {},
   "outputs": [],
   "source": [
    "print('chm_dataset:\\n',chm_dataset)\n",
    "print('\\nshape:\\n',chm_dataset.shape)\n",
    "print('\\nno data value:\\n',chm_dataset.nodata)\n",
    "print('\\nspatial extent:\\n',chm_dataset.bounds)\n",
    "print('\\ncoordinate information (crs):\\n',chm_dataset.crs)"
   ]
  },
  {
   "cell_type": "markdown",
   "metadata": {},
   "source": [
    "## Plot the Canopy Height Map and Histogram\n",
    "\n",
    "We can use rasterio's built-in functions `show` and `show_hist` to plot and visualize the CHM tile. It is often useful to plot a histogram of the geotiff data in order to get a sense of the range and distribution of values. "
   ]
  },
  {
   "cell_type": "code",
   "execution_count": null,
   "metadata": {},
   "outputs": [],
   "source": [
    "fig, (ax1, ax2) = plt.subplots(1, 2, figsize=(12,5))\n",
    "show(chm_dataset, ax=ax1);\n",
    "\n",
    "show_hist(chm_dataset, bins=50, histtype='stepfilled',\n",
    "          lw=0.0, stacked=False, alpha=0.3, ax=ax2);\n",
    "ax2.set_xlabel(\"Canopy Height (meters)\");\n",
    "ax2.get_legend().remove()\n",
    "\n",
    "plt.show();"
   ]
  },
  {
   "cell_type": "markdown",
   "metadata": {},
   "source": [
    "On your own, adjust the number of bins, and range of the y-axis to get a better sense of the distribution of the canopy height values. We can see that a large portion of the values are zero. These correspond to bare ground. Let's look at a  histogram and plot the data without these zero values. To do this, we'll remove all values > 1 m. Due to the vertical range resolution of the lidar sensor, data collected with the Optech Gemini sensor can only resolve the ground to within 2 m, so anything below that height will be rounded down to zero. Our newer sensors (Riegl Q780 and Optech Galaxy) have a higher resolution, so the ground can be resolved to within ~0.7 m."
   ]
  },
  {
   "cell_type": "code",
   "execution_count": null,
   "metadata": {},
   "outputs": [],
   "source": [
    "chm_data = chm_dataset.read(1)\n",
    "valid_data = chm_data[chm_data>2]\n",
    "\n",
    "plt.hist(valid_data.flatten(),bins=30);"
   ]
  },
  {
   "cell_type": "markdown",
   "metadata": {},
   "source": [
    "From the histogram we can see that the majority of the trees are < 60m. But the taller trees are less common in this tile."
   ]
  },
  {
   "cell_type": "markdown",
   "metadata": {},
   "source": [
    "## Threshold Based Raster Classification\n",
    "Next, we will create a classified raster object. To do this, we will use the numpy.where function to create a new raster based off boolean classifications. Let's classify the canopy height into five groups:\n",
    "- Class 1: **CHM = 0 m** \n",
    "- Class 2: **0m < CHM <= 15m**\n",
    "- Class 3: **10m < CHM <= 30m**\n",
    "- Class 4: **20m < CHM <= 45m**\n",
    "- Class 5: **CHM > 50m**\n",
    "\n",
    "We can use `np.where` to find the indices where the specified criteria is met. "
   ]
  },
  {
   "cell_type": "code",
   "execution_count": null,
   "metadata": {},
   "outputs": [],
   "source": [
    "chm_reclass = chm_data.copy()\n",
    "chm_reclass[np.where(chm_data==0)] = 1 # CHM = 0 : Class 1\n",
    "chm_reclass[np.where((chm_data>0) & (chm_data<=10))] = 2 # 0m < CHM <= 10m - Class 2\n",
    "chm_reclass[np.where((chm_data>10) & (chm_data<=20))] = 3 # 10m < CHM <= 20m - Class 3\n",
    "chm_reclass[np.where((chm_data>20) & (chm_data<=30))] = 4 # 20m < CHM <= 30m - Class 4\n",
    "chm_reclass[np.where(chm_data>30)] = 5 # CHM > 30m - Class 5"
   ]
  },
  {
   "cell_type": "markdown",
   "metadata": {},
   "source": [
    "When we look at this variable, we can see that it is now populated with values between 1-5:"
   ]
  },
  {
   "cell_type": "code",
   "execution_count": null,
   "metadata": {},
   "outputs": [],
   "source": [
    "chm_reclass"
   ]
  },
  {
   "cell_type": "markdown",
   "metadata": {},
   "source": [
    "Lastly we can use matplotlib to display this re-classified CHM. We will define our own colormap to plot these discrete classifications, and create a custom legend to label the classes. First, to include the spatial information in the plot, create a new variable called `ext` that pulls from the rasterio \"bounds\" field to create the extent in the expected format for plotting."
   ]
  },
  {
   "cell_type": "code",
   "execution_count": null,
   "metadata": {},
   "outputs": [],
   "source": [
    "ext = [chm_dataset.bounds.left,\n",
    "       chm_dataset.bounds.right,\n",
    "       chm_dataset.bounds.bottom,\n",
    "       chm_dataset.bounds.top]\n",
    "ext"
   ]
  },
  {
   "cell_type": "code",
   "execution_count": null,
   "metadata": {},
   "outputs": [],
   "source": [
    "import matplotlib.colors as colors\n",
    "plt.figure(); \n",
    "cmap_chm = colors.ListedColormap(['lightblue','yellow','orange','green','red'])\n",
    "plt.imshow(chm_reclass,extent=ext,cmap=cmap_chm)\n",
    "plt.title('TEAK CHM Classification')\n",
    "ax=plt.gca(); ax.ticklabel_format(useOffset=False, style='plain') #do not use scientific notation \n",
    "rotatexlabels = plt.setp(ax.get_xticklabels(),rotation=90) #rotate x tick labels 90 degrees\n",
    "\n",
    "# Create custom legend to label the four canopy height classes:\n",
    "import matplotlib.patches as mpatches\n",
    "class1 = mpatches.Patch(color='lightblue', label='0 m')\n",
    "class2 = mpatches.Patch(color='yellow', label='0-15 m')\n",
    "class3 = mpatches.Patch(color='orange', label='15-30 m')\n",
    "class4 = mpatches.Patch(color='green', label='30-45 m')\n",
    "class5 = mpatches.Patch(color='red', label='>30 m')\n",
    "\n",
    "ax.legend(handles=[class1,class2,class3,class4,class5],\n",
    "          handlelength=0.7,bbox_to_anchor=(1.05, 0.4),loc='lower left',borderaxespad=0.);"
   ]
  },
  {
   "cell_type": "markdown",
   "metadata": {},
   "source": [
    "<div id=\"ds-challenge\" markdown=\"1\">\n",
    "\n",
    "**Challenge: Try Another Classification**\n",
    "\n",
    "Create the following threshold classified outputs:\n",
    "\n",
    "1. An NDVI raster where values are classified into the following categories:\n",
    "- Low greenness: NDVI < 0.3\n",
    "- Medium greenness: 0.3 < NDVI < 0.6\n",
    "- High greenness: NDVI > 0.6\n",
    "\n",
    "2. A classified aspect raster where the data is grouped into North and South facing slopes (or all four cardinal directions): \n",
    "- North: 0-45 & 315-360 degrees \n",
    "- South: 135-225 degrees\n",
    "\n",
    "</div>"
   ]
  }
 ],
 "metadata": {
  "kernelspec": {
   "display_name": "Python 3 (ipykernel)",
   "language": "python",
   "name": "python3"
  },
  "language_info": {
   "codemirror_mode": {
    "name": "ipython",
    "version": 3
   },
   "file_extension": ".py",
   "mimetype": "text/x-python",
   "name": "python",
   "nbconvert_exporter": "python",
   "pygments_lexer": "ipython3",
   "version": "3.9.12"
  }
 },
 "nbformat": 4,
 "nbformat_minor": 1
}
