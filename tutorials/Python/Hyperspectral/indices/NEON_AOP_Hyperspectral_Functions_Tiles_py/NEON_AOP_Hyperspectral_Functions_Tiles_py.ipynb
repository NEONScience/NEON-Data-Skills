{
 "cells": [
  {
   "cell_type": "markdown",
   "metadata": {},
   "source": [
    "---\n",
    "syncID: e046a83d83f2042d8b40dea1b20fd6779\n",
    "title: \"Band Stacking, RGB & False Color Images, and Interactive Widgets in Python - Tiled Data\"\n",
    "description: \"Learn to efficintly work with tiled NEON AOP spectral data using functions.\"\n",
    "dateCreated: 2017-06-19 \n",
    "authors: Bridget Hass\n",
    "contributors: Donal O'Leary\n",
    "estimatedTime: 0.5 hours\n",
    "packagesLibraries: numpy, matplotlib, h5py, os, osr, copy\n",
    "topics: hyperspectral-remote-sensing, HDF5, remote-sensing\n",
    "languagesTool: python\n",
    "dataProduct: NEON.DP3.30006, NEON.DP3.30008\n",
    "code1: https://raw.githubusercontent.com/NEONScience/NEON-Data-Skills/main/tutorials/Python/Hyperspectral/indices/NEON_AOP_Hyperspectral_Functions_Tiles_py/NEON_AOP_Hyperspectral_Functions_Tiles_py.ipynb\n",
    "tutorialSeries: intro-hsi-tiles-py-series\n",
    "urlTitle: neon-hsi-aop-functions-tiles-python\n",
    "---"
   ]
  },
  {
   "cell_type": "markdown",
   "metadata": {},
   "source": [
    "In the tutorial, we learn how to efficiently read in hdf5 data using h5py, \n",
    "apply the no-data value and scale factor, and plot a single band of a \n",
    "reflectance data tile using functions built for NEON AOP data.  We will \n",
    "introduce functions `aop_h5refl2array`, plot different combinations of \n",
    "bands, and demonstrate how to create `IPython widgets` for more interactive \n",
    "data visualization. \n",
    "\n",
    "<div id=\"ds-ojectives\" markdown=\"1\">\n",
    "\n",
    "### Objectives\n",
    "After completing this tutorial, you will be able to:\n",
    "\n",
    "* Upload a Python module\n",
    "* Efficiently work with NEON hyperspectral data using functions, including: \n",
    "\t+ Read in tiled NEON AOP reflectance hdf5 data and associated metadata\n",
    "\t+ Stack and plot 3-band combinations (eg. RGB, Color Infrared, False Color Images)\n",
    "* Use IPython widgets to explore RGB band combinations interactively \n",
    "* Understand how to write and use functions and loops to automate repeated processes\n",
    "\n",
    "### Install Python Packages\n",
    "\n",
    "* **numpy**\n",
    "* **pandas**\n",
    "* **gdal** \n",
    "* **matplotlib** \n",
    "* **h5py**\n",
    "\n",
    "\n",
    "### Download Data\n",
    "\n",
    "To complete this tutorial, you will use data available from the NEON 2017 Data\n",
    "Institute.\n",
    "\n",
    "This tutorial uses the following files:\n",
    "\n",
    "<ul>\n",
    "    <li> <a href=\"https://www.neonscience.org/sites/default/files/neon_aop_spectral_python_functions_tiled_data.zip\">neon_aop_spectral_python_functions_tiled_data.zip (10 KB)</a> <- Click to Download</li>\n",
    "    <li><a href=\"https://ndownloader.figshare.com/files/25752665\" target=\"_blank\">NEON_D02_SERC_DP3_368000_4306000_reflectance.h5 (618 MB)</a> <- Click to Download</li>\n",
    "</ul>\n",
    "\n",
    "<a href=\"https://ndownloader.figshare.com/files/25752665\" class=\"link--button link--arrow\">\n",
    "Download Dataset</a>\n",
    "\n",
    "The LiDAR and imagery data used to create this raster teaching data subset \n",
    "were collected over the \n",
    "<a href=\"http://www.neonscience.org/\" target=\"_blank\"> National Ecological Observatory Network's</a> \n",
    "<a href=\"http://www.neonscience.org/science-design/field-sites/\" target=\"_blank\" >field sites</a>\n",
    "and processed at NEON headquarters.\n",
    "The entire dataset can be accessed on the \n",
    "<a href=\"http://data.neonscience.org\" target=\"_blank\"> NEON data portal</a>.\n",
    "\n",
    "</div>\n"
   ]
  },
  {
   "cell_type": "markdown",
   "metadata": {},
   "source": [
    "\n",
    "We can combine any three bands from the NEON reflectance data to make an RGB \n",
    "image that will depict different information about the Earth's surface. \n",
    "A **natural color** image, made with bands from the red, green, and blue \n",
    "wavelengths looks close to what we would see with the naked eye. We can also \n",
    "choose band combinations from other wavelenghts, and map them to the red, blue, \n",
    "and green colors to highlight different features. A **false color** image is \n",
    "made with one or more bands from a non-visible portion of the electromagnetic \n",
    "spectrum that are mapped to red, green, and blue colors. These images can \n",
    "display other information about the landscape that is not easily seen with a \n",
    "natural color image. \n",
    "\n",
    "The NASA Goddard Media Studio video \"Peeling Back Landsat's Layers of Data\" \n",
    "gives a good quick overview of natural and false color band combinations. Note \n",
    "that Landsat collects information from 11 wavelength bands, while NEON AOP \n",
    "hyperspectral data collects information from 426 bands!\n",
    "\n",
    "#### Peeling Back Landsat's Layers of Data Video\n",
    "\n",
    "<iframe width=\"560\" height=\"315\" src=\"https://www.youtube.com/embed/YP0et8l_bvY\" frameborder=\"0\" allowfullscreen></iframe>\n",
    "\n",
    "\n",
    "### Further Reading\n",
    "\n",
    "* Check out the NASA Earth Observatory article \n",
    "<a href=\"https://earthobservatory.nasa.gov/Features/FalseColor/\" target=\"_blank\">How to Interpret a False-Color Satellite Image</a>. \n",
    "* Read the supporting article for the video above, \n",
    "<a href=\"https://svs.gsfc.nasa.gov//vis/a010000/a011400/a011491/index.html\" target=\"_blank\"> Landsat 8 Onion Skin</a>. \n",
    "\n",
    "\n",
    "## Load Function Module\n",
    "\n",
    "Before we get started, let's set up our plot and warning preferences:\n"
   ]
  },
  {
   "cell_type": "code",
   "execution_count": null,
   "metadata": {},
   "outputs": [],
   "source": [
    "import matplotlib.pyplot as plt\n",
    "import numpy as np\n",
    "import h5py, os, osr, copy\n",
    "%matplotlib inline\n",
    "import warnings\n",
    "warnings.filterwarnings('ignore')"
   ]
  },
  {
   "cell_type": "markdown",
   "metadata": {},
   "source": [
    "The first function we will use is `aop_h5refl2array`. This function is loaded into the cell below, we encourage you to look through the code to understand what it is doing -- most of these steps should look familiar to you from the first lesson. This function can be thought of as a wrapper to automate the steps required to read AOP hdf5 reflectance tiles into a Python format. This function also cleans the data: it sets any no data values within the reflectance tile to `nan` (not a number) and applies the reflectance scale factor so the final array that is returned represents unitless scaled reflectance, with values ranging between 0 and 1 (0-100%). "
   ]
  },
  {
   "cell_type": "code",
   "execution_count": null,
   "metadata": {},
   "outputs": [],
   "source": [
    "def aop_h5refl2array(refl_filename):\n",
    "    \"\"\"aop_h5refl2array reads in a NEON AOP reflectance hdf5 file and returns \n",
    "           1. reflectance array (with the no data value and reflectance scale factor applied)\n",
    "           2. dictionary of metadata including spatial information, and wavelengths of the bands\n",
    "    --------\n",
    "    Parameters\n",
    "        refl_filename -- full or relative path and name of reflectance hdf5 file\n",
    "    --------\n",
    "    Returns \n",
    "    --------\n",
    "    reflArray:\n",
    "        array of reflectance values\n",
    "    metadata:\n",
    "        dictionary containing the following metadata:\n",
    "            bad_band_window1 (tuple)\n",
    "            bad_band_window2 (tuple)\n",
    "            bands: # of bands (float)\n",
    "            data ignore value: value corresponding to no data (float)\n",
    "            epsg: coordinate system code (float)\n",
    "            map info: coordinate system, datum & ellipsoid, pixel dimensions, and origin coordinates (string)\n",
    "            reflectance scale factor: factor by which reflectance is scaled (float)\n",
    "            wavelength: wavelength values (float)\n",
    "            wavelength unit: 'm' (string)\n",
    "    --------\n",
    "    NOTE: This function applies to the NEON hdf5 format implemented in 2016, and should be used for\n",
    "    data acquired 2016 and after. Data in earlier NEON hdf5 format (collected prior to 2016) is \n",
    "    expected to be re-processed after the 2018 flight season. \n",
    "    --------\n",
    "    Example Execution:\n",
    "    --------\n",
    "    sercRefl, sercRefl_metadata = h5refl2array('NEON_D02_SERC_DP3_368000_4306000_reflectance.h5') \"\"\"\n",
    "    \n",
    "    import h5py\n",
    "    \n",
    "    #Read in reflectance hdf5 file \n",
    "    hdf5_file = h5py.File(refl_filename,'r')\n",
    "\n",
    "    #Get the site name\n",
    "    file_attrs_string = str(list(hdf5_file.items()))\n",
    "    file_attrs_string_split = file_attrs_string.split(\"'\")\n",
    "    sitename = file_attrs_string_split[1]\n",
    "    \n",
    "    #Extract the reflectance & wavelength datasets\n",
    "    refl = hdf5_file[sitename]['Reflectance']\n",
    "    reflData = refl['Reflectance_Data']\n",
    "    reflRaw = refl['Reflectance_Data'].value\n",
    "    \n",
    "    #Create dictionary containing relevant metadata information\n",
    "    metadata = {}\n",
    "    metadata['map info'] = refl['Metadata']['Coordinate_System']['Map_Info'].value\n",
    "    metadata['wavelength'] = refl['Metadata']['Spectral_Data']['Wavelength'].value\n",
    "\n",
    "    #Extract no data value & scale factor\n",
    "    metadata['data ignore value'] = float(reflData.attrs['Data_Ignore_Value'])\n",
    "    metadata['reflectance scale factor'] = float(reflData.attrs['Scale_Factor'])\n",
    "    #metadata['interleave'] = reflData.attrs['Interleave']\n",
    "    \n",
    "    #Apply no data value\n",
    "    reflClean = reflRaw.astype(float)\n",
    "    arr_size = reflClean.shape\n",
    "    if metadata['data ignore value'] in reflRaw:\n",
    "        print('% No Data: ',np.round(np.count_nonzero(reflClean==metadata['data ignore value'])*100/(arr_size[0]*arr_size[1]*arr_size[2]),1))\n",
    "        nodata_ind = np.where(reflClean==metadata['data ignore value'])\n",
    "        reflClean[nodata_ind]=np.nan \n",
    "    \n",
    "    #Apply scale factor\n",
    "    reflArray = reflClean/metadata['reflectance scale factor']\n",
    "    \n",
    "    #Extract spatial extent from attributes\n",
    "    metadata['spatial extent'] = reflData.attrs['Spatial_Extent_meters']\n",
    "    \n",
    "    #Extract bad band windows\n",
    "    metadata['bad band window1'] = (refl.attrs['Band_Window_1_Nanometers'])\n",
    "    metadata['bad band window2'] = (refl.attrs['Band_Window_2_Nanometers'])\n",
    "    \n",
    "    #Extract projection information\n",
    "    #metadata['projection'] = refl['Metadata']['Coordinate_System']['Proj4'].value\n",
    "    metadata['epsg'] = int(refl['Metadata']['Coordinate_System']['EPSG Code'].value)\n",
    "    \n",
    "    #Extract map information: spatial extent & resolution (pixel size)\n",
    "    mapInfo = refl['Metadata']['Coordinate_System']['Map_Info'].value\n",
    "    \n",
    "    hdf5_file.close        \n",
    "    \n",
    "    return reflArray, metadata"
   ]
  },
  {
   "cell_type": "markdown",
   "metadata": {},
   "source": [
    "If you forget what this function does, or don't want to scroll up to read the docstrings, remember you can use `help` or `?` to display the associated docstrings. "
   ]
  },
  {
   "cell_type": "code",
   "execution_count": null,
   "metadata": {},
   "outputs": [],
   "source": [
    "help(aop_h5refl2array)\n",
    "aop_h5refl2array?"
   ]
  },
  {
   "cell_type": "markdown",
   "metadata": {},
   "source": [
    "Now that we have an idea of how this function works, let's try it out. First, define the path where th e reflectance data is stored and use `os.path.join` to create the full path to the data file. Note that if you want to run this notebook later on a different reflectance tile, you just have to change this variable. "
   ]
  },
  {
   "cell_type": "code",
   "execution_count": null,
   "metadata": {},
   "outputs": [],
   "source": [
    "# Note you will need to update this filepath for your local machine\n",
    "serc_h5_tile = ('/Users/olearyd/Git/data/NEON_D02_SERC_DP3_368000_4306000_reflectance.h5') "
   ]
  },
  {
   "cell_type": "markdown",
   "metadata": {},
   "source": [
    "Now that we've specified our reflectance tile, we can call `aop_h5refl2array` to read in the reflectance tile as a python array called `sercRefl` , and the associated metadata into a dictionary `sercMetadata`"
   ]
  },
  {
   "cell_type": "code",
   "execution_count": null,
   "metadata": {},
   "outputs": [],
   "source": [
    "sercRefl,sercMetadata = aop_h5refl2array(serc_h5_tile)"
   ]
  },
  {
   "cell_type": "markdown",
   "metadata": {},
   "source": [
    "We can use the `shape` method to see the dimensions of the array we read in. NEON tiles are (1000 x 1000 x # of bands), the number of bands may vary depending on the hyperspectral sensor used, but should be in the vicinity of 426.  "
   ]
  },
  {
   "cell_type": "code",
   "execution_count": null,
   "metadata": {},
   "outputs": [],
   "source": [
    "sercRefl.shape"
   ]
  },
  {
   "cell_type": "markdown",
   "metadata": {},
   "source": [
    "## plot_aop_refl: plot a single band\n",
    "\n",
    "Next we'll use the function `plot_aop_refl` to plot a single band of reflectance data. Read the `Parameters` section of the docstring to understand the required inputs & data type for each of these; only the band and spatial extent are required inputs, the rest are optional inputs that, if specified, allow you to set the range color values, specify the axis, add a title, colorbar, colorbar title, and change the colormap (default is to plot in greyscale). "
   ]
  },
  {
   "cell_type": "code",
   "execution_count": null,
   "metadata": {},
   "outputs": [],
   "source": [
    "def plot_aop_refl(band_array,refl_extent,colorlimit=(0,1),ax=plt.gca(),title='',cbar ='on',cmap_title='',colormap='Greys'):\n",
    "    \n",
    "    '''plot_refl_data reads in and plots a single band or 3 stacked bands of a reflectance array\n",
    "    --------\n",
    "    Parameters\n",
    "    --------\n",
    "        band_array: array of reflectance values, created from aop_h5refl2array\n",
    "        refl_extent: extent of reflectance data to be plotted (xMin, xMax, yMin, yMax) \n",
    "                     use metadata['spatial extent'] from aop_h5refl2array function\n",
    "        colorlimit: optional, range of values to plot (min,max). \n",
    "                    - helpful to look at the histogram of reflectance values before plotting to determine colorlimit.\n",
    "        ax: optional, default = current axis\n",
    "        title: optional; plot title (string)\n",
    "        cmap_title: optional; colorbar title \n",
    "        colormap: optional (string, see https://matplotlib.org/examples/color/colormaps_reference.html) for list of colormaps\n",
    "    --------\n",
    "    Returns \n",
    "    --------\n",
    "        plots flightline array of single band of reflectance data\n",
    "    --------\n",
    "\n",
    "    Examples:\n",
    "    --------\n",
    "    plot_aop_refl(sercb56,\n",
    "              sercMetadata['spatial extent'],\n",
    "              colorlimit=(0,0.3),\n",
    "              title='SERC Band 56 Reflectance',\n",
    "              cmap_title='Reflectance',\n",
    "              colormap='Greys_r') '''\n",
    "    \n",
    "    import matplotlib.pyplot as plt\n",
    "    \n",
    "    plot = plt.imshow(band_array,extent=refl_extent,clim=colorlimit); \n",
    "    if cbar == 'on':\n",
    "        cbar = plt.colorbar(plot,aspect=40); plt.set_cmap(colormap); \n",
    "        cbar.set_label(cmap_title,rotation=90,labelpad=20)\n",
    "    plt.title(title); ax = plt.gca(); \n",
    "    ax.ticklabel_format(useOffset=False, style='plain'); #do not use scientific notation for ticklabels\n",
    "    rotatexlabels = plt.setp(ax.get_xticklabels(),rotation=90); #rotate x tick labels 90 degrees"
   ]
  },
  {
   "cell_type": "markdown",
   "metadata": {},
   "source": [
    "Now that we have loaded this function, let's extract a single band from the SERC reflectance array and plot it:"
   ]
  },
  {
   "cell_type": "code",
   "execution_count": null,
   "metadata": {},
   "outputs": [],
   "source": [
    "sercb56 = sercRefl[:,:,55]"
   ]
  },
  {
   "cell_type": "code",
   "execution_count": null,
   "metadata": {},
   "outputs": [],
   "source": [
    "plot_aop_refl(sercb56,\n",
    "              sercMetadata['spatial extent'],\n",
    "              colorlimit=(0,0.3),\n",
    "              title='SERC Band 56 Reflectance',\n",
    "              cmap_title='Reflectance',\n",
    "              colormap='Greys_r') "
   ]
  },
  {
   "cell_type": "markdown",
   "metadata": {},
   "source": [
    "## RGB Plots - Band Stacking\n",
    "It is often useful to look at several bands together. We can extract and stack three reflectance bands in the red, green, and blue (RGB) spectrums to produce a color image that looks like what we see with our eyes; this is your typical camera image. In the next part of this tutorial, we will learn to stack multiple bands and make a geotif raster from the compilation of these bands. We can see that different combinations of bands allow for different visualizations of the remotely-sensed objects and also conveys useful information about the chemical makeup of the Earth's surface. \n",
    "\n",
    "We will select bands that fall within the visible range of the electromagnetic \n",
    "spectrum (400-700 nm) and at specific points that correspond to what we see \n",
    "as red, green, and blue.\n",
    "\n",
    "<figure>\n",
    "\t<a href=\"https://raw.githubusercontent.com/NEONScience/NEON-Data-Skills/main/graphics/hyperspectral-general/spectrum_RGBcombined.png\">\n",
    "\t<img src=\"https://raw.githubusercontent.com/NEONScience/NEON-Data-Skills/main/graphics/hyperspectral-general/spectrum_RGBcombined.png\"></a>\n",
    "\t<figcaption> NEON Imaging Spectrometer bands and their respective nanometers. Source: National Ecological Observatory Network (NEON)  \n",
    "\t</figcaption>\n",
    "</figure>\n",
    "\n",
    "For this exercise, we'll first use the neon_aop_module function `stack_rgb` to extract the bands we want to stack. This function uses splicing to extract the nth band from the reflectance array, and then uses the numpy function `stack` to create a new 3D array (1000 x 1000 x 3) consisting of only the three bands we want. "
   ]
  },
  {
   "cell_type": "code",
   "execution_count": null,
   "metadata": {},
   "outputs": [],
   "source": [
    "def stack_rgb(reflArray,bands):\n",
    "    \n",
    "    import numpy as np\n",
    "    \n",
    "    red = reflArray[:,:,bands[0]-1]\n",
    "    green = reflArray[:,:,bands[1]-1]\n",
    "    blue = reflArray[:,:,bands[2]-1]\n",
    "    \n",
    "    stackedRGB = np.stack((red,green,blue),axis=2)\n",
    "    \n",
    "    return stackedRGB"
   ]
  },
  {
   "cell_type": "markdown",
   "metadata": {},
   "source": [
    "First, we will look at red, green, and blue bands, whos indices are defined below. To confirm that these band indices correspond to wavelengths in the expected portion of the spectrum, we can print out the wavelength values stored in `metadata['wavelength']`:"
   ]
  },
  {
   "cell_type": "code",
   "execution_count": null,
   "metadata": {},
   "outputs": [],
   "source": [
    "rgb_bands = (58,34,19)\n",
    "\n",
    "print('Band 58 Center Wavelength = %.2f' %(sercMetadata['wavelength'][57]),'nm')\n",
    "print('Band 33 Center Wavelength = %.2f' %(sercMetadata['wavelength'][33]),'nm')\n",
    "print('Band 19 Center Wavelength = %.2f' %(sercMetadata['wavelength'][18]),'nm')"
   ]
  },
  {
   "cell_type": "markdown",
   "metadata": {},
   "source": [
    "Below we use `stack_rgb` to create an RGB array. Check that the dimensions of this array are as expected.\n",
    "\n",
    "**Data Tip**: Checking the shape of arrays with `.shape` is a good habit to get into when creating your own workflows, and can be a handy tool for troubleshooting. "
   ]
  },
  {
   "cell_type": "code",
   "execution_count": null,
   "metadata": {},
   "outputs": [],
   "source": [
    "SERCrgb = stack_rgb(sercRefl,rgb_bands)\n",
    "SERCrgb.shape"
   ]
  },
  {
   "cell_type": "markdown",
   "metadata": {},
   "source": [
    "## plot_aop_refl: plot an RGB band combination\n",
    "\n",
    "Next, we can use the function `plot_aop_refl`, even though we have more than one band. This function only works for a single or 3-band array, so ensure the array you use has the proper dimensions before using. You do not need to specify the colorlimits as the `matplotlib.pyplot` automatically scales 3-band arrays to 8-bit color (256). "
   ]
  },
  {
   "cell_type": "code",
   "execution_count": null,
   "metadata": {},
   "outputs": [],
   "source": [
    "plot_aop_refl(SERCrgb,\n",
    "               sercMetadata['spatial extent'],\n",
    "               title='SERC RGB Image',\n",
    "               cbar='off') "
   ]
  },
  {
   "cell_type": "markdown",
   "metadata": {},
   "source": [
    "You'll notice that this image is very dark; it is possible to make out some of the features (roads, buildings), but it is not ideal. Since colorlimits don't apply to 3-band images, we have to use some other image processing tools to enhance the visibility of this image. "
   ]
  },
  {
   "cell_type": "markdown",
   "metadata": {},
   "source": [
    "## Image Processing -- Contrast Stretch & Histogram Equalization \n",
    "\n",
    "We can also try out some image processing routines to better visualize the reflectance data using the ```ski-image``` package. \n",
    "\n",
    "Histogram equalization is a method in image processing of contrast adjustment using the image's histogram. Stretching the histogram can improve the contrast of a displayed image by eliminating very high or low reflectance values that skew the display of the image. \n",
    "\n",
    " <figure>\n",
    "\t<a href=\"https://raw.githubusercontent.com/NEONScience/NEON-Data-Skills/main/graphics/hyperspectral-general/histogram_equalization.png\">\n",
    "\t<img src=\"https://raw.githubusercontent.com/NEONScience/NEON-Data-Skills/main/graphics/hyperspectral-general/histogram_equalization.png\"></a>\n",
    "\t<figcaption> Histogram equalization is a method in image processing of contrast adjustment \n",
    "using the image's histogram. Stretching the histogram can improve the contrast \n",
    "of a displayed image, as we will show how to do below.\n",
    "\tSource: <a href=\"https://en.wikipedia.org/wiki/Talk%3AHistogram_equalization#/media/File:Histogrammspreizung.png\"> Wikipedia - Public Domain </a>\n",
    "\t</figcaption>\n",
    "</figure>\n",
    "\n",
    "*The following tutorial section is adapted from skikit-image's tutorial\n",
    "<a href=\"http://scikit-image.org/docs/stable/auto_examples/color_exposure/plot_equalize.html#sphx-glr-auto-examples-color-exposure-plot-equalize-py\" target=\"_blank\"> Histogram Equalization</a>.*\n",
    "\n",
    "Let's see what the image looks like using a 5% linear contrast stretch using the `skiimage` module's `exposure` function."
   ]
  },
  {
   "cell_type": "code",
   "execution_count": null,
   "metadata": {},
   "outputs": [],
   "source": [
    "from skimage import exposure"
   ]
  },
  {
   "cell_type": "code",
   "execution_count": null,
   "metadata": {},
   "outputs": [],
   "source": [
    "def plot_aop_rgb(rgbArray,ext,ls_pct=5,plot_title=''):\n",
    "    \n",
    "    from skimage import exposure\n",
    "    \n",
    "    pLow, pHigh = np.percentile(rgbArray[~np.isnan(rgbArray)], (ls_pct,100-ls_pct))\n",
    "    img_rescale = exposure.rescale_intensity(rgbArray, in_range=(pLow,pHigh))\n",
    "    plt.imshow(img_rescale,extent=ext)\n",
    "    plt.title(plot_title + '\\n Linear ' + str(ls_pct) + '% Contrast Stretch'); \n",
    "    ax = plt.gca(); ax.ticklabel_format(useOffset=False, style='plain') #do not use scientific notation #\n",
    "    rotatexlabels = plt.setp(ax.get_xticklabels(),rotation=90) #rotate x tick labels 90 degree"
   ]
  },
  {
   "cell_type": "code",
   "execution_count": null,
   "metadata": {},
   "outputs": [],
   "source": [
    "plot_aop_rgb(SERCrgb,\n",
    "             sercMetadata['spatial extent'],\n",
    "             plot_title = 'SERC RGB')"
   ]
  },
  {
   "cell_type": "markdown",
   "metadata": {},
   "source": [
    "## False Color Image - Color Infrared (CIR)\n",
    "We can also create an image from bands outside of the visible spectrum. An image containing one or more bands outside of the visible range is called a **false-color image**. Here we'll use the green and blue bands as before, but we replace the red band with a near-infrared (NIR) band. \n",
    "\n",
    "For more information about non-visible wavelengths, false color images, and some frequently used false-color band combinations, refer to <a href=\"https://earthobservatory.nasa.gov/Features/FalseColor/\" target=\"_blank\">NASA's Earth Observatory page</a>.\n"
   ]
  },
  {
   "cell_type": "code",
   "execution_count": null,
   "metadata": {},
   "outputs": [],
   "source": [
    "CIRbands = (90,34,19)\n",
    "print('Band 90 Center Wavelength = %.2f' %(sercMetadata['wavelength'][89]),'nm')\n",
    "print('Band 34 Center Wavelength = %.2f' %(sercMetadata['wavelength'][33]),'nm')\n",
    "print('Band 19 Center Wavelength = %.2f' %(sercMetadata['wavelength'][18]),'nm')\n",
    "\n",
    "SERCcir = stack_rgb(sercRefl,CIRbands)\n",
    "plot_aop_rgb(SERCcir,\n",
    "             sercMetadata['spatial extent'],\n",
    "             ls_pct=2,\n",
    "             plot_title='SERC CIR')"
   ]
  },
  {
   "cell_type": "markdown",
   "metadata": {},
   "source": [
    "## Demo: Exploring Band Combinations Interactively\n",
    "\n",
    "Now that we have made a couple different band combinations, we can demo a Python `widget` to explore different combinations of bands in the visible and non-visible portions of the spectrum. "
   ]
  },
  {
   "cell_type": "code",
   "execution_count": null,
   "metadata": {},
   "outputs": [],
   "source": [
    "from IPython.html.widgets import *"
   ]
  },
  {
   "cell_type": "code",
   "execution_count": null,
   "metadata": {},
   "outputs": [],
   "source": [
    "array = copy.copy(sercRefl)\n",
    "metadata = copy.copy(sercMetadata)\n",
    "\n",
    "def RGBplot_widget(R,G,B):\n",
    "    \n",
    "    #Pre-allocate array  size\n",
    "    rgbArray = np.zeros((array.shape[0],array.shape[1],3), 'uint8')\n",
    "    \n",
    "    Rband = array[:,:,R-1].astype(np.float)\n",
    "    #Rband_clean = clean_band(Rband,Refl_md)\n",
    "    \n",
    "    Gband = array[:,:,G-1].astype(np.float)\n",
    "    #Gband_clean = clean_band(Gband,Refl_md)\n",
    "    \n",
    "    Bband = array[:,:,B-1].astype(np.float)\n",
    "    #Bband_clean = clean_band(Bband,Refl_md)\n",
    "    \n",
    "    rgbArray[..., 0] = Rband*256\n",
    "    rgbArray[..., 1] = Gband*256\n",
    "    rgbArray[..., 2] = Bband*256\n",
    "    \n",
    "    # Apply Adaptive Histogram Equalization to Improve Contrast:\n",
    "    \n",
    "    img_nonan = np.ma.masked_invalid(rgbArray) #first mask the image \n",
    "    img_adapteq = exposure.equalize_adapthist(img_nonan, clip_limit=0.10)\n",
    "    \n",
    "    plot = plt.imshow(img_adapteq,extent=metadata['spatial extent']); \n",
    "    plt.title('Bands: \\nR:' + str(R) + ' (' + str(round(metadata['wavelength'][R-1])) +'nm)'\n",
    "              + '\\n G:' + str(G) + ' (' + str(round(metadata['wavelength'][G-1])) + 'nm)'\n",
    "              + '\\n B:' + str(B) + ' (' + str(round(metadata['wavelength'][B-1])) + 'nm)'); \n",
    "    ax = plt.gca(); ax.ticklabel_format(useOffset=False, style='plain') \n",
    "    rotatexlabels = plt.setp(ax.get_xticklabels(),rotation=90) \n",
    "    \n",
    "interact(RGBplot_widget, R=(1,426,1), G=(1,426,1), B=(1,426,1))"
   ]
  },
  {
   "cell_type": "markdown",
   "metadata": {},
   "source": [
    "## Demo: Interactive Linear Stretch & Equalization\n",
    "\n",
    "Here is another widget to play around with, demonstrating how to interactively visualize linear contrast stretches with a variable percent. "
   ]
  },
  {
   "cell_type": "code",
   "execution_count": null,
   "metadata": {},
   "outputs": [],
   "source": [
    "rgbArray = copy.copy(SERCrgb)\n",
    "\n",
    "def linearStretch(percent):\n",
    "    pLow, pHigh = np.percentile(rgbArray[~np.isnan(rgbArray)], (percent,100-percent))\n",
    "    img_rescale = exposure.rescale_intensity(rgbArray, in_range=(pLow,pHigh))\n",
    "    plt.imshow(img_rescale,extent=sercMetadata['spatial extent'])\n",
    "    plt.title('SERC RGB \\n Linear ' + str(percent) + '% Contrast Stretch'); \n",
    "    ax = plt.gca()\n",
    "    ax.ticklabel_format(useOffset=False, style='plain') \n",
    "    rotatexlabels = plt.setp(ax.get_xticklabels(),rotation=90) \n",
    "\n",
    "interact(linearStretch,percent=(0,20,1))"
   ]
  },
  {
   "cell_type": "markdown",
   "metadata": {},
   "source": [
    "## References\n",
    "\n",
    "Kekesi, Alex et al. \n",
    "<a href=\"https://svs.gsfc.nasa.gov/vis/a010000/a011400/a011491/\" target=\"_blank\"> \"NASA | Peeling Back Landsat's Layers of Data\". </a>\n",
    "https://svs.gsfc.nasa.gov/vis/a010000/a011400/a011491/. Published on Feb 24, 2014.\n",
    "\n",
    "Riebeek, Holli. \n",
    "<a href=\"https://earthobservatory.nasa.gov/Features/FalseColor/\" target=\"_blank\"> \"Why is that Forest Red and that Cloud Blue? How to Interpret a False-Color Satellite Image\" </a> \n",
    "https://earthobservatory.nasa.gov/Features/FalseColor/ \n"
   ]
  }
 ],
 "metadata": {
  "kernelspec": {
   "display_name": "py37",
   "language": "python",
   "name": "py37"
  },
  "language_info": {
   "codemirror_mode": {
    "name": "ipython",
    "version": 3
   },
   "file_extension": ".py",
   "mimetype": "text/x-python",
   "name": "python",
   "nbconvert_exporter": "python",
   "pygments_lexer": "ipython3",
   "version": "3.7.7"
  },
  "widgets": {
   "state": {
    "3c0b9dc3198943dc810a7ba3a4c04249": {
     "views": [
      {
       "cell_index": 18
      }
     ]
    },
    "614fe957a514497bbb4c2b7059c09274": {
     "views": [
      {
       "cell_index": 27
      }
     ]
    },
    "908bc6883c354c2699a617c27ace9de7": {
     "views": [
      {
       "cell_index": 19
      }
     ]
    }
   },
   "version": "1.2.0"
  }
 },
 "nbformat": 4,
 "nbformat_minor": 2
}
