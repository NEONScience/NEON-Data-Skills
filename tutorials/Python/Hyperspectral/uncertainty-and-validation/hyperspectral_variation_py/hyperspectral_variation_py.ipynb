{
 "cells": [
  {
   "cell_type": "markdown",
   "metadata": {},
   "source": [
    "---\n",
    "syncID: bb90898de165446f9a0e92e1399f4697\n",
    "title: \"Hyperspectral Variation Uncertainty Analysis in Python\"\n",
    "description: \"Learn to analyze the difference between rasters taken a few days apart to assess the uncertainty between days.\" \n",
    "dateCreated: 2017-06-21 \n",
    "authors: Tristan Goulden\n",
    "contributors: Donal O'Leary\n",
    "estimatedTime: 0.5 hour\n",
    "packagesLibraries: numpy, gdal, matplotlib\n",
    "topics: hyperspectral-remote-sensing, remote-sensing\n",
    "languagesTool: python\n",
    "dataProduct: \n",
    "code1: Python/remote-sensing/uncertainty/hyperspectral_variation_py.ipynb\n",
    "tutorialSeries: rs-uncertainty-py-series\n",
    "urlTitle: hyperspectral-variation-py\n",
    "---"
   ]
  },
  {
   "cell_type": "markdown",
   "metadata": {},
   "source": [
    "\n",
    "This tutorial teaches how to open a NEON AOP HDF5 file with a function, \n",
    "batch processing several HDF5 files, relative comparison between several \n",
    "NIS observations of the same target from different view angles, error checking. \n",
    "\n",
    "<div id=\"ds-objectives\" markdown=\"1\">\n",
    "\n",
    "### Objectives\n",
    "\n",
    "After completing this tutorial, you will be able to:\n",
    "\n",
    "* Open NEON AOP HDF5 files using a function\n",
    "* Batch process several HDF5 files\n",
    "* Complete relative comparisons between several imaging spectrometer observations of the same target from different view angles \n",
    "* Error check the data. \n",
    "\n",
    "### Install Python Packages\n",
    "\n",
    "* **numpy**\n",
    "* **csv**\n",
    "* **gdal** \n",
    "* **matplotlib.pyplot** \n",
    "* **h5py** \n",
    "* **time**\n",
    "\n",
    "\n",
    "### Download Data\n",
    "\n",
    "To complete this tutorial, you will use data available from the NEON 2017 Data\n",
    "Institute teaching dataset available for download. \n",
    "\n",
    "This tutorial will use the files contained in the 'F07A' Directory in <a href=\"https://neondata.sharefile.com/share/view/cdc8242e24ad4517/fo0c2f24-c7d2-4c77-b297-015366afa9f4\" target=\"_blank\">this ShareFile Directory</a>. You will want to download the entire directory as a single ZIP file, then extract that file into a location where you store your data.\n",
    "\n",
    "<a href=\"https://neondata.sharefile.com/share/view/cdc8242e24ad4517/fo0c2f24-c7d2-4c77-b297-015366afa9f4\" class=\"link--button link--arrow\">\n",
    "Download Dataset</a>\n",
    "\n",
    "Caution: This dataset includes all the data for the 2017 Data Institute, \n",
    "including hyperspectral and lidar datasets and is therefore a large file (12 GB). \n",
    "Ensure that you have sufficient space on your \n",
    "hard drive before you begin the download. If not, download to an external \n",
    "hard drive and make sure to correct for the change in file path when working \n",
    "through the tutorial.\n",
    "\n",
    "The LiDAR and imagery data used to create this raster teaching data subset \n",
    "were collected over the \n",
    "<a href=\"http://www.neonscience.org/\" target=\"_blank\"> National Ecological Observatory Network's</a> \n",
    "<a href=\"http://www.neonscience.org/science-design/field-sites/\" target=\"_blank\" >field sites</a>\n",
    "and processed at NEON headquarters.\n",
    "The entire dataset can be accessed on the \n",
    "<a href=\"http://data.neonscience.org\" target=\"_blank\"> NEON data portal</a>.\n",
    "\n",
    "These data are a part of the NEON 2017 Remote Sensing Data Institute. The complete archive may be found here -<a href=\"https://neondata.sharefile.com/d-s11d5c8b9c53426db\"> NEON Teaching Data Subset: Data Institute 2017 Data Set</a>\n",
    "\n",
    "\n",
    "### Recommended Prerequisites\n",
    "\n",
    "We recommend you complete the following tutorials prior to this tutorial to have\n",
    "the necessary background. \n",
    "\n",
    "1.  <a href=\"https://www.neonscience.org/neon-aop-hdf5-py\"> *NEON AOP Hyperspectral Data in HDF5 format with Python*</a>\n",
    "1.  <a href=\"https://www.neonscience.org/neon-hsi-aop-functions-python\"> *Band Stacking, RGB & False Color Images, and Interactive Widgets in Python*</a>\n",
    "1.  <a href=\"https://www.neonscience.org/plot-spec-sig-python/\"> *Plot a Spectral Signature in Python*</a>\n",
    "\n",
    "\n",
    "</div>\n",
    "\n",
    "\n",
    "The NEON AOP has flown several special flight plans called BRDF \n",
    "(bi-directional reflectance distribution function) flights. These flights were \n",
    "designed to quantify the the effect of observing targets from a variety of \n",
    "different look-angles, and with varying surface roughness. This allows an \n",
    "assessment of the sensitivity of the NEON imaging spectrometer (NIS) results to these paraemters. THe BRDF \n",
    "flight plan takes the form of a star pattern with repeating overlapping flight \n",
    "lines in each direction. In the center of the pattern is an area where nearly \n",
    "all the flight lines overlap. This area allows us to retrieve a reflectance \n",
    "curve of the same targat from the many different flight lines to visualize \n",
    "how then change for each acquisition. The following figure displays a BRDF \n",
    "flight plan as well as the number of flightlines (samples) which are \n",
    "overlapping.  \n",
    "\n",
    "\n",
    "\n",
    " <figure>\n",
    "\t<a href=\"https://raw.githubusercontent.com/NEONScience/NEON-Data-Skills/main/graphics/neon-aop/ORNL_BRDF_flightlines.jpg\">\n",
    "\t<img src=\"https://raw.githubusercontent.com/NEONScience/NEON-Data-Skills/main/graphics/neon-aop/ORNL_BRDF_flightlines.jpg\"></a>\n",
    "</figure>\n",
    " <figure>\n",
    "\t<a href=\"https://raw.githubusercontent.com/NEONScience/NEON-Data-Skills/main/graphics/neon-aop/ORNL_NumberSamples.png\">\n",
    "\t<img src=\"https://raw.githubusercontent.com/NEONScience/NEON-Data-Skills/main/graphics/neon-aop/ORNL_NumberSamples.png\"></a>\n",
    "\t<figcaption> Top: Flight lines from a bi-directional reflectance distribution \n",
    "\tfunction flight at ORNL. Bottom: A graphical representation of the number of \n",
    "\tsamples in each area of the sampling.  \n",
    "\tSource: National Ecological Observatory Network (NEON)\n",
    "\t</figcaption>\n",
    "</figure>\n",
    "\n",
    "\n",
    "To date (June 2017), the NEON AOP has flown a BRDF flight at SJER and SOAP (D17) and \n",
    "ORNL (D07). We will work with the ORNL BRDF flight and retrieve reflectance \n",
    "curves from up to 18 lines and compare them to visualize the differences in the \n",
    "resulting curves. To reduce the file size, each of the BRDF flight lines have \n",
    "been reduced to a rectangular area covering where all lines are overlapping, \n",
    "additionally several of the ancillary rasters normally included have been \n",
    "removed in order to reduce file size. \n",
    "\n",
    "\n",
    "We'll start off by again adding necessary libraries and our NEON AOP HDF5 reader \n",
    "function.\n"
   ]
  },
  {
   "cell_type": "code",
   "execution_count": null,
   "metadata": {},
   "outputs": [],
   "source": [
    "import h5py\n",
    "import csv\n",
    "import numpy as np\n",
    "import os\n",
    "import gdal\n",
    "import matplotlib.pyplot as plt\n",
    "import sys\n",
    "from math import floor\n",
    "import time\n",
    "import warnings\n",
    "warnings.filterwarnings('ignore')\n",
    "\n",
    "def h5refl2array(h5_filename):\n",
    "    hdf5_file = h5py.File(h5_filename,'r')\n",
    "\n",
    "    #Get the site name\n",
    "    file_attrs_string = str(list(hdf5_file.items()))\n",
    "    file_attrs_string_split = file_attrs_string.split(\"'\")\n",
    "    sitename = file_attrs_string_split[1]\n",
    "    refl = hdf5_file[sitename]['Reflectance']\n",
    "    reflArray = refl['Reflectance_Data']\n",
    "    refl_shape = reflArray.shape\n",
    "    wavelengths = refl['Metadata']['Spectral_Data']['Wavelength']\n",
    "    #Create dictionary containing relevant metadata information\n",
    "    metadata = {}\n",
    "    metadata['shape'] = reflArray.shape\n",
    "    metadata['mapInfo'] = refl['Metadata']['Coordinate_System']['Map_Info']\n",
    "    #Extract no data value & set no data value to NaN\\n\",\n",
    "    metadata['scaleFactor'] = float(reflArray.attrs['Scale_Factor'])\n",
    "    metadata['noDataVal'] = float(reflArray.attrs['Data_Ignore_Value'])\n",
    "    metadata['bad_band_window1'] = (refl.attrs['Band_Window_1_Nanometers'])\n",
    "    metadata['bad_band_window2'] = (refl.attrs['Band_Window_2_Nanometers'])\n",
    "    metadata['projection'] = refl['Metadata']['Coordinate_System']['Proj4'].value\n",
    "    metadata['EPSG'] = int(refl['Metadata']['Coordinate_System']['EPSG Code'].value)\n",
    "    mapInfo = refl['Metadata']['Coordinate_System']['Map_Info'].value\n",
    "    mapInfo_string = str(mapInfo); #print('Map Info:',mapInfo_string)\\n\",\n",
    "    mapInfo_split = mapInfo_string.split(\",\")\n",
    "    #Extract the resolution & convert to floating decimal number\n",
    "    metadata['res'] = {}\n",
    "    metadata['res']['pixelWidth'] = mapInfo_split[5]\n",
    "    metadata['res']['pixelHeight'] = mapInfo_split[6]\n",
    "    #Extract the upper left-hand corner coordinates from mapInfo\\n\",\n",
    "    xMin = float(mapInfo_split[3]) #convert from string to floating point number\\n\",\n",
    "    yMax = float(mapInfo_split[4])\n",
    "    #Calculate the xMax and yMin values from the dimensions\\n\",\n",
    "    xMax = xMin + (refl_shape[1]*float(metadata['res']['pixelWidth'])) #xMax = left edge + (# of columns * resolution)\\n\",\n",
    "    yMin = yMax - (refl_shape[0]*float(metadata['res']['pixelHeight'])) #yMin = top edge - (# of rows * resolution)\\n\",\n",
    "    metadata['extent'] = (xMin,xMax,yMin,yMax),\n",
    "    metadata['ext_dict'] = {}\n",
    "    metadata['ext_dict']['xMin'] = xMin\n",
    "    metadata['ext_dict']['xMax'] = xMax\n",
    "    metadata['ext_dict']['yMin'] = yMin\n",
    "    metadata['ext_dict']['yMax'] = yMax\n",
    "    hdf5_file.close        \n",
    "    return reflArray, metadata, wavelengths\n",
    "\n",
    "print('Starting BRDF Analysis')"
   ]
  },
  {
   "cell_type": "markdown",
   "metadata": {},
   "source": [
    "First we will define the extents of the rectangular array containing the section from each BRDF flightline. "
   ]
  },
  {
   "cell_type": "code",
   "execution_count": null,
   "metadata": {},
   "outputs": [],
   "source": [
    "BRDF_rectangle = np.array([[740315,3982265],[740928,3981839]],np.float)"
   ]
  },
  {
   "cell_type": "markdown",
   "metadata": {},
   "source": [
    "Next we will define the coordinates of the target of interest. These can be set as any coordinate pait that falls within the rectangle above, therefore the coordaintes must be in UTM Zone 16 N.  "
   ]
  },
  {
   "cell_type": "code",
   "execution_count": null,
   "metadata": {},
   "outputs": [],
   "source": [
    "x_coord = 740600\n",
    "y_coord = 3982000"
   ]
  },
  {
   "cell_type": "markdown",
   "metadata": {},
   "source": [
    "To prevent the function of failing, we will first check to ensure the coordinates are within the rectangular bounding box. If they are not, we throw an error message and exit from the script."
   ]
  },
  {
   "cell_type": "code",
   "execution_count": null,
   "metadata": {},
   "outputs": [],
   "source": [
    "if BRDF_rectangle[0,0] <= x_coord <= BRDF_rectangle[1,0] and BRDF_rectangle[1,1] <= y_coord <= BRDF_rectangle[0,1]:\n",
    "    print('Point in bounding area')\n",
    "    y_index = floor(x_coord - BRDF_rectangle[0,0])\n",
    "    x_index = floor(BRDF_rectangle[0,1] - y_coord)\n",
    "else:\n",
    "    print('Point not in bounding area, exiting')\n",
    "    raise Exception('exit')"
   ]
  },
  {
   "cell_type": "markdown",
   "metadata": {},
   "source": [
    "Now we will define the location of the all the subset NEON AOP h5 files from the BRDF flight"
   ]
  },
  {
   "cell_type": "code",
   "execution_count": null,
   "metadata": {},
   "outputs": [],
   "source": [
    "## You will need to update this filepath for your local data directory\n",
    "h5_directory = \"/Users/olearyd/Git/data/F07A/\""
   ]
  },
  {
   "cell_type": "markdown",
   "metadata": {},
   "source": [
    "Now we will grab all files / folders within the defined directory and then cycle through them and retain only the h5files"
   ]
  },
  {
   "cell_type": "code",
   "execution_count": null,
   "metadata": {},
   "outputs": [],
   "source": [
    "files = os.listdir(h5_directory)\n",
    "h5_files = [i for i in files if i.endswith('.h5')]"
   ]
  },
  {
   "cell_type": "markdown",
   "metadata": {},
   "source": [
    "Now we will print the h5 files to make sure they have been included and set up a figure for plotting all of the reflectance curves"
   ]
  },
  {
   "cell_type": "code",
   "execution_count": null,
   "metadata": {},
   "outputs": [],
   "source": [
    "print(h5_files)\n",
    "\n",
    "fig=plt.figure()\n",
    "ax = plt.subplot(111)"
   ]
  },
  {
   "cell_type": "markdown",
   "metadata": {},
   "source": [
    "Now we will begin cycling through all of the h5 files and retrieving the information we need also print the file that is currently being processed\n",
    "\n",
    "Inside the for loop we will\n",
    "\n",
    "1) read in the reflectance data and the associated metadata, but construct the file name from the generated file list\n",
    "\n",
    "2) Determine the indexes of the water vapor bands (bad band windows) in order to mask out all of the bad bands\n",
    "\n",
    "3) Read in the reflectance dataset using the NEON AOP H5 reader function\n",
    "\n",
    "4) Check the first value the first value of the reflectance curve (actually any value). If it is equivalent to the NO DATA value, then coordainte chosen did not intersect a pixel for the flight line. We will just continue and move to the next line.\n",
    "\n",
    "5) Apply NaN values to the areas contianing the bad bands\n",
    "\n",
    "6) Split the contents of the file name so we can get the line number for labelling in the plot.\n",
    "\n",
    "7) Plot the curve\n",
    "\n"
   ]
  },
  {
   "cell_type": "code",
   "execution_count": null,
   "metadata": {},
   "outputs": [],
   "source": [
    "for file in h5_files:\n",
    "\n",
    "    print('Working on ' + file)\n",
    "    \n",
    "    [reflArray,metadata,wavelengths] = h5refl2array(h5_directory+file)\n",
    "    bad_band_window1 = (metadata['bad_band_window1'])\n",
    "    bad_band_window2 = (metadata['bad_band_window2'])\n",
    "\n",
    "    index_bad_window1 = [i for i, x in enumerate(wavelengths) if x > bad_band_window1[0] and x < bad_band_window1[1]]\n",
    "    index_bad_window2 = [i for i, x in enumerate(wavelengths) if x > bad_band_window2[0] and x < bad_band_window2[1]]\n",
    "    \n",
    "    index_bad_windows = index_bad_window1+index_bad_window2\n",
    "    reflectance_curve = np.asarray(reflArray[y_index,x_index,:], dtype=np.float32)\n",
    "    if reflectance_curve[0] == metadata['noDataVal']:\n",
    "        continue\n",
    "    reflectance_curve[index_bad_windows] = np.nan\n",
    "    filename_split = (file).split(\"_\") \n",
    "    ax.plot(wavelengths,reflectance_curve/metadata['scaleFactor'],label = filename_split[5]+' Reflectance')"
   ]
  },
  {
   "cell_type": "markdown",
   "metadata": {},
   "source": [
    "This plots the reflectance curves from all lines onto the same plot. Now, we will add the appropriate legend and plot labels, display and save the plot with the coordaintes in the file name so we can repeat the position of the target"
   ]
  },
  {
   "cell_type": "code",
   "execution_count": null,
   "metadata": {},
   "outputs": [],
   "source": [
    "box = ax.get_position()\n",
    "ax.set_position([box.x0, box.y0, box.width * 0.8, box.height])\n",
    "ax.legend(loc='center left',bbox_to_anchor=(1,0.5))\n",
    "plt.title('BRDF Reflectance Curves at ' + str(x_coord) +' '+ str(y_coord))\n",
    "plt.xlabel('Wavelength (nm)'); plt.ylabel('Refelctance (%)')\n",
    "fig.savefig('BRDF_uncertainty_at_' + str(x_coord) +'_'+ str(y_coord)+'.png',dpi=500,orientation='landscape',bbox_inches='tight',pad_inches=0.1)\n",
    "plt.show()"
   ]
  },
  {
   "cell_type": "markdown",
   "metadata": {},
   "source": [
    "It is possible that the figure above does not display properly, which is why we use the `fig.save()` method above to store the resulting figure as its own PNG file in the same directory as this Jupyter Notebook file.\n",
    "\n",
    "The result is a plot with all the curves in which we can visualize the difference in the observations simply by chaging the flight direction with repect to the ground target.\n",
    "\n",
    "Experiment with changing the coordinates to analyze different targets within the rectangle.\n",
    "\n"
   ]
  }
 ],
 "metadata": {
  "kernelspec": {
   "display_name": "py37",
   "language": "python",
   "name": "py37"
  },
  "language_info": {
   "codemirror_mode": {
    "name": "ipython",
    "version": 3
   },
   "file_extension": ".py",
   "mimetype": "text/x-python",
   "name": "python",
   "nbconvert_exporter": "python",
   "pygments_lexer": "ipython3",
   "version": "3.7.7"
  }
 },
 "nbformat": 4,
 "nbformat_minor": 2
}
