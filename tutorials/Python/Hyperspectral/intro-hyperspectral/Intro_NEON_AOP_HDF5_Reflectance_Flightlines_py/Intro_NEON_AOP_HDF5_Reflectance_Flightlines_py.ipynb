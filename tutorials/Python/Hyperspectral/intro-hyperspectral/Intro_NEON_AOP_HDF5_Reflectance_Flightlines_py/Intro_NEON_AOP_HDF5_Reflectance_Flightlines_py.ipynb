{
 "cells": [
  {
   "cell_type": "markdown",
   "metadata": {},
   "source": [
    "---\n",
    "syncID: 8491e02fec01499281d05f3b92409e27\n",
    "title: \"NEON AOP Hyperspectral Data in HDF5 format with Python - Flightlines\" \n",
    "description: \"Learn how to read NEON AOP hyperspectral flightline data using Python and develop skills to manipulate and visualize spectral data.\"\n",
    "dateCreated: 2017-04-10 \n",
    "authors: Bridget Hass\n",
    "contributors: Donal O'Leary\n",
    "estimatedTime: 1 hour\n",
    "packagesLibraries: numpy, h5py, gdal, matplotlib.pyplot\n",
    "topics: hyperspectral-remote-sensing, HDF5, remote-sensing\n",
    "languagesTool: python\n",
    "dataProduct: NEON.DP1.30006, NEON.DP1.30008\n",
    "code1: https://raw.githubusercontent.com/NEONScience/NEON-Data-Skills/main/tutorials/Python/Hyperspectral/intro-hyperspectral/Intro_NEON_AOP_HDF5_Reflectance_Flightlines_py/Intro_NEON_AOP_HDF5_Reflectance_Flightlines_py.ipynb\n",
    "tutorialSeries: intro-hsi-py-series\n",
    "urlTitle: neon-aop-hdf5-py\n",
    "---"
   ]
  },
  {
   "cell_type": "markdown",
   "metadata": {},
   "source": [
    "In this introductory tutorial, we discuss how to read NEON AOP hyperspectral flightline\n",
    "data using Python. We develop and practice skills and use several tools to manipulate and \n",
    "visualize the spectral data. By the end of this tutorial, you will become \n",
    "familiar with the Python syntax.\n",
    "\n",
    "If you are interested in learning how to do this for mosaic/tiled NEON AOP hyperspectral data, \n",
    "please see <a href=\"https://www.neonscience.org/resources/learning-hub/tutorials/neon-aop-hdf5-tile-py\" target=\"_blank\"> NEON AOP Hyperspectral Data in HDF5 format with Python - Tiles</a>.\n",
    "\n",
    "\n",
    "### Learning Objectives\n",
    "\n",
    "After completing this tutorial, you will be able to:\n",
    "\n",
    "*  Import and use Python packages `numpy, pandas, matplotlib, h5py, and gdal`.\n",
    "* Use the package `h5py` and the `visititems` functionality to read an HDF5 file \n",
    "and view data attributes.\n",
    "* Read the data ignore value and scaling factor and apply these values to produce \n",
    "a cleaned reflectance array.\n",
    "* Extract and plot a single band of reflectance data\n",
    "* Plot a histogram of reflectance values to visualize the range and distribution \n",
    "of values.\n",
    "* Subset an hdf5 reflectance file from the full flightline to a smaller region \n",
    "of interest (if you complete the optional extension). \n",
    "* Apply a histogram stretch and adaptive equalization to improve the contrast \n",
    "of an image (if you complete the optional extension) . \n",
    "\n",
    "\n",
    "### Install Python Packages\n",
    "\n",
    "* **numpy**\n",
    "* **pandas**\n",
    "* **gdal** \n",
    "* **matplotlib** \n",
    "* **h5py**\n",
    "\n",
    "\n",
    "### Download Data\n",
    "\n",
    "To complete this tutorial, you will use data available from the NEON 2017 Data\n",
    "Institute.\n",
    "\n",
    "This tutorial uses the following files:\n",
    "\n",
    "<ul>\n",
    "    <li> <a href=\"https://www.neonscience.org/sites/default/files/neon_aop_refl_hdf5_functions.py_.zip\">neon_aop_refl_hdf5_functions.py_.zip (5 KB)</a> <- Click to Download</li>\n",
    "    <li><a href=\"https://neondata.sharefile.com/share/view/cdc8242e24ad4517/fo2c5fc2-6f9e-4c25-97c2-ca8125c3a53a\" target=\"_blank\">NEON_D02_SERC_DP1_20160807_160559_reflectance.h5 (3.55 GB)</a> <- Click to Download</li>\n",
    "</ul>\n",
    "\n",
    "<a href=\"https://neondata.sharefile.com/share/view/cdc8242e24ad4517/fo2c5fc2-6f9e-4c25-97c2-ca8125c3a53a\" class=\"link--button link--arrow\">\n",
    "Download Dataset</a>\n",
    "\n",
    "The LiDAR and imagery data used to create this raster teaching data subset \n",
    "were collected over the \n",
    "<a href=\"http://www.neonscience.org/\" target=\"_blank\"> National Ecological Observatory Network's</a> \n",
    "<a href=\"http://www.neonscience.org/science-design/field-sites/\" target=\"_blank\" >field sites</a>\n",
    "and processed at NEON headquarters.\n",
    "The entire dataset can be accessed on the \n",
    "<a href=\"http://data.neonscience.org\" target=\"_blank\"> NEON data portal</a>.\n",
    "\n",
    "These data are a part of the NEON 2017 Remote Sensing Data Institute. The complete archive may be found here -<a href=\"https://neondata.sharefile.com/d-s11d5c8b9c53426db\"> NEON Teaching Data Subset: Data Institute 2017 Data Set</a>\n"
   ]
  },
  {
   "cell_type": "markdown",
   "metadata": {},
   "source": [
    "Hyperspectral remote sensing data is a useful tool for measuring changes to our \n",
    "environment at the Earth’s surface. In this tutorial we explore how to extract \n",
    "information from NEON AOP hyperspectral reflectance data, stored in HDF5 format. \n",
    "\n",
    "#### Mapping the Invisible: Introduction to Spectral Remote Sensing\n",
    "\n",
    "For more information on spectral remote sensing watch this video. \n",
    "\n",
    "<iframe width=\"560\" height=\"315\" src=\"https://www.youtube.com/embed/3iaFzafWJQE\" frameborder=\"0\" allowfullscreen></iframe>\n",
    "\n",
    "## Set up\n",
    "\n",
    "Before we start coding, make sure you are using the correct version of Python. \n",
    "The `gdal` package is currently compatible with Python versions 3.4 and earlier (May 2017). \n",
    "For this tutorial, we will use Python version 3.4. "
   ]
  },
  {
   "cell_type": "code",
   "execution_count": null,
   "metadata": {},
   "outputs": [],
   "source": [
    "#Check that you are using the correct version of Python (should be 3.4+, otherwise gdal won't work)\n",
    "import sys\n",
    "sys.version"
   ]
  },
  {
   "cell_type": "markdown",
   "metadata": {},
   "source": [
    "First let's import the required packages and set our display preferences so that plots are inline and plot warnings are off:"
   ]
  },
  {
   "cell_type": "code",
   "execution_count": null,
   "metadata": {},
   "outputs": [],
   "source": [
    "import numpy as np\n",
    "import h5py\n",
    "import gdal, osr\n",
    "import matplotlib.pyplot as plt\n",
    "%matplotlib inline\n",
    "import warnings\n",
    "warnings.filterwarnings('ignore')"
   ]
  },
  {
   "cell_type": "markdown",
   "metadata": {},
   "source": [
    "## Read hdf5 file into Python\n",
    "\n",
    "```f = h5py.File('file.h5','r')``` reads in an h5 file to the variable f. If the h5 file is stored in a different directory, make sure to include the relative path to that directory (In this example, the path is ../data/SERC/hypserspectral)"
   ]
  },
  {
   "cell_type": "code",
   "execution_count": null,
   "metadata": {},
   "outputs": [],
   "source": [
    "f = h5py.File('/Users/olearyd/Git/data/NEON_D02_SERC_DP1_20160807_160559_reflectance.h5','r')"
   ]
  },
  {
   "cell_type": "markdown",
   "metadata": {},
   "source": [
    "## Explore the Files\n",
    "\n",
    "We can look inside the HDF5 dataset with the ```h5py visititems``` function. The ```list_dataset``` function defined below displays all datasets stored in the hdf5 file and their locations within the hdf5 file:"
   ]
  },
  {
   "cell_type": "code",
   "execution_count": null,
   "metadata": {},
   "outputs": [],
   "source": [
    "#list_dataset lists the names of datasets in an hdf5 file\n",
    "def list_dataset(name,node):\n",
    "    if isinstance(node, h5py.Dataset):\n",
    "        print(name)\n",
    "\n",
    "f.visititems(list_dataset)"
   ]
  },
  {
   "cell_type": "markdown",
   "metadata": {},
   "source": [
    "We can display the name, shape, and type of each of these datasets using the ```ls_dataset``` function defined below, which is also called with ```visititems```: "
   ]
  },
  {
   "cell_type": "code",
   "execution_count": null,
   "metadata": {},
   "outputs": [],
   "source": [
    "#ls_dataset displays the name, shape, and type of datasets in hdf5 file\n",
    "def ls_dataset(name,node):\n",
    "    if isinstance(node, h5py.Dataset):\n",
    "        print(node)\n",
    "    \n",
    "f.visititems(ls_dataset)"
   ]
  },
  {
   "cell_type": "markdown",
   "metadata": {},
   "source": [
    "Now that we see the general structure of the hdf5 file, let's take a look at some of the information that is stored inside. Let's start by extracting the reflectance data, which is nested under SERC/Reflectance/Reflectance_Data.  "
   ]
  },
  {
   "cell_type": "code",
   "execution_count": null,
   "metadata": {},
   "outputs": [],
   "source": [
    "serc_refl = f['SERC']['Reflectance']\n",
    "print(serc_refl)"
   ]
  },
  {
   "cell_type": "markdown",
   "metadata": {},
   "source": [
    "The two members of the HDF5 group /SERC/Reflectance are *Metadata* and \n",
    "*Reflectance_Data*. Let's save the reflectance data as the variable `serc_reflArray`. "
   ]
  },
  {
   "cell_type": "code",
   "execution_count": null,
   "metadata": {},
   "outputs": [],
   "source": [
    "serc_reflArray = serc_refl['Reflectance_Data']\n",
    "print(serc_reflArray)"
   ]
  },
  {
   "cell_type": "markdown",
   "metadata": {},
   "source": [
    "We can extract the shape as follows: "
   ]
  },
  {
   "cell_type": "code",
   "execution_count": null,
   "metadata": {},
   "outputs": [],
   "source": [
    "refl_shape = serc_reflArray.shape\n",
    "print('SERC Reflectance Data Dimensions:',refl_shape)"
   ]
  },
  {
   "cell_type": "markdown",
   "metadata": {},
   "source": [
    "This corresponds to (y,x, # of bands), where (x,y) are the dimensions of the \n",
    "reflectance array in pixels (1m x 1m). Shape, in Python, is read Y, X, and \n",
    "number of bands so we see we have a flight path is 10852 pixels long and 1106 \n",
    "pixels wide. Note that some programs are row, column; not column, row and will\n",
    "give a reverse output.  The number of bands is 426 bands. All NEON hyperspectral data \n",
    "contains 426 wavelength bands. Let's take a look at the wavelength values."
   ]
  },
  {
   "cell_type": "code",
   "execution_count": null,
   "metadata": {},
   "outputs": [],
   "source": [
    "#View wavelength information and values\n",
    "\n",
    "wavelengths = serc_refl['Metadata']['Spectral_Data']['Wavelength']\n",
    "print(wavelengths)\n",
    "# print(wavelengths.value)\n",
    "# Display min & max wavelengths\n",
    "print('min wavelength:', np.amin(wavelengths),'nm')\n",
    "print('max wavelength:', np.amax(wavelengths),'nm')\n",
    "\n",
    "#show the band width \n",
    "print('band width =',(wavelengths.value[1]-wavelengths.value[0]),'nm')\n",
    "print('band width =',(wavelengths.value[-1]-wavelengths.value[-2]),'nm')"
   ]
  },
  {
   "cell_type": "markdown",
   "metadata": {},
   "source": [
    "The wavelengths recorded range from 383.66 - 2511.94 nm, and each band covers a range of ~5 nm. Now let's extract spatial information, which is stored under SERC/Reflectance/Metadata/Coordinate_System/Map_Info:"
   ]
  },
  {
   "cell_type": "code",
   "execution_count": null,
   "metadata": {},
   "outputs": [],
   "source": [
    "serc_mapInfo = serc_refl['Metadata']['Coordinate_System']['Map_Info']\n",
    "print('SERC Map Info:\\n',serc_mapInfo.value)"
   ]
  },
  {
   "cell_type": "markdown",
   "metadata": {},
   "source": [
    "**Understanding the output:**\n",
    "\n",
    "* The 4th and 5th columns of map info signify the coordinates of the map origin, \n",
    "which refers to the upper-left corner of the image  (xMin, yMax). \n",
    "* The letter **b** appears before UTM. This appears because the variable-length \n",
    "string data is stored in **b**inary format when it is written to the hdf5 file. \n",
    "Don't worry about it for now, as we will convert the numerical data we need in \n",
    "to floating point numbers. \n",
    "\n",
    "Learn more about HDF5 strings, on the \n",
    "<a href=\"http://docs.h5py.org/en/latest/strings.html\" target=\"_blank\">h5py Read the Docs</a>.\n",
    "\n",
    "Let's extract relevant information from the Map_Info metadata to define the \n",
    "spatial extent of this dataset:\n"
   ]
  },
  {
   "cell_type": "code",
   "execution_count": null,
   "metadata": {},
   "outputs": [],
   "source": [
    "#First convert mapInfo to a string, and divide into separate strings using a comma separator\n",
    "mapInfo_string = str(serc_mapInfo.value) #convert to string\n",
    "mapInfo_split = mapInfo_string.split(\",\") #split the strings using the separator \",\" \n",
    "print(mapInfo_split)"
   ]
  },
  {
   "cell_type": "markdown",
   "metadata": {},
   "source": [
    "Now we can extract the spatial information we need from the map info values, convert them to the appropriate data types (eg. float) and store it in a way that will enable us to access and apply it later: "
   ]
  },
  {
   "cell_type": "code",
   "execution_count": null,
   "metadata": {},
   "outputs": [],
   "source": [
    "#Extract the resolution & convert to floating decimal number\n",
    "res = float(mapInfo_split[5]),float(mapInfo_split[6])\n",
    "print('Resolution:',res)\n",
    "\n",
    "#Extract the upper left-hand corner coordinates from mapInfo\n",
    "xMin = float(mapInfo_split[3]) \n",
    "yMax = float(mapInfo_split[4])\n",
    "#Calculate the xMax and yMin values from the dimensions\n",
    "#xMax = left corner + (# of columns * resolution)\n",
    "xMax = xMin + (refl_shape[1]*res[0])\n",
    "yMin = yMax - (refl_shape[0]*res[1]) \n",
    "\n",
    "# print('xMin:',xMin) ; print('xMax:',xMax) \n",
    "# print('yMin:',yMin) ; print('yMax:',yMax) \n",
    "serc_ext = (xMin, xMax, yMin, yMax)\n",
    "print('serc_ext:',serc_ext)\n",
    "\n",
    "#Can also create a dictionary of extent:\n",
    "serc_extDict = {}\n",
    "serc_extDict['xMin'] = xMin\n",
    "serc_extDict['xMax'] = xMax\n",
    "serc_extDict['yMin'] = yMin\n",
    "serc_extDict['yMax'] = yMax\n",
    "print('serc_extDict:',serc_extDict)"
   ]
  },
  {
   "cell_type": "markdown",
   "metadata": {},
   "source": [
    "## Extract a Single Band from Array"
   ]
  },
  {
   "cell_type": "code",
   "execution_count": null,
   "metadata": {},
   "outputs": [],
   "source": [
    "print('b56 wavelngth:',wavelengths[56],\"nanometers\")\n",
    "b56 = serc_reflArray[:,:,55].astype(np.float)\n",
    "print('b56 type:',type(b56))\n",
    "print('b56 shape:',b56.shape)\n",
    "print('Band 56 Reflectance:\\n',b56)\n",
    "# plt.hist(b56.flatten())"
   ]
  },
  {
   "cell_type": "markdown",
   "metadata": {},
   "source": [
    "##  Scale factor and No Data Value\n",
    "\n",
    "This array represents the unscaled reflectance for band 56. Recall from exploring the HDF5 value in HDFViewer that the Data_Ignore_Value=-9999, and the Scale_Factor=10000.0.\n",
    "\n",
    " <figure>\n",
    "\t<a href=\"https://raw.githubusercontent.com/NEONScience/NEON-Data-Skills/main/graphics/HDF5-general/hdfview_SERCrefl.png\">\n",
    "\t<img src=\"https://raw.githubusercontent.com/NEONScience/NEON-Data-Skills/main/graphics/HDF5-general/hdfview_SERCrefl.png\"></a>\n",
    "\t<figcaption> Screenshot of the NEON HDF5 file format.\n",
    "\tSource: National Ecological Observatory Network\n",
    "\t</figcaption>\n",
    "</figure>\n",
    "\n",
    "\n",
    "We can extract and apply the no data value and scale factor as follows:"
   ]
  },
  {
   "cell_type": "code",
   "execution_count": null,
   "metadata": {},
   "outputs": [],
   "source": [
    "#View and apply scale factor and data ignore value\n",
    "scaleFactor = serc_reflArray.attrs['Scale_Factor']\n",
    "noDataValue = serc_reflArray.attrs['Data_Ignore_Value']\n",
    "print('Scale Factor:',scaleFactor)\n",
    "print('Data Ignore Value:',noDataValue)\n",
    "\n",
    "b56[b56==int(noDataValue)]=np.nan\n",
    "b56 = b56/scaleFactor\n",
    "print('Cleaned Band 56 Reflectance:\\n',b56)"
   ]
  },
  {
   "cell_type": "markdown",
   "metadata": {},
   "source": [
    "##  Plot histogram "
   ]
  },
  {
   "cell_type": "code",
   "execution_count": null,
   "metadata": {},
   "outputs": [],
   "source": [
    "plt.hist(b56[~np.isnan(b56)],50);\n",
    "plt.title('Histogram of SERC Band 56 Reflectance')\n",
    "plt.xlabel('Reflectance'); plt.ylabel('Frequency')"
   ]
  },
  {
   "cell_type": "markdown",
   "metadata": {},
   "source": [
    "## Plot Single Band\n",
    "\n",
    "Now we can plot this band using the Python package ```matplotlib.pyplot```, which we imported at the beginning of the lesson as ```plt```. Note that the default colormap is jet unless otherwise specified. We will explore using different colormaps a little later. "
   ]
  },
  {
   "cell_type": "code",
   "execution_count": null,
   "metadata": {},
   "outputs": [],
   "source": [
    "serc_fig = plt.figure(figsize=(20,10))\n",
    "ax1 = serc_fig.add_subplot(1,2,1)\n",
    "# serc_plot = ax1.imshow(b56,extent=serc_ext,cmap='jet',clim=(0,0.1)) \n",
    "serc_plot = ax1.imshow(b56,extent=serc_ext,cmap='jet') \n",
    "cbar = plt.colorbar(serc_plot,aspect=50); cbar.set_label('Reflectance')\n",
    "plt.title('SERC Band 56 Reflectance'); #ax = plt.gca(); \n",
    "ax1.ticklabel_format(useOffset=False, style='plain') #do not use scientific notation #\n",
    "rotatexlabels = plt.setp(ax1.get_xticklabels(),rotation=270) #rotate x tick labels 90 degree\n",
    "\n",
    "#  plot histogram of reflectance values (with 50 bins)\n",
    "ax2 = serc_fig.add_subplot(2,2,2)\n",
    "ax2.hist(b56[~np.isnan(b56)],50); \n",
    "plt.title('Histogram of SERC Reflectance')\n",
    "plt.xlabel('Reflectance'); plt.ylabel('Frequency')\n",
    "\n",
    "# plot histogram, zooming in on values < 0.5\n",
    "ax3 = serc_fig.add_subplot(2,2,4)\n",
    "ax3.hist(b56[~np.isnan(b56)],50); \n",
    "plt.title('Histogram of SERC Reflectance, 0-0.5')\n",
    "plt.xlabel('Reflectance'); plt.ylabel('Frequency')\n",
    "ax3.set_xlim([0,0.5])"
   ]
  },
  {
   "cell_type": "markdown",
   "metadata": {},
   "source": [
    "Note from both the plot and histogram of the reflectance values that almost all of the reflectance values range from 0.0-0.35. In order to see more contrast in the plot, we try out a couple things: \n",
    "\n",
    "1. adjust the color limits to only show the relevant range using the `imshow clim` option \n",
    "2. apply linear contrast stretch or histogram equalization "
   ]
  },
  {
   "cell_type": "code",
   "execution_count": null,
   "metadata": {},
   "outputs": [],
   "source": [
    "# Plot in grayscale with different color limits \n",
    "# Higher reflectance is lighter/brighter, lower reflectance is darker \n",
    "serc_fig2 = plt.figure(figsize=(15,15))\n",
    "ax1 = serc_fig2.add_subplot(1,3,1)\n",
    "serc_plot = ax1.imshow(b56,extent=serc_ext,cmap='gray',clim=(0,0.3)) \n",
    "cbar = plt.colorbar(serc_plot,aspect=50); cbar.set_label('Reflectance')\n",
    "plt.title('clim = 0-0.3'); #ax = plt.gca(); \n",
    "ax1.ticklabel_format(useOffset=False, style='plain') #do not use scientific notation #\n",
    "rotatexlabels = plt.setp(ax1.get_xticklabels(),rotation=270) #rotate x tick labels 90 degree\n",
    "\n",
    "ax2 = serc_fig2.add_subplot(1,3,2)\n",
    "serc_plot = ax2.imshow(b56,extent=serc_ext,cmap='gray',clim=(0,0.2)) \n",
    "cbar = plt.colorbar(serc_plot,aspect=50); cbar.set_label('Reflectance')\n",
    "plt.title('clim = 0-0.2'); #ax = plt.gca(); \n",
    "ax1.ticklabel_format(useOffset=False, style='plain') #do not use scientific notation #\n",
    "rotatexlabels = plt.setp(ax2.get_xticklabels(),rotation=270) #rotate x tick labels 90 degree\n",
    "\n",
    "ax3 = serc_fig2.add_subplot(1,3,3)\n",
    "serc_plot = ax3.imshow(b56,extent=serc_ext,cmap='gray',clim=(0,0.1)) \n",
    "cbar = plt.colorbar(serc_plot,aspect=50); cbar.set_label('Reflectance')\n",
    "plt.title('clim = 0-0.1'); #ax = plt.gca(); \n",
    "ax1.ticklabel_format(useOffset=False, style='plain') #do not use scientific notation #\n",
    "rotatexlabels = plt.setp(ax3.get_xticklabels(),rotation=270) #rotate x tick labels 90 degree"
   ]
  },
  {
   "cell_type": "markdown",
   "metadata": {},
   "source": [
    "## Extension: Plot a subset a flightline\n",
    "\n",
    "You may want to zoom in on a specific region within a flightline for further analysis. To do this, we need to subset the data, which requires the following steps:\n",
    "\n",
    "1. Define the spatial extent of the data subset (or clip) that we want to zoom in on.\n",
    "2. Determine the pixel indices of the full flightline that correspond to these spatial extents.\n",
    "3. Subscript the full flightline array with these indices to create a subset.\n",
    "\n",
    "For this exercise, we will zoom in on a region in the middle of this SERC flight line, around UTM y = 4306000 m. We will load the function ```calc_clip_index```, which reads in a dictionary of the spatial extent of the clipped region of interest, and a dictionary of the full extent of the array you are subsetting, and returns the pixel indices corresponding to the full flightline array. "
   ]
  },
  {
   "cell_type": "code",
   "execution_count": null,
   "metadata": {},
   "outputs": [],
   "source": [
    "def calc_clip_index(clipExtent, fullExtent, xscale=1, yscale=1):\n",
    "    \n",
    "    h5rows = fullExtent['yMax'] - fullExtent['yMin']\n",
    "    h5cols = fullExtent['xMax'] - fullExtent['xMin']    \n",
    "    \n",
    "    indExtent = {}\n",
    "    indExtent['xMin'] = round((clipExtent['xMin']-fullExtent['xMin'])/xscale)\n",
    "    indExtent['xMax'] = round((clipExtent['xMax']-fullExtent['xMin'])/xscale)\n",
    "    indExtent['yMax'] = round(h5rows - (clipExtent['yMin']-fullExtent['yMin'])/xscale)\n",
    "    indExtent['yMin'] = round(h5rows - (clipExtent['yMax']-fullExtent['yMin'])/yscale)\n",
    "\n",
    "    return indExtent"
   ]
  },
  {
   "cell_type": "code",
   "execution_count": null,
   "metadata": {},
   "outputs": [],
   "source": [
    "#Define clip extent\n",
    "clipExtent = {}\n",
    "clipExtent['xMin'] = 367400\n",
    "clipExtent['xMax'] = 368100\n",
    "clipExtent['yMin'] = 4305750\n",
    "clipExtent['yMax'] = 4306350"
   ]
  },
  {
   "cell_type": "markdown",
   "metadata": {},
   "source": [
    "Use this function to find the indices corresponding to the clip extent that we specified above for SERC:"
   ]
  },
  {
   "cell_type": "code",
   "execution_count": null,
   "metadata": {},
   "outputs": [],
   "source": [
    "serc_subInd = calc_clip_index(clipExtent,serc_extDict)\n",
    "print('SERC Subset Index:',serc_subInd)"
   ]
  },
  {
   "cell_type": "markdown",
   "metadata": {},
   "source": [
    "We can now use these indices to create a subsetted array, with dimensions 600 x 700 x 426."
   ]
  },
  {
   "cell_type": "code",
   "execution_count": null,
   "metadata": {},
   "outputs": [],
   "source": [
    "serc_subArray = serc_reflArray[serc_subInd['yMin']:serc_subInd['yMax'],serc_subInd['xMin']:serc_subInd['xMax'],:]\n",
    "serc_subExt = (clipExtent['xMin'],clipExtent['xMax'],clipExtent['yMin'],clipExtent['yMax'])\n",
    "print('SERC Reflectance Subset Dimensions:',serc_subArray.shape)"
   ]
  },
  {
   "cell_type": "markdown",
   "metadata": {},
   "source": [
    "Extract band 56 from this subset, and clean by applying the no data value and scale factor:"
   ]
  },
  {
   "cell_type": "code",
   "execution_count": null,
   "metadata": {},
   "outputs": [],
   "source": [
    "serc_b56_subset = serc_subArray[:,:,55].astype(np.float)\n",
    "serc_b56_subset[serc_b56_subset==int(noDataValue)]=np.nan\n",
    "serc_b56_subset = serc_b56_subset/scaleFactor\n",
    "#print(serc_b56_subset)"
   ]
  },
  {
   "cell_type": "markdown",
   "metadata": {},
   "source": [
    "Take a quick look at the minimum, maximum, and mean reflectance values in this subsetted area: "
   ]
  },
  {
   "cell_type": "code",
   "execution_count": null,
   "metadata": {},
   "outputs": [],
   "source": [
    "print('SERC Subsetted Band 56 Reflectance Stats:')\n",
    "print('min reflectance:',np.nanmin(serc_b56_subset))\n",
    "print('mean reflectance:',round(np.nanmean(serc_b56_subset),2))\n",
    "print('max reflectance:',round(np.nanmax(serc_b56_subset),2))"
   ]
  },
  {
   "cell_type": "markdown",
   "metadata": {},
   "source": [
    "Lastly, plot the data and a histogram of the reflectance values to see what the distribution looks like."
   ]
  },
  {
   "cell_type": "code",
   "execution_count": null,
   "metadata": {},
   "outputs": [],
   "source": [
    "fig = plt.figure(figsize=(15,5))\n",
    "ax1 = fig.add_subplot(1,2,1)\n",
    "serc_subset_plot = plt.imshow(serc_b56_subset,extent=serc_subExt,cmap='gist_earth') \n",
    "cbar = plt.colorbar(serc_subset_plot); cbar.set_label('Reflectance')\n",
    "plt.title('SERC Subset Band 56 Reflectance'); \n",
    "ax1.ticklabel_format(useOffset=False, style='plain') #do not use scientific notation #\n",
    "rotatexlabels = plt.setp(ax1.get_xticklabels(),rotation=90) #rotate x tick labels 90 degree\n",
    "\n",
    "ax2 = fig.add_subplot(1,2,2)\n",
    "plt.hist(serc_b56_subset[~np.isnan(serc_b56_subset)],50);\n",
    "plt.title('Histogram of SERC Subset Band 56 Reflectance')\n",
    "plt.xlabel('Reflectance'); plt.ylabel('Frequency')"
   ]
  },
  {
   "cell_type": "markdown",
   "metadata": {},
   "source": [
    "Note that most of the reflectance values are < 0.5, but the colorbar scale \n",
    "ranges from 0 - 1.6. This results in a low-contrast image; with this colormap, \n",
    "most of the image is blue, and the contents are difficult to discern. \n",
    "\n",
    "A few simple plot adjustments can be made to better display and visualize the \n",
    "reflectance data:\n",
    "\n",
    "* Other colormaps with the `cmap` option. For a list of colormaps, \n",
    "refer to <a href=\"http://matplotlib.org/examples/color/colormaps_reference.html\" target=\"_blank\"> Matplotlib's color example code</a>. \n",
    "*Note:* You can reverse the order of these colormaps by appending _r to the end \n",
    "(e.g., `spectral_r`).\n",
    "* Adjust the colorbar limits -- looking at the histogram, most of the \n",
    "reflectance data < 0.08, so you can adjust the maximum `clim` value for \n",
    "more visual contrast."
   ]
  },
  {
   "cell_type": "markdown",
   "metadata": {},
   "source": [
    " <div id=\"ds-challenge\" markdown=\"1\">\n",
    "\n",
    "### Challenge: Plot options to visualize the data\n",
    "\n",
    "Use the above suggestions to replot your previous plot to show other traits.  \n",
    "\n",
    "Example Challenge Code is shown at the end of this tutorial. \n",
    "\n",
    "</div>\n"
   ]
  },
  {
   "cell_type": "markdown",
   "metadata": {},
   "source": [
    "## Extension: Basic Image Processing -- Contrast Stretch & Histogram Equalization \n",
    "\n",
    "We can also try out some basic image processing to better visualize the \n",
    "reflectance data using the `ski-image` package. \n",
    "\n",
    "Histogram equalization is a method in image processing of contrast adjustment \n",
    "using the image's histogram. Stretching the histogram can improve the contrast \n",
    "of a displayed image, as we will show how to do below. \n",
    "\n",
    " <figure>\n",
    "\t<a href=\"https://raw.githubusercontent.com/NEONScience/NEON-Data-Skills/main/graphics/hyperspectral-general/histogram_equalization.png\">\n",
    "\t<img src=\"https://raw.githubusercontent.com/NEONScience/NEON-Data-Skills/main/graphics/hyperspectral-general/histogram_equalization.png\"></a>\n",
    "\t<figcaption> Histogram equalization is a method in image processing of contrast adjustment \n",
    "using the image's histogram. Stretching the histogram can improve the contrast \n",
    "of a displayed image, as we will show how to do below.\n",
    "\tSource: <a href=\"https://en.wikipedia.org/wiki/Talk%3AHistogram_equalization#/media/File:Histogrammspreizung.png\"> Wikipedia - Public Domain </a>\n",
    "\t</figcaption>\n",
    "</figure>\n",
    "\n",
    "\n",
    "*The following tutorial section is adapted from skikit-image's tutorial\n",
    "<a href=\"http://scikit-image.org/docs/stable/auto_examples/color_exposure/plot_equalize.html#sphx-glr-auto-examples-color-exposure-plot-equalize-py\" target=\"_blank\"> Histogram Equalization</a>.*\n",
    "\n",
    "Let's start with trying a 2% and 5% linear contrast stretch:"
   ]
  },
  {
   "cell_type": "code",
   "execution_count": null,
   "metadata": {},
   "outputs": [],
   "source": [
    "from skimage import exposure\n",
    "\n",
    "# Contrast stretching\n",
    "p2, p98 = np.percentile(serc_b56_subset[~np.isnan(serc_b56_subset)], (2, 98))\n",
    "img_rescale2pct = exposure.rescale_intensity(serc_b56_subset, in_range=(p2, p98))\n",
    "\n",
    "fig = plt.figure(figsize=(15,5))\n",
    "ax1 = fig.add_subplot(1,2,1)\n",
    "plt.imshow(img_rescale2pct,extent=serc_subExt,cmap='gist_earth') \n",
    "cbar = plt.colorbar(); cbar.set_label('Reflectance')\n",
    "plt.title('SERC Band 56 Subset \\n Linear 2% Contrast Stretch'); \n",
    "rotatexlabels = plt.setp(ax1.get_xticklabels(),rotation=90) #rotate x tick labels 90 degree\n",
    "\n",
    "p8, p92 = np.percentile(serc_b56_subset[~np.isnan(serc_b56_subset)], (8, 92))\n",
    "img_rescale8pct = exposure.rescale_intensity(serc_b56_subset, in_range=(p8, p92))\n",
    "\n",
    "ax2 = fig.add_subplot(1,2,2)\n",
    "plt.imshow(img_rescale8pct,extent=serc_subExt,cmap='gist_earth') \n",
    "cbar = plt.colorbar(); cbar.set_label('Reflectance')\n",
    "plt.title('SERC Band 56 Subset \\n Linear 8% Contrast Stretch'); \n",
    "rotatexlabels = plt.setp(ax2.get_xticklabels(),rotation=90) #rotate x tick labels 90 degree"
   ]
  },
  {
   "cell_type": "markdown",
   "metadata": {},
   "source": [
    "Notice that the 8% stretch image (right) washes out some of the objects with higher reflectance (eg. the dock & buildings), but does a better job showing contrast of the vegetation (eg. grass, trees, shadows). "
   ]
  },
  {
   "cell_type": "markdown",
   "metadata": {},
   "source": [
    "### Explore the contrast stretch feature interactively using Python widgets"
   ]
  },
  {
   "cell_type": "code",
   "execution_count": null,
   "metadata": {},
   "outputs": [],
   "source": [
    "from IPython.html.widgets import *\n",
    "\n",
    "def linearStretch(percent):\n",
    "    pLow, pHigh = np.percentile(serc_b56_subset[~np.isnan(serc_b56_subset)], (percent,100-percent))\n",
    "    img_rescale = exposure.rescale_intensity(serc_b56_subset, in_range=(pLow,pHigh))\n",
    "    plt.imshow(img_rescale,extent=serc_subExt,cmap='gist_earth') \n",
    "    cbar = plt.colorbar(); cbar.set_label('Reflectance')\n",
    "    plt.title('SERC Band 56 Subset \\n Linear ' + str(percent) + '% Contrast Stretch'); \n",
    "    ax = plt.gca()\n",
    "    ax.ticklabel_format(useOffset=False, style='plain') #do not use scientific notation #\n",
    "    rotatexlabels = plt.setp(ax.get_xticklabels(),rotation=90) #rotate x tick labels 90 degree\n",
    "    \n",
    "interact(linearStretch,percent=(0,100,1))"
   ]
  },
  {
   "cell_type": "markdown",
   "metadata": {},
   "source": [
    "### Apply Adaptive Histogram Equalization to Improve Image Contrast"
   ]
  },
  {
   "cell_type": "code",
   "execution_count": null,
   "metadata": {},
   "outputs": [],
   "source": [
    "#Adaptive Equalized Histogram\n",
    "img_nonan = np.ma.masked_invalid(serc_b56_subset) #first mask the image \n",
    "img_adapteq = exposure.equalize_adapthist(img_nonan, clip_limit=.05)\n",
    "print('img_adapteq min:',np.min(img_adapteq)) \n",
    "print('img_adapteq max:',np.max(img_adapteq))\n",
    "\n",
    "# Display Adaptively Equalized Image\n",
    "fig = plt.figure(figsize=(15,6))\n",
    "ax1 = fig.add_subplot(1,2,1)\n",
    "ax1.imshow(img_adapteq,extent=serc_subExt,cmap='gist_earth') \n",
    "rotatexlabels = plt.setp(ax1.get_xticklabels(),rotation=90) #rotate x tick labels 90 degree\n",
    "plt.title('SERC Band 56 Subset \\n Adaptive Equalized Histogram'); \n",
    "\n",
    "# Display histogram\n",
    "bins=100\n",
    "ax_hist = fig.add_subplot(1,2,2)\n",
    "ax_hist.hist(img_adapteq.ravel(),bins); #np.ravel flattens an array into one dimension\n",
    "plt.title('SERC Band 56 Subset \\n Adaptive Equalized Histogram'); \n",
    "ax_hist.set_xlabel('Pixel Intensity'); ax_hist.set_ylabel('# of Pixels')\n",
    "\n",
    "# Display cumulative distribution\n",
    "ax_cdf = ax_hist.twinx()\n",
    "img_cdf, bins = exposure.cumulative_distribution(img_adapteq,bins)\n",
    "ax_cdf.plot(bins, img_cdf, 'r')\n",
    "ax_cdf.set_ylabel('Fraction of Total Intensity')"
   ]
  },
  {
   "cell_type": "markdown",
   "metadata": {},
   "source": [
    "With contrast-limited adaptive histogram equalization, you can see more detail in the image, and the highly reflective objects are not washed out, as they were in the linearly-stretched images. "
   ]
  },
  {
   "cell_type": "markdown",
   "metadata": {},
   "source": [
    "## Download Function Module \n",
    "\n",
    "All of the functions we just wrote are available as a Python module. \n",
    "<a href=\"https://www.neonscience.org/sites/default/files/neon_aop_refl_hdf5_functions.py_.zip\">neon_aop_refl_hdf5_functions.py_.zip (5 KB)</a> <- Click to Download\n",
    "\n",
    "\n",
    "## Challenge Code Solutions\n",
    "\n",
    "### Challenge: Plot options to visualize the data"
   ]
  },
  {
   "cell_type": "code",
   "execution_count": null,
   "metadata": {},
   "outputs": [],
   "source": [
    "fig = plt.figure(figsize=(15,12))\n",
    "\n",
    "#spectral Colormap, 0-0.08\n",
    "ax1 = fig.add_subplot(2,2,1)\n",
    "serc_subset_plot = plt.imshow(serc_b56_subset,extent=serc_subExt,cmap='Spectral',clim=(0,0.08)) \n",
    "cbar = plt.colorbar(serc_subset_plot); cbar.set_label('Reflectance')\n",
    "plt.title('Subset SERC Band 56 Reflectance\\n spectral colormap, 0-0.08'); \n",
    "ax1.ticklabel_format(useOffset=False, style='plain') #do not use scientific notation #\n",
    "rotatexlabels = plt.setp(ax1.get_xticklabels(),rotation=90) #rotate x tick labels 90 degree\n",
    "\n",
    "#gist_earth colormap, 0-0.10\n",
    "ax2 = fig.add_subplot(2,2,2)\n",
    "serc_subset_plot = plt.imshow(serc_b56_subset,extent=serc_subExt,cmap='gist_earth',clim=(0,0.1)) \n",
    "cbar = plt.colorbar(serc_subset_plot); cbar.set_label('Reflectance')\n",
    "plt.title('Subset SERC Band 56 Reflectance\\n gist_earth colormap, 0-0.10'); \n",
    "ax2.ticklabel_format(useOffset=False, style='plain') #do not use scientific notation #\n",
    "rotatexlabels = plt.setp(ax2.get_xticklabels(),rotation=90) #rotate x tick labels 90 degree\n",
    "\n",
    "#YlGn_r colormap, 0-0.08\n",
    "ax3 = fig.add_subplot(2,2,3)\n",
    "serc_subset_plot = plt.imshow(serc_b56_subset,extent=serc_subExt,cmap='YlGn_r',clim=(0,0.08)) \n",
    "cbar = plt.colorbar(serc_subset_plot); cbar.set_label('Reflectance')\n",
    "plt.title('Subset SERC Band 56 Reflectance\\n YlGn_r colormap, 0-0.08'); \n",
    "ax3.ticklabel_format(useOffset=False, style='plain') #do not use scientific notation #\n",
    "rotatexlabels = plt.setp(ax3.get_xticklabels(),rotation=90) #rotate x tick labels 90 degree\n",
    "\n",
    "#For the last example, take the logarithm of the reflectance data to stretch the values:\n",
    "serc_b56_subset_log = np.log(serc_b56_subset); \n",
    "ax4 = fig.add_subplot(2,2,4)\n",
    "serc_subset_plot = plt.imshow(serc_b56_subset_log,extent=serc_subExt,cmap='jet',clim=(-5,-3)) \n",
    "cbar = plt.colorbar(serc_subset_plot); cbar.set_label('Log(Reflectance)')\n",
    "plt.title('Subset SERC log(Band 56 Reflectance)\\n jet colormap'); \n",
    "ax4.ticklabel_format(useOffset=False, style='plain') #do not use scientific notation #\n",
    "rotatexlabels = plt.setp(ax4.get_xticklabels(),rotation=90) #rotate x tick labels 90 degree"
   ]
  }
 ],
 "metadata": {
  "kernelspec": {
   "display_name": "py37",
   "language": "python",
   "name": "py37"
  },
  "language_info": {
   "codemirror_mode": {
    "name": "ipython",
    "version": 3
   },
   "file_extension": ".py",
   "mimetype": "text/x-python",
   "name": "python",
   "nbconvert_exporter": "python",
   "pygments_lexer": "ipython3",
   "version": "3.7.7"
  },
  "widgets": {
   "application/vnd.jupyter.widget-state+json": {
    "state": {
     "077ef6d113874e35a78aa95a12a8777d": {
      "model_module": "@jupyter-widgets/controls",
      "model_module_version": "1.5.0",
      "model_name": "SliderStyleModel",
      "state": {
       "_model_module": "@jupyter-widgets/controls",
       "_model_module_version": "1.5.0",
       "_model_name": "SliderStyleModel",
       "_view_count": null,
       "_view_module": "@jupyter-widgets/base",
       "_view_module_version": "1.2.0",
       "_view_name": "StyleView",
       "description_width": "",
       "handle_color": null
      }
     },
     "13fc332752f3464eb758ba058d5d8a98": {
      "model_module": "@jupyter-widgets/output",
      "model_module_version": "1.0.0",
      "model_name": "OutputModel",
      "state": {
       "_dom_classes": [],
       "_model_module": "@jupyter-widgets/output",
       "_model_module_version": "1.0.0",
       "_model_name": "OutputModel",
       "_view_count": null,
       "_view_module": "@jupyter-widgets/output",
       "_view_module_version": "1.0.0",
       "_view_name": "OutputView",
       "layout": "IPY_MODEL_54d52e8fe3764d15b24c515701b1818b",
       "msg_id": "",
       "outputs": []
      }
     },
     "499d44d8f41348cc82e21620ca7774ed": {
      "model_module": "@jupyter-widgets/controls",
      "model_module_version": "1.5.0",
      "model_name": "VBoxModel",
      "state": {
       "_dom_classes": [
        "widget-interact"
       ],
       "_model_module": "@jupyter-widgets/controls",
       "_model_module_version": "1.5.0",
       "_model_name": "VBoxModel",
       "_view_count": null,
       "_view_module": "@jupyter-widgets/controls",
       "_view_module_version": "1.5.0",
       "_view_name": "VBoxView",
       "box_style": "",
       "children": [
        "IPY_MODEL_84f0288fdf7e4f0ea14f39359fdaccdf",
        "IPY_MODEL_13fc332752f3464eb758ba058d5d8a98"
       ],
       "layout": "IPY_MODEL_6e4393a50e29456e88fbb120adceb6d6"
      }
     },
     "54d52e8fe3764d15b24c515701b1818b": {
      "model_module": "@jupyter-widgets/base",
      "model_module_version": "1.2.0",
      "model_name": "LayoutModel",
      "state": {
       "_model_module": "@jupyter-widgets/base",
       "_model_module_version": "1.2.0",
       "_model_name": "LayoutModel",
       "_view_count": null,
       "_view_module": "@jupyter-widgets/base",
       "_view_module_version": "1.2.0",
       "_view_name": "LayoutView",
       "align_content": null,
       "align_items": null,
       "align_self": null,
       "border": null,
       "bottom": null,
       "display": null,
       "flex": null,
       "flex_flow": null,
       "grid_area": null,
       "grid_auto_columns": null,
       "grid_auto_flow": null,
       "grid_auto_rows": null,
       "grid_column": null,
       "grid_gap": null,
       "grid_row": null,
       "grid_template_areas": null,
       "grid_template_columns": null,
       "grid_template_rows": null,
       "height": null,
       "justify_content": null,
       "justify_items": null,
       "left": null,
       "margin": null,
       "max_height": null,
       "max_width": null,
       "min_height": null,
       "min_width": null,
       "object_fit": null,
       "object_position": null,
       "order": null,
       "overflow": null,
       "overflow_x": null,
       "overflow_y": null,
       "padding": null,
       "right": null,
       "top": null,
       "visibility": null,
       "width": null
      }
     },
     "6e4393a50e29456e88fbb120adceb6d6": {
      "model_module": "@jupyter-widgets/base",
      "model_module_version": "1.2.0",
      "model_name": "LayoutModel",
      "state": {
       "_model_module": "@jupyter-widgets/base",
       "_model_module_version": "1.2.0",
       "_model_name": "LayoutModel",
       "_view_count": null,
       "_view_module": "@jupyter-widgets/base",
       "_view_module_version": "1.2.0",
       "_view_name": "LayoutView",
       "align_content": null,
       "align_items": null,
       "align_self": null,
       "border": null,
       "bottom": null,
       "display": null,
       "flex": null,
       "flex_flow": null,
       "grid_area": null,
       "grid_auto_columns": null,
       "grid_auto_flow": null,
       "grid_auto_rows": null,
       "grid_column": null,
       "grid_gap": null,
       "grid_row": null,
       "grid_template_areas": null,
       "grid_template_columns": null,
       "grid_template_rows": null,
       "height": null,
       "justify_content": null,
       "justify_items": null,
       "left": null,
       "margin": null,
       "max_height": null,
       "max_width": null,
       "min_height": null,
       "min_width": null,
       "object_fit": null,
       "object_position": null,
       "order": null,
       "overflow": null,
       "overflow_x": null,
       "overflow_y": null,
       "padding": null,
       "right": null,
       "top": null,
       "visibility": null,
       "width": null
      }
     },
     "84f0288fdf7e4f0ea14f39359fdaccdf": {
      "model_module": "@jupyter-widgets/controls",
      "model_module_version": "1.5.0",
      "model_name": "IntSliderModel",
      "state": {
       "_dom_classes": [],
       "_model_module": "@jupyter-widgets/controls",
       "_model_module_version": "1.5.0",
       "_model_name": "IntSliderModel",
       "_view_count": null,
       "_view_module": "@jupyter-widgets/controls",
       "_view_module_version": "1.5.0",
       "_view_name": "IntSliderView",
       "continuous_update": true,
       "description": "percent",
       "description_tooltip": null,
       "disabled": false,
       "layout": "IPY_MODEL_8cedec3837e940b98a05bd999ba21147",
       "max": 100,
       "min": 0,
       "orientation": "horizontal",
       "readout": true,
       "readout_format": "d",
       "step": 1,
       "style": "IPY_MODEL_077ef6d113874e35a78aa95a12a8777d",
       "value": 50
      }
     },
     "8cedec3837e940b98a05bd999ba21147": {
      "model_module": "@jupyter-widgets/base",
      "model_module_version": "1.2.0",
      "model_name": "LayoutModel",
      "state": {
       "_model_module": "@jupyter-widgets/base",
       "_model_module_version": "1.2.0",
       "_model_name": "LayoutModel",
       "_view_count": null,
       "_view_module": "@jupyter-widgets/base",
       "_view_module_version": "1.2.0",
       "_view_name": "LayoutView",
       "align_content": null,
       "align_items": null,
       "align_self": null,
       "border": null,
       "bottom": null,
       "display": null,
       "flex": null,
       "flex_flow": null,
       "grid_area": null,
       "grid_auto_columns": null,
       "grid_auto_flow": null,
       "grid_auto_rows": null,
       "grid_column": null,
       "grid_gap": null,
       "grid_row": null,
       "grid_template_areas": null,
       "grid_template_columns": null,
       "grid_template_rows": null,
       "height": null,
       "justify_content": null,
       "justify_items": null,
       "left": null,
       "margin": null,
       "max_height": null,
       "max_width": null,
       "min_height": null,
       "min_width": null,
       "object_fit": null,
       "object_position": null,
       "order": null,
       "overflow": null,
       "overflow_x": null,
       "overflow_y": null,
       "padding": null,
       "right": null,
       "top": null,
       "visibility": null,
       "width": null
      }
     }
    },
    "version_major": 2,
    "version_minor": 0
   }
  }
 },
 "nbformat": 4,
 "nbformat_minor": 1
}
