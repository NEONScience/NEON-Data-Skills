{
 "cells": [
  {
   "cell_type": "markdown",
   "metadata": {},
   "source": [
    "---\n",
    "syncID: 61ad1fc43ddd45b49cad1bca48656bbe\n",
    "title: \"NEON AOP Hyperspectral Data in HDF5 format with Python - Tiles\" \n",
    "description: \"Learn how to read NEON AOP hyperspectral flightline data using Python and develop skills to manipulate and visualize spectral data.\"\n",
    "dateCreated: 2018-07-04 \n",
    "authors: Bridget Hass\n",
    "contributors: \n",
    "estimatedTime: \n",
    "packagesLibraries: numpy, h5py, gdal, matplotlib.pyplot\n",
    "topics: hyperspectral-remote-sensing, HDF5, remote-sensing\n",
    "languagesTool: python\n",
    "dataProduct: NEON.DP3.30006, NEON.DP3.30008\n",
    "code1: Python/remote-sensing/hyperspectral-data/Intro_NEON_AOP_HDF5_Reflectance_Tiles_py.ipynb\n",
    "tutorialSeries: intro-hsi-py-series\n",
    "urlTitle: neon-aop-hdf5-tile-py\n",
    "---\n"
   ]
  },
  {
   "cell_type": "markdown",
   "metadata": {},
   "source": [
    "In this introductory tutorial, we discuss how to read NEON AOP hyperspectral flightline\n",
    "data using Python. We develop and practice skills and use several tools to manipulate and \n",
    "visualize the spectral data. By the end of this tutorial, you will become \n",
    "familiar with the Python syntax.\n",
    "\n",
    "If you are interested in learning how to do this for flightline NEON AOP hyperspectral data, \n",
    "please see <a href=\"/neon-aop-hdf5-py\" target=\"_blank\"> NEON AOP Hyperspectral Data in HDF5 format with Python - Flightlines</a>.\n",
    "\n",
    "\n",
    "### Learning Objectives\n",
    "\n",
    "After completing this tutorial, you will be able to:\n",
    "\n",
    "* Import and use Python packages `numpy, pandas, matplotlib, h5py, and gdal`.\n",
    "* Use the package `h5py` and the `visititems` functionality to read an HDF5 file \n",
    "and view data attributes.\n",
    "* Read the data ignore value and scaling factor and apply these values to produce \n",
    "a cleaned reflectance array.\n",
    "* Extract and plot a single band of reflectance data\n",
    "* Plot a histogram of reflectance values to visualize the range and distribution \n",
    "of values.\n",
    "* Subset an hdf5 reflectance file from the full flightline to a smaller region \n",
    "of interest (if you complete the optional extension). \n",
    "* Apply a histogram stretch and adaptive equalization to improve the contrast \n",
    "of an image (if you complete the optional extension) . \n",
    "\n",
    "\n",
    "### Install Python Packages\n",
    "\n",
    "* **numpy**\n",
    "* **pandas**\n",
    "* **gdal** \n",
    "* **matplotlib** \n",
    "* **h5py**\n",
    "\n",
    "\n",
    "### Download Data\n",
    "\n",
    "{% include/dataSubsets/_data_DI18.html %}\n",
    "\n",
    "\n"
   ]
  },
  {
   "cell_type": "markdown",
   "metadata": {},
   "source": [
    "Hyperspectral remote sensing data is a useful tool for measuring changes to our \n",
    "environment at the Earth’s surface. In this tutorial we explore how to extract \n",
    "information from a tile (1000m x 1000m x 426 bands) of NEON AOP orthorectified surface reflectance data, stored in hdf5 format. For more information on this data product, refer to the <a href=\"http://data.neonscience.org/data-products/DP3.30006.001\" target=\"_blank\">NEON Data Product Catalog</a>.\n",
    "\n",
    "#### Mapping the Invisible: Introduction to Spectral Remote Sensing\n",
    "\n",
    "For more information on spectral remote sensing watch this video. \n",
    "\n",
    "<iframe width=\"560\" height=\"315\" src=\"https://www.youtube.com/embed/3iaFzafWJQE\" frameborder=\"0\" allowfullscreen></iframe>\n",
    "\n",
    "\n",
    "## Set up\n",
    "\n",
    "Before we start coding, make sure you are using the correct version of Python. As of July 2018, the `gdal` package is compatible with Python versions 3.5 and earlier. For these lessons we will use Python version 3.5. "
   ]
  },
  {
   "cell_type": "code",
   "execution_count": 1,
   "metadata": {},
   "outputs": [
    {
     "data": {
      "text/plain": [
       "'3.5.4 |Anaconda, Inc.| (default, Nov  8 2017, 14:34:30) [MSC v.1900 64 bit (AMD64)]'"
      ]
     },
     "execution_count": 1,
     "metadata": {},
     "output_type": "execute_result"
    }
   ],
   "source": [
    "#Check that you are using the correct version of Python (should be 3.5 for these tutorials)\n",
    "import sys\n",
    "sys.version"
   ]
  },
  {
   "cell_type": "markdown",
   "metadata": {},
   "source": [
    "First let's import the required packages:"
   ]
  },
  {
   "cell_type": "code",
   "execution_count": 2,
   "metadata": {},
   "outputs": [],
   "source": [
    "import numpy as np\n",
    "import h5py\n",
    "import gdal, osr, os\n",
    "import matplotlib.pyplot as plt"
   ]
  },
  {
   "cell_type": "markdown",
   "metadata": {},
   "source": [
    "Next, set display preferences so that plots are inline (meaning any images you output from your code will show up below the cell in the notebook) and turn off plot warnings:"
   ]
  },
  {
   "cell_type": "code",
   "execution_count": 3,
   "metadata": {},
   "outputs": [],
   "source": [
    "%matplotlib inline\n",
    "import warnings\n",
    "warnings.filterwarnings('ignore')"
   ]
  },
  {
   "cell_type": "markdown",
   "metadata": {},
   "source": [
    "## Read in hdf5\n",
    "\n",
    "```f = h5py.File('file.h5','r')``` reads in an h5 file to the variable f. \n",
    "\n",
    "### Using the help\n",
    "We will be using a number of built-in and user-defined functions and methods throughout the tutorial. If you are uncertain what a certain function does, or how to call it, you can type `help()` or type a \n",
    "`?` at the end of the function or method and run the cell (either select Cell > Run Cells or Shift Enter with your cursor in the cell you want to run). The `?` will pop up a window at the bottom of the notebook displaying the function's `docstrings`, which includes information about the function and usage. We encourage you to use `help` and `?` throughout the tutorial as you come across functions you are unfamiliar with. Let's try this out with `h5py.File`:"
   ]
  },
  {
   "cell_type": "code",
   "execution_count": 4,
   "metadata": {},
   "outputs": [
    {
     "name": "stdout",
     "output_type": "stream",
     "text": [
      "Help on package h5py:\n",
      "\n",
      "NAME\n",
      "    h5py\n",
      "\n",
      "DESCRIPTION\n",
      "    This is the h5py package, a Python interface to the HDF5\n",
      "    scientific data format.\n",
      "\n",
      "PACKAGE CONTENTS\n",
      "    _conv\n",
      "    _errors\n",
      "    _hl (package)\n",
      "    _objects\n",
      "    _proxy\n",
      "    defs\n",
      "    h5\n",
      "    h5a\n",
      "    h5ac\n",
      "    h5d\n",
      "    h5ds\n",
      "    h5f\n",
      "    h5fd\n",
      "    h5g\n",
      "    h5i\n",
      "    h5l\n",
      "    h5o\n",
      "    h5p\n",
      "    h5r\n",
      "    h5s\n",
      "    h5t\n",
      "    h5z\n",
      "    highlevel\n",
      "    ipy_completer\n",
      "    tests (package)\n",
      "    utils\n",
      "    version\n",
      "\n",
      "SUBMODULES\n",
      "    filters\n",
      "\n",
      "FUNCTIONS\n",
      "    enable_ipython_completer()\n",
      "        Call this from an interactive IPython session to enable tab-completion\n",
      "        of group and attribute names.\n",
      "    \n",
      "    get_config(...)\n",
      "        () => H5PYConfig\n",
      "        \n",
      "        Get a reference to the global library configuration object.\n",
      "    \n",
      "    get_enum = py_get_enum(...)\n",
      "        (DTYPE dt_in) => DICT\n",
      "        \n",
      "        Deprecated; use check_dtype() instead.\n",
      "    \n",
      "    get_vlen = py_get_vlen(...)\n",
      "        (OBJECT dt_in) => TYPE\n",
      "        \n",
      "        Deprecated; use check_dtype() instead.\n",
      "    \n",
      "    new_enum = py_new_enum(...)\n",
      "        (DTYPE dt_in, DICT enum_vals) => DTYPE\n",
      "        \n",
      "        Deprecated; use special_dtype() instead.\n",
      "    \n",
      "    new_vlen = py_new_vlen(...)\n",
      "        (OBJECT kind) => DTYPE\n",
      "        \n",
      "        Deprecated; use special_dtype() instead.\n",
      "\n",
      "DATA\n",
      "    absolute_import = _Feature((2, 5, 0, 'alpha', 1), (3, 0, 0, 'alpha', 0...\n",
      "\n",
      "VERSION\n",
      "    2.7.1\n",
      "\n",
      "FILE\n",
      "    c:\\users\\bhass\\appdata\\local\\continuum\\anaconda3\\envs\\py35\\lib\\site-packages\\h5py\\__init__.py\n",
      "\n",
      "\n"
     ]
    }
   ],
   "source": [
    "help(h5py)"
   ]
  },
  {
   "cell_type": "code",
   "execution_count": 5,
   "metadata": {},
   "outputs": [],
   "source": [
    "h5py.File?"
   ]
  },
  {
   "cell_type": "markdown",
   "metadata": {},
   "source": [
    "Now that we have an idea of how to use `h5py` to read in an h5 file, let's try it out. Note that if the h5 file is stored in a different directory than where you are running your notebook, you need to include the path (either relative or absolute) to the directory where that data file is stored. Use `os.path.join` to create the full path of the file. "
   ]
  },
  {
   "cell_type": "code",
   "execution_count": 6,
   "metadata": {},
   "outputs": [],
   "source": [
    "f = h5py.File('../../data/NEON_D02_SERC_DP3_368000_4306000_reflectance.h5','r') "
   ]
  },
  {
   "cell_type": "markdown",
   "metadata": {},
   "source": [
    "## Explore NEON AOP HDF5 Reflectance Files\n",
    "\n",
    "We can look inside the HDF5 dataset with the ```h5py visititems``` function. The ```list_dataset``` function defined below displays all datasets stored in the hdf5 file and their locations within the hdf5 file:"
   ]
  },
  {
   "cell_type": "code",
   "execution_count": 7,
   "metadata": {},
   "outputs": [
    {
     "name": "stdout",
     "output_type": "stream",
     "text": [
      "SERC/Reflectance/Metadata/Ancillary_Imagery/Aerosol_Optical_Depth\n",
      "SERC/Reflectance/Metadata/Ancillary_Imagery/Aspect\n",
      "SERC/Reflectance/Metadata/Ancillary_Imagery/Cast_Shadow\n",
      "SERC/Reflectance/Metadata/Ancillary_Imagery/Dark_Dense_Vegetation_Classification\n",
      "SERC/Reflectance/Metadata/Ancillary_Imagery/Data_Selection_Index\n",
      "SERC/Reflectance/Metadata/Ancillary_Imagery/Haze_Cloud_Water_Map\n",
      "SERC/Reflectance/Metadata/Ancillary_Imagery/Illumination_Factor\n",
      "SERC/Reflectance/Metadata/Ancillary_Imagery/Path_Length\n",
      "SERC/Reflectance/Metadata/Ancillary_Imagery/Sky_View_Factor\n",
      "SERC/Reflectance/Metadata/Ancillary_Imagery/Slope\n",
      "SERC/Reflectance/Metadata/Ancillary_Imagery/Smooth_Surface_Elevation\n",
      "SERC/Reflectance/Metadata/Ancillary_Imagery/Visibility_Index_Map\n",
      "SERC/Reflectance/Metadata/Ancillary_Imagery/Water_Vapor_Column\n",
      "SERC/Reflectance/Metadata/Ancillary_Imagery/Weather_Quality_Indicator\n",
      "SERC/Reflectance/Metadata/Coordinate_System/Coordinate_System_String\n",
      "SERC/Reflectance/Metadata/Coordinate_System/EPSG Code\n",
      "SERC/Reflectance/Metadata/Coordinate_System/Map_Info\n",
      "SERC/Reflectance/Metadata/Coordinate_System/Proj4\n",
      "SERC/Reflectance/Metadata/Logs/160154/ATCOR_Input_file\n",
      "SERC/Reflectance/Metadata/Logs/160154/ATCOR_Processing_Log\n",
      "SERC/Reflectance/Metadata/Logs/160154/Shadow_Processing_Log\n",
      "SERC/Reflectance/Metadata/Logs/160154/Skyview_Processing_Log\n",
      "SERC/Reflectance/Metadata/Logs/160154/Solar_Azimuth_Angle\n",
      "SERC/Reflectance/Metadata/Logs/160154/Solar_Zenith_Angle\n",
      "SERC/Reflectance/Metadata/Logs/160742/ATCOR_Input_file\n",
      "SERC/Reflectance/Metadata/Logs/160742/ATCOR_Processing_Log\n",
      "SERC/Reflectance/Metadata/Logs/160742/Shadow_Processing_Log\n",
      "SERC/Reflectance/Metadata/Logs/160742/Skyview_Processing_Log\n",
      "SERC/Reflectance/Metadata/Logs/160742/Solar_Azimuth_Angle\n",
      "SERC/Reflectance/Metadata/Logs/160742/Solar_Zenith_Angle\n",
      "SERC/Reflectance/Metadata/Logs/161252/ATCOR_Input_file\n",
      "SERC/Reflectance/Metadata/Logs/161252/ATCOR_Processing_Log\n",
      "SERC/Reflectance/Metadata/Logs/161252/Shadow_Processing_Log\n",
      "SERC/Reflectance/Metadata/Logs/161252/Skyview_Processing_Log\n",
      "SERC/Reflectance/Metadata/Logs/161252/Solar_Azimuth_Angle\n",
      "SERC/Reflectance/Metadata/Logs/161252/Solar_Zenith_Angle\n",
      "SERC/Reflectance/Metadata/Spectral_Data/FWHM\n",
      "SERC/Reflectance/Metadata/Spectral_Data/Wavelength\n",
      "SERC/Reflectance/Metadata/to-sensor_azimuth_angle\n",
      "SERC/Reflectance/Metadata/to-sensor_zenith_angle\n",
      "SERC/Reflectance/Reflectance_Data\n"
     ]
    }
   ],
   "source": [
    "#list_dataset lists the names of datasets in an hdf5 file\n",
    "def list_dataset(name,node):\n",
    "    if isinstance(node, h5py.Dataset):\n",
    "        print(name)\n",
    "\n",
    "f.visititems(list_dataset)"
   ]
  },
  {
   "cell_type": "markdown",
   "metadata": {},
   "source": [
    "You can see that there is a lot of information stored inside this reflectance hdf5 file. Most of this information is *metadata* (data about the reflectance data), for example, this file stores input parameters used in the atmospheric correction. For this introductory lesson, we will only work with two of these datasets, the reflectance data (hyperspectral cube), and the corresponding geospatial information, stored in Metadata/Coordinate_System:\n",
    "\n",
    "- `SERC/Reflectance/Reflectance_Data`\n",
    "- `SERC/Reflectance/Metadata/Coordinate_System/`\n",
    "\n",
    "We can also display the name, shape, and type of each of these datasets using the `ls_dataset` function defined below, which is also called with the `visititems` method: "
   ]
  },
  {
   "cell_type": "code",
   "execution_count": 8,
   "metadata": {},
   "outputs": [],
   "source": [
    "#ls_dataset displays the name, shape, and type of datasets in hdf5 file\n",
    "def ls_dataset(name,node):\n",
    "    if isinstance(node, h5py.Dataset):\n",
    "        print(node)"
   ]
  },
  {
   "cell_type": "code",
   "execution_count": 9,
   "metadata": {},
   "outputs": [],
   "source": [
    "#to see what the visititems methods does, type ? at the end:\n",
    "f.visititems?"
   ]
  },
  {
   "cell_type": "code",
   "execution_count": 10,
   "metadata": {},
   "outputs": [
    {
     "name": "stdout",
     "output_type": "stream",
     "text": [
      "<HDF5 dataset \"Aerosol_Optical_Depth\": shape (1000, 1000), type \"<i2\">\n",
      "<HDF5 dataset \"Aspect\": shape (1000, 1000), type \"<f4\">\n",
      "<HDF5 dataset \"Cast_Shadow\": shape (1000, 1000), type \"|u1\">\n",
      "<HDF5 dataset \"Dark_Dense_Vegetation_Classification\": shape (1000, 1000), type \"|u1\">\n",
      "<HDF5 dataset \"Data_Selection_Index\": shape (1000, 1000), type \"<i4\">\n",
      "<HDF5 dataset \"Haze_Cloud_Water_Map\": shape (1000, 1000), type \"|u1\">\n",
      "<HDF5 dataset \"Illumination_Factor\": shape (1000, 1000), type \"|u1\">\n",
      "<HDF5 dataset \"Path_Length\": shape (1000, 1000), type \"<f4\">\n",
      "<HDF5 dataset \"Sky_View_Factor\": shape (1000, 1000), type \"|u1\">\n",
      "<HDF5 dataset \"Slope\": shape (1000, 1000), type \"<f4\">\n",
      "<HDF5 dataset \"Smooth_Surface_Elevation\": shape (1000, 1000), type \"<f4\">\n",
      "<HDF5 dataset \"Visibility_Index_Map\": shape (1000, 1000), type \"|u1\">\n",
      "<HDF5 dataset \"Water_Vapor_Column\": shape (1000, 1000), type \"<f4\">\n",
      "<HDF5 dataset \"Weather_Quality_Indicator\": shape (1000, 1000, 3), type \"|u1\">\n",
      "<HDF5 dataset \"Coordinate_System_String\": shape (), type \"|O\">\n",
      "<HDF5 dataset \"EPSG Code\": shape (), type \"|O\">\n",
      "<HDF5 dataset \"Map_Info\": shape (), type \"|O\">\n",
      "<HDF5 dataset \"Proj4\": shape (), type \"|O\">\n",
      "<HDF5 dataset \"ATCOR_Input_file\": shape (), type \"|O\">\n",
      "<HDF5 dataset \"ATCOR_Processing_Log\": shape (), type \"|O\">\n",
      "<HDF5 dataset \"Shadow_Processing_Log\": shape (), type \"|O\">\n",
      "<HDF5 dataset \"Skyview_Processing_Log\": shape (), type \"|O\">\n",
      "<HDF5 dataset \"Solar_Azimuth_Angle\": shape (), type \"<f4\">\n",
      "<HDF5 dataset \"Solar_Zenith_Angle\": shape (), type \"<f4\">\n",
      "<HDF5 dataset \"ATCOR_Input_file\": shape (), type \"|O\">\n",
      "<HDF5 dataset \"ATCOR_Processing_Log\": shape (), type \"|O\">\n",
      "<HDF5 dataset \"Shadow_Processing_Log\": shape (), type \"|O\">\n",
      "<HDF5 dataset \"Skyview_Processing_Log\": shape (), type \"|O\">\n",
      "<HDF5 dataset \"Solar_Azimuth_Angle\": shape (), type \"<f4\">\n",
      "<HDF5 dataset \"Solar_Zenith_Angle\": shape (), type \"<f4\">\n",
      "<HDF5 dataset \"ATCOR_Input_file\": shape (), type \"|O\">\n",
      "<HDF5 dataset \"ATCOR_Processing_Log\": shape (), type \"|O\">\n",
      "<HDF5 dataset \"Shadow_Processing_Log\": shape (), type \"|O\">\n",
      "<HDF5 dataset \"Skyview_Processing_Log\": shape (), type \"|O\">\n",
      "<HDF5 dataset \"Solar_Azimuth_Angle\": shape (), type \"<f4\">\n",
      "<HDF5 dataset \"Solar_Zenith_Angle\": shape (), type \"<f4\">\n",
      "<HDF5 dataset \"FWHM\": shape (426,), type \"<f4\">\n",
      "<HDF5 dataset \"Wavelength\": shape (426,), type \"<f4\">\n",
      "<HDF5 dataset \"to-sensor_azimuth_angle\": shape (1000, 1000), type \"<f4\">\n",
      "<HDF5 dataset \"to-sensor_zenith_angle\": shape (1000, 1000), type \"<f4\">\n",
      "<HDF5 dataset \"Reflectance_Data\": shape (1000, 1000, 426), type \"<i2\">\n"
     ]
    }
   ],
   "source": [
    "f.visititems(ls_dataset)"
   ]
  },
  {
   "cell_type": "markdown",
   "metadata": {},
   "source": [
    "Now that we can see the structure of the hdf5 file, let's take a look at some of the information that is stored inside. Let's start by extracting the reflectance data, which is nested under `SERC/Reflectance/Reflectance_Data`:  "
   ]
  },
  {
   "cell_type": "code",
   "execution_count": 11,
   "metadata": {},
   "outputs": [
    {
     "name": "stdout",
     "output_type": "stream",
     "text": [
      "<HDF5 group \"/SERC/Reflectance\" (2 members)>\n"
     ]
    }
   ],
   "source": [
    "serc_refl = f['SERC']['Reflectance']\n",
    "print(serc_refl)"
   ]
  },
  {
   "cell_type": "markdown",
   "metadata": {},
   "source": [
    "The two members of the HDF5 group `/SERC/Reflectance` are `Metadata` and `Reflectance_Data`. Let's save the reflectance data as the variable serc_reflArray:"
   ]
  },
  {
   "cell_type": "code",
   "execution_count": 12,
   "metadata": {},
   "outputs": [
    {
     "name": "stdout",
     "output_type": "stream",
     "text": [
      "<HDF5 dataset \"Reflectance_Data\": shape (1000, 1000, 426), type \"<i2\">\n"
     ]
    }
   ],
   "source": [
    "serc_reflArray = serc_refl['Reflectance_Data']\n",
    "print(serc_reflArray)"
   ]
  },
  {
   "cell_type": "markdown",
   "metadata": {},
   "source": [
    "We can extract the size of this reflectance array that we extracted using the `shape` method:"
   ]
  },
  {
   "cell_type": "code",
   "execution_count": 13,
   "metadata": {},
   "outputs": [
    {
     "name": "stdout",
     "output_type": "stream",
     "text": [
      "SERC Reflectance Data Dimensions: (1000, 1000, 426)\n"
     ]
    }
   ],
   "source": [
    "refl_shape = serc_reflArray.shape\n",
    "print('SERC Reflectance Data Dimensions:',refl_shape)"
   ]
  },
  {
   "cell_type": "markdown",
   "metadata": {},
   "source": [
    "This 3-D shape (1000,1000,426) corresponds to (y,x,bands), where (x,y) are the dimensions of the reflectance array in pixels. Hyperspectral data sets are often called \"cubes\" to reflect this 3-dimensional shape.\n",
    "\n",
    "<figure>\n",
    "    <a href=\"/hyperspectral/DataCube.png\">\n",
    "    <img src=\"/hyperspectral/DataCube.png\"></a>\n",
    "    <figcaption> A \"cube\" showing a hyperspectral data set. Source: National Ecological Observatory Network\n",
    "    (NEON)  \n",
    "    </figcaption>\n",
    "</figure>\n",
    "\n",
    "\n",
    "NEON hyperspectral data contain around 426 spectral bands, and when working with tiled data, the spatial dimensions are 1000 x 1000, where each pixel represents 1 meter. Now let's take a look at the wavelength values. First, we will extract wavelength information from the `serc_refl` variable that we created:"
   ]
  },
  {
   "cell_type": "code",
   "execution_count": 14,
   "metadata": {},
   "outputs": [
    {
     "name": "stdout",
     "output_type": "stream",
     "text": [
      "wavelengths: <HDF5 dataset \"Wavelength\": shape (426,), type \"<f4\">\n"
     ]
    }
   ],
   "source": [
    "#define the wavelengths variable\n",
    "wavelengths = serc_refl['Metadata']['Spectral_Data']['Wavelength']\n",
    "\n",
    "#View wavelength information and values\n",
    "print('wavelengths:',wavelengths)"
   ]
  },
  {
   "cell_type": "markdown",
   "metadata": {},
   "source": [
    "We can then use `numpy` (imported as `np`) to see the minimum and maximum wavelength values:"
   ]
  },
  {
   "cell_type": "code",
   "execution_count": 15,
   "metadata": {},
   "outputs": [
    {
     "name": "stdout",
     "output_type": "stream",
     "text": [
      "min wavelength: 383.534 nm\n",
      "max wavelength: 2511.89 nm\n"
     ]
    }
   ],
   "source": [
    "# Display min & max wavelengths\n",
    "print('min wavelength:', np.amin(wavelengths),'nm')\n",
    "print('max wavelength:', np.amax(wavelengths),'nm')"
   ]
  },
  {
   "cell_type": "markdown",
   "metadata": {},
   "source": [
    "Finally, we can determine the band widths (distance between center bands of two adjacent bands). Let's try this for the first two bands and the last two bands. Remember that Python uses 0-based indexing (`[0]` represents the first value in an array), and note that you can also use negative numbers to splice values from the end of an array (`[-1]` represents the last value in an array)."
   ]
  },
  {
   "cell_type": "code",
   "execution_count": 16,
   "metadata": {},
   "outputs": [
    {
     "name": "stdout",
     "output_type": "stream",
     "text": [
      "band width between first 2 bands = 5.0079 nm\n",
      "band width between last 2 bands = 5.00781 nm\n"
     ]
    }
   ],
   "source": [
    "#show the band widths between the first 2 bands and last 2 bands \n",
    "print('band width between first 2 bands =',(wavelengths.value[1]-wavelengths.value[0]),'nm')\n",
    "print('band width between last 2 bands =',(wavelengths.value[-1]-wavelengths.value[-2]),'nm')"
   ]
  },
  {
   "cell_type": "markdown",
   "metadata": {},
   "source": [
    "The center wavelengths recorded in this hyperspectral cube range from `383.66 - 2511.94 nm`, and each band covers a range of ~`5 nm`. Now let's extract spatial information, which is stored under `SERC/Reflectance/Metadata/Coordinate_System/Map_Info`:"
   ]
  },
  {
   "cell_type": "code",
   "execution_count": 17,
   "metadata": {},
   "outputs": [
    {
     "name": "stdout",
     "output_type": "stream",
     "text": [
      "SERC Map Info: b'UTM,  1.000,  1.000,       368000.00,       4307000.0,       1.0000000,       1.0000000,  18,  North,  WGS-84,  units=Meters, 0'\n"
     ]
    }
   ],
   "source": [
    "serc_mapInfo = serc_refl['Metadata']['Coordinate_System']['Map_Info']\n",
    "print('SERC Map Info:',serc_mapInfo.value)"
   ]
  },
  {
   "cell_type": "markdown",
   "metadata": {},
   "source": [
    "**Understanding the output:**\n",
    "\n",
    "Here we can spatial information about the reflectance data. Below is a break down of what each of these values means:\n",
    "\n",
    "- `UTM` - coordinate system (Universal Transverse Mercator)\n",
    "- `1.000, 1.000` - \n",
    "- `368000.000, 4307000.0` - UTM coordinates (meters) of the map origin, which refers to the upper-left corner of the image  (xMin, yMax). \n",
    "- `1.0000000, 1.0000000` - pixel resolution (meters)\n",
    "- `18` - UTM zone\n",
    "- `N` - UTM hemisphere (North for all NEON sites)\n",
    "- `WGS-84` - reference ellipoid\n",
    "\n",
    "The letter `b` that appears before UTM signifies that the variable-length string data is stored in **b**inary format when it is written to the hdf5 file. Don't worry about it for now, as we will convert the numerical data we need into floating point numbers. For more information on hdf5 strings read the <a href=\"http://docs.h5py.org/en/latest/strings.html\" target=\"_blank\">h5py documentation</a>. \n",
    "\n",
    "Let's extract relevant information from the `Map_Info` metadata to define the spatial extent of this dataset. To do this, we can use the `split` method to break up this string into separate values:"
   ]
  },
  {
   "cell_type": "code",
   "execution_count": 18,
   "metadata": {},
   "outputs": [],
   "source": [
    "#First convert mapInfo to a string\n",
    "mapInfo_string = str(serc_mapInfo.value) #convert to string\n",
    "\n",
    "#see what the split method does\n",
    "mapInfo_string.split?"
   ]
  },
  {
   "cell_type": "code",
   "execution_count": 19,
   "metadata": {},
   "outputs": [
    {
     "name": "stdout",
     "output_type": "stream",
     "text": [
      "[\"b'UTM\", '  1.000', '  1.000', '       368000.00', '       4307000.0', '       1.0000000', '       1.0000000', '  18', '  North', '  WGS-84', '  units=Meters', \" 0'\"]\n"
     ]
    }
   ],
   "source": [
    "#split the strings using the separator \",\" \n",
    "mapInfo_split = mapInfo_string.split(\",\") \n",
    "print(mapInfo_split)"
   ]
  },
  {
   "cell_type": "markdown",
   "metadata": {},
   "source": [
    "Now we can extract the spatial information we need from the map info values, convert them to the appropriate data type (float) and store it in a way that will enable us to access and apply it later when we want to plot the data: "
   ]
  },
  {
   "cell_type": "code",
   "execution_count": 20,
   "metadata": {},
   "outputs": [
    {
     "name": "stdout",
     "output_type": "stream",
     "text": [
      "Resolution: (1.0, 1.0)\n"
     ]
    }
   ],
   "source": [
    "#Extract the resolution & convert to floating decimal number\n",
    "res = float(mapInfo_split[5]),float(mapInfo_split[6])\n",
    "print('Resolution:',res)"
   ]
  },
  {
   "cell_type": "code",
   "execution_count": 21,
   "metadata": {},
   "outputs": [],
   "source": [
    "#Extract the upper left-hand corner coordinates from mapInfo\n",
    "xMin = float(mapInfo_split[3]) \n",
    "yMax = float(mapInfo_split[4])\n",
    "\n",
    "#Calculate the xMax and yMin values from the dimensions\n",
    "xMax = xMin + (refl_shape[1]*res[0]) #xMax = left edge + (# of columns * x pixel resolution)\n",
    "yMin = yMax - (refl_shape[0]*res[1]) #yMin = top edge - (# of rows * y pixel resolution)"
   ]
  },
  {
   "cell_type": "markdown",
   "metadata": {},
   "source": [
    "Now we can define the spatial exten as the tuple `(xMin, xMax, yMin, yMax)`. This is the format required for applying the spatial extent when plotting with `matplotlib.pyplot`."
   ]
  },
  {
   "cell_type": "code",
   "execution_count": 22,
   "metadata": {},
   "outputs": [
    {
     "name": "stdout",
     "output_type": "stream",
     "text": [
      "serc_ext: (368000.0, 369000.0, 4306000.0, 4307000.0)\n",
      "serc_ext type: <class 'tuple'>\n"
     ]
    }
   ],
   "source": [
    "#Define extent as a tuple:\n",
    "serc_ext = (xMin, xMax, yMin, yMax)\n",
    "print('serc_ext:',serc_ext)\n",
    "print('serc_ext type:',type(serc_ext))"
   ]
  },
  {
   "cell_type": "markdown",
   "metadata": {},
   "source": [
    "## Extract a Single Band from Array"
   ]
  },
  {
   "cell_type": "markdown",
   "metadata": {},
   "source": [
    "While it is useful to have all the data contained in a hyperspectral cube, it is difficult to visualize all this information at once. We can extract a single band (representing a ~5nm band, approximating a single wavelength) from the cube by using splicing as follows. Note that we have to cast the reflectance data into the type `float`. Recall that since Python indexing starts at 0 instead of 1, in order to extract band 56, we need to use the index 55."
   ]
  },
  {
   "cell_type": "code",
   "execution_count": 23,
   "metadata": {},
   "outputs": [
    {
     "name": "stdout",
     "output_type": "stream",
     "text": [
      "b56 type: <class 'numpy.ndarray'>\n",
      "b56 shape: (1000, 1000)\n",
      "Band 56 Reflectance:\n",
      " [[  254.   241.   250. ...,   334.   313.   330.]\n",
      " [  253.   260.   624. ...,   281.   311.   291.]\n",
      " [  262.   413.  1050. ...,   295.   349.   280.]\n",
      " ..., \n",
      " [  281.   231.   292. ...,  1168.   978.   916.]\n",
      " [  240.   222.   189. ...,  1654.  1728.  1694.]\n",
      " [  319.   329.   317. ...,  1176.  1466.  1582.]]\n"
     ]
    }
   ],
   "source": [
    "b56 = serc_reflArray[:,:,55].astype(float)\n",
    "print('b56 type:',type(b56))\n",
    "print('b56 shape:',b56.shape)\n",
    "print('Band 56 Reflectance:\\n',b56)"
   ]
  },
  {
   "cell_type": "markdown",
   "metadata": {},
   "source": [
    "Here we can see that we extracted a 2-D array (1000 x 1000) of the scaled reflectance data corresponding to the wavelength band 56. Before we can use the data, we need to clean it up a little. We'll show how to do this below. "
   ]
  },
  {
   "cell_type": "markdown",
   "metadata": {},
   "source": [
    "##  Scale factor and No Data Value\n",
    "\n",
    "This array represents the scaled reflectance for band 56. Recall from exploring the HDF5 data in HDFViewer that NEON AOP reflectance data uses a `Data_Ignore_Value` of `-9999` to represent missing data (often called `NaN`), and a reflectance `Scale_Factor` of `10000.0` in order to save disk space (can use lower precision this way). \n",
    "\n",
    " <figure>\n",
    "\t<a href=\"https://raw.githubusercontent.com/NEONScience/NEON-Data-Skills/dev-aten/graphics/hyperspectral/hdfview_SERCrefl.png\">\n",
    "\t<img src=\"https://raw.githubusercontent.com/NEONScience/NEON-Data-Skills/dev-aten/graphics/hyperspectral/hdfview_SERCrefl.png\"></a>\n",
    "\t<figcaption> Screenshot of the NEON HDF5 file format.\n",
    "\tSource: National Ecological Observatory Network\n",
    "\t</figcaption>\n",
    "</figure>\n",
    "\n",
    "We can extract and apply the `Data_Ignore_Value` and `Scale_Factor` as follows:"
   ]
  },
  {
   "cell_type": "code",
   "execution_count": 24,
   "metadata": {},
   "outputs": [
    {
     "name": "stdout",
     "output_type": "stream",
     "text": [
      "Scale Factor: 10000.0\n",
      "Data Ignore Value: -9999.0\n",
      "Cleaned Band 56 Reflectance:\n",
      " [[ 0.0254  0.0241  0.025  ...,  0.0334  0.0313  0.033 ]\n",
      " [ 0.0253  0.026   0.0624 ...,  0.0281  0.0311  0.0291]\n",
      " [ 0.0262  0.0413  0.105  ...,  0.0295  0.0349  0.028 ]\n",
      " ..., \n",
      " [ 0.0281  0.0231  0.0292 ...,  0.1168  0.0978  0.0916]\n",
      " [ 0.024   0.0222  0.0189 ...,  0.1654  0.1728  0.1694]\n",
      " [ 0.0319  0.0329  0.0317 ...,  0.1176  0.1466  0.1582]]\n"
     ]
    }
   ],
   "source": [
    "#View and apply scale factor and data ignore value\n",
    "scaleFactor = serc_reflArray.attrs['Scale_Factor']\n",
    "noDataValue = serc_reflArray.attrs['Data_Ignore_Value']\n",
    "print('Scale Factor:',scaleFactor)\n",
    "print('Data Ignore Value:',noDataValue)\n",
    "\n",
    "b56[b56==int(noDataValue)]=np.nan\n",
    "b56 = b56/scaleFactor\n",
    "print('Cleaned Band 56 Reflectance:\\n',b56)"
   ]
  },
  {
   "cell_type": "markdown",
   "metadata": {},
   "source": [
    "## Plot single reflectance band\n",
    "\n",
    "Now we can plot this band using the Python package ```matplotlib.pyplot```, which we imported at the beginning of the lesson as ```plt```. Note that the default colormap is jet unless otherwise specified. You can explore using different colormaps on your own; see the <a href=\"https://matplotlib.org/examples/color/colormaps_reference.html\" target=\"_blank\">mapplotlib colormaps</a> for  for other options. "
   ]
  },
  {
   "cell_type": "code",
   "execution_count": 25,
   "metadata": {},
   "outputs": [
    {
     "data": {
      "image/png": "[encoded data removed]",
      "text/plain": [
       "<matplotlib.figure.Figure at 0x2937b6f9da0>"
      ]
     },
     "metadata": {},
     "output_type": "display_data"
    }
   ],
   "source": [
    "serc_plot = plt.imshow(b56,extent=serc_ext,cmap='Greys') "
   ]
  },
  {
   "cell_type": "markdown",
   "metadata": {},
   "source": [
    "We can see that this image looks pretty washed out. To see why this is, it helps to look at the range and distribution of reflectance values that we are plotting. We can do this by making a histogram. "
   ]
  },
  {
   "cell_type": "markdown",
   "metadata": {},
   "source": [
    "## Plot histogram\n",
    "\n",
    "We can plot a histogram using the `matplotlib.pyplot.hist` function. Note that this function won't work if there are any NaN values, so we can ensure we are only plotting the real data values using the call below. You can also specify the # of bins you want to divide the data into. "
   ]
  },
  {
   "cell_type": "code",
   "execution_count": 26,
   "metadata": {},
   "outputs": [
    {
     "data": {
      "image/png": "[encoded data removed]",
      "text/plain": [
       "<matplotlib.figure.Figure at 0x29379e5bac8>"
      ]
     },
     "metadata": {},
     "output_type": "display_data"
    }
   ],
   "source": [
    "plt.hist(b56[~np.isnan(b56)],50); #50 signifies the # of bins"
   ]
  },
  {
   "cell_type": "markdown",
   "metadata": {},
   "source": [
    "We can see that most of the reflectance values are < 0.4. In order to show more contrast in the image, we can adjust the colorlimit (`clim`) to 0-0.4:"
   ]
  },
  {
   "cell_type": "code",
   "execution_count": 27,
   "metadata": {},
   "outputs": [
    {
     "data": {
      "image/png": "[encoded data removed]",
      "text/plain": [
       "<matplotlib.figure.Figure at 0x293007bf9b0>"
      ]
     },
     "metadata": {},
     "output_type": "display_data"
    }
   ],
   "source": [
    "serc_plot = plt.imshow(b56,extent=serc_ext,cmap='Greys',clim=(0,0.4)) \n",
    "plt.title('SERC Band 56 Reflectance');"
   ]
  },
  {
   "cell_type": "markdown",
   "metadata": {},
   "source": [
    "Here you can see that adjusting the colorlimit displays features (eg. roads, buildings) much better than when we set the colormap limits to the entire range of reflectance values. "
   ]
  },
  {
   "cell_type": "markdown",
   "metadata": {},
   "source": [
    "## Extension: Basic Image Processing -- Contrast Stretch & Histogram Equalization \n",
    "\n",
    "We can also try out some basic image processing to better visualize the \n",
    "reflectance data using the `ski-image` package. \n",
    "\n",
    "Histogram equalization is a method in image processing of contrast adjustment \n",
    "using the image's histogram. Stretching the histogram can improve the contrast \n",
    "of a displayed image, as we will show how to do below. \n",
    "\n",
    " <figure>\n",
    "\t<a href=\"https://raw.githubusercontent.com/NEONScience/NEON-Data-Skills/dev-aten/graphics/hyperspectral/histogram_equalization.png\">\n",
    "\t<img src=\"https://raw.githubusercontent.com/NEONScience/NEON-Data-Skills/dev-aten/graphics/hyperspectral/histogram_equalization.png\"></a>\n",
    "\t<figcaption> Histogram equalization is a method in image processing of contrast adjustment \n",
    "using the image's histogram. Stretching the histogram can improve the contrast \n",
    "of a displayed image, as we will show how to do below.\n",
    "\tSource: <a href=\"https://en.wikipedia.org/wiki/Talk%3AHistogram_equalization#/media/File:Histogrammspreizung.png\"> Wikipedia - Public Domain </a>\n",
    "\t</figcaption>\n",
    "</figure>\n",
    "\n",
    "\n",
    "*The following tutorial section is adapted from skikit-image's tutorial\n",
    "<a href=\"http://scikit-image.org/docs/stable/auto_examples/color_exposure/plot_equalize.html#sphx-glr-auto-examples-color-exposure-plot-equalize-py\" target=\"_blank\"> Histogram Equalization</a>.*\n",
    "\n",
    "Below we demonstrate a widget to interactively display different linear contrast stretches:"
   ]
  },
  {
   "cell_type": "markdown",
   "metadata": {},
   "source": [
    "### Explore the contrast stretch feature interactively using IPython widgets: "
   ]
  },
  {
   "cell_type": "code",
   "execution_count": 28,
   "metadata": {},
   "outputs": [
    {
     "data": {
      "application/vnd.jupyter.widget-view+json": {
       "model_id": "0839ce8ae1c54cbdbecb3d26c56ba8eb",
       "version_major": 2,
       "version_minor": 0
      },
      "text/html": [],
      "text/plain": [
       "interactive(children=(IntSlider(value=50, description='percent'), Output()), _dom_classes=('widget-interact',))"
      ]
     },
     "metadata": {},
     "output_type": "display_data"
    },
    {
     "data": {
      "text/plain": [
       "<function __main__.linearStretch>"
      ]
     },
     "execution_count": 28,
     "metadata": {},
     "output_type": "execute_result"
    }
   ],
   "source": [
    "from skimage import exposure\n",
    "from IPython.html.widgets import *\n",
    "\n",
    "def linearStretch(percent):\n",
    "    pLow, pHigh = np.percentile(b56[~np.isnan(b56)], (percent,100-percent))\n",
    "    img_rescale = exposure.rescale_intensity(b56, in_range=(pLow,pHigh))\n",
    "    plt.imshow(img_rescale,extent=serc_ext,cmap='gist_earth') \n",
    "    #cbar = plt.colorbar(); cbar.set_label('Reflectance')\n",
    "    plt.title('SERC Band 56 \\n Linear ' + str(percent) + '% Contrast Stretch'); \n",
    "    ax = plt.gca()\n",
    "    ax.ticklabel_format(useOffset=False, style='plain') #do not use scientific notation #\n",
    "    rotatexlabels = plt.setp(ax.get_xticklabels(),rotation=90) #rotate x tick labels 90 degree\n",
    "    \n",
    "interact(linearStretch,percent=(0,100,1))"
   ]
  }
 ],
 "metadata": {
  "kernelspec": {
   "display_name": "Python 3",
   "language": "python",
   "name": "python3"
  },
  "language_info": {
   "codemirror_mode": {
    "name": "ipython",
    "version": 3
   },
   "file_extension": ".py",
   "mimetype": "text/x-python",
   "name": "python",
   "nbconvert_exporter": "python",
   "pygments_lexer": "ipython3",
   "version": "3.4.5"
  },
  "widgets": {
   "state": {
    "023059618a3645b2a78c8f7409752184": {
     "views": [
      {
       "cell_index": 53
      }
     ]
    }
   },
   "version": "1.2.0"
  }
 },
 "nbformat": 4,
 "nbformat_minor": 1
}
