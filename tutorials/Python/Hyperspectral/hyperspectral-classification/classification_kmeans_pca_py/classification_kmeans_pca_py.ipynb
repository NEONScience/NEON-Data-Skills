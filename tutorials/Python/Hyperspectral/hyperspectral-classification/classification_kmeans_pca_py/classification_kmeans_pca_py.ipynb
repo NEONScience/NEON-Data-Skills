{
 "cells": [
  {
   "cell_type": "markdown",
   "metadata": {},
   "source": [
    "---\n",
    "syncID: 75f8885948494c0dbe6084099c61dd1e\n",
    "title: \"Unsupervised Spectral Classification in Python: KMeans & PCA\"\n",
    "description: \"Learn to classify spectral data using KMeans and Principal Components Analysis (PCA).\"\n",
    "dateCreated: 2018-07-10 \n",
    "authors: Bridget Hass\n",
    "contributors:\n",
    "estimatedTime:\n",
    "packagesLibraries: numpy, gdal, matplotlib, matplotlib.pyplot\n",
    "topics: hyperspectral-remote-sensing, HDF5, remote-sensing\n",
    "languagesTool: python\n",
    "dataProduct: NEON.DP1.30006, NEON.DP3.30006, NEON.DP1.30008\n",
    "code1: Python/remote-sensing/hyperspectral-data/classification_kmeans_pca_py.ipynb\n",
    "tutorialSeries: intro-hsi-py-series\n",
    "urlTitle: classification-kmeans-pca-python\n",
    "---"
   ]
  },
  {
   "cell_type": "markdown",
   "metadata": {},
   "source": [
    "In this tutorial, we will use the `Spectral Python (SPy)` package to run KMeans and Principal Component Analysis unsupervised classification algorithms. \n",
    "\n",
    "<div id=\"ds-objectives\" markdown=\"1\">\n",
    "\n",
    "### Objectives\n",
    "After completing this tutorial, you will be able to:\n",
    "\n",
    "* Classify spectral remote sensing data. \n",
    "\n",
    "### Install Python Packages\n",
    "\n",
    "* **numpy**\n",
    "* **gdal** \n",
    "* **matplotlib** \n",
    "* **matplotlib.pyplot** \n",
    "\n",
    "\n",
    "### Download Data\n",
    "\n",
    " <a href=\"https://neondata.sharefile.com/share/view/s89752829ccb4ce1a/fo396a43-51ec-4b14-a1fb-b5e70f0b7e1b\" class=\"button-arrow\" target=\"_blank\">\n",
    "Download the spectral classification teaching data subset</a>\n",
    "\n",
    "</div>"
   ]
  },
  {
   "cell_type": "markdown",
   "metadata": {},
   "source": [
    "In this tutorial, we will use the `Spectral Python (SPy)` package to run KMeans and Principal Component Analysis unsupervised classification algorithms. \n",
    "\n",
    "To learn more about the Spcral Python packages read: \n",
    "\n",
    "* <a href=\"http://www.spectralpython.net/user_guide.html\" target=\"blank\">Spectral Python User Guide</a>.\n",
    "* <a href=\"http://www.spectralpython.net/algorithms.html#unsupervised-classification\" target=\"_blank\">Spectral Python Unsupervised Classification</a>.\n",
    "\n",
    "\n",
    "## KMeans Clustering\n",
    "\n",
    "\n",
    "**KMeans** is an iterative clustering algorithm used to classify unsupervised data (eg. data without a training set) into a specified number of groups. The algorithm begins with an initial set of randomly determined cluster centers. Each pixel in the image is then assigned to the nearest cluster center (using distance in N-space as the distance metric) and each cluster center is then re-computed as the centroid of all pixels assigned to the cluster. This process repeats until a desired stopping criterion is reached (e.g. max number of iterations). \n",
    "\n",
    "Read more on KMeans clustering from <a href=\"http://www.spectralpython.net/algorithms.html#k-means-clustering\" target=\"_blank\">Spectral Python</a>. \n",
    "\n",
    "To visualize how the algorithm works, it's easier look at a 2D data set. In the example below, watch how the cluster centers shift with progressive iterations, \n",
    "\n",
    "![gif](KMeans2D.gif)\n",
    "\n",
    " <figure>\n",
    "\t<a href=\"https://raw.githubusercontent.com/NEONScience/NEON-Data-Skills/dev-aten/graphics/hyperspectral/KMeans2D.gif\">\n",
    "\t<img src=\"https://raw.githubusercontent.com/NEONScience/NEON-Data-Skills/dev-aten/graphics/hyperspectral/KMeans2D.gif\"></a>\n",
    "\t<figcaption> KMeans clustering demonstration Source: <a href=\"https://sandipanweb.wordpress.com/2017/03/19/hard-soft-clustering-with-k-means-weighted-k-means-and-gmm-em/\" target=\"_blank\">Sandipan Deyn</a>\n",
    "\t</figcaption>\n",
    "</figure>\n",
    "\n",
    "\n",
    "## Principal Component Analysis (PCA) - Dimensionality Reduction\n",
    "\n",
    "Many of the bands within hyperspectral images are often strongly correlated. The principal components transformation represents a linear transformation of the original image bands to a set of new, uncorrelated features. These new features correspond to the eigenvectors of the image covariance matrix, where the associated eigenvalue represents the variance in the direction of the eigenvector. A very large percentage of the image variance can be captured in a relatively small number of principal components (compared to the original number of bands).\n",
    "\n",
    "Read more about PCA with \n",
    "<a href=\"http://www.spectralpython.net/algorithms.html#principal-components\" target=\"_blank\">Spectral Python</a>.\n"
   ]
  },
  {
   "cell_type": "markdown",
   "metadata": {},
   "source": [
    "## Set up\n",
    "\n",
    "To run this notebook, the following Python packages need to be installed. You can install required packages from command line `pip install spectra scikit-learn cvxopt`.\n",
    "\n",
    "or if already in a Jupyter Notebook, run the following code in a Notebook code cell. \n",
    " \n",
    "Packages:\n",
    "- pylab\n",
    "- spectral\n",
    "- scikit-learn (optional)\n",
    "\n",
    "```python \n",
    "import sys\n",
    "!{sys.executable} -m pip install spectral\n",
    "!conda install --yes --prefix {sys.prefix} scikit-learn\n",
    "!conda install --yes --prefix {sys.prefix} cvxopt \n",
    "```\n",
    "\n",
    "In order to make use of the interactive graphics capabilities of `spectralpython`, such as `N-Dimensional Feature Display`, you work in a Python 3.6 environment (as of July 2018). \n",
    "\n",
    "For more, read from <a href=\"http://www.spectralpython.net/graphics.html\" target=\"_blank\">Spectral Python</a>.\n",
    "\n",
    "**Optional:**\n",
    "\n",
    "**matplotlib wx backend** (for 3-D visualization of PCA, requires Python 3.6)\n",
    "Find out more on \n",
    "<a href=\"https://stackoverflow.com/questions/42007164/how-to-install-wxpython-phoenix-for-python-3-6\" target=\"_blank\"> StackOverflow</a>. \n",
    "\n",
    "```python \n",
    "conda install -c newville wxpython-phoenix\n",
    "```\n",
    "\n",
    "**Managing Conda Environments**\n",
    "- **nb_conda_kernels** package provides a separate jupyter kernel for each conda environment\n",
    "- Find out more on \n",
    "<a href=\"https://conda.io/docs/user-guide/tasks/manage-environments.html\" target=\"_blank\"> Conda docs</a>. \n",
    "\n",
    "```python \n",
    "conda install -c conda-forge nb_conda_kernels\n",
    "```"
   ]
  },
  {
   "cell_type": "markdown",
   "metadata": {},
   "source": [
    "First, import the required packages and set display preferences:"
   ]
  },
  {
   "cell_type": "code",
   "execution_count": 1,
   "metadata": {},
   "outputs": [],
   "source": [
    "from spectral import *\n",
    "import spectral.io.envi as envi\n",
    "import numpy as np\n",
    "import matplotlib\n",
    "\n",
    "#for clean output, to not print warnings, don't use when developing script\n",
    "import warnings\n",
    "warnings.filterwarnings('ignore')"
   ]
  },
  {
   "cell_type": "markdown",
   "metadata": {},
   "source": [
    "For this example, we will read in a reflectance tile in ENVI format. NEON provides an h5 plugin for ENVI "
   ]
  },
  {
   "cell_type": "code",
   "execution_count": null,
   "metadata": {},
   "outputs": [],
   "source": [
    "img = envi.open('../data/Hyperspectral/NEON_D02_SERC_DP3_368000_4306000_reflectance.hdr',\n",
    "                '../data/Hyperspectral/NEON_D02_SERC_DP3_368000_4306000_reflectance.dat')"
   ]
  },
  {
   "cell_type": "markdown",
   "metadata": {},
   "source": [
    "Note that the information is stored differently when read in with `envi.open`. We can find the wavelength information in `img.bands.centers`. Let's take a look at the first and last wavelengths values: "
   ]
  },
  {
   "cell_type": "code",
   "execution_count": null,
   "metadata": {},
   "outputs": [],
   "source": [
    "print('First 3 Band Center Wavelengths:',img.bands.centers[:3])\n",
    "print('Last 3 Band Center Wavelengths:',img.bands.centers[-3:])"
   ]
  },
  {
   "cell_type": "markdown",
   "metadata": {},
   "source": [
    "We'll set the Water Vapor Band windows to NaN:"
   ]
  },
  {
   "cell_type": "code",
   "execution_count": null,
   "metadata": {},
   "outputs": [],
   "source": [
    "img.bands.centers[191:211]==np.nan\n",
    "img.bands.centers[281:314]==np.nan\n",
    "img.bands.centers[-10:]==np.nan"
   ]
  },
  {
   "cell_type": "markdown",
   "metadata": {},
   "source": [
    "To get a quick look at the `img` data, use the `params` method:"
   ]
  },
  {
   "cell_type": "code",
   "execution_count": null,
   "metadata": {},
   "outputs": [],
   "source": [
    "img.params"
   ]
  },
  {
   "cell_type": "markdown",
   "metadata": {},
   "source": [
    "Metadata information is stored in `img.metadata`, a dictionary. Let's look at the metadata contents:"
   ]
  },
  {
   "cell_type": "code",
   "execution_count": null,
   "metadata": {},
   "outputs": [],
   "source": [
    "md = img.metadata\n",
    "print('Metadata Contents:')\n",
    "for item in md:\n",
    "    print('\\t',item)"
   ]
  },
  {
   "cell_type": "markdown",
   "metadata": {},
   "source": [
    "To access any of these metadata items, use the syntax `md['description']` or `md['map info']`:"
   ]
  },
  {
   "cell_type": "code",
   "execution_count": null,
   "metadata": {},
   "outputs": [],
   "source": [
    "print('description:',md['description'])\n",
    "print('map info:',md['map info'])"
   ]
  },
  {
   "cell_type": "markdown",
   "metadata": {},
   "source": [
    "You can also use `type` and `len` to look at the type and length (or number) of some of the metadata contents:"
   ]
  },
  {
   "cell_type": "code",
   "execution_count": null,
   "metadata": {},
   "outputs": [],
   "source": [
    "print(type(md['wavelength']))\n",
    "print('Number of Bands:',len(md['wavelength']))"
   ]
  },
  {
   "cell_type": "markdown",
   "metadata": {},
   "source": [
    "Let's look at the data using `imshow`, a wrapper around matplotlib's imshow for multi-band images:"
   ]
  },
  {
   "cell_type": "code",
   "execution_count": null,
   "metadata": {},
   "outputs": [],
   "source": [
    "view = imshow(img,bands=(58,34,19),stretch=0.05,title=\"RGB Image of 2017 SERC Tile\")\n",
    "print(view)"
   ]
  },
  {
   "cell_type": "markdown",
   "metadata": {},
   "source": [
    "When dealing with NEON hyperspectral data, we first want to remove the water vapor & noisy bands, keeping only the valid bands. To speed up the classification algorithms for demonstration purposes, we'll look at a subset of the data using `read_subimage`, a built in method to subset by area and bands. Type `help(img.read_subimage)` to see how it works. "
   ]
  },
  {
   "cell_type": "code",
   "execution_count": null,
   "metadata": {},
   "outputs": [],
   "source": [
    "valid_band_range = [i for j in (range(0,191), range(212, 281), range(315,415)) for i in j] #remove water vapor bands\n",
    "img_subset = img.read_subimage(range(400,600),range(400,600),bands=valid_band_range) #subset image by area and bands"
   ]
  },
  {
   "cell_type": "markdown",
   "metadata": {},
   "source": [
    "Plot the subsetted image for reference:"
   ]
  },
  {
   "cell_type": "code",
   "execution_count": null,
   "metadata": {},
   "outputs": [],
   "source": [
    "view = imshow(img_subset,bands=(58,34,19),stretch=0.01,title=\"RGB Image of 2017 SERC Tile Subset\")"
   ]
  },
  {
   "cell_type": "markdown",
   "metadata": {},
   "source": [
    "Now that we have the image subsetted, lets run the `k-means` algorithm. Type `help(kmeans)` to show how the function works. To run the k-means algorithm on the image and create 5 clusters, using a maximum of 50 iterations, use the following syntax:"
   ]
  },
  {
   "cell_type": "code",
   "execution_count": null,
   "metadata": {},
   "outputs": [],
   "source": [
    "(m,c) = kmeans(img_subset,5,50) "
   ]
  },
  {
   "cell_type": "markdown",
   "metadata": {},
   "source": [
    "Note that the algorithm terminated afte 14 iterations, when the pixels stopped being reassigned. \n",
    "\n",
    "**Data Tip**: You can iterrupt the algorithm with a keyboard interrupt (CTRL-C) if you notice that the number of reassigned pixels drops off. Kmeans catches the KeyboardInterrupt exception and returns the clusters generated at the end of the previous iteration. If you are running the algorithm interactively, this feature allows you to set the max number of iterations to an arbitrarily high number and then stop the algorithm when the clusters have converged to an acceptable level. If you happen to set the max number of iterations too small (many pixels are still migrating at the end of the final iteration), you can simply call kmeans again to resume processing by passing the cluster centers generated by the previous call as the optional `start_clusters` argument to the function.\n",
    "\n",
    "Let's take a look at the cluster centers `c`. In this case, these represent spectras of the five clusters of reflectance that the data were grouped into."
   ]
  },
  {
   "cell_type": "code",
   "execution_count": null,
   "metadata": {},
   "outputs": [],
   "source": [
    "print(c.shape)"
   ]
  },
  {
   "cell_type": "markdown",
   "metadata": {},
   "source": [
    "`c` contains 5 groups of spectral curves with 360 bands (the # of bands we've kept after removing the water vapor windows and the last 10 noisy bands). Let's plot these spectral classes:"
   ]
  },
  {
   "cell_type": "code",
   "execution_count": null,
   "metadata": {},
   "outputs": [],
   "source": [
    "%matplotlib inline\n",
    "import pylab\n",
    "pylab.figure()\n",
    "pylab.hold(1)\n",
    "for i in range(c.shape[0]):\n",
    "    pylab.plot(c[i])\n",
    "pylab.show\n",
    "pylab.title('Spectral Classes from K-Means Clustering')\n",
    "pylab.xlabel('Bands (with Water Vapor Windows Removed)')\n",
    "pylab.ylabel('Reflectance')"
   ]
  },
  {
   "cell_type": "code",
   "execution_count": null,
   "metadata": {},
   "outputs": [],
   "source": [
    "#%matplotlib notebook\n",
    "view = imshow(img_subset, bands=(58,34,19),stretch=0.01, classes=m)\n",
    "view.set_display_mode('overlay')\n",
    "view.class_alpha = 0.5 #set transparency\n",
    "view.show_data"
   ]
  },
  {
   "cell_type": "markdown",
   "metadata": {},
   "source": [
    "## Challenges: K-Means\n",
    "\n",
    "1. What do you think the spectral classes in the figure you just created represent? \n",
    "2. Try using a different number of clusters in the `kmeans` algorithm (e.g., 3 or 10) to see what spectral classes and classifications result. "
   ]
  },
  {
   "cell_type": "markdown",
   "metadata": {},
   "source": [
    "## Principal Component Analysis (PCA)\n",
    "\n",
    "Many of the bands within hyperspectral images are often strongly correlated. The principal components transformation represents a linear transformation of the original image bands to a set of new, uncorrelated features. These new features correspond to the eigenvectors of the image covariance matrix, where the associated eigenvalue represents the variance in the direction of the eigenvector. A very large percentage of the image variance can be captured in a relatively small number of principal components (compared to the original number of bands) ."
   ]
  },
  {
   "cell_type": "code",
   "execution_count": null,
   "metadata": {},
   "outputs": [],
   "source": [
    "pc = principal_components(img_subset)\n",
    "pc_view = imshow(pc.cov)\n",
    "xdata = pc.transform(img_subset)"
   ]
  },
  {
   "cell_type": "markdown",
   "metadata": {},
   "source": [
    "In the covariance matrix display, lighter values indicate strong positive covariance, darker values indicate strong negative covariance, and grey values indicate covariance near zero."
   ]
  },
  {
   "cell_type": "code",
   "execution_count": null,
   "metadata": {},
   "outputs": [],
   "source": [
    "pcdata = pc.reduce(num=10).transform(img_subset)"
   ]
  },
  {
   "cell_type": "code",
   "execution_count": null,
   "metadata": {},
   "outputs": [],
   "source": [
    "pc_0999 = pc.reduce(fraction=0.999)\n",
    "\n",
    "# How many eigenvalues are left?\n",
    "print(len(pc_0999.eigenvalues))\n",
    "\n",
    "img_pc = pc_0999.transform(img_subset)\n",
    "print(img_pc.shape)\n",
    "\n",
    "v = imshow(img_pc[:,:,:5], stretch_all=True)"
   ]
  }
 ],
 "metadata": {
  "kernelspec": {
   "display_name": "Python 3.5 NEON-RSDI",
   "language": "python",
   "name": "p35"
  },
  "language_info": {
   "codemirror_mode": {
    "name": "ipython",
    "version": 3
   },
   "file_extension": ".py",
   "mimetype": "text/x-python",
   "name": "python",
   "nbconvert_exporter": "python",
   "pygments_lexer": "ipython3",
   "version": "3.5.5"
  }
 },
 "nbformat": 4,
 "nbformat_minor": 2
}
