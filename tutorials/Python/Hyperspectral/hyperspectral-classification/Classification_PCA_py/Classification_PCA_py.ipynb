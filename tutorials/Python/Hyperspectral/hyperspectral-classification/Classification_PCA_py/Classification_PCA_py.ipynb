{
 "cells": [
  {
   "cell_type": "markdown",
   "metadata": {},
   "source": [
    "---\n",
    "syncID: 9a1e6798f2e94a71bbcd1c6a1f5946d2\n",
    "title: \"Classification of Hyperspectral Data with Principal Components Analysis (PCA) in Python\"\n",
    "description: \"Learn to classify spectral data using the Principal Components Analysis (PCA) method.\"\n",
    "dateCreated: 2017-06-21 \n",
    "authors: Paul Gader\n",
    "contributors: Donal O'Leary\n",
    "estimatedTime: 1 hour\n",
    "packagesLibraries: numpy, gdal, matplotlib, matplotlib.pyplot\n",
    "topics: hyperspectral-remote-sensing, HDF5, remote-sensing\n",
    "languagesTool: python\n",
    "dataProduct: NEON.DP1.30006, NEON.DP3.30006, NEON.DP1.30008\n",
    "code1: https://raw.githubusercontent.com/NEONScience/NEON-Data-Skills/main/tutorials/Python/Hyperspectral/hyperspectral-classification/Classification_PCA_py/Classification_PCA_py.ipynb\n",
    "tutorialSeries: intro-hsi-py-series\n",
    "urlTitle: classification-pca-python\n",
    "---"
   ]
  },
  {
   "cell_type": "markdown",
   "metadata": {},
   "source": [
    "In this tutorial, we will learn to classify spectral data using the \n",
    "Principal Components Analysis (PCA) method. \n",
    "\n",
    "\n",
    "<div id=\"ds-objectives\" markdown=\"1\">\n",
    "\n",
    "### Objectives\n",
    "After completing this tutorial, you will be able to:\n",
    "\n",
    "* Classify spectral remote sensing data using Principal Components Analysis. \n",
    "\n",
    "### Install Python Packages\n",
    "\n",
    "* **numpy**\n",
    "* **gdal** \n",
    "* **matplotlib** \n",
    "* **matplotlib.pyplot** \n",
    "\n",
    "\n",
    "### Download Data\n",
    "\n",
    " <a href=\"https://ndownloader.figshare.com/files/8730436\">\n",
    "Download the spectral classification teaching data subset</a>\n",
    "\n",
    "<a href=\"https://ndownloader.figshare.com/files/8730436\" class=\"link--button link--arrow\">\n",
    "Download Dataset</a>\n",
    "\n",
    "### Additional Materials\n",
    "\n",
    "This tutorial was prepared in conjunction with a presentation on spectral classification\n",
    "that can be downloaded. \n",
    "\n",
    "<a href=\"https://ndownloader.figshare.com/files/8730613\">\n",
    "Download Dr. Paul Gader's Classification 1 PPT</a>\n",
    "\n",
    "<a href=\"https://ndownloader.figshare.com/files/8731960\">\n",
    "Download Dr. Paul Gader's Classification 2 PPT</a>\n",
    "\n",
    "<a href=\"https://ndownloader.figshare.com/files/8731963\">\n",
    "Download Dr. Paul Gader's Classification 3 PPT</a>\n",
    "\n",
    "</div>\n",
    "\n",
    "\n",
    "## Set up\n",
    "First, we'll start by setting up the necessary environment. "
   ]
  },
  {
   "cell_type": "code",
   "execution_count": null,
   "metadata": {},
   "outputs": [],
   "source": [
    "import numpy as np\n",
    "import matplotlib\n",
    "import matplotlib.pyplot as plt\n",
    "from scipy import linalg\n",
    "from scipy import io\n",
    "from mpl_toolkits.mplot3d import Axes3D"
   ]
  },
  {
   "cell_type": "code",
   "execution_count": null,
   "metadata": {},
   "outputs": [],
   "source": [
    "def PlotSpectraAndMean(Spectra, Wv, fignum):\n",
    "    ### Spectra is NBands x NSamps\n",
    "    mu = np.mean(Spectra, axis=1)\n",
    "    print(np.shape(mu))\n",
    "    plt.figure(fignum)\n",
    "    plt.plot(Wv, Spectra, 'c')\n",
    "    plt.plot(Wv, mu, 'r')\n",
    "    plt.show()\n",
    "    return mu"
   ]
  },
  {
   "cell_type": "markdown",
   "metadata": {},
   "source": [
    "Now we can load the spectra. \n",
    "Note that you will need to update the filepath below for your local file structure."
   ]
  },
  {
   "cell_type": "code",
   "execution_count": null,
   "metadata": {},
   "outputs": [],
   "source": [
    "filename   = '/Users/olearyd/Git/data/RSDI2017-Data-SpecClass/OSBSTinyIm.mat'\n",
    "ImDict     = io.loadmat(filename)\n",
    "OSBSTinyIm = ImDict['OSBSTinyIm']\n",
    "TinySize   = np.shape(OSBSTinyIm)\n",
    "NRows      = TinySize[0]\n",
    "NCols      = TinySize[1]\n",
    "NBands     = TinySize[2]\n",
    "print('{0:4d} {1:4d} {2:4d}'.format(NRows, NCols, NBands))"
   ]
  },
  {
   "cell_type": "markdown",
   "metadata": {},
   "source": [
    "Now we can extract wavelengths. "
   ]
  },
  {
   "cell_type": "code",
   "execution_count": null,
   "metadata": {},
   "outputs": [],
   "source": [
    "### LOAD WAVELENGTHS WITH WATER BANDS ###\n",
    "### AND BAD BEGINNING AND ENDING BANDS REMOVED ###\n",
    "Wv = io.loadmat('/Users/olearyd/Git/data/RSDI2017-Data-SpecClass/NEONWvsNBB.mat')\n",
    "Wv = Wv['NEONWvsNBB']\n",
    "print(np.shape(Wv))\n",
    "\n",
    "plt.figure(1)\n",
    "plt.plot(range(346), Wv)\n",
    "plt.show()"
   ]
  },
  {
   "cell_type": "markdown",
   "metadata": {},
   "source": [
    "Let's load indices for Red, Green, and Blue for NEON hyperspectral data."
   ]
  },
  {
   "cell_type": "code",
   "execution_count": null,
   "metadata": {},
   "outputs": [],
   "source": [
    "### HAVE TO SUBTRACT AN OFFSET BECAUSE OF BAD BAND ###\n",
    "### REMOVAL AND 0-BASED Python vs 1-Based MATLAB   ###\n",
    "Offset     = 7\n",
    "\n",
    "### LOAD & PRINT THE INDICES FOR THE COLORS   ###\n",
    "### AND DIG THEM OUT OF MANY LAYERS OF ARRAYS ###\n",
    "NEONColors = io.loadmat('/Users/olearyd/Git/data/RSDI2017-Data-SpecClass/NEONColors.mat')\n",
    "NEONRed    = NEONColors['NEONRed']\n",
    "NEONGreen  = NEONColors['NEONGreen']\n",
    "NEONBlue   = NEONColors['NEONBlue']\n",
    "NEONNir    = NEONColors['NEONNir']\n",
    "NEONRed    = NEONRed[0][0]-Offset\n",
    "NEONGreen  = NEONGreen[0][0]-Offset\n",
    "NEONBlue   = NEONBlue[0][0]-Offset\n",
    "NEONNir    = NEONNir[0][0]-Offset\n",
    "print('Indices:     {0:4d} {1:4d} {2:4d} {3:4d}'.format(NEONRed, NEONGreen, NEONBlue, NEONNir))\n",
    "\n",
    "### CONVERT THE INDICES TO WAVELENGTHS ###\n",
    "NEONRedWv    = Wv[NEONRed][0]\n",
    "NEONGreenWv  = Wv[NEONGreen][0]\n",
    "NEONBlueWv   = Wv[NEONBlue][0]\n",
    "NEONNirWv    = Wv[NEONNir][0]\n",
    "print('Wavelengths: {0:4d} {1:4d} {2:4d} {3:4d}'.format(NEONRedWv, NEONGreenWv, NEONBlueWv, NEONNirWv))"
   ]
  },
  {
   "cell_type": "markdown",
   "metadata": {},
   "source": [
    "Now we can make a color image and display it"
   ]
  },
  {
   "cell_type": "code",
   "execution_count": null,
   "metadata": {},
   "outputs": [],
   "source": [
    "RGBIm = OSBSTinyIm[:, :, [NEONRed, NEONGreen, NEONBlue]]\n",
    "RGBIm = np.sqrt(RGBIm)\n",
    "plt.figure(2)\n",
    "plt.imshow(RGBIm)\n",
    "plt.show()"
   ]
  },
  {
   "cell_type": "markdown",
   "metadata": {},
   "source": [
    "Now let's turn the image into a sequence of vectors\n",
    "so we can use matrix algebra"
   ]
  },
  {
   "cell_type": "code",
   "execution_count": null,
   "metadata": {},
   "outputs": [],
   "source": [
    "### HAVE TO TAKE INTO ACCOUNT DIFFERENCES BETWEEN Python AND Matlab ###\n",
    "### Python USES THE    C     PROGRAMMING LANGUAGE ORDERING ###\n",
    "### MATLAB USERS THE FORTRAN PROGRAMMING LANGUAGE ORDERING ###\n",
    "### Python WOULD RESHAPE BY REFERENCE AND MATLAB BY VALUE  ###\n",
    "### THEREFORE, WE NEED TO COPY THE VALUES EXPLICITLY       ###\n",
    "TinyVecs = OSBSTinyIm.reshape(NRows*NCols, NBands, order='F').copy()\n",
    "\n",
    "### MATLAB TREATS THE ROWS AS DATA SAMPLES ###\n",
    "### np  TREATS THE COLS AS DATA SAMPLES ###\n",
    "TinyVecs = np.transpose(TinyVecs)\n",
    "NSamps   = np.shape(TinyVecs)[1]\n",
    "np.shape(TinyVecs)"
   ]
  },
  {
   "cell_type": "code",
   "execution_count": null,
   "metadata": {},
   "outputs": [],
   "source": [
    "### EXERCISE\n",
    "SpecIndices = range(1000, 2000, 100)\n",
    "SomeSpectra = TinyVecs[:, range(1000, 2000, 100)]\n",
    "mymu        = PlotSpectraAndMean(SomeSpectra, Wv, 3)"
   ]
  },
  {
   "cell_type": "code",
   "execution_count": null,
   "metadata": {},
   "outputs": [],
   "source": [
    "np.shape(mymu)"
   ]
  },
  {
   "cell_type": "markdown",
   "metadata": {},
   "source": [
    "Let's plot some spectra"
   ]
  },
  {
   "cell_type": "code",
   "execution_count": null,
   "metadata": {},
   "outputs": [],
   "source": [
    "### Indices of Spectra to Try ###\n",
    "### SpecIndices = range(0, 1000, 100) ###\n",
    "SpecIndices = range(1000, 2000, 100)\n",
    "SomeSpectra = TinyVecs[:, range(1000, 2000, 100)]\n",
    "plt.figure(3)\n",
    "plt.plot(Wv, SomeSpectra)\n",
    "plt.xlabel('Wavelengths in nm')\n",
    "plt.ylabel('Reflectance')\n",
    "plt.show()"
   ]
  },
  {
   "cell_type": "markdown",
   "metadata": {},
   "source": [
    "Compute the Average Spectrum and plot it\n"
   ]
  },
  {
   "cell_type": "code",
   "execution_count": null,
   "metadata": {},
   "outputs": [],
   "source": [
    "mu = np.mean(TinyVecs, axis=1)\n",
    "plt.figure(4)\n",
    "plt.plot(Wv, SomeSpectra, 'c')\n",
    "plt.plot(Wv, mu, 'k')\n",
    "plt.xlabel('Wavelengths in nm')\n",
    "plt.ylabel('Reflectance')\n",
    "plt.show()"
   ]
  },
  {
   "cell_type": "markdown",
   "metadata": {},
   "source": [
    "Now we want to subtract the mean from every sample."
   ]
  },
  {
   "cell_type": "code",
   "execution_count": null,
   "metadata": {},
   "outputs": [],
   "source": [
    "np.shape(mu)"
   ]
  },
  {
   "cell_type": "code",
   "execution_count": null,
   "metadata": {},
   "outputs": [],
   "source": [
    "TinyVecsZ = np.zeros((NBands, NSamps))\n",
    "for n in range(NSamps):\n",
    "    TinyVecsZ[range(NBands),n]= TinyVecs[(range(NBands), n)]-mu\n",
    "\n",
    "muz = np.mean(TinyVecsZ, axis=1)\n",
    "plt.figure(5)\n",
    "plt.plot(Wv, muz, 'k')\n",
    "#plt.ylim(-1,1)\n",
    "plt.show()"
   ]
  },
  {
   "cell_type": "markdown",
   "metadata": {},
   "source": [
    "Let's calculate the covariance."
   ]
  },
  {
   "cell_type": "code",
   "execution_count": null,
   "metadata": {},
   "outputs": [],
   "source": [
    "C = np.cov(TinyVecs)\n",
    "np.shape(C)"
   ]
  },
  {
   "cell_type": "markdown",
   "metadata": {},
   "source": [
    "We can look at some of the values but there are too many to look at them all.\n",
    "We can also view C as an image."
   ]
  },
  {
   "cell_type": "code",
   "execution_count": null,
   "metadata": {},
   "outputs": [],
   "source": [
    "plt.figure(6)\n",
    "plt.imshow(C)\n",
    "plt.show()"
   ]
  },
  {
   "cell_type": "code",
   "execution_count": null,
   "metadata": {},
   "outputs": [],
   "source": [
    "# PRINT OUT SOME \"AMPLIFIED\" COVARIANCE VALUES %%%\n",
    "for cn in range(0, 50,5):\n",
    "    w = int(Wv[cn])\n",
    "    if cn==0:\n",
    "        print(\"     \", end=\" \")\n",
    "    else:\n",
    "        print('{0:5d}'.format(w), end=\" \")\n",
    "print('\\n')\n",
    "\n",
    "\n",
    "for rn in range(5, 50, 5):\n",
    "    w = int(Wv[rn])\n",
    "    print('{0:5d}'.format(w), end=\" \")\n",
    "    for cn in range(5,50,5):\n",
    "        CovVal = int(100000*C[rn, rn])\n",
    "        print('{0:5d}'.format(CovVal), end=\" \")\n",
    "    print('\\n')\n",
    "    \n",
    "#print(round(100000*C[NEONBlue, NEONNir]))\n",
    "#print(round(100000*C[NEONGreen, NEONNir]))\n",
    "#print(round(100000*C[NEONRed, NEONNir]))\n",
    "#print(round(100000*C[NEONGreen, NEONRed]))"
   ]
  },
  {
   "cell_type": "markdown",
   "metadata": {},
   "source": [
    "Notice that there are no negative values.  Why?"
   ]
  },
  {
   "cell_type": "markdown",
   "metadata": {},
   "source": [
    "What if we normalize the vectors to have Norm 1 (a common strategy)."
   ]
  },
  {
   "cell_type": "code",
   "execution_count": null,
   "metadata": {},
   "outputs": [],
   "source": [
    "Norms = np.sqrt(np.sum(TinyVecs*TinyVecs, axis=0))\n",
    "plt.figure(7)\n",
    "plt.plot(Norms)\n",
    "### Too many Norms.  How do we fix?\n",
    "plt.show()"
   ]
  },
  {
   "cell_type": "code",
   "execution_count": null,
   "metadata": {},
   "outputs": [],
   "source": [
    "np.shape(Norms)"
   ]
  },
  {
   "cell_type": "code",
   "execution_count": null,
   "metadata": {},
   "outputs": [],
   "source": [
    "np.shape(TinyVecs)"
   ]
  },
  {
   "cell_type": "code",
   "execution_count": null,
   "metadata": {},
   "outputs": [],
   "source": [
    "### Allocate Memory\n",
    "TinyVecsNorm = np.zeros((NBands, NSamps))\n",
    "for samp in range(NSamps):\n",
    "    NormSamp = Norms[samp]\n",
    "    for band in range(NBands):\n",
    "        TinyVecsNorm[band, samp] = TinyVecs[band,samp]/NormSamp\n",
    "        \n",
    "Norms1 = np.sqrt(np.sum(TinyVecsNorm*TinyVecsNorm, axis=0))\n",
    "plt.figure(7)\n",
    "plt.plot(Norms1)\n",
    "plt.show()\n",
    "BigNorm = np.max(Norms1)\n",
    "LitNorm = np.min(Norms1)\n",
    "print('{0:4f} {1:4f}'.format(BigNorm, LitNorm))\n",
    "### Too many Norms.  How do we fix?"
   ]
  },
  {
   "cell_type": "markdown",
   "metadata": {},
   "source": [
    "<div id=\"ds-challenge\" markdown=\"1\">\n",
    "\n",
    "**Challenge: Plotting Spectra with Mean Function**\n",
    "\n",
    " Turn the script for plotting spectra and their mean above into a function. \n",
    "\n",
    "</div>"
   ]
  },
  {
   "cell_type": "code",
   "execution_count": null,
   "metadata": {},
   "outputs": [],
   "source": [
    "### EXERCISE\n",
    "SpecIndices     = range(1000, 2000, 100)\n",
    "SomeSpectraNorm = TinyVecsNorm[:, range(1000, 2000, 100)]\n",
    "MuNorm          = PlotSpectraAndMean(SomeSpectraNorm, Wv, 3)"
   ]
  },
  {
   "cell_type": "code",
   "execution_count": null,
   "metadata": {},
   "outputs": [],
   "source": [
    "CNorm = np.cov(TinyVecsNorm)\n",
    "plt.figure()\n",
    "plt.imshow(CNorm)\n",
    "plt.show()"
   ]
  },
  {
   "cell_type": "code",
   "execution_count": null,
   "metadata": {},
   "outputs": [],
   "source": [
    "# PRINT OUT SOME \"AMPLIFIED\" COVARIANCE VALUES %%%\n",
    "for cn in range(0, 50,5):\n",
    "    w = int(Wv[cn])\n",
    "    if cn==0:\n",
    "        print(\"     \", end=\" \")\n",
    "    else:\n",
    "        print('{0:5d}'.format(w), end=\" \")\n",
    "print('\\n')\n",
    "\n",
    "\n",
    "for rn in range(5, 50, 5):\n",
    "    w = int(Wv[rn])\n",
    "    print('{0:5d}'.format(w), end=\" \")\n",
    "    for cn in range(5,50,5):\n",
    "        CovVal = int(10000000*CNorm[rn, rn])\n",
    "        print('{0:5d}'.format(CovVal), end=\" \")\n",
    "    print('\\n')"
   ]
  },
  {
   "cell_type": "code",
   "execution_count": null,
   "metadata": {},
   "outputs": [],
   "source": [
    "print(np.shape(TinyVecs))\n",
    "print(NEONNir)\n",
    "print(NEONRed)\n",
    "NIRVals  = TinyVecs[NEONNir, range(NSamps)]\n",
    "RedVals  = TinyVecs[NEONRed, range(NSamps)]\n",
    "NDVIVals = (NIRVals-RedVals)/(NIRVals+RedVals)\n",
    "np.shape(NDVIVals)\n",
    "NDVIIm   = np.reshape(NDVIVals,(NRows, NCols),order='F')"
   ]
  },
  {
   "cell_type": "code",
   "execution_count": null,
   "metadata": {},
   "outputs": [],
   "source": [
    "print(np.shape(NDVIIm))"
   ]
  },
  {
   "cell_type": "code",
   "execution_count": null,
   "metadata": {},
   "outputs": [],
   "source": [
    "plt.figure()\n",
    "plt.hist(NDVIVals)\n",
    "plt.show()"
   ]
  },
  {
   "cell_type": "code",
   "execution_count": null,
   "metadata": {},
   "outputs": [],
   "source": [
    "HiNDVI = NDVIIm*(NDVIIm>0.8)\n",
    "plt.figure()\n",
    "plt.imshow(HiNDVI)\n",
    "plt.show()"
   ]
  },
  {
   "cell_type": "code",
   "execution_count": null,
   "metadata": {},
   "outputs": [],
   "source": [
    "# plt.figure()\n",
    "# plt.plot(nonzero(NDVIVals>0.8))\n",
    "# plt.show()\n",
    "VegIndices = np.nonzero(NDVIVals>0.8)\n",
    "# print(VegIndices[0])\n",
    "print(np.shape(VegIndices))\n",
    "# print(np.shape(TinyVecs))\n",
    "VegSpectra = TinyVecs[:, VegIndices[0]]\n",
    "print(np.shape(VegSpectra))"
   ]
  },
  {
   "cell_type": "code",
   "execution_count": null,
   "metadata": {},
   "outputs": [],
   "source": [
    "CVeg = np.cov(VegSpectra)\n",
    "plt.figure(9)\n",
    "plt.imshow?\n",
    "plt.imshow(CVeg,extent=(np.amin(Wv), np.amax(Wv),np.amax(Wv), np.amin(Wv)))\n",
    "plt.colorbar()\n",
    "plt.show()"
   ]
  },
  {
   "cell_type": "markdown",
   "metadata": {},
   "source": [
    "## PCA \n",
    "\n",
    "OK, let's do PCA\n",
    "\n",
    "Recall that TinyVecs is the mean-subtracted version of the original spectra. "
   ]
  },
  {
   "cell_type": "code",
   "execution_count": null,
   "metadata": {},
   "outputs": [],
   "source": [
    "C   = np.cov(TinyVecs)\n",
    "D,V = linalg.eig(C)\n",
    "D   = D.real\n",
    "print(np.shape(D))\n",
    "print(np.shape(V))\n",
    "print(TinyVecs.shape)\n",
    "print(V[0,0])"
   ]
  },
  {
   "cell_type": "code",
   "execution_count": null,
   "metadata": {},
   "outputs": [],
   "source": [
    "plt.figure(10)\n",
    "print(D.shape)\n",
    "DiagD = np.diag(D)\n",
    "print(D.shape)\n",
    "plt.plot(DiagD)\n",
    "#Exercise\n",
    "#plt.plot(D[range(10)])\n",
    "#plt.plot(D[range(10, 30, 10)])\n",
    "plt.show()"
   ]
  },
  {
   "cell_type": "code",
   "execution_count": null,
   "metadata": {},
   "outputs": [],
   "source": [
    "TinyVecsPCA = np.dot(V.T, TinyVecs)\n",
    "PCACovar    = np.cov(TinyVecsPCA)\n",
    "D,V         = linalg.eig(C)\n",
    "D           = D.real\n",
    "print(D.shape)\n",
    "print(PCACovar.shape)\n",
    "for r in range(10):\n",
    "    print('{0:5f} {1:5f}'.format(D[r], PCACovar[r,r]))\n",
    "print()\n",
    "for r in range(10):\n",
    "    for c in range(10):\n",
    "        NextVal = int(10000*PCACovar[r,c])\n",
    "        print('{0:5d}'.format(NextVal), end=\" \")\n",
    "    print('\\n')\n",
    "# #Delta       = np.sum(np.sum((PCACovar-D), axis=0), axis=0)\n",
    "# print(Delta)\n",
    "# plt.figure(11)\n",
    "# plt.plot(np.diag(PCACovar))\n",
    "# plt.show()"
   ]
  },
  {
   "cell_type": "markdown",
   "metadata": {},
   "source": [
    "Notice that the values on the diagonal are the variances of each coordinate in \n",
    "the PCA transformed data. They drop off rapidly which is why one can reduce \n",
    "dimensionality by discarding components that have low variance. Also, notice that \n",
    "the diagonal matrix D produce by diagonalizing the covariance of x is the \n",
    "covariance of y = PCA(x).\n",
    "\n",
    "If the data are Gaussian, then the coordinates of y are uncorrelated and \n",
    "independent.  If not, then only uncorrelated.\n",
    "\n",
    "Let's pull out the first 3 dimensions and plot them."
   ]
  },
  {
   "cell_type": "code",
   "execution_count": null,
   "metadata": {},
   "outputs": [],
   "source": [
    "%matplotlib notebook\n",
    "fig = plt.figure(13)\n",
    "ax = fig.add_subplot(111, projection='3d')\n",
    "ax.scatter(TinyVecsPCA[0,range(NSamps)],TinyVecsPCA[1,range(NSamps)],TinyVecsPCA[2,range(NSamps)], marker='o')\n",
    "plt.show()"
   ]
  },
  {
   "cell_type": "markdown",
   "metadata": {},
   "source": [
    "We can also display principal components as images"
   ]
  },
  {
   "cell_type": "code",
   "execution_count": null,
   "metadata": {},
   "outputs": [],
   "source": [
    "for coord in range(3):\n",
    "    P1 = TinyVecsPCA[coord, :]\n",
    "    PCAIm      = np.reshape(P1, (NRows, NCols), order='F')\n",
    "    plt.figure(14+coord)\n",
    "    plt.imshow(np.abs(PCAIm))\n",
    "    plt.colorbar()\n",
    "    plt.show()"
   ]
  },
  {
   "cell_type": "markdown",
   "metadata": {},
   "source": [
    "<div id=\"ds-challenge\" markdown=\"1\">\n",
    "\n",
    "**Challenge: PCA Classification Function**\n",
    "\n",
    "Write a function that calculates PCA of spectra and plots the first 3 components.\n",
    "\n",
    "</div>"
   ]
  },
  {
   "cell_type": "code",
   "execution_count": null,
   "metadata": {},
   "outputs": [],
   "source": []
  }
 ],
 "metadata": {
  "kernelspec": {
   "display_name": "py37",
   "language": "python",
   "name": "py37"
  },
  "language_info": {
   "codemirror_mode": {
    "name": "ipython",
    "version": 3
   },
   "file_extension": ".py",
   "mimetype": "text/x-python",
   "name": "python",
   "nbconvert_exporter": "python",
   "pygments_lexer": "ipython3",
   "version": "3.7.7"
  }
 },
 "nbformat": 4,
 "nbformat_minor": 2
}
