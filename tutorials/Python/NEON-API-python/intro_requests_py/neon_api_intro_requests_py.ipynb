{
 "cells": [
  {
   "cell_type": "markdown",
   "metadata": {},
   "source": [
    "---\n",
    "syncID: f059914f7cf74327908228e63e204d60\n",
    "title: \"Introduction to NEON API in Python\"\n",
    "description: \"Use the NEON API in Python, via requests package and json package.\"\n",
    "dateCreated: 2020-04-24\n",
    "authors: Maxwell J. Burner\n",
    "contributors: Donal O'Leary, Bridget Hass\n",
    "estimatedTime: 1 hour\n",
    "packagesLibraries: requests, json, rasterio\n",
    "topics: API\n",
    "languagesTool: Python\n",
    "dataProduct: DP3.30015.001\n",
    "code1: https://raw.githubusercontent.com/NEONScience/NEON-Data-Skills/main/tutorials/Python/NEON-API-python/neon_api_01_introduction_requests_py/neon_api_intro_requests_py.py\n",
    "tutorialSeries: python-neon-api-series\n",
    "urlTitle: neon-api-intro-requests-py\n",
    "---"
   ]
  },
  {
   "cell_type": "markdown",
   "metadata": {},
   "source": [
    "<div id=\"ds-objectives\" markdown=\"1\">\n",
    "\n",
    "### Objectives\n",
    "After completing this tutorial, you will be able to:\n",
    "\n",
    "* Understand the components of a NEON API call\n",
    "* Understand the basic process of making and processing an API request in Python\n",
    "* Query the `'sites/'` or `'products/'` API endpoints to determine data availability\n",
    "* Query the `'data/'` API endpoint to get information on specific data files\n",
    "\n",
    "\n",
    "### Install Python Packages\n",
    "\n",
    "* **requests**\n",
    "* **json** \n",
    "* **rasterio**\n",
    "\n",
    "</div>"
   ]
  },
  {
   "cell_type": "markdown",
   "metadata": {},
   "source": [
    "In this tutorial we will learn to make calls to the NEON API using Python. We will make calls to the `'sites/'` and `'products/'` endpoints of the API to determine availability of data for specific sites and months, and make a call to the `'data/'` endpoint to learn the names and URLs of specific data files.\n",
    "\n",
    "An API is an [*Application Programming Interface*](https://rapidapi.com/blog/api-glossary/api-call/). This is a system that allows programs to send instructions and requests to servers, typically receiving data in exchange. While sending a URL over the web normally display a web page, when sending an API call URL, the desired data are directly downloaded to your computer. NEON provides an API that allows different programming languages to send requests for NEON data files and products.\n",
    "\n",
    "In this tutorial we will cover how to use API calls to learn about what types of NEON data products are available for different sites and time periods."
   ]
  },
  {
   "cell_type": "markdown",
   "metadata": {},
   "source": [
    "## Basic API Call Components\n",
    "\n",
    "The actual API call takes the form of a web URL, the contents of which determine what data is returned. This URL can be broken down into three parts, which appear in order:\n",
    "\n",
    "- The **base url** is the location of the server storing the data. This will be the same for all NEON API calls.\n",
    "\n",
    "- The **endpoint** indicates what type of data or metadata we are looking to download. This tutorial covers three endpoints: `sites/`, `products/`, and `data/`; other endpoints will be covered in later tutorials.\n",
    "\n",
    "- The **target** is a value or series of values that indicate the specific data product, site, location, or data files we are looking up.\n",
    "\n",
    "\n",
    "\n",
    "In Python we can easily deal with the complexities of the API call by setting the different parts of the request as strings, then concatenating them. Concatenating (combining end to end) strings in Python is as easy as using a `+` sign. This approach makes it easy to modify different parts of our request as needed."
   ]
  },
  {
   "cell_type": "code",
   "execution_count": null,
   "metadata": {},
   "outputs": [],
   "source": [
    "import os\n",
    "import requests\n",
    "import json\n",
    "import itertools"
   ]
  },
  {
   "cell_type": "code",
   "execution_count": null,
   "metadata": {},
   "outputs": [],
   "source": [
    "#Every request begins with the server's URL\n",
    "SERVER = 'http://data.neonscience.org/api/v0/'"
   ]
  },
  {
   "cell_type": "markdown",
   "metadata": {},
   "source": [
    "## Site Querying\n",
    "\n",
    "NEON manages 81 different sites across the United States and Puerto Rico. These sites are separated into two main groups, terrestrial and aquatic, and the aquatic sites are further subdivided into lakes, rivers, and wadable streams. Each of these different site types have different instrumentation and observation configurations, so not every data product is available at every site. We can start by asking what kinds of data products are available for a given site. This is done by using the *sites/* endpoint in the API; this endpoint is used for getting information about specific NEON field sites. In this example we will query which data products are available at the <a href=\"https://www.neonscience.org/field-sites/field-sites-map/TEAK\" target=\"_blank\">Lower Teakettle (TEAK)</a> site."
   ]
  },
  {
   "cell_type": "code",
   "execution_count": null,
   "metadata": {},
   "outputs": [],
   "source": [
    "#Site Code for Lower Teakettle\n",
    "SITECODE = 'TEAK'"
   ]
  },
  {
   "cell_type": "markdown",
   "metadata": {},
   "source": [
    "We first use the requests module to send the API request using the 'get' function; this returns a 'request' object.\n",
    "To more easily access the data returned by the request, we convert the request object into a Python JSON object."
   ]
  },
  {
   "cell_type": "code",
   "execution_count": null,
   "metadata": {},
   "outputs": [],
   "source": [
    "#Define the url, using the sites/ endpoint\n",
    "url = SERVER+'sites/'+SITECODE\n",
    "print(url)"
   ]
  },
  {
   "cell_type": "code",
   "execution_count": null,
   "metadata": {},
   "outputs": [],
   "source": [
    "#Request the url\n",
    "site_request = requests.get(url)\n",
    "\n",
    "#Convert the request to Python JSON object\n",
    "site_json = site_request.json()"
   ]
  },
  {
   "cell_type": "markdown",
   "metadata": {},
   "source": [
    "The JSON object in Python is a complex collection, with nested layers of dictionaries ('dicts') and lists. \n",
    "\n",
    "In short, a list is a collection of data in which each element is identified by index number, while a dictionary is a collection in which each element is identified by a label (called a 'key') that is usually a text string. You can visit the [w3schools website](https://www.w3schools.com/python/python_lists.asp) for more information on lists, and the [realpython website](https://realpython.com/python-dicts/) for more information on dictionaries. \n",
    "\n",
    "Dictionaries are defined using curly brackets ({...}) and lists are defined using square brackets (\\[...\\]). When we look at the request in JSON format, we can see this this is quite a lot of text arranged in nested dicts and lists. Click on the url link to see the data in JSON format in a new tab.\n",
    "\n",
    "At the highest level, the JSON object is a dictionary containing a single element with the label `'data'`. This `'data'` element in turn contains a dictionary with elements containing various pieces of information about the site. When we want to know what elements a dict contians, we can use the *.keys()* method to list the keys to each element in that dict."
   ]
  },
  {
   "cell_type": "code",
   "execution_count": null,
   "metadata": {},
   "outputs": [],
   "source": [
    "#Use the 'keys' method to view the component of the uppermost json dictionary\n",
    "site_json.keys()"
   ]
  },
  {
   "cell_type": "markdown",
   "metadata": {},
   "source": [
    "This output shows that the entire API response is contained within a single dict called `'data'`. In order to access any of the information contained within this highest-level `'data'` dict, we will need to reference that dictionary directly. Let's view the different keys that are available within `'data'`:"
   ]
  },
  {
   "cell_type": "code",
   "execution_count": null,
   "metadata": {},
   "outputs": [],
   "source": [
    "#Access the 'data' component, and use the 'keys' method to view to componenets of the json data dictionary\n",
    "site_json['data'].keys()"
   ]
  },
  {
   "cell_type": "markdown",
   "metadata": {},
   "source": [
    "These JSON keys include information on site location, site type, site name and code, and the availability of different data products for the site. \n",
    "\n",
    "Let's use the `itertools.islice` and `.items()` methods to display some of this information in more detail. This next line will print out the first 12 components of the `'data'` component. "
   ]
  },
  {
   "cell_type": "code",
   "execution_count": null,
   "metadata": {},
   "outputs": [],
   "source": [
    "dict(itertools.islice(site_json['data'].items(),12))"
   ]
  },
  {
   "cell_type": "markdown",
   "metadata": {},
   "source": [
    "This last piece of information in the `'data'` dictionary is stored within the `'dataProducts'` key.\n",
    "\n",
    "The `'dataProducts'` element is a list of dictionaries, one for each type of NEON data product available at the site; each of these dictionaries has the same keys, but different values. Let's look at the JSON for the third to last entry (\"\\[-3\\]\") in the list of data products:"
   ]
  },
  {
   "cell_type": "code",
   "execution_count": null,
   "metadata": {},
   "outputs": [],
   "source": [
    "#View a data product dictionary\n",
    "site_json['data']['dataProducts'][-3]"
   ]
  },
  {
   "cell_type": "markdown",
   "metadata": {},
   "source": [
    "Lists are a type of sequential data, so we can use Python's *for* loop to directly go through every element one by one, in this case to print out the data product code and data product name."
   ]
  },
  {
   "cell_type": "code",
   "execution_count": null,
   "metadata": {},
   "outputs": [],
   "source": [
    "#View product code and name for every available data product\n",
    "for product in site_json['data']['dataProducts']:\n",
    "    print(product['dataProductCode'],product['dataProductTitle'])"
   ]
  },
  {
   "cell_type": "markdown",
   "metadata": {},
   "source": [
    "Typically, we use site queries to determine which months a particular data product is available at a given site. Let's look for the availability of Ecosystem structure (DP3.30015.001) - this is the Canopy Height Model, one of the data products generated by NEON's Airborne Observation Platform (AOP)."
   ]
  },
  {
   "cell_type": "code",
   "execution_count": null,
   "metadata": {},
   "outputs": [],
   "source": [
    "#Set the Ecosystem structure (CHM) data product\n",
    "PRODUCTCODE = 'DP3.30015.001'"
   ]
  },
  {
   "cell_type": "markdown",
   "metadata": {},
   "source": [
    "For each data product, there will be a list of the months for which data of that type was collected and it available at the site, and a corresponding list with the URLs that we would put into the API to get data on that month of data products."
   ]
  },
  {
   "cell_type": "code",
   "execution_count": null,
   "metadata": {},
   "outputs": [],
   "source": [
    "#Get available months of Ecosystem structure data products for TEAK site\n",
    "#Loop through the 'dataProducts' list items (each one is a dictionary) at the site\n",
    "for product in site_json['data']['dataProducts']: \n",
    "    #if a list item's 'dataProductCode' dict element equals the product code string\n",
    "    if(product['dataProductCode'] == PRODUCTCODE): \n",
    "        #print the available months\n",
    "        print('Available Months: ',product['availableMonths'])\n",
    "        print('URLs for each Month:')\n",
    "        #print the available URLs\n",
    "        for url in product['availableDataUrls']:\n",
    "            print(url)"
   ]
  },
  {
   "cell_type": "markdown",
   "metadata": {},
   "source": [
    "## Data Product Querying\n",
    "\n",
    "Alternatively, we may want a specific type of data product, but aren't certain of the sites and months for which that data is available. In this case we can use the product code and the `products/` API endpoint to look up availability."
   ]
  },
  {
   "cell_type": "code",
   "execution_count": null,
   "metadata": {},
   "outputs": [],
   "source": [
    "#Make request\n",
    "product_request = requests.get(SERVER+'products/'+PRODUCTCODE)\n",
    "product_json = product_request.json()"
   ]
  },
  {
   "cell_type": "markdown",
   "metadata": {},
   "source": [
    "The product JSON will again store everything first in a `'data'` element. Within this container, the product data is a dictionary with information on the data product we are looking up."
   ]
  },
  {
   "cell_type": "code",
   "execution_count": null,
   "metadata": {},
   "outputs": [],
   "source": [
    "#Print keys for product data dictionary\n",
    "print(product_json['data'].keys())"
   ]
  },
  {
   "cell_type": "markdown",
   "metadata": {},
   "source": [
    "This request returned a lot of different types of information. Much of this information is meant to provide explanations and context for the data product. Let's look at the abstract, which provides a relatively brief description of the data product."
   ]
  },
  {
   "cell_type": "code",
   "execution_count": null,
   "metadata": {},
   "outputs": [],
   "source": [
    "#Print code, name, and abstract of data product\n",
    "print(product_json['data']['productCode'])\n",
    "print(product_json['data']['productName'],'\\n')\n",
    "print(product_json['data']['productAbstract'])"
   ]
  },
  {
   "cell_type": "markdown",
   "metadata": {},
   "source": [
    "To look up the availability of the data product, we want the `'siteCodes'` element. This is a list with an entry for each site where the data product is available. Each site entry is a dict whose elements includes site code, a list of months for which data is available, and a list of the API request URLs to request data for that site for a given month."
   ]
  },
  {
   "cell_type": "code",
   "execution_count": null,
   "metadata": {},
   "outputs": [],
   "source": [
    "#View keys of one site dictionary\n",
    "print(product_json['data']['siteCodes'][0].keys())"
   ]
  },
  {
   "cell_type": "markdown",
   "metadata": {},
   "source": [
    "We can look up the availability of data at a particular site and get a URL to request data for a specific month. We saw that Lower Teakettle (TEAK) has the data product we want for June 2018; we can get the URL needed to request that data by creating a nested for loop to go through the site and month lists."
   ]
  },
  {
   "cell_type": "code",
   "execution_count": null,
   "metadata": {},
   "outputs": [],
   "source": [
    "#View available months and corresponding API urls, then save desired URL\n",
    "for site in product_json['data']['siteCodes']:\n",
    "    if(site['siteCode'] == SITECODE):\n",
    "        for month in zip(site['availableMonths'],site['availableDataUrls']): #Loop through the list of months and URLs\n",
    "            print(month[0],month[1]) \n",
    "            if(month[0] == '2018-06'): #If data is available for the desired month, save the URL\n",
    "                data_url = month[1]"
   ]
  },
  {
   "cell_type": "code",
   "execution_count": null,
   "metadata": {},
   "outputs": [],
   "source": [
    "print(data_url)"
   ]
  },
  {
   "cell_type": "markdown",
   "metadata": {},
   "source": [
    "## Data File Querying\n",
    "\n",
    "We now know that CHM data product is available for 2018-06 at the Lower Teakettle site. Using the server url, site code, product code, and a year-month argument, we can make a request to the `data/` endpoint of the NEON API. This will allow us to see what CHM data files can be obtained for 2018-06 at the Lower Teakettle site, and to learn the locations of these files as URLs."
   ]
  },
  {
   "cell_type": "code",
   "execution_count": null,
   "metadata": {},
   "outputs": [],
   "source": [
    "#Make Request\n",
    "data_request = requests.get(SERVER+'data/'+PRODUCTCODE+'/'+SITECODE+'/'+'2018-06')\n",
    "data_json = data_request.json()"
   ]
  },
  {
   "cell_type": "markdown",
   "metadata": {},
   "source": [
    "Alternatively we could use one of the \"Available Data URLs\" from a `sites/` or `products/` request, like the data_url we saved earlier."
   ]
  },
  {
   "cell_type": "code",
   "execution_count": null,
   "metadata": {},
   "outputs": [],
   "source": [
    "#Make request with saved url\n",
    "data_request = requests.get(data_url)\n",
    "data_json = data_request.json()"
   ]
  },
  {
   "cell_type": "code",
   "execution_count": null,
   "metadata": {},
   "outputs": [],
   "source": [
    "#Print dict key for 'data' element of data JSON\n",
    "print(data_json['data'].keys())"
   ]
  },
  {
   "cell_type": "markdown",
   "metadata": {},
   "source": [
    "As with the sites JSON content, the uppermost level of a data request JSON object is a dictionary whose only member has the `'data'` key; this member in turn is a dictionary with the product code, the sitecode, the month, and a list of the available data files.\n",
    "\n",
    "The `'files'` list is a list of Python dictionaries, one for each file available based on our query. The dictionary for each file includes the `name` of the file, `size` of the file in bytes, a `crc32c` checksum code, and the `url` of the file - clicking on this url will download the file."
   ]
  },
  {
   "cell_type": "code",
   "execution_count": null,
   "metadata": {},
   "outputs": [],
   "source": [
    "#View keys and values in first file dict\n",
    "for key in data_json['data']['files'][0].keys(): #Loop through keys of the data file dict\n",
    "    print(key,':\\t', data_json['data']['files'][0][key])"
   ]
  },
  {
   "cell_type": "markdown",
   "metadata": {},
   "source": [
    "Next let's take a look at the names of the first 10 files, by looping through the `data_json['data']['files']` list:"
   ]
  },
  {
   "cell_type": "code",
   "execution_count": null,
   "metadata": {},
   "outputs": [],
   "source": [
    "#Display the names of the first 10 files\n",
    "for file in data_json['data']['files'][:10]:\n",
    "    print(file['name'])"
   ]
  },
  {
   "cell_type": "markdown",
   "metadata": {},
   "source": [
    "A number of different files are available, but the actual CHM data are in files which have 'CHM.tif' in the file name. The files ending in \"classified_point_cloud.shp/shx/prj/dbf\" are shapefiles that are provided as metadata and can be used to determine the spatial extent. For now we will only focus on the actual data files.\n",
    "\n",
    "We can use `if` statements to pull out information on only the CHM raster (tif) files. The Python **in** operator checks if a particular value is present in a sequence. In this case we'll check if a particular series of characters `'CHM.tif'` is present in the file name string."
   ]
  },
  {
   "cell_type": "code",
   "execution_count": null,
   "metadata": {},
   "outputs": [],
   "source": [
    "for file in data_json['data']['files'][:20]:\n",
    "    if 'CHM.tif' in file['name']:\n",
    "        print(file['name'])\n",
    "        print(file['url'])"
   ]
  },
  {
   "cell_type": "markdown",
   "metadata": {},
   "source": [
    "Click on the link to the last file in this list. As a last step, we will read it in and plot it! You can do this with a number of different packages, but we'll show how to do it with the `rasterio` package. We'll need to import a few more packages for plotting."
   ]
  },
  {
   "cell_type": "code",
   "execution_count": null,
   "metadata": {},
   "outputs": [],
   "source": [
    "import rasterio as rio\n",
    "import matplotlib.pyplot as plt\n",
    "from rasterio.plot import show"
   ]
  },
  {
   "cell_type": "markdown",
   "metadata": {},
   "source": [
    "Determine where your file is downloaded. The code below assumes it was downloaded to the \"C:/Users/username/Downloads\" directory, but you can change this path if you've saved the file to a different location."
   ]
  },
  {
   "cell_type": "code",
   "execution_count": null,
   "metadata": {},
   "outputs": [],
   "source": [
    "#Read in the CHM file - change the path if it's not in this Downloads directory\n",
    "username = os.getlogin()\n",
    "chm_tif = r'C:/Users/'+username+'/Downloads/NEON_D17_TEAK_DP3_319000_4107000_CHM.tif'\n",
    "chm = rio.open(chm_tif)"
   ]
  },
  {
   "cell_type": "markdown",
   "metadata": {},
   "source": [
    "Finally we can define the plot settings and use rasterio `show` to display this CHM tile."
   ]
  },
  {
   "cell_type": "code",
   "execution_count": null,
   "metadata": {},
   "outputs": [],
   "source": [
    "#Configure the plot\n",
    "fig, ax = plt.subplots(1,1, figsize=(5,5));\n",
    "\n",
    "#Don't use scientific notation for the y axis label\n",
    "ax.get_yaxis().get_major_formatter().set_scientific(False)\n",
    "\n",
    "#Display the CHM\n",
    "show((chm, 1), ax=ax, cmap='Greens', title='NEON_D17_TEAK_DP3_319000_4107000_CHM.tif');"
   ]
  }
 ],
 "metadata": {
  "kernelspec": {
   "display_name": "Python 3 (ipykernel)",
   "language": "python",
   "name": "python3"
  },
  "language_info": {
   "codemirror_mode": {
    "name": "ipython",
    "version": 3
   },
   "file_extension": ".py",
   "mimetype": "text/x-python",
   "name": "python",
   "nbconvert_exporter": "python",
   "pygments_lexer": "ipython3",
   "version": "3.9.12"
  }
 },
 "nbformat": 4,
 "nbformat_minor": 4
}
