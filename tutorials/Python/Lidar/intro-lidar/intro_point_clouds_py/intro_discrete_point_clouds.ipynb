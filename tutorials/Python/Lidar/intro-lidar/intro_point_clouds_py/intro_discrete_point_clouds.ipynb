{
 "cells": [
  {
   "cell_type": "markdown",
   "id": "a666a131",
   "metadata": {},
   "source": [
    "---\n",
    "syncID: \n",
    "title: \"Introduction to NEON Discrete Lidar Point Clodus in Python\"\n",
    "description: \"Programmatically download lidar data and metadata and explore discrete lidar point clouds in Python\"\n",
    "dateCreated: 2022-09-24\n",
    "authors: Bridget Hass\n",
    "contributors: \n",
    "estimatedTime: 30 minutes\n",
    "packagesLibraries: requests, json, gdal, geopandas, laspy, lasrs\n",
    "topics:\n",
    "languagesTool: python\n",
    "dataProduct: DP3.10003.001, \n",
    "code1: https://raw.githubusercontent.com/NEONScience/NEON-Data-Skills/main/tutorials/Python/Lidar/intro-lidar/intro_point_clouds_py/intro_discrete_point_clouds.py\n",
    "tutorialSeries: \n",
    "urlTitle: neon-discrete-point-clouds\n",
    "---"
   ]
  },
  {
   "cell_type": "markdown",
   "id": "aaa4b105",
   "metadata": {},
   "source": [
    "<div id=\"ds-objectives\" markdown=\"1\">\n",
    "\n",
    "### Objectives\n",
    "After completing this tutorial, you will be able to:\n",
    "\n",
    "* Use Python functions to programmatically download NEON AOP data from the API\n",
    "* Download and plot shapefiles and kmls included in lidar metadata to visualize coverage for a given year\n",
    "* Explore the NEON discrete lidar point cloud contents in Python\n",
    "\n",
    "### Requirements\n",
    "\n",
    "To follow along with this code, you will need to install Python. We recommend starting in Jupyter Notebooks so you can run each cell \"chunk\" individually. You can install both Python and Jupyter Notebooks by downloading <a href=\"https://www.anaconda.com/products/distribution\" target=\"_blank\">Anaconda</a>.\n",
    "\n",
    "You will also need to have the script `download_aop_files.py` downloaded and saved in your working directory.\n",
    "\n",
    "### Additional Resources\n",
    "\n",
    "If you are interested in learning more about the NEON API, or want a deeper dive in how this works with the Python `requests` package, please refer to the tutorial and webpages linked below.\n",
    " * <a href=\"https://www.neonscience.org/resources/learning-hub/tutorials/neon-api-01-introduction-requests\" target=\"_blank\"> Introduction to NEON API in Python  </a>\n",
    " * <a href=\"https://data.neonscience.org/data-api/\" target=\"_blank\"> NEON Data API </a>\n",
    "\n",
    "For a handy resource on Jupyter Notebook tips, tricks and shortcuts, check out the DataQuest blog linked below.\n",
    " * <a href=\"https://www.dataquest.io/blog/jupyter-notebook-tips-tricks-sh\" target=\"_blank\"> 28 Jupyter Notebook Tips, Tricks, and Shortcuts  </a>\n",
    " \n",
    "\n",
    "### Install Python Packages\n",
    "\n",
    "* **requests**\n",
    "* **json** \n",
    "* **gdal**\n",
    "* **fiona**\n",
    "* **geopandas**\n",
    "* **laspy**\n",
    "* **lazrs**\n",
    "\n",
    "#### Installation Tips: \n",
    "Most of these packages can be installed using `pip install`, eg. to install `gdal`, in the command line, run:\n",
    "\n",
    "```python\n",
    "pip install gdal\n",
    "```\n",
    "\n",
    "or within Jupyter notebooks you can also install packages but have to include an ! before the statement to run a shell command (as you would from a command prompt):\n",
    "\n",
    "```python\n",
    "!pip install gdal\n",
    "```\n",
    "\n",
    "However for many of the geospatial packages (eg. gdal, fiona, geopandas), there may be errors installing on your version of python if you don't find the correct wheel file. You can find the package wheel file specific to your version of python and your computer. A comprehensive archive of these geospatial (and other) wheel files can be found here:\n",
    "\n",
    "https://www.lfd.uci.edu/~gohlke/pythonlibs/\n",
    "\n",
    "For example, to install `gdal` on a windows 64 machine, using Python 3.9, download the file GDAL-3.4.3-cp39-cp39-win_amd64.whl, found here (you can also find this by navigating through the link above):\n",
    "\n",
    "https://www.lfd.uci.edu/~gohlke/pythonlibs/#gdal\n",
    "\n",
    "```python\n",
    "pip install C:\\Users\\username\\Downloads\\GDAL-3.4.3-cp39-cp39-win_amd64.whl\n",
    "```\n",
    "\n",
    "Similarly, to install `fiona`, download the wheel file Fiona-1.8.21-cp39-cp39-win_amd64.whl\n",
    "\n",
    "```python\n",
    "pip install C:\\Users\\username\\Downloads\\Fiona-1.8.21-cp39-cp39-win_amd64.whl\n",
    "```\n",
    "\n",
    "</div>"
   ]
  },
  {
   "cell_type": "markdown",
   "id": "a409be32",
   "metadata": {},
   "source": [
    "First, we need to import the required Python packages. \n",
    "\n",
    "**Reminder**: If you haven't installed these packages (see more detailed installation instructions above), you can install them in the notebook as shown below. If the install doesn't work with a simple pip install, download the appropriate wheel file and substitute the package name with the wheel file name (including the full path). We recommend installing these packages one by one so you can make sure each package installs successfully.\n",
    "\n",
    "```python\n",
    "!pip install requests\n",
    "!pip install json\n",
    "!pip install gdal\n",
    "!pip install fiona\n",
    "!pip install geopandas\n",
    "!pip install laspy\n",
    "!pip install lazrs\n",
    "```\n",
    "\n",
    "Once all packages are successfully installed, import them as follows. Note that the `requests` and `json` packages will be imported when we import the separate module, so you don't need to import those separately."
   ]
  },
  {
   "cell_type": "code",
   "execution_count": 1,
   "id": "6b3d662e",
   "metadata": {},
   "outputs": [],
   "source": [
    "#import required packages\n",
    "import os\n",
    "import numpy as np\n",
    "import matplotlib.pyplot as plt\n",
    "import geopandas as gpd\n",
    "import laspy"
   ]
  },
  {
   "cell_type": "markdown",
   "id": "7b4c2268",
   "metadata": {},
   "source": [
    "Now we'll pull in all the functions in the module **neon_aop_download_functions.py**, linked at the top of this tutorial. \n",
    "\n",
    "First make sure this script is saved in your working directory, which we'll check below, otherwise you will need to provide the relative path to this script. "
   ]
  },
  {
   "cell_type": "code",
   "execution_count": 2,
   "id": "56b56f4a",
   "metadata": {},
   "outputs": [
    {
     "data": {
      "text/plain": [
       "['.ipynb_checkpoints',\n",
       " 'data',\n",
       " 'intro_discrete_point_clouds.ipynb',\n",
       " 'neon_aop_download_functions.py',\n",
       " '__pycache__']"
      ]
     },
     "execution_count": 2,
     "metadata": {},
     "output_type": "execute_result"
    }
   ],
   "source": [
    "# check that script is saved in same folder:\n",
    "os.listdir()"
   ]
  },
  {
   "cell_type": "markdown",
   "id": "3e83f461",
   "metadata": {},
   "source": [
    "We can see that the download_functions script is there, so to import the contents, use the command:"
   ]
  },
  {
   "cell_type": "code",
   "execution_count": 3,
   "id": "f24803df",
   "metadata": {},
   "outputs": [],
   "source": [
    "from neon_aop_download_functions import *"
   ]
  },
  {
   "cell_type": "markdown",
   "id": "29d82438",
   "metadata": {},
   "source": [
    "Alternatively, if you'd like to see the contents of that file, you can use the \"magic\" command `%load` as follows:\n",
    "\n",
    "```python\n",
    "%load neon_aop_download_functions.py\n",
    "```\n",
    "\n",
    "If you go this route, you will need to run the cell twice for the functions to be read into the ntoebook. The first run will load the functions and the second will run the cell. This option of loading in the functions may be useful if you wish to modify the functions in the notebook cell for your specific workflow."
   ]
  },
  {
   "cell_type": "markdown",
   "id": "cad08048",
   "metadata": {},
   "source": [
    "Now that we've imported in all the required packages and functions, we can get started! First let's take a look at what exactly we've imported by using the magic command `%whos`. Since there's no variable explorer in Jupyter Notebooks, this is a quick way to see what all we have in our working environment."
   ]
  },
  {
   "cell_type": "code",
   "execution_count": 4,
   "id": "0f5b562b",
   "metadata": {},
   "outputs": [
    {
     "name": "stdout",
     "output_type": "stream",
     "text": [
      "Variable                      Type        Data/Info\n",
      "---------------------------------------------------\n",
      "download_aop_files            function    <function download_aop_fi<...>es at 0x00000218DB3FE3A0>\n",
      "download_file                 function    <function download_file at 0x00000218DB3FE280>\n",
      "download_urls                 function    <function download_urls at 0x00000218DB3FE1F0>\n",
      "get_file_size                 function    <function get_file_size at 0x00000218DB3FE310>\n",
      "gpd                           module      <module 'geopandas' from <...>\\geopandas\\\\__init__.py'>\n",
      "laspy                         module      <module 'laspy' from 'C:\\<...>ges\\\\laspy\\\\__init__.py'>\n",
      "list_available_urls           function    <function list_available_<...>ls at 0x00000218DB3FE040>\n",
      "list_available_urls_by_year   function    <function list_available_<...>ar at 0x00000218DB3FE160>\n",
      "np                            module      <module 'numpy' from 'C:\\<...>ges\\\\numpy\\\\__init__.py'>\n",
      "os                            module      <module 'os' from 'C:\\\\Us<...>\\\\Anaconda3\\\\lib\\\\os.py'>\n",
      "plt                           module      <module 'matplotlib.pyplo<...>\\\\matplotlib\\\\pyplot.py'>\n",
      "requests                      module      <module 'requests' from '<...>\\\\requests\\\\__init__.py'>\n",
      "urllib                        module      <module 'urllib' from 'C:<...>ib\\\\urllib\\\\__init__.py'>\n"
     ]
    }
   ],
   "source": [
    "%whos"
   ]
  },
  {
   "cell_type": "markdown",
   "id": "991c4900",
   "metadata": {},
   "source": [
    "### Data Tip\n",
    "If you are unsure what a function or module does, you can find more information about the function in two ways: \n",
    "1. type `help(function_name)`, which will print out documentation below the cell, or\n",
    "2. type the function name followed by `?`, which will pop up the documentation at the bottom of your Jupyter Notebook window, and you can then exit out of it at your convenience\n",
    "\n",
    "```python\n",
    "help(requests)\n",
    "requests?\n",
    "```\n",
    "\n",
    "The functions loaded from the `neon_aop_download_functions.py` file also include similar documentation, so you can use this trick for these user-defined functions.\n",
    "\n",
    "```python\n",
    "help(list_available_urls)\n",
    "list_available_urls?\n",
    "```"
   ]
  },
  {
   "cell_type": "markdown",
   "id": "26033c7a",
   "metadata": {},
   "source": [
    "This tutorial will be working with the Discrete Return LiDAR Point Cloud https://data.neonscience.org/data-products/DP1.30003.001)\n",
    "\n",
    "First we'll start by defining variables that specify the NEON data product ID, site, and year. You can change these to look at a different site of your interest, but this tutorial will explore the NEON site `GUAN` in Domain 04, Puerto Rico."
   ]
  },
  {
   "cell_type": "code",
   "execution_count": 5,
   "id": "fd351604",
   "metadata": {},
   "outputs": [],
   "source": [
    "dpID='DP1.30003.001' \n",
    "site = 'GUAN'"
   ]
  },
  {
   "cell_type": "markdown",
   "id": "ebe504e8",
   "metadata": {},
   "source": [
    "We can use the function `list_available_urls` to see what data is available for this data product and site. This function requires two inputs: the data product ID `dpID` and the site ID, `site`."
   ]
  },
  {
   "cell_type": "code",
   "execution_count": 6,
   "id": "a655ea65",
   "metadata": {
    "scrolled": true
   },
   "outputs": [
    {
     "name": "stdout",
     "output_type": "stream",
     "text": [
      "Help on function list_available_urls in module neon_aop_download_functions:\n",
      "\n",
      "list_available_urls(product, site)\n",
      "    list_available urls lists the api url for a given product and site\n",
      "    --------\n",
      "     Inputs:\n",
      "         product: the data product code (eg. 'DP3.30015.001' - CHM)\n",
      "         site: the 4-digit NEON site code (eg. 'SRER', 'JORN')\n",
      "    --------\n",
      "    Usage:\n",
      "    --------\n",
      "    jorn_chm_urls = list_available_urls('DP3.30015.001','JORN')\n",
      "\n"
     ]
    }
   ],
   "source": [
    "help(list_available_urls)"
   ]
  },
  {
   "cell_type": "code",
   "execution_count": 7,
   "id": "cb36a921",
   "metadata": {},
   "outputs": [
    {
     "data": {
      "text/plain": [
       "['https://data.neonscience.org/api/v0/data/DP1.30003.001/GUAN/2018-05']"
      ]
     },
     "execution_count": 7,
     "metadata": {},
     "output_type": "execute_result"
    }
   ],
   "source": [
    "list_available_urls(dpID,site)"
   ]
  },
  {
   "cell_type": "markdown",
   "id": "99e095db",
   "metadata": {},
   "source": [
    "The AOP has only flown Puerto Rico (D04) once so far, in 2018. D04 is only on the AOP schedule every 4 years; the next campaign is scheduled for the fall of 2022, so new data is expected relatively soon!\n",
    "\n",
    "Next let's set up some paths where we can save our downloaded data. We'll start with downloading geospatial metadata in order to get a sense of the coverage (geographic extents) of the flight area. We'll make a folder for the shapefiles (shp), kml files (which may be useful for interactively looking at the site boundaries in Google Earth), and a folder for the actual lidar (laz) data."
   ]
  },
  {
   "cell_type": "code",
   "execution_count": 8,
   "id": "50b4bd12",
   "metadata": {},
   "outputs": [
    {
     "name": "stdout",
     "output_type": "stream",
     "text": [
      "./data/GUAN/2018/\n"
     ]
    }
   ],
   "source": [
    "year='2018'\n",
    "data_root_path = './data/'+site+'/'+year+'/'\n",
    "shp_path = data_root_path+'shp/'\n",
    "kml_path = data_root_path+'kml/'\n",
    "laz_path = data_root_path+'laz/'\n",
    "print(data_root_path)"
   ]
  },
  {
   "cell_type": "markdown",
   "id": "3f6f879e",
   "metadata": {},
   "source": [
    "Next, let's take a look at the `download_aop_files` function, which we'll use to download the metadata and data that we want to explore."
   ]
  },
  {
   "cell_type": "code",
   "execution_count": 9,
   "id": "37fc8c76",
   "metadata": {},
   "outputs": [
    {
     "name": "stdout",
     "output_type": "stream",
     "text": [
      "Help on function download_aop_files in module neon_aop_download_functions:\n",
      "\n",
      "download_aop_files(product, site, year=None, download_folder='./data', match_string=None, check_size=True)\n",
      "    download_aop_files downloads NEON AOP files from the AOP for a given data product, site, and \n",
      "    optional year, download folder, and \n",
      "    --------\n",
      "     Inputs:\n",
      "         required:\n",
      "             product: the data product code (eg. 'DP3.30015.001' - CHM)\n",
      "             site: the 4-digit NEON site code (eg. 'SRER', 'JORN')\n",
      "         \n",
      "         optional:\n",
      "             year: year (eg. '2020'); default (None) is all years\n",
      "             download_folder: folder to store downloaded files; default (./data) in current directory\n",
      "             match_string: subset of data to match, need to use exact pattern for file name\n",
      "             check_size: prompt to continue download (y/n) after displaying size; default = True\n",
      "    --------\n",
      "    Usage:\n",
      "    --------\n",
      "    download_aop_files('DP3.30015.001','JORN','2019','./data/JORN_2019/CHM','314000_3610000_CHM.tif')\n",
      "\n"
     ]
    }
   ],
   "source": [
    "help(download_aop_files)"
   ]
  },
  {
   "cell_type": "markdown",
   "id": "c0dd98f0",
   "metadata": {},
   "source": [
    "The only required inputs for this function are the `product` and the `site`; optionally we can specify the `year`, the `download_folder` to save the files, and a `match_string` to download a subset of the data by a string. By default, the function will display the size of the files, and prompt the user to continue the download (by typing `y`); any other response will halt the download. This is to prevent an accidental download of a large volume of data.\n",
    "\n",
    "We'll start by downloading the shape files, which are included as part of the metadata with the lidar data products. Because AOP data for a full site can be pretty large, and you may only need to work with a subset of the data for a given site, we recommend starting with the metadata to get a better sense of the data and your area of interest.\n",
    "\n",
    "There are summary shape files provided along with the lidar data for each site. These summary files end with `merged_tiles.shp/.shx`, so we can key off that string to download only the full boundary shape file. You could also download all of the individual `.shp` files for each data tile (L3 data is provided in 1km x 1km tiles), by using the match string `.shp`, or similarly all the `.kml` files, if you wanted to pull the data boundaries into Google Earth and explore more interactively.\n",
    "\n",
    "Try out some of the options below to explore different metadata products. Optionally, you can set `check_size=False` since these will all have small data volumes.\n",
    "\n",
    "```python\n",
    "#download all shp files (L3 - tiles)\n",
    "download_aop_files(dpID,site,year,kml_path,'.shp',check_size=False) \n",
    "\n",
    "#download all kml files (L1 - flightline + L3 - tiles)\n",
    "download_aop_files(dpID,site,year,kml_path,'.kml',check_size=False) \n",
    "\n",
    "#downloads only the full boundary kml files\n",
    "download_aop_files(dpID,site,year,kml_path,'full_boundary.kml',check_size=False) \n",
    "```"
   ]
  },
  {
   "cell_type": "code",
   "execution_count": 10,
   "id": "4659fd5c",
   "metadata": {
    "scrolled": true
   },
   "outputs": [
    {
     "name": "stdout",
     "output_type": "stream",
     "text": [
      "Download size: 0.78 kB\n",
      "downloading 2018_GUAN_1_merged_tiles.shp to ./data/GUAN/2018/shp/\n",
      "Download size: 0.0 kB\n",
      "downloading 2018_GUAN_1_merged_tiles.shx to ./data/GUAN/2018/shp/\n"
     ]
    }
   ],
   "source": [
    "download_aop_files(dpID,site,year,shp_path,'merged_tiles.shp',check_size=False)\n",
    "download_aop_files(dpID,site,year,shp_path,'merged_tiles.shx',check_size=False)"
   ]
  },
  {
   "cell_type": "markdown",
   "id": "b63d5dc3",
   "metadata": {},
   "source": [
    "We can see that these files have downloaded to the expected location by listing the contents of the `shp_path` directory that we've made:"
   ]
  },
  {
   "cell_type": "code",
   "execution_count": 11,
   "id": "dfcd4da0",
   "metadata": {},
   "outputs": [
    {
     "data": {
      "text/plain": [
       "['2018_GUAN_1_merged_tiles.shp', '2018_GUAN_1_merged_tiles.shx']"
      ]
     },
     "execution_count": 11,
     "metadata": {},
     "output_type": "execute_result"
    }
   ],
   "source": [
    "os.listdir(shp_path)"
   ]
  },
  {
   "cell_type": "markdown",
   "id": "810aed8c",
   "metadata": {},
   "source": [
    "download_aop_files(dpID,site,year,kml_path,'.kml')"
   ]
  },
  {
   "cell_type": "code",
   "execution_count": 12,
   "id": "51ae0192",
   "metadata": {},
   "outputs": [
    {
     "data": {
      "image/png": "[encoded data removed]",
      "text/plain": [
       "<Figure size 432x288 with 1 Axes>"
      ]
     },
     "metadata": {
      "needs_background": "light"
     },
     "output_type": "display_data"
    }
   ],
   "source": [
    "gdf = gpd.read_file(os.path.join(shp_path,'2018_GUAN_1_merged_tiles.shp'))\n",
    "gdf.plot();\n",
    "ax = plt.gca(); ax.ticklabel_format(style='plain') \n",
    "ax.set_title('AOP Coverage of ' + site + ' in ' + year);\n",
    "plt.xticks(rotation=90); #optionally rotate the xtick labels"
   ]
  },
  {
   "cell_type": "code",
   "execution_count": 13,
   "id": "31d323e1",
   "metadata": {},
   "outputs": [
    {
     "name": "stdout",
     "output_type": "stream",
     "text": [
      "Download size: 0.13 kB\n",
      "downloading full_boundary.kml to ./data/GUAN/2018/kml/\n"
     ]
    }
   ],
   "source": [
    "download_aop_files(dpID,site,year,kml_path,'full_boundary.kml',check_size=False) "
   ]
  },
  {
   "cell_type": "markdown",
   "id": "0b5993e1",
   "metadata": {},
   "source": [
    "If you pull this into Google Earth you can see the coverage with more geographic context:\n",
    "\n",
    "<figure>\n",
    "    <a href=\"https://raw.githubusercontent.com/NEONScience/NEON-Data-Skills/main/graphics/py-figs/intro-point-clouds-py/guan_boundary_google_earth.PNG\">\n",
    "    <img src=\"https://raw.githubusercontent.com/NEONScience/NEON-Data-Skills/main/graphics/py-figs/intro-point-clouds-py/guan_boundary_google_earth.PNG\" width=\"400\"/>GUAN kml boundary</a>\n",
    "    <figcaption=\"KML boundary of GUAN\"</figcaption>\n",
    "</figure>"
   ]
  },
  {
   "cell_type": "markdown",
   "id": "f5ad15ab",
   "metadata": {},
   "source": [
    "Now that we can see the extent of the tiles, we'll pick a single tile in this area to download. For this example, I'll choose the tile \"724000_1985000\" towards the southern part of the site, including both land and sea."
   ]
  },
  {
   "cell_type": "code",
   "execution_count": 14,
   "id": "a2e2a500",
   "metadata": {},
   "outputs": [
    {
     "name": "stdout",
     "output_type": "stream",
     "text": [
      "Download size: 18.0 MB\n",
      "Do you want to continue with the download? (y/n) y\n",
      "downloading NEON_D04_GUAN_DP1_725000_1985000_classified_point_cloud_colorized.laz to ./data/GUAN/2018/laz/\n"
     ]
    }
   ],
   "source": [
    "download_aop_files('DP1.30003.001',site,year,laz_path,match_string='725000_1985000_classified_point_cloud_colorized.laz')"
   ]
  },
  {
   "cell_type": "markdown",
   "id": "ea09e9cd",
   "metadata": {},
   "source": [
    "We can use `os.listdir` again to check that this file successfully downloaded to the expected location. Alternatively you could go into your file explorer."
   ]
  },
  {
   "cell_type": "code",
   "execution_count": 15,
   "id": "5b928e99",
   "metadata": {
    "scrolled": true
   },
   "outputs": [
    {
     "data": {
      "text/plain": [
       "['NEON_D04_GUAN_DP1_725000_1985000_classified_point_cloud_colorized.laz']"
      ]
     },
     "execution_count": 15,
     "metadata": {},
     "output_type": "execute_result"
    }
   ],
   "source": [
    "os.listdir(laz_path)"
   ]
  },
  {
   "cell_type": "markdown",
   "id": "7d4e8e54",
   "metadata": {},
   "source": [
    "Now that we've successfully downloaded a laz (or zipped las) file, we can use the `laspy` package to read it in! We'll do that in the next line, reading the lidar file into the variable name `point_cloud`:"
   ]
  },
  {
   "cell_type": "code",
   "execution_count": 16,
   "id": "389cecd7",
   "metadata": {},
   "outputs": [],
   "source": [
    "laz_data_file=os.path.join(laz_path,'NEON_D04_GUAN_DP1_725000_1985000_classified_point_cloud_colorized.laz')\n",
    "point_cloud=laspy.read(laz_data_file)"
   ]
  },
  {
   "cell_type": "markdown",
   "id": "f8595fdc",
   "metadata": {},
   "source": [
    "Reading in the file with with laspy.read() reads in both the metadata and the raw point cloud data. We can print out the `point_cloud` variable to show some basic information about what we've read in:"
   ]
  },
  {
   "cell_type": "code",
   "execution_count": 17,
   "id": "17107096",
   "metadata": {},
   "outputs": [
    {
     "data": {
      "text/plain": [
       "<LasData(1.3, point fmt: <PointFormat(3, 4 bytes of extra dims)>, 2968778 points, 2 vlrs)>"
      ]
     },
     "execution_count": 17,
     "metadata": {},
     "output_type": "execute_result"
    }
   ],
   "source": [
    "point_cloud"
   ]
  },
  {
   "cell_type": "markdown",
   "id": "80a3a616",
   "metadata": {},
   "source": [
    "`point_format.dimension_names` show us the available information stored in this LasData object format:"
   ]
  },
  {
   "cell_type": "code",
   "execution_count": 18,
   "id": "9933ff02",
   "metadata": {},
   "outputs": [
    {
     "data": {
      "text/plain": [
       "['X',\n",
       " 'Y',\n",
       " 'Z',\n",
       " 'intensity',\n",
       " 'return_number',\n",
       " 'number_of_returns',\n",
       " 'scan_direction_flag',\n",
       " 'edge_of_flight_line',\n",
       " 'classification',\n",
       " 'synthetic',\n",
       " 'key_point',\n",
       " 'withheld',\n",
       " 'scan_angle_rank',\n",
       " 'user_data',\n",
       " 'point_source_id',\n",
       " 'gps_time',\n",
       " 'red',\n",
       " 'green',\n",
       " 'blue',\n",
       " 'reversible index (lastile)']"
      ]
     },
     "execution_count": 18,
     "metadata": {},
     "output_type": "execute_result"
    }
   ],
   "source": [
    "list(point_cloud.point_format.dimension_names)"
   ]
  },
  {
   "cell_type": "markdown",
   "id": "db03622c",
   "metadata": {},
   "source": [
    "In the next few cells, we can explore some of these variables:"
   ]
  },
  {
   "cell_type": "code",
   "execution_count": 19,
   "id": "ef9bf427",
   "metadata": {},
   "outputs": [
    {
     "data": {
      "text/plain": [
       "<SubFieldView([2 2 2 ... 7 7 7])>"
      ]
     },
     "execution_count": 19,
     "metadata": {},
     "output_type": "execute_result"
    }
   ],
   "source": [
    "point_cloud.classification"
   ]
  },
  {
   "cell_type": "markdown",
   "id": "5ea53acd",
   "metadata": {},
   "source": [
    "Let's get the `set` of this `list` to see all the unique classification values in this file. This may take a little time to run."
   ]
  },
  {
   "cell_type": "code",
   "execution_count": 20,
   "id": "3c8b0db2",
   "metadata": {},
   "outputs": [
    {
     "data": {
      "text/plain": [
       "{1, 2, 5, 6, 7}"
      ]
     },
     "execution_count": 20,
     "metadata": {},
     "output_type": "execute_result"
    }
   ],
   "source": [
    "set(list(point_cloud.classification))"
   ]
  },
  {
   "cell_type": "markdown",
   "id": "d074e30d",
   "metadata": {},
   "source": [
    "Las files have \"predefined classification schemes defined by the American Society for Photogrammetry and Remote Sensing (ASPRS)\". Refer to https://desktop.arcgis.com/en/arcmap/10.3/manage-data/las-dataset/lidar-point-classification.htm for more details.\n",
    "\n",
    "The following table lists the LAS classification codes defined by ASPRS for these LAS versions:\n",
    "\n",
    "| Classification value | Meaning           |\n",
    "|---------------------|-------------------|\n",
    "| 0                   | Never classified  |\n",
    "| 1                   | Unassigned        |\n",
    "| 2                   | Ground            |\n",
    "| 3                   | Low Vegetation    |\n",
    "| 4                   | Medium Vegetation |\n",
    "| 5                   | High Vegetation   |\n",
    "| 6                   | Building          |\n",
    "| 7                   | Low Point         |"
   ]
  },
  {
   "cell_type": "markdown",
   "id": "b694614b",
   "metadata": {},
   "source": [
    "Next let's take a look at what we can consider to be the main data - the geographic loation of each point in the point cloud. This can be accessed either by `point_cloud.X`, `point_cloud.Y`, `point_cloud.Z`, or more succinctly by `point_cloud.xyz`. Let's take a look at this:"
   ]
  },
  {
   "cell_type": "code",
   "execution_count": 21,
   "id": "be1cb469",
   "metadata": {},
   "outputs": [
    {
     "data": {
      "text/plain": [
       "array([[ 7.25894810e+05,  1.98500265e+06,  2.50000000e-01],\n",
       "       [ 7.25915210e+05,  1.98500018e+06,  4.20000000e-01],\n",
       "       [ 7.25893550e+05,  1.98500798e+06,  2.20000000e-01],\n",
       "       ...,\n",
       "       [ 7.25085510e+05,  1.98583553e+06, -1.80370000e+02],\n",
       "       [ 7.25101320e+05,  1.98584004e+06, -2.37230000e+02],\n",
       "       [ 7.25122790e+05,  1.98583813e+06, -3.05320000e+02]])"
      ]
     },
     "execution_count": 21,
     "metadata": {},
     "output_type": "execute_result"
    }
   ],
   "source": [
    "point_cloud.xyz"
   ]
  },
  {
   "cell_type": "markdown",
   "id": "36383aa3",
   "metadata": {},
   "source": [
    "We can see this is a 3-dimensional array, as we might expect. Let's read this into the variable `xyz`:"
   ]
  },
  {
   "cell_type": "code",
   "execution_count": 22,
   "id": "6ec7415f",
   "metadata": {},
   "outputs": [],
   "source": [
    "xyz = point_cloud.xyz"
   ]
  },
  {
   "cell_type": "markdown",
   "id": "75c339cf",
   "metadata": {},
   "source": [
    "We can see the size (or number of points) in this array using the built-in python function `len`:"
   ]
  },
  {
   "cell_type": "code",
   "execution_count": 23,
   "id": "4474d9b4",
   "metadata": {},
   "outputs": [
    {
     "data": {
      "text/plain": [
       "2968778"
      ]
     },
     "execution_count": 23,
     "metadata": {},
     "output_type": "execute_result"
    }
   ],
   "source": [
    "len(xyz)"
   ]
  },
  {
   "cell_type": "markdown",
   "id": "77cffd09",
   "metadata": {},
   "source": [
    "There are > 2 million lidar points in this single 1km x 1km tile. For the rest of this exercise, we'll look at a random subset of these points, taking every100th point (you can change this subset factor, but when we visualize the data in a few steps, subsetting by a larger factor will speed up the time it takes to make the plot)."
   ]
  },
  {
   "cell_type": "code",
   "execution_count": 24,
   "id": "5789bb77",
   "metadata": {},
   "outputs": [],
   "source": [
    "factor=100\n",
    "points_dec = xyz[::factor]"
   ]
  },
  {
   "cell_type": "markdown",
   "id": "39452d74",
   "metadata": {},
   "source": [
    "These point clouds have been \"colorized\" by the camera RGB imagery. If you refer back to the dimension names, you can see there are a `red`, `green`, and `blue` attributes. We can pull these into a single array by using `np.vstack`:"
   ]
  },
  {
   "cell_type": "code",
   "execution_count": 25,
   "id": "fc46283f",
   "metadata": {},
   "outputs": [],
   "source": [
    "# points = np.vstack((point_cloud.x, point_cloud.y, point_cloud.z)).transpose()\n",
    "colors = np.vstack((point_cloud.red, point_cloud.green, point_cloud.blue)).transpose()"
   ]
  },
  {
   "cell_type": "markdown",
   "id": "a6a757a8",
   "metadata": {},
   "source": [
    "These colors have been scaled to store the color at a higher resolution, accomodated by the camera, so we'll need to re-scale the values between 0-1 in order to use them in our plot. The code below does this re-scaling, and then subsets the color data to by same factor we used to subset the `xyz` data."
   ]
  },
  {
   "cell_type": "code",
   "execution_count": 26,
   "id": "b75f0e64",
   "metadata": {},
   "outputs": [],
   "source": [
    "colors_norm = (colors - np.min(colors))/np.ptp(colors)\n",
    "colors_dec = colors_norm[::factor]"
   ]
  },
  {
   "cell_type": "markdown",
   "id": "ebb4b6eb",
   "metadata": {},
   "source": [
    "### 3D Point Cloud Visualization \n",
    "Lastly, we can visualize this 3D data using matplotlib to see what the point cloud looks like. Other open-source tools such as https://plas.io/ are more interactive, and Python may not be the best platform to do this sort of visualization, but we can at least demonstrate how this might look.\n",
    "\n",
    "For this you'll need to import some visualization packages. These should be part of the standard Anaconda distribution.\n",
    "\n",
    "https://www.neonscience.org/resources/learning-hub/tutorials/introduction-light-detection-and-ranging-lidar-explore-point#toggle-13"
   ]
  },
  {
   "cell_type": "code",
   "execution_count": 27,
   "id": "886a54c9",
   "metadata": {},
   "outputs": [],
   "source": [
    "import matplotlib.pyplot as plt\n",
    "from mpl_toolkits.mplot3d import axes3d"
   ]
  },
  {
   "cell_type": "code",
   "execution_count": 28,
   "id": "facaf40a",
   "metadata": {
    "scrolled": true
   },
   "outputs": [
    {
     "data": {
      "image/png": "[encoded data removed]",
      "text/plain": [
       "<Figure size 432x432 with 1 Axes>"
      ]
     },
     "metadata": {
      "needs_background": "light"
     },
     "output_type": "display_data"
    }
   ],
   "source": [
    "# Plot the las data in 3D\n",
    "fig = plt.figure(figsize=(6,6))\n",
    "ax = fig.add_subplot(111, projection='3d')\n",
    "ax.scatter(points_dec[:,0],points_dec[:,1],points_dec[:,2],color=colors_dec,s=4)\n",
    "ax.set_zlim3d(-10,50)\n",
    "plt.show()"
   ]
  },
  {
   "cell_type": "markdown",
   "id": "b20bf28c",
   "metadata": {},
   "source": [
    "We can see a mix of both land and sea here, with slightly fewer returns on the ocean. A lot of the energy from the laser beam is absorbed in water, so it is typical to see poor density over these areas. Remember this plot only displays 1/100th of the data, so there is a lot more information stored in the las file than is shown here."
   ]
  },
  {
   "cell_type": "markdown",
   "id": "3007c680",
   "metadata": {},
   "source": [
    "## What's next?\n",
    "\n",
    "If you'd like to continue exploring the point cloud data in Python using `laspy`, <a href=\"https://laspy.readthedocs.io/en/latest/complete_tutorial.html\" target=\"_blank\"> laspy website </a> has some nice examples you can follow, now that you know how to download NEON point cloud data and read it into Python.\n",
    "\n",
    "### Python and Beyond ...\n",
    "\n",
    "There are also a number of open-source tools for working with point-cloud data. Python may not be the best option for developing more rigourous processing workflows, for example. The resources below show some other recommended tools that can be integrated with Python for your analysis:\n",
    "\n",
    "* <a href=\"https://rapidlasso.com/lastools/\" target=\"_blank\">LAStools</a>\n",
    "* <a href=\"https://pdal.io/en/stable/\" target=\"_blank\">PDAL (Point Data Abstraction Library)</a> \n",
    "* <a href=\"https://r-lidar.github.io/lidRbook/\" target=\"_blank\"> lidR (R package for point cloud data)</a>"
   ]
  }
 ],
 "metadata": {
  "kernelspec": {
   "display_name": "Python 3 (ipykernel)",
   "language": "python",
   "name": "python3"
  },
  "language_info": {
   "codemirror_mode": {
    "name": "ipython",
    "version": 3
   },
   "file_extension": ".py",
   "mimetype": "text/x-python",
   "name": "python",
   "nbconvert_exporter": "python",
   "pygments_lexer": "ipython3",
   "version": "3.9.12"
  }
 },
 "nbformat": 4,
 "nbformat_minor": 5
}
