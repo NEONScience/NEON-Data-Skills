{
 "cells": [
  {
   "cell_type": "markdown",
   "metadata": {},
   "source": [
    "---\n",
    "syncID: b0860577d1994b6e8abd23a6edf9e005\n",
    "title: \"Classify a Raster Using Threshold Values in Python - 2018\"\n",
    "description: \"Learn how to read NEON lidar raster GeoTIFFs (e.g., CHM, slope, aspect) into Python numpy arrays with gdal and create a classified raster object.\" \n",
    "dateCreated: 2018-07-04 \n",
    "authors: Bridget Hass\n",
    "contributors: Donal O'Leary, Max Burner\n",
    "estimatedTime: 1 hour\n",
    "packagesLibraries: numpy, gdal, matplotlib, matplotlib.pyplot, os\n",
    "topics: lidar, raster, remote-sensing\n",
    "languagesTool: python\n",
    "dataProduct: DP1.30003, DP3.30015, DP3.30024, DP3.30025\n",
    "code1: https://raw.githubusercontent.com/NEONScience/NEON-Data-Skills/main/tutorials/Python/Lidar/intro-lidar/classify_raster_with_threshold-2018-py/classify_raster_with_threshold-2018-py.ipynb\n",
    "tutorialSeries: intro-lidar-py-series\n",
    "urlTitle: classify-raster-thresholds-2018-py\n",
    "---"
   ]
  },
  {
   "cell_type": "markdown",
   "metadata": {},
   "source": [
    "In this tutorial, we will learn how to read NEON lidar raster GeoTIFFS \n",
    "(e.g., CHM, slope aspect) into Python `numpy` arrays with gdal and create a \n",
    "classified raster object.\n",
    "\n",
    "<div id=\"ds-objectives\" markdown=\"1\">\n",
    "\n",
    "### Objectives\n",
    "\n",
    "After completing this tutorial, you will be able to:\n",
    "\n",
    "* Read NEON lidar raster GeoTIFFS (e.g., CHM, slope aspect) into Python numpy arrays with gdal.\n",
    "* Create a classified raster object using thresholds.\n",
    "\n",
    "### Install Python Packages\n",
    "\n",
    "* **numpy**\n",
    "* **gdal** \n",
    "* **matplotlib** \n",
    "\n",
    "### Download Data\n",
    "\n",
    "For this lesson, we will be using a 1km tile of a Canopy Height Model derived from lidar data collected at the Smithsonian Environmental Research Center (SERC) NEON site. <a href=\"https://ndownloader.figshare.com/files/25787420\">Download Data Here</a>.\n",
    "\n",
    "<a href=\"https://ndownloader.figshare.com/files/25787420\" class=\"link--button link--arrow\">\n",
    "Download Dataset</a>\n",
    "\n",
    "</div>"
   ]
  },
  {
   "cell_type": "markdown",
   "metadata": {},
   "source": [
    "In this tutorial, we will work with the NEON AOP L3 LiDAR ecoysystem structure (Canopy Height Model) data product. For more information about NEON data products and the CHM product DP3.30015.001, see the <a href=\"http://data.neonscience.org/data-products/DP3.30015.001\" target=\"_blank\">NEON Data Product Catalog</a>. \n",
    "\n",
    "First, let's import the required packages and set our plot display to be in-line:"
   ]
  },
  {
   "cell_type": "code",
   "execution_count": null,
   "metadata": {},
   "outputs": [],
   "source": [
    "import numpy as np\n",
    "import gdal, copy\n",
    "import matplotlib.pyplot as plt\n",
    "%matplotlib inline\n",
    "import warnings\n",
    "warnings.filterwarnings('ignore')"
   ]
  },
  {
   "cell_type": "markdown",
   "metadata": {},
   "source": [
    "## Open a GeoTIFF with GDAL\n",
    "\n",
    "Let's look at the SERC Canopy Height Model (CHM) to start. We can open and read this in Python using the ```gdal.Open``` function:"
   ]
  },
  {
   "cell_type": "code",
   "execution_count": null,
   "metadata": {},
   "outputs": [],
   "source": [
    "# Note that you will need to update the filepath below according to your local machine\n",
    "chm_filename = '/Users/olearyd/Git/data/NEON_D02_SERC_DP3_368000_4306000_CHM.tif'\n",
    "chm_dataset = gdal.Open(chm_filename)"
   ]
  },
  {
   "cell_type": "markdown",
   "metadata": {},
   "source": [
    "### Read GeoTIFF Tags\n",
    "The GeoTIFF file format comes with associated metadata containing information about the location and coordinate system/projection. Once we have read in the dataset, we can access this information with the following commands: "
   ]
  },
  {
   "cell_type": "code",
   "execution_count": null,
   "metadata": {},
   "outputs": [],
   "source": [
    "#Display the dataset dimensions, number of bands, driver, and geotransform \n",
    "cols = chm_dataset.RasterXSize; print('# of columns:',cols)\n",
    "rows = chm_dataset.RasterYSize; print('# of rows:',rows)\n",
    "print('# of bands:',chm_dataset.RasterCount)\n",
    "print('driver:',chm_dataset.GetDriver().LongName)"
   ]
  },
  {
   "cell_type": "markdown",
   "metadata": {},
   "source": [
    "### Use GetProjection\n",
    "\n",
    "We can use the `gdal` ```GetProjection``` method to display information about the coordinate system and EPSG code. "
   ]
  },
  {
   "cell_type": "code",
   "execution_count": null,
   "metadata": {},
   "outputs": [],
   "source": [
    "print('projection:',chm_dataset.GetProjection())"
   ]
  },
  {
   "cell_type": "markdown",
   "metadata": {},
   "source": [
    "### Use GetGeoTransform\n",
    "\n",
    "The geotransform contains information about the origin (upper-left corner) of the raster, the pixel size, and the rotation angle of the data. All NEON data in the latest format have zero rotation. In this example, the values correspond to: "
   ]
  },
  {
   "cell_type": "code",
   "execution_count": null,
   "metadata": {},
   "outputs": [],
   "source": [
    "print('geotransform:',chm_dataset.GetGeoTransform())"
   ]
  },
  {
   "cell_type": "markdown",
   "metadata": {},
   "source": [
    "In this case, the geotransform values correspond to:\n",
    "\n",
    "1. Left-Most X Coordinate = `367000.0`\n",
    "2. W-E Pixel Resolution = `1.0`\n",
    "3. Rotation (0 if Image is North-Up) = `0.0`\n",
    "4. Upper Y Coordinate = `4307000.0`\n",
    "5. Rotation (0 if Image is North-Up) = `0.0`\n",
    "6. N-S Pixel Resolution = `-1.0` \n",
    "\n",
    "The negative value for the N-S Pixel resolution reflects that the origin of the image is the upper left corner. We can convert this geotransform information into a spatial extent (xMin, xMax, yMin, yMax) by combining information about the origin, number of columns & rows, and pixel size, as follows:"
   ]
  },
  {
   "cell_type": "code",
   "execution_count": null,
   "metadata": {},
   "outputs": [],
   "source": [
    "chm_mapinfo = chm_dataset.GetGeoTransform()\n",
    "xMin = chm_mapinfo[0]\n",
    "yMax = chm_mapinfo[3]\n",
    "\n",
    "xMax = xMin + chm_dataset.RasterXSize/chm_mapinfo[1] #divide by pixel width \n",
    "yMin = yMax + chm_dataset.RasterYSize/chm_mapinfo[5] #divide by pixel height (note sign +/-)\n",
    "chm_ext = (xMin,xMax,yMin,yMax)\n",
    "print('chm raster extent:',chm_ext)"
   ]
  },
  {
   "cell_type": "markdown",
   "metadata": {},
   "source": [
    "### Use GetRasterBand\n",
    "\n",
    "We can read in a single raster band with `GetRasterBand` and access information about this raster band such as the No Data Value, Scale Factor, and Statitiscs as follows:"
   ]
  },
  {
   "cell_type": "code",
   "execution_count": null,
   "metadata": {},
   "outputs": [],
   "source": [
    "chm_raster = chm_dataset.GetRasterBand(1)\n",
    "noDataVal = chm_raster.GetNoDataValue(); print('no data value:',noDataVal)\n",
    "scaleFactor = chm_raster.GetScale(); print('scale factor:',scaleFactor)\n",
    "chm_stats = chm_raster.GetStatistics(True,True)\n",
    "print('SERC CHM Statistics: Minimum=%.2f, Maximum=%.2f, Mean=%.3f, StDev=%.3f' % \n",
    "      (chm_stats[0], chm_stats[1], chm_stats[2], chm_stats[3]))"
   ]
  },
  {
   "cell_type": "markdown",
   "metadata": {},
   "source": [
    "### Use ReadAsArray\n",
    "\n",
    "Finally we can convert the raster to an array using the `ReadAsArray` method. Cast the array to a floating point value using `astype(np.float)`. Once we generate the array, we want to set No Data Values to NaN, and apply the scale factor: "
   ]
  },
  {
   "cell_type": "code",
   "execution_count": null,
   "metadata": {},
   "outputs": [],
   "source": [
    "chm_array = chm_dataset.GetRasterBand(1).ReadAsArray(0,0,cols,rows).astype(np.float)\n",
    "chm_array[chm_array==int(noDataVal)]=np.nan #Assign CHM No Data Values to NaN\n",
    "chm_array=chm_array/scaleFactor\n",
    "print('SERC CHM Array:\\n',chm_array) #display array values"
   ]
  },
  {
   "cell_type": "code",
   "execution_count": null,
   "metadata": {},
   "outputs": [],
   "source": [
    "chm_array.shape"
   ]
  },
  {
   "cell_type": "code",
   "execution_count": null,
   "metadata": {},
   "outputs": [],
   "source": [
    "# Calculate the % of pixels that are NaN and non-zero:\n",
    "pct_nan = np.count_nonzero(np.isnan(chm_array))/(rows*cols)\n",
    "print('% NaN:',round(pct_nan*100,2))\n",
    "print('% non-zero:',round(100*np.count_nonzero(chm_array)/(rows*cols),2))"
   ]
  },
  {
   "cell_type": "markdown",
   "metadata": {},
   "source": [
    "## Plot Canopy Height Data\n",
    "\n",
    "To get a better idea of the dataset, we can use a similar function to `plot_aop_refl` that we used in the NEON AOP reflectance tutorials:"
   ]
  },
  {
   "cell_type": "code",
   "execution_count": null,
   "metadata": {},
   "outputs": [],
   "source": [
    "def plot_band_array(band_array,refl_extent,colorlimit,ax=plt.gca(),title='',cmap_title='',colormap=''):\n",
    "    plot = plt.imshow(band_array,extent=refl_extent,clim=colorlimit); \n",
    "    cbar = plt.colorbar(plot,aspect=40); plt.set_cmap(colormap); \n",
    "    cbar.set_label(cmap_title,rotation=90,labelpad=20);\n",
    "    plt.title(title); ax = plt.gca(); \n",
    "    ax.ticklabel_format(useOffset=False, style='plain'); #do not use scientific notation #\n",
    "    rotatexlabels = plt.setp(ax.get_xticklabels(),rotation=90); #rotate x tick labels 90 degrees"
   ]
  },
  {
   "cell_type": "markdown",
   "metadata": {},
   "source": [
    "### Histogram of Data \n",
    "\n",
    "As we did with the reflectance tile, it is often useful to plot a histogram of the geotiff data in order to get a sense of the range and distribution of values. First we'll make a copy of the array and remove the `nan` values. "
   ]
  },
  {
   "cell_type": "code",
   "execution_count": null,
   "metadata": {},
   "outputs": [],
   "source": [
    "import copy\n",
    "chm_nonan_array = copy.copy(chm_array)\n",
    "chm_nonan_array = chm_nonan_array[~np.isnan(chm_array)]\n",
    "plt.hist(chm_nonan_array,weights=np.zeros_like(chm_nonan_array)+1./\n",
    "         (chm_array.shape[0]*chm_array.shape[1]),bins=50);\n",
    "plt.title('Distribution of SERC Canopy Height')\n",
    "plt.xlabel('Tree Height (m)'); plt.ylabel('Relative Frequency')"
   ]
  },
  {
   "cell_type": "markdown",
   "metadata": {},
   "source": [
    "On your own, adjust the number of bins, and range of the y-axis to get a good idea of the distribution of the canopy height values. We can see that most of the values are zero. In SERC, many of the zero CHM values correspond to bodies of water as well as regions of land without trees. Let's look at a  histogram and plot the data without zero values: "
   ]
  },
  {
   "cell_type": "code",
   "execution_count": null,
   "metadata": {},
   "outputs": [],
   "source": [
    "chm_nonzero_array = copy.copy(chm_array)\n",
    "chm_nonzero_array[chm_array==0]=np.nan\n",
    "chm_nonzero_nonan_array = chm_nonzero_array[~np.isnan(chm_nonzero_array)]\n",
    "# Use weighting to plot relative frequency\n",
    "plt.hist(chm_nonzero_nonan_array,bins=50);\n",
    "\n",
    "# plt.hist(chm_nonzero_nonan_array.flatten(),50) \n",
    "plt.title('Distribution of SERC Non-Zero Canopy Height')\n",
    "plt.xlabel('Tree Height (m)'); plt.ylabel('Relative Frequency')"
   ]
  },
  {
   "cell_type": "markdown",
   "metadata": {},
   "source": [
    "Note that it appears that the trees don't have a smooth or normal distribution, but instead appear blocked off in chunks. This is an artifact of the Canopy Height Model algorithm, which bins the trees into 5m increments (this is done to avoid another artifact of \"pits\" (Khosravipour et al., 2014). \n",
    "\n",
    "From the histogram we can see that the majority of the trees are < 30m. We can re-plot the CHM array, this time adjusting the color bar limits to better visualize the variation in canopy height. We will plot the non-zero array so that CHM=0 appears white. "
   ]
  },
  {
   "cell_type": "code",
   "execution_count": null,
   "metadata": {},
   "outputs": [],
   "source": [
    "plot_band_array(chm_array,\n",
    "                chm_ext,\n",
    "                (0,35),\n",
    "                title='SERC Canopy Height',\n",
    "                cmap_title='Canopy Height, m',\n",
    "                colormap='BuGn')"
   ]
  },
  {
   "cell_type": "markdown",
   "metadata": {},
   "source": [
    "## Threshold Based Raster Classification\n",
    "Next, we will create a classified raster object. To do this, we will use the numpy.where function to create a new raster based off boolean classifications. Let's classify the canopy height into five groups:\n",
    "- Class 1: **CHM = 0 m** \n",
    "- Class 2: **0m < CHM <= 10m**\n",
    "- Class 3: **10m < CHM <= 20m**\n",
    "- Class 4: **20m < CHM <= 30m**\n",
    "- Class 5: **CHM > 30m**\n",
    "\n",
    "We can use `np.where` to find the indices where a boolean criteria is met. "
   ]
  },
  {
   "cell_type": "code",
   "execution_count": null,
   "metadata": {},
   "outputs": [],
   "source": [
    "chm_reclass = copy.copy(chm_array)\n",
    "chm_reclass[np.where(chm_array==0)] = 1 # CHM = 0 : Class 1\n",
    "chm_reclass[np.where((chm_array>0) & (chm_array<=10))] = 2 # 0m < CHM <= 10m - Class 2\n",
    "chm_reclass[np.where((chm_array>10) & (chm_array<=20))] = 3 # 10m < CHM <= 20m - Class 3\n",
    "chm_reclass[np.where((chm_array>20) & (chm_array<=30))] = 4 # 20m < CHM <= 30m - Class 4\n",
    "chm_reclass[np.where(chm_array>30)] = 5 # CHM > 30m - Class 5"
   ]
  },
  {
   "cell_type": "markdown",
   "metadata": {},
   "source": [
    "We can define our own colormap to plot these discrete classifications, and create a custom legend to label the classes:"
   ]
  },
  {
   "cell_type": "code",
   "execution_count": null,
   "metadata": {},
   "outputs": [],
   "source": [
    "import matplotlib.colors as colors\n",
    "plt.figure(); \n",
    "cmapCHM = colors.ListedColormap(['lightblue','yellow','orange','green','red'])\n",
    "plt.imshow(chm_reclass,extent=chm_ext,cmap=cmapCHM)\n",
    "plt.title('SERC CHM Classification')\n",
    "ax=plt.gca(); ax.ticklabel_format(useOffset=False, style='plain') #do not use scientific notation \n",
    "rotatexlabels = plt.setp(ax.get_xticklabels(),rotation=90) #rotate x tick labels 90 degrees\n",
    "\n",
    "# Create custom legend to label the four canopy height classes:\n",
    "import matplotlib.patches as mpatches\n",
    "class1_box = mpatches.Patch(color='lightblue', label='CHM = 0m')\n",
    "class2_box = mpatches.Patch(color='yellow', label='0m < CHM <= 10m')\n",
    "class3_box = mpatches.Patch(color='orange', label='10m < CHM <= 20m')\n",
    "class4_box = mpatches.Patch(color='green', label='20m < CHM <= 30m')\n",
    "class5_box = mpatches.Patch(color='red', label='CHM > 30m')\n",
    "\n",
    "ax.legend(handles=[class1_box,class2_box,class3_box,class4_box,class5_box],\n",
    "          handlelength=0.7,bbox_to_anchor=(1.05, 0.4),loc='lower left',borderaxespad=0.)"
   ]
  },
  {
   "cell_type": "markdown",
   "metadata": {},
   "source": [
    "<div id=\"ds-challenge\" markdown=\"1\">\n",
    "**Challenge: Document Your Workflow**\n",
    "\n",
    "1. Look at the code that you created for this lesson. Now imagine yourself months in the future. Document your script so that your methods and process is clear and reproducible for yourself or others to follow when you come back to this work at a later date. \n",
    "2. In documenting your script, synthesize the outputs. Do they tell you anything about the vegetation structure at the field site? \n",
    "\n",
    "</div>\n",
    "\n",
    "<div id=\"ds-challenge\" markdown=\"1\">\n",
    "**Challenge: Try Another Classification**\n",
    "\n",
    "Create the following threshold classified outputs:\n",
    "\n",
    "1. A raster where NDVI values are classified into the following categories:\n",
    "    * Low greenness: NDVI < 0.3\n",
    "    * Medium greenness: 0.3 < NDVI < 0.6\n",
    "    * High greenness: NDVI > 0.6\n",
    "2. A raster where aspect is classified into North and South facing slopes: \n",
    "    * North: 0-45 & 315-360 degrees \n",
    "    * South: 135-225 degrees\n",
    "\n",
    " <figure>\n",
    "\t<a href=\"https://raw.githubusercontent.com/NEONScience/NEON-Data-Skills/main/graphics/geospatial-skills/NSEWclassification_BozEtAl2015.jpg\">\n",
    "\t<img src=\"https://raw.githubusercontent.com/NEONScience/NEON-Data-Skills/main/graphics/geospatial-skills/NSEWclassification_BozEtAl2015.jpg\"></a>\n",
    "\t<figcaption> Reclassification of aspect (azimuth) values: North, 315-45 \n",
    "\tdegrees; East, 45-135 degrees; South, 135-225 degrees; West, 225-315 degrees.\n",
    "\tSource: <a href=\"http://www.aimspress.com/article/10.3934/energy.2015.3.401/fulltext.html\"> Boz et al. 2015 </a>\n",
    "\t</figcaption>\n",
    "</figure>\n",
    "\n",
    "Be sure to document your workflow as you go using Jupyter Markdown cells. \n",
    "\n",
    "**Data Institute Participants:** When you are finished, export your outputs to HTML by selecting File > Download As > HTML (.html). Save the file as LastName_Tues_classifyThreshold.html. Add this to the Tuesday directory in your DI-NEON-participants Git directory and push them to your fork in GitHub. Merge with the central repository using a pull request. \n",
    "\n",
    "</div>"
   ]
  },
  {
   "cell_type": "markdown",
   "metadata": {},
   "source": [
    "## References \n",
    "\n",
    "Khosravipour, Anahita & Skidmore, Andrew & Isenburg, Martin & Wang, Tiejun & Hussin, Yousif. (2014). <a href=\"https://www.researchgate.net/publication/273663100_Generating_Pit-free_Canopy_Height_Models_from_Airborne_Lidar\" target=\"_blank\"> Generating Pit-free Canopy Height Models from Airborne Lidar. Photogrammetric Engineering & Remote Sensing</a>. 80. 863-872. 10.14358/PERS.80.9.863. \n"
   ]
  }
 ],
 "metadata": {
  "kernelspec": {
   "display_name": "py37",
   "language": "python",
   "name": "py37"
  },
  "language_info": {
   "codemirror_mode": {
    "name": "ipython",
    "version": 3
   },
   "file_extension": ".py",
   "mimetype": "text/x-python",
   "name": "python",
   "nbconvert_exporter": "python",
   "pygments_lexer": "ipython3",
   "version": "3.7.7"
  }
 },
 "nbformat": 4,
 "nbformat_minor": 1
}
