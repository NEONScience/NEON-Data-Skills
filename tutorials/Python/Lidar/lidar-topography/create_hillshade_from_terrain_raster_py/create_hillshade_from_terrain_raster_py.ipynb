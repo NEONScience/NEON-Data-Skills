{
 "cells": [
  {
   "cell_type": "markdown",
   "metadata": {},
   "source": [
    "---\n",
    "syncID: 7e916532e9fa49aeba7464350e661778\n",
    "title: \"Create a Hillshade from a Terrain Raster in Python\"\n",
    "description: \"Learn how to create a hillshade from a terrain raster in Python.\" \n",
    "dateCreated: 2017-06-21 \n",
    "authors: Bridget Hass\n",
    "contributors: Donal O'Leary\n",
    "estimatedTime: 0.5 hour\n",
    "packagesLibraries: numpy, gdal, matplotlib\n",
    "topics: lidar, raster, remote-sensing\n",
    "languagesTool: python\n",
    "dataProduct: DP1.30003, DP3.30015, DP3.30024, DP3.30025\n",
    "code1: https://raw.githubusercontent.com/NEONScience/NEON-Data-Skills/main/tutorials/Python/Lidar/lidar-topography/create_hillshade_from_terrain_raster_py/create_hillshade_from_terrain_raster_py.ipynb\n",
    "tutorialSeries: intro-lidar-py-series\n",
    "urlTitle: create-hillshade-py\n",
    "---"
   ]
  },
  {
   "cell_type": "markdown",
   "metadata": {},
   "source": [
    "# Create a Hillshade from a Terrain Raster in Python \n",
    "\n",
    "In this tutorial, we will learn how to create a hillshade from a terrain raster in Python. \n",
    "\n",
    "First, let's import the required packages and set plot display to inline:"
   ]
  },
  {
   "cell_type": "code",
   "execution_count": null,
   "metadata": {},
   "outputs": [],
   "source": [
    "from osgeo import gdal\n",
    "import numpy as np\n",
    "import matplotlib.pyplot as plt\n",
    "%matplotlib inline\n",
    "import warnings\n",
    "warnings.filterwarnings('ignore')"
   ]
  },
  {
   "cell_type": "markdown",
   "metadata": {},
   "source": [
    "We also need to import the following functions created in previous lessons:\n",
    "- ```raster2array.py```\n",
    "- ```plotbandarray.py```"
   ]
  },
  {
   "cell_type": "code",
   "execution_count": null,
   "metadata": {},
   "outputs": [],
   "source": [
    "# %load ../neon_aop_python_functions/raster2array.py\n",
    "\n",
    "# raster2array.py reads in the first band of geotif file and returns an array and associated \n",
    "# metadata dictionary.\n",
    "# Input: raster_geotif (eg. 'raster.tif')\n",
    "# Outputs:\n",
    "# array_rows: # of rows in the array\n",
    "# array_cols: # of columns in the array\n",
    "# bands: # of bands \n",
    "# driver: (for NEON data this is Geotif)\n",
    "# projection: \n",
    "# geotransform: \n",
    "# pixelWidth: width of pixel (for NEON data this = 1)\n",
    "# pixelHeight: height of pixel (for NEON data this = -1)\n",
    "# ext_dict: dictionary of raster extent, containing the following information \n",
    "#           {'xMin': xMin_value,'xMax': xMax_value, 'yMin': yMin_value, 'yMax': yMax_value}\n",
    "#           Note: to extract a value from ext_dict, use the syntax: eg. xMin = metadata['ext_dict']['xMin']\n",
    "# extent: raster extent values (xMin, xMax, yMin, yMax)\n",
    "# noDataValue: no data value \n",
    "# scaleFactor: scale factor \n",
    "# band_stats: dictionary of statistics for band 1:\n",
    "#           {'min': min_value, 'max': max_value, 'mean': mean_value, 'stdev': stdev_value}\n",
    "#           Note: to extract a value from band_stats dictionary, use the syntax: \n",
    "#                 eg. array_min = metadata['band_stats']['min']\n",
    "\n",
    "# Usage: array, metadata = raster2array('raster.tif')\n",
    "\n",
    "from osgeo import gdal\n",
    "import numpy as np\n",
    "\n",
    "def raster2array(geotif_file):\n",
    "    metadata = {}\n",
    "    dataset = gdal.Open(geotif_file)\n",
    "    metadata['array_rows'] = dataset.RasterYSize\n",
    "    metadata['array_cols'] = dataset.RasterXSize\n",
    "    metadata['bands'] = dataset.RasterCount\n",
    "    metadata['driver'] = dataset.GetDriver().LongName\n",
    "    metadata['projection'] = dataset.GetProjection()\n",
    "    metadata['geotransform'] = dataset.GetGeoTransform()\n",
    "    \n",
    "    mapinfo = dataset.GetGeoTransform()\n",
    "    metadata['pixelWidth'] = mapinfo[1]\n",
    "    metadata['pixelHeight'] = mapinfo[5]\n",
    "#     metadata['xMin'] = mapinfo[0]\n",
    "#     metadata['yMax'] = mapinfo[3]\n",
    "#     metadata['xMax'] = mapinfo[0] + dataset.RasterXSize/mapinfo[1]\n",
    "#     metadata['yMin'] = mapinfo[3] + dataset.RasterYSize/mapinfo[5]\n",
    "    \n",
    "    metadata['ext_dict'] = {}\n",
    "    metadata['ext_dict']['xMin'] = mapinfo[0]\n",
    "    metadata['ext_dict']['xMax'] = mapinfo[0] + dataset.RasterXSize/mapinfo[1]\n",
    "    metadata['ext_dict']['yMin'] = mapinfo[3] + dataset.RasterYSize/mapinfo[5]\n",
    "    metadata['ext_dict']['yMax'] = mapinfo[3]\n",
    "    \n",
    "    metadata['extent'] = (metadata['ext_dict']['xMin'],metadata['ext_dict']['xMax'],\n",
    "                          metadata['ext_dict']['yMin'],metadata['ext_dict']['yMax'])\n",
    "    \n",
    "    if metadata['bands'] == 1:\n",
    "        raster = dataset.GetRasterBand(1)\n",
    "        metadata['noDataValue'] = raster.GetNoDataValue()\n",
    "        metadata['scaleFactor'] = raster.GetScale()\n",
    "        \n",
    "        # band statistics\n",
    "        metadata['bandstats'] = {} #make a nested dictionary to store band stats in same \n",
    "        stats = raster.GetStatistics(True,True)\n",
    "        metadata['bandstats']['min'] = round(stats[0],2)\n",
    "        metadata['bandstats']['max'] = round(stats[1],2)\n",
    "        metadata['bandstats']['mean'] = round(stats[2],2)\n",
    "        metadata['bandstats']['stdev'] = round(stats[3],2)\n",
    "        \n",
    "        array = dataset.GetRasterBand(1).ReadAsArray(0,0,metadata['array_cols'],metadata['array_rows']).astype(np.float)\n",
    "        array[array==int(metadata['noDataValue'])]=np.nan\n",
    "        array = array/metadata['scaleFactor']\n",
    "        return array, metadata\n",
    "    \n",
    "    elif metadata['bands'] > 1:\n",
    "        print('More than one band ... fix function for case of multiple bands')"
   ]
  },
  {
   "cell_type": "code",
   "execution_count": null,
   "metadata": {},
   "outputs": [],
   "source": [
    "# %load ../neon_aop_python_functions/plot_band_array.py\n",
    "\n",
    "def plot_band_array(band_array,refl_extent,title,cbar_label,colormap='spectral',alpha=1):\n",
    "    plt.imshow(band_array,extent=refl_extent,alpha=alpha); \n",
    "    cbar = plt.colorbar(); plt.set_cmap(colormap); \n",
    "    cbar.set_label(cbar_label,rotation=270,labelpad=20)\n",
    "    plt.title(title); ax = plt.gca(); \n",
    "    ax.ticklabel_format(useOffset=False, style='plain') #do not use scientific notation #\n",
    "    rotatexlabels = plt.setp(ax.get_xticklabels(),rotation=90) #rotate x tick labels 90 degree"
   ]
  },
  {
   "cell_type": "markdown",
   "metadata": {},
   "source": [
    "###  Calculate Hillshade\n",
    "\n",
    "<img src=\"http://www.geography.hunter.cuny.edu/~jochen/GTECH361/lectures/lecture11/concepts/Hillshade_files/image001.gif\" style=\"width: 250px;\"/>\n",
    "<center><font size=\"2\">http://www.geography.hunter.cuny.edu/~jochen/GTECH361/lectures/lecture11/concepts/Hillshade.htm</font></center>\n",
    "\n",
    "\n",
    "Hillshade is used to visualize the hypothetical illumination value (from 0-255) of each pixel on a surface given a specified light source. To calculate hillshade, we need the zenith (altitude) and azimuth of the illumination source, as well as the slope and aspect of the terrain. The formula for hillshade is:\n",
    "\n",
    "$$Hillshade = 255.0 * (( cos(zenith_I)*cos(slope_T))+(sin(zenith_I)*sin(slope_T)*cos(azimuth_I-aspect_T))$$\n",
    "\n",
    "Where all angles are in radians. \n",
    "\n",
    "For more information about how hillshades work, refer to the ESRI ArcGIS Help page: http://webhelp.esri.com/arcgisdesktop/9.2/index.cfm?TopicName=How%20Hillshade%20works. "
   ]
  },
  {
   "cell_type": "code",
   "execution_count": null,
   "metadata": {},
   "outputs": [],
   "source": [
    "#https://github.com/rveciana/introduccion-python-geoespacial/blob/master/hillshade.py\n",
    "\n",
    "def hillshade(array,azimuth,angle_altitude):\n",
    "    azimuth = 360.0 - azimuth \n",
    "    \n",
    "    x, y = np.gradient(array)\n",
    "    slope = np.pi/2. - np.arctan(np.sqrt(x*x + y*y))\n",
    "    aspect = np.arctan2(-x, y)\n",
    "    azimuthrad = azimuth*np.pi/180.\n",
    "    altituderad = angle_altitude*np.pi/180.\n",
    " \n",
    "    shaded = np.sin(altituderad)*np.sin(slope) + np.cos(altituderad)*np.cos(slope)*np.cos((azimuthrad - np.pi/2.) - aspect)\n",
    "    \n",
    "    return 255*(shaded + 1)/2"
   ]
  },
  {
   "cell_type": "markdown",
   "metadata": {},
   "source": [
    "Now that we have a function to generate hillshade, we need to read in the NEON LiDAR Digital Terrain Model (DTM) geotif using the ```raster2array``` function and then calculate hillshade using the ```hillshade``` function. We can then plot both using the ```plot_band_array``` function. "
   ]
  },
  {
   "cell_type": "code",
   "execution_count": null,
   "metadata": {},
   "outputs": [],
   "source": [
    "# Use raster2array to convert TEAK DTM Geotif to array & plot\n",
    "#dtm_array, dtm_metadata = raster2array('2013_TEAK_1_326000_4103000_DTM.tif')\n",
    "\n",
    "dtm_array, dtm_metadata = raster2array('/Users/olearyd/Git/data/2013_TEAK_1_326000_4103000_DTM.tif')\n",
    "plot_band_array(dtm_array,dtm_metadata['extent'],'TEAK DTM','Elevation, m',colormap='gist_earth')\n",
    "ax = plt.gca(); plt.grid('on')"
   ]
  },
  {
   "cell_type": "code",
   "execution_count": null,
   "metadata": {},
   "outputs": [],
   "source": [
    "# Use hillshade function on a DTM Geotiff\n",
    "hs_array = hillshade(dtm_array,225,45)\n",
    "plot_band_array(hs_array,dtm_metadata['extent'],'TEAK Hillshade, Aspect=225°',\n",
    "                'Hillshade',colormap='Greys',alpha=0.8)\n",
    "ax = plt.gca(); plt.grid('on') "
   ]
  },
  {
   "cell_type": "code",
   "execution_count": null,
   "metadata": {},
   "outputs": [],
   "source": [
    "#Overlay transparent hillshade on DTM:\n",
    "fig = plt.figure(frameon=False)\n",
    "im1 = plt.imshow(dtm_array,cmap='terrain_r',extent=dtm_metadata['extent']); \n",
    "cbar = plt.colorbar(); cbar.set_label('Elevation, m',rotation=270,labelpad=20)\n",
    "im2 = plt.imshow(hs_array,cmap='Greys',alpha=0.8,extent=dtm_metadata['extent']); #plt.colorbar()\n",
    "ax=plt.gca(); ax.ticklabel_format(useOffset=False, style='plain') #do not use scientific notation \n",
    "rotatexlabels = plt.setp(ax.get_xticklabels(),rotation=90) #rotate x tick labels 90 degrees\n",
    "plt.grid('on'); # plt.colorbar(); \n",
    "plt.title('TEAK Hillshade + DTM')"
   ]
  },
  {
   "cell_type": "markdown",
   "metadata": {},
   "source": [
    "### Calculate CHM & Overlay on Top of Hillshade"
   ]
  },
  {
   "cell_type": "code",
   "execution_count": null,
   "metadata": {},
   "outputs": [],
   "source": [
    "#Calculate CHM from DSM & DTM:\n",
    "dsm_array, dsm_metadata = raster2array('/Users/olearyd/Git/data/2013_TEAK_1_326000_4103000_DSM.tif')\n",
    "teak_chm = dsm_array - dtm_array;\n",
    "\n",
    "plot_band_array(teak_chm,dtm_metadata['extent'],'TEAK Canopy Height Model','Canopy Height, m',colormap='Greens')\n",
    "ax = plt.gca(); plt.grid('on')"
   ]
  },
  {
   "cell_type": "code",
   "execution_count": null,
   "metadata": {},
   "outputs": [],
   "source": [
    "#Overlay transparent hillshade on DTM:\n",
    "fig = plt.figure(frameon=False)\n",
    "\n",
    "#Terrain\n",
    "im1 = plt.imshow(dtm_array,cmap='YlOrBr',extent=dtm_metadata['extent']); \n",
    "cbar1 = plt.colorbar(); cbar1.set_label('Elevation, m',rotation=270,labelpad=20)\n",
    "\n",
    "#Hillshade\n",
    "im2 = plt.imshow(hs_array,cmap='Greys',alpha=.5,extent=dtm_metadata['extent']); #plt.colorbar()\n",
    "\n",
    "#Canopy\n",
    "im3 = plt.imshow(teak_chm,cmap='Greens',alpha=0.6,extent=dtm_metadata['extent']); \n",
    "cbar2 = plt.colorbar(); cbar2.set_label('Canopy Height, m',rotation=270,labelpad=20)\n",
    "\n",
    "ax=plt.gca(); ax.ticklabel_format(useOffset=False, style='plain') #do not use scientific notation \n",
    "rotatexlabels = plt.setp(ax.get_xticklabels(),rotation=90) #rotate x tick labels 90 degrees\n",
    "plt.grid('on'); # plt.colorbar(); \n",
    "plt.title('TEAK 2013 \\n Terrain, Hillshade, & Canopy Height')"
   ]
  },
  {
   "cell_type": "markdown",
   "metadata": {},
   "source": [
    "## Links to Tutorials on Creating Hillshades:\n",
    "\n",
    "**Python Hillshade:**\n",
    "- http://geoexamples.blogspot.com/2014/03/shaded-relief-images-using-gdal-python.html\n",
    "- http://pangea.stanford.edu/~samuelj/musings/dems-in-python-pt-3-slope-and-hillshades-.html\n",
    "\n",
    "**ESRI ArcGIS Hillshade Algorithm:**\n",
    "- http://webhelp.esri.com/arcgisdesktop/9.2/index.cfm?TopicName=How%20Hillshade%20works\n",
    "\n",
    "**GitHub Hillshade Functions/Tutorials:**\n",
    "- https://github.com/rveciana/introduccion-python-geoespacial/blob/master/hillshade.py\n",
    "- https://github.com/clhenrick/gdal_hillshade_tutorial\n",
    "\n",
    "**GDAL Hillshade:**\n",
    "- http://www.gdal.org/gdaldem.html\n",
    "- http://gis.stackexchange.com/questions/144535/how-to-create-transparent-hillshade/144700"
   ]
  },
  {
   "cell_type": "markdown",
   "metadata": {},
   "source": [
    "## Scratch Code"
   ]
  },
  {
   "cell_type": "code",
   "execution_count": null,
   "metadata": {},
   "outputs": [],
   "source": [
    "#Importing the TEAK CHM Geotiff resulted in v. sparse data ?\n",
    "chm_array, chm_metadata = raster2array('/Users/olearyd/Git/data/2013_TEAK_1_326000_4103000_pit_free_CHM.tif')\n",
    "\n",
    "print('TEAK CHM Array\\n:',chm_array)\n",
    "# print(chm_metadata)\n",
    "\n",
    "#print metadata in alphabetical order\n",
    "for item in sorted(chm_metadata):\n",
    "    print(item + ':', chm_metadata[item])\n",
    "    \n",
    "# print(chm_metadata['extent'])\n",
    "\n",
    "import copy\n",
    "chm_nonzero_array = copy.copy(chm_array)\n",
    "chm_nonzero_array[chm_array==0]=np.nan\n",
    "print('TEAK CHM nonzero array:\\n',chm_nonzero_array)\n",
    "print(np.nanmin(chm_nonzero_array))\n",
    "print(np.nanmax(chm_nonzero_array))"
   ]
  },
  {
   "cell_type": "code",
   "execution_count": null,
   "metadata": {},
   "outputs": [],
   "source": []
  }
 ],
 "metadata": {
  "kernelspec": {
   "display_name": "Python 3",
   "language": "python",
   "name": "python3"
  },
  "language_info": {
   "codemirror_mode": {
    "name": "ipython",
    "version": 3
   },
   "file_extension": ".py",
   "mimetype": "text/x-python",
   "name": "python",
   "nbconvert_exporter": "python",
   "pygments_lexer": "ipython3",
   "version": "3.7.7"
  }
 },
 "nbformat": 4,
 "nbformat_minor": 1
}
