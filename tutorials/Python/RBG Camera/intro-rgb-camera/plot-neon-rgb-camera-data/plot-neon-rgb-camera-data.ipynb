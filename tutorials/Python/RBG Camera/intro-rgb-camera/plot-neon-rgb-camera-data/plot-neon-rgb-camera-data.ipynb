{
 "cells": [
  {
   "cell_type": "markdown",
   "metadata": {},
   "source": [
    "---\n",
    "syncID: 67a5e95e1b7445aca7d7750b75c0ee98\n",
    "title: \"Plotting a NEON RGB Camera Image (GeoTIFF) in Python\"\n",
    "description: \"This lesson is a brief introduction to RGB camera images and the GeoTIFF raster format in Python.\"\n",
    "dateCreated: 2018-06-30\n",
    "authors: Bridget Hass, \n",
    "contributors: \n",
    "estimatedTime: \n",
    "packagesLibraries: \n",
    "topics: data-analysis, data-visualization, spatial-data-gis \n",
    "languagesTool: python\n",
    "dataProduct: DP1.0001.01\n",
    "code1: code/Python/remote-sensing/rgb-camera/plot-neon-rgb-camera-data.ipynb\n",
    "tutorialSeries: jupyter-notebooks\n",
    "urlTitle: plot-neon-rgb-py\n",
    "\n",
    "---"
   ]
  },
  {
   "cell_type": "markdown",
   "metadata": {},
   "source": [
    "\n",
    "This tutorial introduces NEON RGB camera images and functions to read in and plot GeoTIFF rasters in Python. In this tutorial, we will read in an RGB camera tile of the NEON Smithsonian Environmental Research Center (SERC) site. We will run the user-defined functions `RGBraster2array` and `plotRGBimage` to read in the image as an array, plot an RGB image of this raster, and plot a histogram of the intensities of one of the three bands. \n",
    "\n",
    "### Objectives\n",
    "\n",
    "After completing this tutorial, you will be able to: \n",
    "\n",
    "* Plot a NEON RGB Camera Tile (Data Product \n",
    "* Plot a histogram of a single band of an RGB Camera Tile\n",
    "\n",
    "### Download the Data \n",
    "\n",
    "Download the NEON GeoTiFF file of the \n",
    "<a href=\"https://neondata.sharefile.com/d-s274babd550a45e7a\">camera (RGB) imagery tile</a>\n",
    "collected over the Smithsonian Environmental Research Station (SERC) NEON field site. Place this data in a location where you know where it is. You will need to know the file path to this data.  \n",
    "\n",
    "### Background\n",
    "\n",
    "As part of the \n",
    "<a href=\"https://www.neonscience.org/data-collection/airborne-remote-sensing\" target=\"_blank\"> NEON Airborn Operation Platform's</a> \n",
    "suite of remote sensing instruments, the digital camera producing high-resolution (0.25 m) photographs of the earth’s surface. The camera records light energy that has reflected off the ground in the visible part (red, green and blue) of the light spectrum. Often the camera images are used to provide context for the hyperspectral and LiDAR data. \n",
    "\n",
    "**Note:** Don't worry about understanding everything in the `raster2array` function at this point. If you are curious, we encourage you to read the docstrings, but we will go into more detail during the data institute. \n",
    "\n",
    "**Data Tip:** To run a cell you can either select `Cell > Run Cells` with your cursor in the cell you want to run, or use the shortcut key `Shift + Enter`. For more handy shortcuts, refer to the tab `Help > Keyboard Shortcuts`. "
   ]
  },
  {
   "cell_type": "markdown",
   "metadata": {},
   "source": [
    "## Set up Enviornment\n",
    "First, make sure that you are running the Python 3.5 environment by running the code in the cell below:"
   ]
  },
  {
   "cell_type": "code",
   "execution_count": 1,
   "metadata": {},
   "outputs": [
    {
     "data": {
      "text/plain": [
       "'3.6.0 |Anaconda 4.3.1 (x86_64)| (default, Dec 23 2016, 13:19:00) \\n[GCC 4.2.1 Compatible Apple LLVM 6.0 (clang-600.0.57)]'"
      ]
     },
     "execution_count": 1,
     "metadata": {},
     "output_type": "execute_result"
    }
   ],
   "source": [
    "import sys\n",
    "sys.version"
   ]
  },
  {
   "cell_type": "markdown",
   "metadata": {},
   "source": [
    "**Data Institue Participants**: You should be running `3.5.x`. If this is not the case, close this console (both the notebook and Home page), and shut down your command prompt that is running your Jupyter notebook. Re-open your command prompt, navigate to your workking directory, and activate your p35 environment by typing `activate p35` in Windows or `source activate p35` in Mac if you followed the pre-institute computer set-up instructions. Once you see `(p35)` at the beginning of your command prompt, you can type `jupyter notebook` to run your notebook.\n",
    "\n",
    "<p>\n",
    "<center><strong>Activating `Python 3.5` environment from the command prompt.</strong></center>\n",
    "<img src=\"/activate_py35.png\" style=\"width: 600px;\"/>\n",
    "</p>\n",
    "\n",
    "**Other tutorial users**: Jupyter Notebooks is not required to complete this tutorial. However, as of June 2018 the GDAL package wasn't fully compatible with Python 3.6 so we recommend using a Python 3.5 environment. "
   ]
  },
  {
   "cell_type": "markdown",
   "metadata": {},
   "source": [
    "Now that you are in the right environment, first we will import the gdal package, which contains tools for programming and manipulating the Geospatial Data Abstraction Library (GDAL). For more information on GDAL, please refer to <a href=\"http://www.gdal.org/\" target=\"_blank\">gdal.org</a>."
   ]
  },
  {
   "cell_type": "code",
   "execution_count": 2,
   "metadata": {},
   "outputs": [
    {
     "ename": "ModuleNotFoundError",
     "evalue": "No module named 'gdal'",
     "output_type": "error",
     "traceback": [
      "\u001b[0;31m---------------------------------------------------------------------------\u001b[0m",
      "\u001b[0;31mModuleNotFoundError\u001b[0m                       Traceback (most recent call last)",
      "\u001b[0;32m<ipython-input-2-27bf4694dd2b>\u001b[0m in \u001b[0;36m<module>\u001b[0;34m()\u001b[0m\n\u001b[0;32m----> 1\u001b[0;31m \u001b[0;32mimport\u001b[0m \u001b[0mgdal\u001b[0m\u001b[0;34m\u001b[0m\u001b[0m\n\u001b[0m",
      "\u001b[0;31mModuleNotFoundError\u001b[0m: No module named 'gdal'"
     ]
    }
   ],
   "source": [
    "import gdal"
   ]
  },
  {
   "cell_type": "markdown",
   "metadata": {},
   "source": [
    "If you get the following message \n",
    "\n",
    "<p>\n",
    "<center><strong>ModuleNotFoundError</strong></center>\n",
    "<img src=\"No_module_named_gdal.png\" style=\"width: 600px;\"/>\n",
    "</p>\n",
    "\n",
    "\n",
    "**Troubleshooting steps** --> try one of the following:\n",
    "- from a Jupyter Python cell, run the command:\n",
    "`!conda install gdal`\n",
    "- from a Command Prompt (Windows) or Terminal (Mac), activate the appropriate environment"
   ]
  },
  {
   "cell_type": "markdown",
   "metadata": {},
   "source": [
    "Next we will import the `numpy` and `matplotlib` packages. Numpy stands for **Num**erical **Py**thon This is a standard package that comes with the Anaconda installation of Python, so you should not need to do any additional steps to install it. "
   ]
  },
  {
   "cell_type": "code",
   "execution_count": null,
   "metadata": {},
   "outputs": [],
   "source": [
    "import numpy as np\n",
    "import matplotlib.pyplot as plt\n",
    "%matplotlib inline\n",
    "import warnings\n",
    "warnings.filterwarnings('ignore')"
   ]
  },
  {
   "cell_type": "code",
   "execution_count": null,
   "metadata": {},
   "outputs": [],
   "source": [
    "def RGBraster2array(RGB_geotif):\n",
    "    \"\"\"RGBraster2array reads in a NEON AOP geotif file and returns \n",
    "    a numpy array, and header containing associated metadata with spatial information.\n",
    "    --------\n",
    "    Parameters\n",
    "        RGB_geotif -- full or relative path and name of reflectance hdf5 file\n",
    "    --------\n",
    "    Returns \n",
    "    --------\n",
    "    array:\n",
    "        numpy array of geotif values\n",
    "    metadata:\n",
    "        dictionary containing the following metadata (all strings):\n",
    "            array_rows\n",
    "            array_cols\n",
    "            bands\n",
    "            driver\n",
    "            projection\n",
    "            geotransform\n",
    "            pixelWidth\n",
    "            pixelHeight\n",
    "            extent\n",
    "            noDataValue\n",
    "            scaleFactor\n",
    "    --------\n",
    "    Example Execution:\n",
    "    --------\n",
    "    RGB_geotif = '2017_SERC_2_368000_4306000_image.tif'\n",
    "    RGBcam_array, RGBcam_metadata = RGBraster2array(RGB_geotif) \"\"\"\n",
    "    \n",
    "    metadata = {}\n",
    "    dataset = gdal.Open(RGB_geotif)\n",
    "    metadata['array_rows'] = dataset.RasterYSize\n",
    "    metadata['array_cols'] = dataset.RasterXSize\n",
    "    metadata['bands'] = dataset.RasterCount\n",
    "    metadata['driver'] = dataset.GetDriver().LongName\n",
    "    metadata['projection'] = dataset.GetProjection()\n",
    "    metadata['geotransform'] = dataset.GetGeoTransform()\n",
    "    \n",
    "    mapinfo = dataset.GetGeoTransform()\n",
    "    metadata['pixelWidth'] = mapinfo[1]\n",
    "    metadata['pixelHeight'] = mapinfo[5]\n",
    "    \n",
    "    metadata['ext_dict'] = {}\n",
    "    metadata['ext_dict']['xMin'] = mapinfo[0]\n",
    "    metadata['ext_dict']['xMax'] = mapinfo[0] + dataset.RasterXSize/mapinfo[1]\n",
    "    metadata['ext_dict']['yMin'] = mapinfo[3] + dataset.RasterYSize/mapinfo[5]\n",
    "    metadata['ext_dict']['yMax'] = mapinfo[3]\n",
    "    \n",
    "    metadata['extent'] = (metadata['ext_dict']['xMin'],metadata['ext_dict']['xMax'],\n",
    "                          metadata['ext_dict']['yMin'],metadata['ext_dict']['yMax'])\n",
    "    \n",
    "    raster = dataset.GetRasterBand(1)\n",
    "    array_shape = raster.ReadAsArray(0,0,metadata['array_cols'],metadata['array_rows']).astype(np.float).shape\n",
    "    metadata['noDataValue'] = raster.GetNoDataValue()\n",
    "    metadata['scaleFactor'] = raster.GetScale()\n",
    "\n",
    "    array = np.zeros((array_shape[0],array_shape[1],dataset.RasterCount),'uint8') #pre-allocate stackedArray matrix\n",
    "    for i in range(1, dataset.RasterCount+1):\n",
    "        band = dataset.GetRasterBand(i).ReadAsArray(0,0,metadata['array_cols'],metadata['array_rows']).astype(np.float)\n",
    "        band[band==metadata['noDataValue']]=np.nan\n",
    "        band = band/metadata['scaleFactor']\n",
    "        array[...,i-1] = band\n",
    "\n",
    "    return array, metadata"
   ]
  },
  {
   "cell_type": "markdown",
   "metadata": {},
   "source": [
    "After running this cell, we can call the function, as below. Note that you need to specify the relative path (as shown here with the `./`, indicating that file is saved in your working directory) or the absolute path (eg. `D:\\\\RSDI_2018\\\\data`) - you'll need to use double slashes to indicate that you are pointing to a directory. Please use the correct file path to where you saved the GeoTIFF file downloaded at the befining of the lesson.  "
   ]
  },
  {
   "cell_type": "code",
   "execution_count": null,
   "metadata": {},
   "outputs": [],
   "source": [
    "RGB_geotif = './2017_SERC_2_368000_4306000_image.tif'\n",
    "SERC_RGBcam_array, SERC_RGBcam_metadata = RGBraster2array(RGB_geotif)"
   ]
  },
  {
   "cell_type": "markdown",
   "metadata": {},
   "source": [
    "We can look at the dimensions of this tile by using the `.shape` method:"
   ]
  },
  {
   "cell_type": "code",
   "execution_count": null,
   "metadata": {},
   "outputs": [],
   "source": [
    "SERC_RGBcam_array.shape"
   ]
  },
  {
   "cell_type": "markdown",
   "metadata": {},
   "source": [
    "We can list the metadata information as follows:"
   ]
  },
  {
   "cell_type": "code",
   "execution_count": null,
   "metadata": {},
   "outputs": [],
   "source": [
    "#Display information stored in header\n",
    "for key in sorted(SERC_RGBcam_metadata.keys()):\n",
    "  print(key)"
   ]
  },
  {
   "cell_type": "markdown",
   "metadata": {},
   "source": [
    "Next, we'll define a function to plot the array data. Run the cell below:"
   ]
  },
  {
   "cell_type": "code",
   "execution_count": null,
   "metadata": {},
   "outputs": [],
   "source": [
    "def plot_band_array(band_array,\n",
    "                    refl_extent,\n",
    "                    colorlimit,\n",
    "                    ax=plt.gca(),\n",
    "                    title='',\n",
    "                    cbar ='on',\n",
    "                    cmap_title='',\n",
    "                    colormap='spectral'):\n",
    "    \n",
    "    '''plot_band_array reads in and plots a single band or an rgb band combination of a reflectance array\n",
    "    --------\n",
    "    Parameters\n",
    "    --------\n",
    "        band_array: flightline array of reflectance values, created from h5refl2array function\n",
    "        refl_extent: extent of reflectance data to be plotted (xMin, xMax, yMin, yMax) - use metadata['extent'] from h5refl2array function\n",
    "        colorlimit: range of values to plot (min,max). Best to look at the histogram of reflectance values before plotting to determine colorlimit.\n",
    "        ax: optional, default = current axis\n",
    "        title: string, optional; plot title\n",
    "        cmap_title: string, optional; colorbar title\n",
    "        colormap: string, optional; see https://matplotlib.org/examples/color/colormaps_reference.html for list of colormaps\n",
    "    --------\n",
    "    Returns \n",
    "        plots array of single band or RGB if given a 3-band \n",
    "    --------\n",
    "    Example:\n",
    "    --------\n",
    "    plot_band_array(SERC_RGBcam_array, \n",
    "                    SERC_RGBcam_metadata['extent'],\n",
    "                    (1,255),\n",
    "                    title='SERC RGB Camera Tile',\n",
    "                    cbar='off')'''\n",
    "    \n",
    "    plot = plt.imshow(band_array,extent=refl_extent,clim=colorlimit); \n",
    "    if cbar == 'on':\n",
    "        cbar = plt.colorbar(plot,aspect=40); plt.set_cmap(colormap); \n",
    "        cbar.set_label(cmap_title,rotation=90,labelpad=20)\n",
    "    plt.title(title); ax = plt.gca(); \n",
    "    ax.ticklabel_format(useOffset=False, style='plain'); #do not use scientific notation #\n",
    "    rotatexlabels = plt.setp(ax.get_xticklabels(),rotation=90); #rotate x tick labels 90 degrees"
   ]
  },
  {
   "cell_type": "markdown",
   "metadata": {},
   "source": [
    "Now run this function using the inputs you defined earlier:"
   ]
  },
  {
   "cell_type": "code",
   "execution_count": null,
   "metadata": {},
   "outputs": [],
   "source": [
    "plot_band_array(SERC_RGBcam_array,\n",
    "                SERC_RGBcam_metadata['extent'],\n",
    "                (1,255),\n",
    "                title='SERC RGB Camera Tile',\n",
    "                cbar='off') "
   ]
  },
  {
   "cell_type": "markdown",
   "metadata": {},
   "source": [
    "Lastly, we can plot a histogram of the first band (red), which we can extract by using `splicing`. Since Python is 0-based, to extract all values of the first band, we can use: `SERC_RGBcam_array[:,:,0]`. *Notes*: It speeds up the algorithm to flatten the 2-D array into one dimension using `numpy.ravel`; `20` specifies the number of bins. "
   ]
  },
  {
   "cell_type": "code",
   "execution_count": null,
   "metadata": {},
   "outputs": [],
   "source": [
    "plt.hist(np.ravel(SERC_RGBcam_array[:,:,0]),20);\n",
    "plt.title('Histogram of SERC Camera Red Band')\n",
    "plt.xlabel('Brightness'); plt.ylabel('Frequency')"
   ]
  },
  {
   "cell_type": "markdown",
   "metadata": {},
   "source": [
    "## Exercises: \n",
    "Now that you've followed along to read in and plot an RGB camera image and band, try the following exercises on your own:\n",
    "\n",
    "1. **Plot histograms of the green and blue bands**\n",
    "\n",
    "2. **Explore the data** to see what you can learn about the `SERC_RGBcam_array` and associated `SERC_RGBcam_metadata` \n",
    "\n",
    "    a. Determine the minimum and maximum reflectance for each band. Print these values with a print statement. *HINT*: Use the `numpy` functions `np.amin()` and `np.amax()`\n",
    "    \n",
    "    b. What UTM zone is this data in? *HINT: Print out* `SERC_RGBcam_metadata['projection']`\n",
    "    \n",
    "    c. Use the `plot_band_array` function to plot each band of the camera image separately. *HINT*: Use splicing to extract each band (eg. `SERC_RGBcam_array[:,:,0]`). "
   ]
  }
 ],
 "metadata": {
  "kernelspec": {
   "display_name": "Python 3.5 NEON-RSDI",
   "language": "python",
   "name": "py35"
  },
  "language_info": {
   "codemirror_mode": {
    "name": "ipython",
    "version": 3
   },
   "file_extension": ".py",
   "mimetype": "text/x-python",
   "name": "python",
   "nbconvert_exporter": "python",
   "pygments_lexer": "ipython3",
   "version": "3.6.0"
  }
 },
 "nbformat": 4,
 "nbformat_minor": 2
}
