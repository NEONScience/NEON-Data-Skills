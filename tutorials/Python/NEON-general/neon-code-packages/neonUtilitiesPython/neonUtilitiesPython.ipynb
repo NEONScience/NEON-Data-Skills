{
 "cells": [
  {
   "cell_type": "markdown",
   "metadata": {},
   "source": [
    "---\n",
    "syncID: 5be9f80592394af3bc09cf8e469fef6e\n",
    "title: \"Using neonUtilities in Python\"\n",
    "description: \"Use the neonUtilities R package in Python, via the rpy2 library.\"\n",
    "dateCreated: 2018-5-10\n",
    "authors: Claire K. Lunch\n",
    "contributors: Donal O'Leary\n",
    "estimatedTime: 0.5 hour\n",
    "packagesLibraries: rpy2\n",
    "topics: data-management,rep-sci\n",
    "languagesTool: python\n",
    "dataProduct: \n",
    "code1: https://raw.githubusercontent.com/NEONScience/NEON-Data-Skills/main/tutorials/Python/NEON-general/neon-code-packages/neonUtilitiesPython/neonUtilitiesPython.py\n",
    "tutorialSeries: \n",
    "urlTitle: neon-utilities-python\n",
    "---"
   ]
  },
  {
   "cell_type": "markdown",
   "metadata": {},
   "source": [
    "The instructions below will guide you through using the neonUtilities R package \n",
    "in Python, via the rpy2 package. rpy2 creates an R environment you can interact \n",
    "with from Python.\n",
    "\n",
    "The assumption in this tutorial is that you want to work with NEON data in \n",
    "Python, but you want to use the handy download and merge functions provided by \n",
    "the `neonUtilities` R package to access and format the data for analysis. If \n",
    "you want to do your analyses in R, use one of the R-based tutorials linked \n",
    "below.\n",
    "\n",
    "For more information about the `neonUtilities` package, and instructions for \n",
    "running it in R directly, see the <a href=\"https://www.neonscience.org/download-explore-neon-data\" target=\"_blank\">Download and Explore</a> tutorial \n",
    "and/or the <a href=\"http://www.neonscience.org/neonDataStackR\" target=\"_blank\">neonUtilities tutorial</a>.\n",
    "\n",
    "\n",
    "## Install and set up\n",
    "\n",
    "Before starting, you will need:\n",
    "\n",
    "1. Python 3 installed. It is probably possible to use this workflow in Python 2, \n",
    "but these instructions were developed and tested using 3.7.4.\n",
    "2. R installed. You don't need to have ever used it directly. We wrote this \n",
    "tutorial using R 4.1.1, but most other recent versions should also work.\n",
    "3. `rpy2` installed. Run the line below from the command line, it won't run within \n",
    "Jupyter. See <a href=\"https://docs.python.org/3/installing/\" target=\"_blank\">Python documentation</a> for more information on how to install packages. \n",
    "`rpy2` often has install problems on Windows, see \"Windows Users\" section below if \n",
    "you are running Windows.\n",
    "4. You may need to install `pip` before installing `rpy2`, if you don't have it \n",
    "installed already.\n",
    "\n",
    "From the command line, run:"
   ]
  },
  {
   "cell_type": "code",
   "execution_count": null,
   "metadata": {},
   "outputs": [],
   "source": [
    "pip install rpy2"
   ]
  },
  {
   "cell_type": "markdown",
   "metadata": {},
   "source": [
    "### Windows users\n",
    "\n",
    "The rpy2 package was built for Mac, and doesn't always work smoothly on Windows. \n",
    "If you have trouble with the install, try these steps.\n",
    "\n",
    "1. Add C:\\Program Files\\R\\R-3.3.1\\bin\\x64 to the Windows Environment Variable “Path”\n",
    "2. Install rpy2 manually from https://www.lfd.uci.edu/~gohlke/pythonlibs/#rpy2\n",
    "    1. Pick the correct version. At the download page the portion of the files \n",
    "    with cp## relate to the Python version. e.g., rpy2 2.9.2 cp36 cp36m win_amd64.whl \n",
    "    is the correct download when 2.9.2 is the latest version of rpy2 and you are \n",
    "    running Python 36 and 64 bit Windows (amd64).\n",
    "    2. Save the whl file, navigate to it in windows then run pip directly on the file \n",
    "    as follows “pip install rpy2 2.9.2 cp36 cp36m win_amd64.whl”\n",
    "3. Add  an R_HOME Windows environment variable with the path C:\\Program Files\\R\\R-3.4.3 \n",
    "(or whichever version you are running)\n",
    "4. Add an R_USER Windows environment variable with the path C:\\Users\\yourUserName\\AppData\\Local\\Continuum\\Anaconda3\\Lib\\site-packages\\rpy2\n",
    "\n",
    "### Additional troubleshooting\n",
    "\n",
    "If you're still having trouble getting R to communicate with Python, you can try \n",
    "pointing Python directly to your R installation path.\n",
    "\n",
    "1. Run `R.home()` in R.\n",
    "2. Run `import os` in Python.\n",
    "3. Run `os.environ['R_HOME'] = '/Library/Frameworks/R.framework/Resources'` in Python, substituting the file path you found in step 1."
   ]
  },
  {
   "cell_type": "markdown",
   "metadata": {},
   "source": [
    "## Load packages"
   ]
  },
  {
   "cell_type": "markdown",
   "metadata": {},
   "source": [
    "Now import `rpy2` into your session."
   ]
  },
  {
   "cell_type": "code",
   "execution_count": null,
   "metadata": {},
   "outputs": [],
   "source": [
    "import rpy2\n",
    "import rpy2.robjects as robjects\n",
    "from rpy2.robjects.packages import importr"
   ]
  },
  {
   "cell_type": "markdown",
   "metadata": {},
   "source": [
    "Load the base R functionality, using the `rpy2` function `importr()`."
   ]
  },
  {
   "cell_type": "code",
   "execution_count": null,
   "metadata": {},
   "outputs": [],
   "source": [
    "base = importr('base')\n",
    "utils = importr('utils')\n",
    "stats = importr('stats')"
   ]
  },
  {
   "cell_type": "markdown",
   "metadata": {},
   "source": [
    "The basic syntax for running R code via `rpy2` is `package.function(inputs)`, \n",
    "where `package` is the R package in use, `function` is the name of the function \n",
    "within the R package, and `inputs` are the inputs to the function. In other \n",
    "words, it's very similar to running code in R as `package::function(inputs)`. \n",
    "For example:"
   ]
  },
  {
   "cell_type": "code",
   "execution_count": null,
   "metadata": {},
   "outputs": [],
   "source": [
    "stats.rnorm(6, 0, 1)"
   ]
  },
  {
   "cell_type": "markdown",
   "metadata": {},
   "source": [
    "Suppress R warnings. This step can be skipped, but will result in messages \n",
    "getting passed through from R that Python will interpret as warnings."
   ]
  },
  {
   "cell_type": "code",
   "execution_count": null,
   "metadata": {},
   "outputs": [],
   "source": [
    "from rpy2.rinterface_lib.callbacks import logger as rpy2_logger\n",
    "import logging\n",
    "rpy2_logger.setLevel(logging.ERROR)"
   ]
  },
  {
   "cell_type": "markdown",
   "metadata": {},
   "source": [
    "Install the `neonUtilities` R package. Here I've specified the RStudio \n",
    "CRAN mirror as the source, but you can use a different one if you \n",
    "prefer.\n",
    "\n",
    "You only need to do this step once to use the package, but we update \n",
    "the `neonUtilities` package every few months, so reinstalling \n",
    "periodically is recommended.\n",
    "\n",
    "This installation step carries out the same steps in the same places on \n",
    "your hard drive that it would if run in R directly, so if you use R \n",
    "regularly and have already installed `neonUtilities` on your machine, \n",
    "you can skip this step. And be aware, this also means if you install \n",
    "other packages, or new versions of packages, via `rpy2`, they'll \n",
    "be updated the next time you use R, too.\n",
    "\n",
    "The semicolon at the end of the line (here, and in some other function \n",
    "calls below) can be omitted. It suppresses a note indicating the output \n",
    "of the function is null. The output is null because these functions download \n",
    "or modify files on your local drive, but none of the data are read into the \n",
    "Python or R environments."
   ]
  },
  {
   "cell_type": "code",
   "execution_count": null,
   "metadata": {},
   "outputs": [],
   "source": [
    "utils.install_packages('neonUtilities', repos='https://cran.rstudio.com/');"
   ]
  },
  {
   "cell_type": "markdown",
   "metadata": {},
   "source": [
    "Now load the `neonUtilities` package. This does need to be run every time \n",
    "you use the code; if you're familiar with R, `importr()` is roughly \n",
    "equivalent to the `library()` function in R."
   ]
  },
  {
   "cell_type": "code",
   "execution_count": null,
   "metadata": {},
   "outputs": [],
   "source": [
    "neonUtilities = importr('neonUtilities')"
   ]
  },
  {
   "cell_type": "markdown",
   "metadata": {},
   "source": [
    "## Join data files: stackByTable()\n",
    "\n",
    "The function `stackByTable()` in `neonUtilities` merges the monthly, \n",
    "site-level files the <a href=\"http://data.neonscience.org/home\" target=\"_blank\">NEON Data Portal</a> \n",
    "provides. Start by downloading the dataset you're interested in from the \n",
    "Portal. Here, we'll assume you've downloaded IR Biological Temperature. \n",
    "It will download as a single zip file named `NEON_temp-bio.zip`. Note the \n",
    "file path it's saved to and proceed."
   ]
  },
  {
   "cell_type": "markdown",
   "metadata": {},
   "source": [
    "Run the `stackByTable()` function to stack the data. It requires only one \n",
    "input, the path to the zip file you downloaded from the NEON Data Portal. \n",
    "Modify the file path in the code below to match the path on your machine.\n",
    "\n",
    "For additional, optional inputs to `stackByTable()`, see the <a href=\"http://neonscience.org/neonDataStackR\" target=\"_blank\">R tutorial</a> \n",
    "for neonUtilities."
   ]
  },
  {
   "cell_type": "code",
   "execution_count": null,
   "metadata": {},
   "outputs": [],
   "source": [
    "neonUtilities.stackByTable(filepath='/Users/Shared/NEON_temp-bio.zip');"
   ]
  },
  {
   "cell_type": "markdown",
   "metadata": {},
   "source": [
    "Check the folder containing the original zip file from the Data Portal; \n",
    "you should now have a subfolder containing the unzipped and stacked files \n",
    "called `stackedFiles`. To import these data to Python, skip ahead to the \n",
    "\"Read downloaded and stacked files into Python\" section; to learn how to \n",
    "use `neonUtilities` to download data, proceed to the next section."
   ]
  },
  {
   "cell_type": "markdown",
   "metadata": {},
   "source": [
    "## Download files to be stacked: zipsByProduct()\n",
    "\n",
    "The function `zipsByProduct()` uses the <a href=\"http://data.neonscience.org/data-api\" target=\"_blank\">NEON API</a> to programmatically download \n",
    "data files for a given product. The files downloaded by `zipsByProduct()` \n",
    "can then be fed into `stackByTable()`."
   ]
  },
  {
   "cell_type": "markdown",
   "metadata": {},
   "source": [
    "Run the downloader with these inputs: a data product ID (DPID), a set of \n",
    "4-letter site IDs (or \"all\" for all sites), a download package (either \n",
    "basic or expanded), the filepath to download the data to, and an \n",
    "indicator to check the size of your download before proceeding or not \n",
    "(TRUE/FALSE).\n",
    "\n",
    "The DPID is the data product identifier, and can be found in the data product \n",
    "box on the NEON <a href=\"https://data.neonscience.org/data-products/explore\" target=\"_blank\">Explore Data</a> page. \n",
    "Here we'll download Breeding landbird point counts, DP1.10003.001.\n",
    "\n",
    "There are two differences relative to running `zipsByProduct()` in R directly: \n",
    "\n",
    "1. `check.size` becomes `check_size`, because dots have programmatic meaning \n",
    "in Python\n",
    "2. `TRUE` (or `T`) becomes `'TRUE'` because the values TRUE and FALSE don't \n",
    "have special meaning in Python the way they do in R, so it interprets them \n",
    "as variables if they're unquoted.\n",
    "\n",
    "`check_size='TRUE'` does not work correctly in the Python environment. It \n",
    "estimates the size of the download and asks you to confirm before proceeding, \n",
    "and this interactive display doesn't work correctly outside R. Set \n",
    "`check_size='FALSE'` to avoid this problem, but be thoughtful about the size \n",
    "of your query since it will proceed to download without checking."
   ]
  },
  {
   "cell_type": "code",
   "execution_count": null,
   "metadata": {},
   "outputs": [],
   "source": [
    "neonUtilities.zipsByProduct(dpID='DP1.10003.001', \n",
    "                            site=base.c('HARV','BART'), \n",
    "                            savepath='/Users/Shared',\n",
    "                            package='basic', \n",
    "                            check_size='FALSE');"
   ]
  },
  {
   "cell_type": "markdown",
   "metadata": {},
   "source": [
    "The message output by `zipsByProduct()` indicates the file path where the \n",
    "files have been downloaded.\n",
    "\n",
    "Now take that file path and pass it to `stackByTable()`."
   ]
  },
  {
   "cell_type": "code",
   "execution_count": null,
   "metadata": {},
   "outputs": [],
   "source": [
    "neonUtilities.stackByTable(filepath='/Users/Shared/filesToStack10003');"
   ]
  },
  {
   "cell_type": "markdown",
   "metadata": {},
   "source": [
    "## Read downloaded and stacked files into Python\n",
    "\n",
    "We've downloaded biological temperature and bird data, and merged \n",
    "the site by month files. Now let's read those data into Python so you \n",
    "can proceed with analyses.\n",
    "\n",
    "First let's take a look at what's in the output folders."
   ]
  },
  {
   "cell_type": "code",
   "execution_count": null,
   "metadata": {},
   "outputs": [],
   "source": [
    "import os\n",
    "os.listdir('/Users/Shared/filesToStack10003/stackedFiles/')"
   ]
  },
  {
   "cell_type": "code",
   "execution_count": null,
   "metadata": {},
   "outputs": [],
   "source": [
    "os.listdir('/Users/Shared/NEON_temp-bio/stackedFiles/')"
   ]
  },
  {
   "cell_type": "markdown",
   "metadata": {},
   "source": [
    "Each data product folder contains a set of data files and metadata files. \n",
    "Here, we'll read in the data files and take a look at the contents; for \n",
    "more details about the contents of NEON data files and how to interpret them, \n",
    "see the <a href=\"https://www.neonscience.org/download-explore-neon-data\" target=\"_blank\">Download and Explore tutorial</a>.\n",
    "\n",
    "There are a variety of modules and methods for reading tabular data into \n",
    "Python; here we'll use the `pandas` module, but feel free to use your own \n",
    "preferred method.\n",
    "\n",
    "First, let's read in the two data tables in the bird data: \n",
    "`brd_countdata` and `brd_perpoint`."
   ]
  },
  {
   "cell_type": "code",
   "execution_count": null,
   "metadata": {},
   "outputs": [],
   "source": [
    "import pandas\n",
    "brd_perpoint = pandas.read_csv('/Users/Shared/filesToStack10003/stackedFiles/brd_perpoint.csv')\n",
    "brd_countdata = pandas.read_csv('/Users/Shared/filesToStack10003/stackedFiles/brd_countdata.csv')"
   ]
  },
  {
   "cell_type": "markdown",
   "metadata": {},
   "source": [
    "And take a look at the contents of each file. For descriptions and unit of each \n",
    "column, see the `variables_10003` file."
   ]
  },
  {
   "cell_type": "code",
   "execution_count": null,
   "metadata": {},
   "outputs": [],
   "source": [
    "brd_perpoint"
   ]
  },
  {
   "cell_type": "code",
   "execution_count": null,
   "metadata": {},
   "outputs": [],
   "source": [
    "brd_countdata"
   ]
  },
  {
   "cell_type": "markdown",
   "metadata": {},
   "source": [
    "And now let's do the same with the 30-minute data table for biological \n",
    "temperature."
   ]
  },
  {
   "cell_type": "code",
   "execution_count": null,
   "metadata": {},
   "outputs": [],
   "source": [
    "IRBT30 = pandas.read_csv('/Users/Shared/NEON_temp-bio/stackedFiles/IRBT_30_minute.csv')\n",
    "IRBT30"
   ]
  },
  {
   "cell_type": "markdown",
   "metadata": {},
   "source": [
    "## Download remote sensing files: byFileAOP()\n",
    "\n",
    "The function `byFileAOP()` uses the <a href=\"http://data.neonscience.org/data-api\" target=\"_blank\">NEON API</a> \n",
    "to programmatically download data files for remote sensing (AOP) data \n",
    "products. These files cannot be stacked by `stackByTable()` because they \n",
    "are not tabular data. The function simply creates a folder in your working \n",
    "directory and writes the files there. It preserves the folder structure \n",
    "for the subproducts.\n",
    "\n",
    "The inputs to `byFileAOP()` are a data product ID, a site, a year, \n",
    "a filepath to save to, and an indicator to check the size of the \n",
    "download before proceeding, or not. As above, set check_size=\"FALSE\" \n",
    "when working in Python. Be especially cautious about download size \n",
    "when downloading AOP data, since the files are very large.\n",
    "\n",
    "Here, we'll download Ecosystem structure (Canopy Height Model) data from \n",
    "Hopbrook (HOPB) in 2017."
   ]
  },
  {
   "cell_type": "code",
   "execution_count": null,
   "metadata": {},
   "outputs": [],
   "source": [
    "neonUtilities.byFileAOP(dpID='DP3.30015.001', site='HOPB',\n",
    "                        year='2017', check_size='FALSE',\n",
    "                       savepath='/Users/Shared');"
   ]
  },
  {
   "cell_type": "markdown",
   "metadata": {},
   "source": [
    "Let's read one tile of data into Python and view it. We'll use the \n",
    "`rasterio` and `matplotlib` modules here, but as with tabular data, \n",
    "there are other options available."
   ]
  },
  {
   "cell_type": "code",
   "execution_count": null,
   "metadata": {},
   "outputs": [],
   "source": [
    "import rasterio\n",
    "CHMtile = rasterio.open('/Users/Shared/DP3.30015.001/neon-aop-products/2017/FullSite/D01/2017_HOPB_2/L3/DiscreteLidar/CanopyHeightModelGtif/NEON_D01_HOPB_DP3_718000_4709000_CHM.tif')"
   ]
  },
  {
   "cell_type": "code",
   "execution_count": null,
   "metadata": {},
   "outputs": [],
   "source": [
    "import matplotlib.pyplot as plt\n",
    "from rasterio.plot import show\n",
    "fig, ax = plt.subplots(figsize = (8,3))\n",
    "show(CHMtile)"
   ]
  },
  {
   "cell_type": "code",
   "execution_count": null,
   "metadata": {},
   "outputs": [],
   "source": []
  }
 ],
 "metadata": {
  "kernelspec": {
   "display_name": "Python 3",
   "language": "python",
   "name": "python3"
  },
  "language_info": {
   "codemirror_mode": {
    "name": "ipython",
    "version": 3
   },
   "file_extension": ".py",
   "mimetype": "text/x-python",
   "name": "python",
   "nbconvert_exporter": "python",
   "pygments_lexer": "ipython3",
   "version": "3.7.4"
  }
 },
 "nbformat": 4,
 "nbformat_minor": 2
}
