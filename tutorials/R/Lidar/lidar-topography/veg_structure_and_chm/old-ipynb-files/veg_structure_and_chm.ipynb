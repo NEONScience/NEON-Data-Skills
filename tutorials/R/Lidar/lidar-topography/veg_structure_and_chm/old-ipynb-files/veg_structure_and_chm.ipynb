{
 "cells": [
  {
   "cell_type": "markdown",
   "metadata": {},
   "source": [
    "---\n",
    "syncID: d2d126173eeb4494a06e35aa34bd2196\n",
    "title: \"Compare tree height measured from the ground to a Lidar-based Canopy Height Model\"\n",
    "description: \"Investigate the relationship between two methods for measuring canopy height\"\n",
    "dateCreated: 2019-5-21\n",
    "authors: Claire K. Lunch\n",
    "contributors: Kelley A. McCahill\n",
    "estimatedTime: 60 minutes\n",
    "packagesLibraries: neonUtilities, raster\n",
    "topics: vegetation-structure, ecosystem-structure, canopy-height-model\n",
    "languagesTool: R\n",
    "dataProduct: DP1.10098.001, DP3.30015.001\n",
    "code1: https://raw.githubusercontent.com/NEONScience/NEON-Data-Skills/main/tutorials/R/Lidar/lidar-topography/veg_structure_and_chm/veg_structure_and_chm.R\n",
    "tutorialSeries: \n",
    "urlTitle: tree-heights-veg-structure-chm\n",
    "---"
   ]
  },
  {
   "cell_type": "markdown",
   "metadata": {},
   "source": [
    "This data tutorial provides instruction on working with two different NEON \n",
    "data products to estimate tree height: \n",
    "\n",
    "* **DP3.30015.001, Ecosystem structure**, aka Canopy Height Model (CHM) \n",
    "* **DP1.10098.001, Woody plant vegetation structure**\n",
    "\n",
    "The <a href=\"https://data.neonscience.org/data-products/DP3.30015.001\" target=\"_blank\">CHM data</a> are derived from the Lidar point cloud data collected by the remote sensing platform. \n",
    "The <a href=\"https://data.neonscience.org/data-products/DP1.10098.001\" target=\"_blank\">vegetation structure data</a> are collected by by field staff on the ground. We will be using data from the Wind River Experimental Forest NEON field site located in Washington state. The \n",
    "predominant vegetation there are tall evergreen conifers. \n",
    "\n",
    "If you are coming to this exercise after following tutorials on data \n",
    "download and formatting, and therefore already have the needed data, \n",
    "skip ahead to section 4.\n",
    "\n",
    "<div id=\"ds-objectives\" markdown=\"1\">\n",
    "\n",
    "## Things You’ll Need To Complete This Tutorial\n",
    "You will need the most current version of R loaded on your computer to complete this tutorial.\n",
    "\n",
    "</div>"
   ]
  },
  {
   "cell_type": "markdown",
   "metadata": {},
   "source": [
    "## 1. Setup\n",
    "\n",
    "Start by installing and loading packages and setting options. One of the \n",
    "packages we'll be using, `geoNEON`, is only available via GitHub, so it's \n",
    "installed using the `devtools` package. The other packages can be \n",
    "installed directly from CRAN."
   ]
  },
  {
   "cell_type": "code",
   "execution_count": null,
   "metadata": {},
   "outputs": [],
   "source": [
    "options(stringsAsFactors=F)\n",
    "\n",
    "install.packages(\"neonUtilities\")\n",
    "install.packages(\"sp\")\n",
    "install.packages(\"raster\")\n",
    "install.packages(\"devtools\")\n",
    "devtools::install_github(\"NEONScience/NEON-geolocation/geoNEON\")\n",
    "\n",
    "library(sp)\n",
    "library(raster)\n",
    "library(neonUtilities)\n",
    "library(geoNEON)"
   ]
  },
  {
   "cell_type": "markdown",
   "metadata": {},
   "source": [
    "## 2. Vegetation structure data\n",
    "\n",
    "Download the vegetation structure data using the `loadByProduct()` function in\n",
    "the `neonUtilities` package. Inputs needed to the function are:\n",
    "\n",
    "* `dpID`: data product ID; woody vegetation structure = DP1.10098.001\n",
    "* `site`: 4-letter site code; Wind River = WREF\n",
    "* `package`: basic or expanded; we'll download basic here\n",
    "* `check.size`: should this function prompt the user with an estimated download size? Set to `FALSE` here for ease of processing as a script, but good to leave as default `True` when downloading a dataset for the first time.\n",
    "\n",
    "Refer to the <a href=\"https://www.neonscience.org/neonDataStackR\" target=\"_blank\">tutorial</a> \n",
    "for the `neonUtilities` package for more details if desired."
   ]
  },
  {
   "cell_type": "code",
   "execution_count": null,
   "metadata": {},
   "outputs": [],
   "source": [
    "veglist <- loadByProduct(dpID=\"DP1.10098.001\", site=\"WREF\", package=\"basic\", check.size = FALSE)"
   ]
  },
  {
   "cell_type": "markdown",
   "metadata": {},
   "source": [
    "Use the `getLocTOS()` function in the `geoNEON` package to get \n",
    "precise locations for the tagged plants. Refer to the package \n",
    "documentation for more details."
   ]
  },
  {
   "cell_type": "code",
   "execution_count": null,
   "metadata": {},
   "outputs": [],
   "source": [
    "vegmap <- getLocTOS(veglist$vst_mappingandtagging, \n",
    "                          \"vst_mappingandtagging\")"
   ]
  },
  {
   "cell_type": "markdown",
   "metadata": {},
   "source": [
    "Merge the mapped locations of individuals (the `vst_mappingandtagging` table) \n",
    "with the annual measurements of height, diameter, etc (the \n",
    "`vst_apparentindividual` table). The two tables join on `individualID`, \n",
    "the identifier for each tagged plant, but we'll include `namedLocation`, \n",
    "`domainID`, `siteID`, and `plotID` in the list of variables to merge on, to \n",
    "avoid ending up with duplicates of each of those columns. Refer to the \n",
    "variables table and to the <a href=\"http://data.neonscience.org/api/v0/documents/NEON_vegStructure_userGuide_vA\" target=\"_blank\">Data Product User Guide</a> \n",
    "for Woody plant vegetation structure for more \n",
    "information about the contents of each data table."
   ]
  },
  {
   "cell_type": "code",
   "execution_count": null,
   "metadata": {},
   "outputs": [],
   "source": [
    "veg <- merge(veglist$vst_apparentindividual, vegmap, \n",
    "             by=c(\"individualID\",\"namedLocation\",\n",
    "                  \"domainID\",\"siteID\",\"plotID\"))"
   ]
  },
  {
   "cell_type": "markdown",
   "metadata": {},
   "source": [
    "Let's see what the data look like! Make a stem map of the plants in \n",
    "plot WREF_075. Note that the `circles` argument of the `symbols()` function expects a radius, but \n",
    "stemDiameter is just that, a diameter, so we will need to divide by two. \n",
    "stemDiameter is also in centimeters, but the mapping scale is in meters, \n",
    "so we need to divide by 100 also to get the scale right."
   ]
  },
  {
   "cell_type": "code",
   "execution_count": null,
   "metadata": {},
   "outputs": [],
   "source": [
    "symbols(veg$adjEasting[which(veg$plotID==\"WREF_075\")], \n",
    "        veg$adjNorthing[which(veg$plotID==\"WREF_075\")], \n",
    "        circles=veg$stemDiameter[which(veg$plotID==\"WREF_075\")]/100/2, \n",
    "        inches=F, xlab=\"Easting\", ylab=\"Northing\")"
   ]
  },
  {
   "cell_type": "markdown",
   "metadata": {},
   "source": [
    "And now overlay the estimated uncertainty in the location of each stem, \n",
    "in blue:"
   ]
  },
  {
   "cell_type": "code",
   "execution_count": null,
   "metadata": {},
   "outputs": [],
   "source": [
    "symbols(veg$adjEasting[which(veg$plotID==\"WREF_075\")], \n",
    "        veg$adjNorthing[which(veg$plotID==\"WREF_075\")], \n",
    "        circles=veg$stemDiameter[which(veg$plotID==\"WREF_075\")]/100/2, \n",
    "        inches=F, xlab=\"Easting\", ylab=\"Northing\")\n",
    "symbols(veg$adjEasting[which(veg$plotID==\"WREF_075\")], \n",
    "        veg$adjNorthing[which(veg$plotID==\"WREF_075\")], \n",
    "        circles=veg$adjCoordinateUncertainty[which(veg$plotID==\"WREF_075\")], \n",
    "        inches=F, add=T, fg=\"lightblue\")"
   ]
  },
  {
   "cell_type": "markdown",
   "metadata": {},
   "source": [
    "## 3. Canopy height model data\n",
    "\n",
    "Now we'll download the CHM tile corresponding to plot WREF_075. Several \n",
    "other plots are also covered by this tile. We could download all tiles \n",
    "that contain vegetation structure plots, but in this exercise we're \n",
    "sticking to one tile to limit download size and processing time.\n",
    "\n",
    "The `tileByAOP()` function in the `neonUtilities` package allows for \n",
    "download of remote sensing tiles based on easting and northing \n",
    "coordinates, so we'll give it the coordinates of plot WREF_075 and \n",
    "the data product ID, DP3.30015.001.\n",
    "\n",
    "The download will include several metadata files as well as the data \n",
    "tile. Load the data tile into the environment using the `raster` package."
   ]
  },
  {
   "cell_type": "code",
   "execution_count": null,
   "metadata": {},
   "outputs": [],
   "source": [
    "byTileAOP(dpID=\"DP3.30015.001\", site=\"WREF\", year=\"2017\", \n",
    "          easting=veg$adjEasting[which(veg$plotID==\"WREF_075\")], \n",
    "          northing=veg$adjNorthing[which(veg$plotID==\"WREF_075\")],\n",
    "          check.size = FALSE, savepath=\"/Users/olearyd/Git/data\")\n",
    "chm <- raster(\"/Users/olearyd/Git/data/DP3.30015.001/2017/FullSite/D16/2017_WREF_1/L3/DiscreteLidar/CanopyHeightModelGtif/NEON_D16_WREF_DP3_580000_5075000_CHM.tif\")"
   ]
  },
  {
   "cell_type": "markdown",
   "metadata": {},
   "source": [
    "Let's view the tile."
   ]
  },
  {
   "cell_type": "code",
   "execution_count": null,
   "metadata": {},
   "outputs": [],
   "source": [
    "plot(chm, col=topo.colors(5))"
   ]
  },
  {
   "cell_type": "markdown",
   "metadata": {},
   "source": [
    "## 4. Comparing the two datasets\n",
    "\n",
    "Now we have the heights of individual trees measured from the ground, and \n",
    "the height of the top surface of the canopy, measured from the air. There \n",
    "are many different ways to make a comparison between these two \n",
    "datasets! This section will walk through three different approaches.\n",
    "\n",
    "First, subset the vegetation structure data to only the individuals that fall \n",
    "within this tile, using the `extent()` function from the raster package.\n",
    "\n",
    "This step isn't strictly necessary, but it will make the processing faster."
   ]
  },
  {
   "cell_type": "code",
   "execution_count": null,
   "metadata": {},
   "outputs": [],
   "source": [
    "vegsub <- veg[which(veg$adjEasting >= extent(chm)[1] &\n",
    "                      veg$adjEasting <= extent(chm)[2] &\n",
    "                      veg$adjNorthing >= extent(chm)[3] & \n",
    "                      veg$adjNorthing <= extent(chm)[4]),]"
   ]
  },
  {
   "cell_type": "markdown",
   "metadata": {},
   "source": [
    "Starting with a very simple first pass: use the `extract()` function \n",
    "from the `raster` package to get the CHM value matching the coordinates \n",
    "of each mapped plant. Include a buffer equal to the uncertainty in the \n",
    "plant's location, and extract the highest CHM value within the buffer. \n",
    "Then make a scatter plot of each tree's height vs. the CHM value at its \n",
    "location."
   ]
  },
  {
   "cell_type": "code",
   "execution_count": null,
   "metadata": {},
   "outputs": [],
   "source": [
    "bufferCHM <- extract(chm, cbind(vegsub$adjEasting, \n",
    "                                vegsub$adjNorthing),\n",
    "                     buffer=vegsub$adjCoordinateUncertainty, \n",
    "                     fun=max)\n",
    "plot(bufferCHM~vegsub$height, pch=20, xlab=\"Height\", \n",
    "     ylab=\"Canopy height model\")\n",
    "lines(c(0,50), c(0,50), col=\"grey\")"
   ]
  },
  {
   "cell_type": "code",
   "execution_count": null,
   "metadata": {},
   "outputs": [],
   "source": [
    "cor(bufferCHM,vegsub$height, use=\"complete\")"
   ]
  },
  {
   "cell_type": "markdown",
   "metadata": {},
   "source": [
    "There are a lot of points clustered on the 1-1 line, but there is also a \n",
    "cloud of points above the line, where the measured height is lower than \n",
    "the canopy height model at the same coordinates. This makes sense, because \n",
    "we made no attempt to filter out the understory. There are likely many \n",
    "plants measured in the vegetation structure data that are not at the top \n",
    "of the canopy, and the CHM sees only the top surface of the canopy.\n",
    "\n",
    "How to exclude understory plants from this analysis? Again, there are many \n",
    "possible approaches. We'll try out two, one map-centric and one \n",
    "tree-centric.\n",
    "\n",
    "Starting with the map-centric approach: select a pixel size, and aggregate \n",
    "both the vegetation structure data and the CHM data to find the tallest point \n",
    "in each pixel. Let's try this with 10m pixels.\n",
    "\n",
    "Start by rounding the coordinates of the vegetation structure data, to create \n",
    "10m bins. Use `floor()` instead of `round()` so each tree ends up in the pixel \n",
    "with the same numbering as the raster pixels (the rasters/pixels are \n",
    "numbered by their southwest corners)."
   ]
  },
  {
   "cell_type": "code",
   "execution_count": null,
   "metadata": {},
   "outputs": [],
   "source": [
    "easting10 <- 10*floor(vegsub$adjEasting/10)\n",
    "northing10 <- 10*floor(vegsub$adjNorthing/10)\n",
    "vegsub <- cbind(vegsub, easting10, northing10)"
   ]
  },
  {
   "cell_type": "markdown",
   "metadata": {},
   "source": [
    "Use the `aggregate()` function to get the tallest tree in each 10m bin."
   ]
  },
  {
   "cell_type": "code",
   "execution_count": null,
   "metadata": {},
   "outputs": [],
   "source": [
    "vegbin <- stats::aggregate(vegsub, by=list(vegsub$easting10, vegsub$northing10), FUN=max)"
   ]
  },
  {
   "cell_type": "markdown",
   "metadata": {},
   "source": [
    "To get the CHM values for the 10m bins, use the `raster` package version \n",
    "of the `aggregate()` function. Let's take a look at the lower-resolution \n",
    "image we get as a result."
   ]
  },
  {
   "cell_type": "code",
   "execution_count": null,
   "metadata": {},
   "outputs": [],
   "source": [
    "CHM10 <- raster::aggregate(chm, fact=10, fun=max)\n",
    "plot(CHM10, col=topo.colors(5))"
   ]
  },
  {
   "cell_type": "markdown",
   "metadata": {},
   "source": [
    "Use the `extract()` function again to get the values from each pixel. We \n",
    "don't need a buffer this time, since we've put both datasets onto the same \n",
    "grid. But our grids are numbered by the corners, so add 5 to each tree \n",
    "coordinate to make sure it's in the correct pixel."
   ]
  },
  {
   "cell_type": "code",
   "execution_count": null,
   "metadata": {},
   "outputs": [],
   "source": [
    "vegbin$easting10 <- vegbin$easting10+5\n",
    "vegbin$northing10 <- vegbin$northing10+5\n",
    "binCHM <- extract(CHM10, cbind(vegbin$easting10, \n",
    "                               vegbin$northing10))\n",
    "plot(binCHM~vegbin$height, pch=20, \n",
    "     xlab=\"Height\", ylab=\"Canopy height model\")\n",
    "lines(c(0,50), c(0,50), col=\"grey\")"
   ]
  },
  {
   "cell_type": "code",
   "execution_count": null,
   "metadata": {},
   "outputs": [],
   "source": [
    "cor(binCHM, vegbin$height, use=\"complete\")"
   ]
  },
  {
   "cell_type": "markdown",
   "metadata": {},
   "source": [
    "The understory points are thinned out substantially, but so are the rest. \n",
    "We've lost a lot of data by going to a lower resolution.\n",
    "\n",
    "Let's try and see if we can identify the tallest trees by another approach, \n",
    "using the trees as the starting point instead of map area. Start by sorting \n",
    "the veg structure data by height."
   ]
  },
  {
   "cell_type": "code",
   "execution_count": null,
   "metadata": {},
   "outputs": [],
   "source": [
    "vegsub <- vegsub[order(vegsub$height, decreasing=T),]"
   ]
  },
  {
   "cell_type": "markdown",
   "metadata": {},
   "source": [
    "Now, for each tree, let's estimate which nearby trees might be beneath \n",
    "its canopy, and discard those points. To do this:\n",
    "\n",
    "1. Calculate the distance of each tree from the target tree.\n",
    "2. Pick a reasonable estimate for canopy size, and discard shorter trees \n",
    "within that radius. The radius I used is 0.3 times the height, based on \n",
    "some rudimentary googling about Douglas fir allometry. It could definitely \n",
    "be improved on!\n",
    "3. Iterate over all trees."
   ]
  },
  {
   "cell_type": "code",
   "execution_count": null,
   "metadata": {},
   "outputs": [],
   "source": [
    "vegfil <- vegsub\n",
    "for(i in 1:nrow(vegsub)) {\n",
    "    if(is.na(vegfil$height[i]))\n",
    "        next\n",
    "    dist <- sqrt((vegsub$adjEasting[i]-vegsub$adjEasting)^2 + \n",
    "                (vegsub$adjNorthing[i]-vegsub$adjNorthing)^2)\n",
    "    vegfil$height[which(dist<0.3*vegsub$height[i] & \n",
    "                        vegsub$height<vegsub$height[i])] <- NA\n",
    "}\n",
    "\n",
    "vegfil <- vegfil[which(!is.na(vegfil$height)),]"
   ]
  },
  {
   "cell_type": "markdown",
   "metadata": {},
   "source": [
    "Now extract the raster values, as above. Let's also increase the buffer size \n",
    "a bit, to better account for the uncertainty in the Lidar data as well as \n",
    "the uncertainty in the ground locations."
   ]
  },
  {
   "cell_type": "code",
   "execution_count": null,
   "metadata": {},
   "outputs": [],
   "source": [
    "filterCHM <- extract(chm, cbind(vegfil$adjEasting, vegfil$adjNorthing),\n",
    "                         buffer=vegfil$adjCoordinateUncertainty+1, fun=max)\n",
    "plot(filterCHM~vegfil$height, pch=20, \n",
    "     xlab=\"Height\", ylab=\"Canopy height model\")\n",
    "lines(c(0,50), c(0,50), col=\"grey\")"
   ]
  },
  {
   "cell_type": "code",
   "execution_count": null,
   "metadata": {},
   "outputs": [],
   "source": [
    "cor(filterCHM,vegfil$height)"
   ]
  },
  {
   "cell_type": "markdown",
   "metadata": {},
   "source": [
    "This is quite a bit better! There are still several understory points we \n",
    "failed to exclude, but we were able to filter out most of the understory \n",
    "without losing so many overstory points.\n",
    "\n",
    "Let's try one last thing. The `plantStatus` field in the veg structure data \n",
    "indicates whether a plant is dead, broken, or otherwise damaged. In theory, \n",
    "a dead or broken tree can still be the tallest thing around, but it's less \n",
    "likely, and it's also less likely to get a good Lidar return. Exclude all \n",
    "trees that aren't alive:"
   ]
  },
  {
   "cell_type": "code",
   "execution_count": null,
   "metadata": {},
   "outputs": [],
   "source": [
    "vegfil <- vegfil[which(vegfil$plantStatus==\"Live\"),]\n",
    "filterCHM <- extract(chm, cbind(vegfil$adjEasting, vegfil$adjNorthing),\n",
    "                         buffer=vegfil$adjCoordinateUncertainty+1, fun=max)\n",
    "plot(filterCHM~vegfil$height, pch=20, \n",
    "     xlab=\"Height\", ylab=\"Canopy height model\")\n",
    "lines(c(0,50), c(0,50), col=\"grey\")"
   ]
  },
  {
   "cell_type": "code",
   "execution_count": null,
   "metadata": {},
   "outputs": [],
   "source": [
    "cor(filterCHM,vegfil$height)"
   ]
  },
  {
   "cell_type": "markdown",
   "metadata": {},
   "source": [
    "Nice!\n",
    "\n",
    "One final note: however we slice the data, there is a noticeable bias \n",
    "even in the strongly correlated values. The CHM heights are generally a \n",
    "bit shorter than the ground-based estimates of tree height. There are \n",
    "two biases in the CHM data that contribute to this. (1) Lidar returns \n",
    "from short-statured vegetation are difficult to distinguish from the \n",
    "ground, so the \"ground\" estimated by Lidar is generally a bit higher \n",
    "than the true ground surface, and (2) the height estimate from Lidar \n",
    "represents the highest return, but the highest return may slightly \n",
    "miss the actual tallest point on a given tree. This is especially \n",
    "likely to happen with conifers, which are the top-of-canopy trees at \n",
    "Wind River."
   ]
  }
 ],
 "metadata": {
  "kernelspec": {
   "display_name": "R",
   "language": "R",
   "name": "ir"
  },
  "language_info": {
   "codemirror_mode": "r",
   "file_extension": ".r",
   "mimetype": "text/x-r-source",
   "name": "R",
   "pygments_lexer": "r",
   "version": "4.0.2"
  }
 },
 "nbformat": 4,
 "nbformat_minor": 2
}
