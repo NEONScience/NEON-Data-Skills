{
 "cells": [
  {
   "cell_type": "markdown",
   "id": "lucky-arrest",
   "metadata": {},
   "source": [
    "---\n",
    "syncID: 52f863b138b14d79a97e91422fc17b4f\n",
    "title: \"Merging GeoTIFF Files to Create a Mosaic\"\n",
    "description: \"Learn to merge multiple GeoTIFF files to great a larger area of interest.\" \n",
    "dateCreated: 2018-07-05 \n",
    "authors: Bridget Hass, Donal O'Leary\n",
    "contributors: \n",
    "estimatedTime: 30 minutes\n",
    "packagesLibraries: subprocess, gdal, osgeo, glob, numpy, matplotlib\n",
    "topics: lidar, data-analysis, remote-sensing\n",
    "languagesTool: python\n",
    "dataProduct: NEON.DP3.30015, NEON.DP3.30024, NEON.DP3.30025\n",
    "code1: https://raw.githubusercontent.com/NEONScience/NEON-Data-Skills/main/tutorials/Python/Lidar/intro-lidar/merge_lidar_geotiff_files_py/merge_lidar_geotiff_files_py.py\n",
    "tutorialSeries: intro-lidar-py-series\n",
    "urlTitle: merge-lidar-geotiff-py\n",
    "---"
   ]
  },
  {
   "cell_type": "markdown",
   "id": "alive-spirit",
   "metadata": {},
   "source": [
    "In your analysis you will likely want to work with an area larger than a single file, from a few tiles to an entire NEON field site. In this tutorial, we will demonstrate how to use the `gdal_merge` utility to mosaic multiple tiles together. You will need to install GDAL and the GDAL-python bindings on your machine in order to use the code below.\n",
    "\n",
    "<div id=\"ds-objectives\" markdown=\"1\">\n",
    "\n",
    "### Objectives\n",
    "After completing this tutorial, you will be able to:\n",
    "\n",
    "* Merge multiple geotif raster tiles into a single mosaicked raster\n",
    "* Use the functions `raster2array` to read a tif raster into a Python array\n",
    "\n",
    "### Install Python Packages\n",
    "\n",
    "* **subprocess**\n",
    "* **glob**\n",
    "* **gdal**\n",
    "* **osgeo** \n",
    "* **matplotlib** \n",
    "* **numpy**\n",
    "\n",
    "\n",
    "### Download Data\n",
    "\n",
    "<h3> NEON Teaching Data Subset: Data Institute 2018</h3> \n",
    "\n",
    "To complete these materials, you will use data available from the NEON 2018 Data\n",
    "Institute teaching datasets available for download. \n",
    "\n",
    "The LiDAR and imagery data used to create this raster teaching data subset \n",
    "were collected over the \n",
    "<a href=\"http://www.neonscience.org/\" target=\"_blank\"> National Ecological Observatory Network's</a> \n",
    "<a href=\"http://www.neonscience.org/science-design/field-sites/\" target=\"_blank\" >field sites</a>\n",
    "and processed at NEON headquarters.\n",
    "All NEON data products can be accessed on the \n",
    "<a href=\"http://data.neonscience.org\" target=\"_blank\"> NEON data portal</a>.\n",
    "\n",
    "<a href=\"https://ndownloader.figshare.com/files/27535799\" target=\"_blank\"class=\"link--button link--arrow\">\n",
    "Download the TEAK Aspect Tiles from FigShare</a>\n",
    "</div>"
   ]
  },
  {
   "cell_type": "markdown",
   "id": "rolled-pressure",
   "metadata": {},
   "source": [
    "In your analysis you will likely want to work with an area larger than a single file, from a few tiles to an entire NEON field site. In this tutorial, we will demonstrate how to use the `gdal_merge` utility to mosaic multiple tiles together. \n",
    "\n",
    "This can be done in command line, or as a system command through `Python` as shown in this lesson. **If you installed `Python` using `Anaconda`, you should have `gdal_merge.py` downloaded into your folder, in a path similar to `C:\\Users\\user\\AppData\\Local\\Continuum\\Anaconda3\\Scripts`. You can also download it here and save it to your working directory.** For details on `gdal_merge` refer to the <a href=\"http://www.gdal.org/gdal_merge.html\" target=\"_blank\">gdal website</a>.\n",
    "\n",
    "We'll start by importing the following packages:\n"
   ]
  },
  {
   "cell_type": "code",
   "execution_count": null,
   "id": "adjustable-elder",
   "metadata": {},
   "outputs": [],
   "source": [
    "import numpy as np\n",
    "import matplotlib.pyplot as plt\n",
    "import os, glob\n",
    "from osgeo import gdal"
   ]
  },
  {
   "cell_type": "markdown",
   "id": "female-florence",
   "metadata": {},
   "source": [
    "Make a list of files to mosaic using `glob.glob`, and print the result. In this example, we are selecting all files ending with `_aspect.tif` in the folder `TEAK_Aspect_Tiles`. Note that you will need to change this filepath according to your local machine."
   ]
  },
  {
   "cell_type": "code",
   "execution_count": null,
   "id": "alternative-composer",
   "metadata": {},
   "outputs": [],
   "source": [
    "files_to_mosaic = glob.glob('/Users/olearyd/Git/data/TEAK_Aspect_Tiles/*_aspect.tif')\n",
    "files_to_mosaic"
   ]
  },
  {
   "cell_type": "markdown",
   "id": "turkish-stretch",
   "metadata": {},
   "source": [
    "In order to run the `gdal_merge` function, we need these files as a series of strings. We can get them in the correct format using `join`:"
   ]
  },
  {
   "cell_type": "code",
   "execution_count": null,
   "id": "breeding-firmware",
   "metadata": {},
   "outputs": [],
   "source": [
    "files_string = \" \".join(files_to_mosaic)\n",
    "print(files_string)"
   ]
  },
  {
   "cell_type": "markdown",
   "id": "outdoor-reunion",
   "metadata": {},
   "source": [
    "Now that we have the list of files we want to mosaic, we can run a system command to combine them into one raster."
   ]
  },
  {
   "cell_type": "code",
   "execution_count": null,
   "id": "surprised-warehouse",
   "metadata": {},
   "outputs": [],
   "source": [
    "command = \"gdal_merge.py -o /Users/olearyd/Git/data/TEAK_Aspect_Tiles/TEAK_Aspect_Mosaic.tif -of gtiff \" + files_string\n",
    "print(os.popen(command).read())"
   ]
  },
  {
   "cell_type": "code",
   "execution_count": null,
   "id": "growing-sugar",
   "metadata": {},
   "outputs": [],
   "source": [
    "print(os.popen('ls /Users/olearyd/Git/data/TEAK_Aspect_Tiles/').read())"
   ]
  },
  {
   "cell_type": "markdown",
   "id": "compact-drama",
   "metadata": {},
   "source": [
    "Great! It looks like GDAL merged the files together into the `TEAK_Aspect_Mosaic.tif` file. Worth pointing out here is that `gdal_merge` function has a LOT of options and is extremely powerful and flexible. We suggest that you <a href=\"https://gdal.org/programs/gdal_merge.html\" target=\"_blank\">read the GDAL function documentation here</a> and experiement with your own commands. This may be easier to practice first in the command line, but integrating python scripts and command line functions here (as when using the `os.system()` function) is incredibly useful for processing large datasets.\n",
    "\n",
    "Now we can define and then use the function `raster2array` to read in the mosaiced array. This function converts the geotif file into an array, and also stores relevant metadata (eg. spatial information) into the dicitonary `metadata`. Load or import this function into your cell with `%load raster2array`. Note that this function requires the imported packages at the beginning of this notebook in order to run. "
   ]
  },
  {
   "cell_type": "code",
   "execution_count": null,
   "id": "searching-interaction",
   "metadata": {},
   "outputs": [],
   "source": [
    "def raster2array(geotif_file):\n",
    "    metadata = {}\n",
    "    dataset = gdal.Open(geotif_file)\n",
    "    metadata['array_rows'] = dataset.RasterYSize\n",
    "    metadata['array_cols'] = dataset.RasterXSize\n",
    "    metadata['bands'] = dataset.RasterCount\n",
    "    metadata['driver'] = dataset.GetDriver().LongName\n",
    "    metadata['projection'] = dataset.GetProjection()\n",
    "    metadata['geotransform'] = dataset.GetGeoTransform()\n",
    "    \n",
    "    mapinfo = dataset.GetGeoTransform()\n",
    "    metadata['pixelWidth'] = mapinfo[1]\n",
    "    metadata['pixelHeight'] = mapinfo[5]\n",
    "\n",
    "    xMin = mapinfo[0]\n",
    "    xMax = mapinfo[0] + dataset.RasterXSize/mapinfo[1]\n",
    "    yMin = mapinfo[3] + dataset.RasterYSize/mapinfo[5]\n",
    "    yMax = mapinfo[3]\n",
    "    \n",
    "    metadata['extent'] = (xMin,xMax,yMin,yMax)\n",
    "    \n",
    "    raster = dataset.GetRasterBand(1)\n",
    "    array_shape = raster.ReadAsArray(0,0,metadata['array_cols'],metadata['array_rows']).astype(np.float).shape\n",
    "    metadata['noDataValue'] = raster.GetNoDataValue()\n",
    "    metadata['scaleFactor'] = raster.GetScale()\n",
    "    \n",
    "    array = np.zeros((array_shape[0],array_shape[1],dataset.RasterCount),'uint8') #pre-allocate stackedArray matrix\n",
    "    \n",
    "    if metadata['bands'] == 1:\n",
    "        raster = dataset.GetRasterBand(1)\n",
    "        metadata['noDataValue'] = raster.GetNoDataValue()\n",
    "        metadata['scaleFactor'] = raster.GetScale()\n",
    "              \n",
    "        array = dataset.GetRasterBand(1).ReadAsArray(0,0,metadata['array_cols'],metadata['array_rows']).astype(np.float)\n",
    "        #array[np.where(array==metadata['noDataValue'])]=np.nan\n",
    "        array = array/metadata['scaleFactor']\n",
    "    \n",
    "    elif metadata['bands'] > 1:    \n",
    "        for i in range(1, dataset.RasterCount+1):\n",
    "            band = dataset.GetRasterBand(i).ReadAsArray(0,0,metadata['array_cols'],metadata['array_rows']).astype(np.float)\n",
    "            #band[np.where(band==metadata['noDataValue'])]=np.nan\n",
    "            band = band/metadata['scaleFactor']\n",
    "            array[...,i-1] = band\n",
    "\n",
    "    return array, metadata"
   ]
  },
  {
   "cell_type": "markdown",
   "id": "superior-conditions",
   "metadata": {},
   "source": [
    "We can call this function as follows:"
   ]
  },
  {
   "cell_type": "code",
   "execution_count": null,
   "id": "another-anderson",
   "metadata": {},
   "outputs": [],
   "source": [
    "TEAK_aspect_array, TEAK_aspect_metadata = raster2array('/Users/olearyd/Git/Data/TEAK_Aspect_Tiles/TEAK_Aspect_Mosaic.tif')"
   ]
  },
  {
   "cell_type": "markdown",
   "id": "aware-coaching",
   "metadata": {},
   "source": [
    "Look at the size of the mosaicked tile using `.shape`. Since we created a mosaic of four 1000m x 1000m tiles, we expect the new tile to be 2000m x 2000m"
   ]
  },
  {
   "cell_type": "code",
   "execution_count": null,
   "id": "spoken-jonathan",
   "metadata": {},
   "outputs": [],
   "source": [
    "TEAK_aspect_array.shape"
   ]
  },
  {
   "cell_type": "markdown",
   "id": "demonstrated-screw",
   "metadata": {},
   "source": [
    "Let's take a look at the contents of the metadata dictionary:"
   ]
  },
  {
   "cell_type": "code",
   "execution_count": null,
   "id": "found-herald",
   "metadata": {},
   "outputs": [],
   "source": [
    "#print metadata in alphabetical order\n",
    "for item in sorted(TEAK_aspect_metadata):\n",
    "    print(item + ':', TEAK_aspect_metadata[item])"
   ]
  },
  {
   "cell_type": "markdown",
   "id": "wrong-purchase",
   "metadata": {},
   "source": [
    "Load the function `plot_array` to plot the array:"
   ]
  },
  {
   "cell_type": "code",
   "execution_count": null,
   "id": "corrected-attempt",
   "metadata": {},
   "outputs": [],
   "source": [
    "def plot_array(array,spatial_extent,colorlimit,ax=plt.gca(),title='',cmap_title='',colormap=''):\n",
    "    plot = plt.imshow(array,extent=spatial_extent,clim=colorlimit); \n",
    "    cbar = plt.colorbar(plot,aspect=40); plt.set_cmap(colormap); \n",
    "    cbar.set_label(cmap_title,rotation=90,labelpad=20);\n",
    "    plt.title(title); ax = plt.gca(); \n",
    "    ax.ticklabel_format(useOffset=False, style='plain'); \n",
    "    rotatexlabels = plt.setp(ax.get_xticklabels(),rotation=90); "
   ]
  },
  {
   "cell_type": "markdown",
   "id": "motivated-farmer",
   "metadata": {},
   "source": [
    "Finally, let's take a look at a plot of the tile mosaic:"
   ]
  },
  {
   "cell_type": "code",
   "execution_count": null,
   "id": "becoming-replacement",
   "metadata": {},
   "outputs": [],
   "source": [
    "plot_array(TEAK_aspect_array,\n",
    "           TEAK_aspect_metadata['extent'],\n",
    "           (0,360),\n",
    "           title='TEAK Aspect',\n",
    "           cmap_title='Aspect, degrees',\n",
    "           colormap='jet')"
   ]
  },
  {
   "cell_type": "markdown",
   "id": "respective-worse",
   "metadata": {},
   "source": [
    "### Challenges\n",
    "\n",
    "1. Use the function `raster2array` to read in and plot each tile separately. Confirm that the mosaicked raster looks reasonable. \n",
    "2. Download 9 adjacent tiles of another LiDAR L3 data product of your choice and use gdal_merge to combine them. You can find NEON data on the <a href=\"http://data.neonscience.org/home\" target=\"_blank\">NEON Data Portal</a> or NEON's Citrix FileShare system. "
   ]
  }
 ],
 "metadata": {
  "kernelspec": {
   "display_name": "py37",
   "language": "python",
   "name": "py37"
  },
  "language_info": {
   "codemirror_mode": {
    "name": "ipython",
    "version": 3
   },
   "file_extension": ".py",
   "mimetype": "text/x-python",
   "name": "python",
   "nbconvert_exporter": "python",
   "pygments_lexer": "ipython3",
   "version": "3.7.7"
  }
 },
 "nbformat": 4,
 "nbformat_minor": 5
}
