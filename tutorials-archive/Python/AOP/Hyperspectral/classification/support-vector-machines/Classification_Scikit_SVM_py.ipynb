{
 "cells": [
  {
   "cell_type": "markdown",
   "metadata": {},
   "source": [
    "---\n",
    "syncID: 1497c1da6ed64a7591e56ff1f2fce18d\n",
    "title: \"Classification of Hyperspectral Data with Support Vector Machine (SVM) Using SciKit in Python\"\n",
    "description: \"Learn to classify spectral data using the Support Vector Machine (SVM) method.\" \n",
    "dateCreated: 2017-06-19 \n",
    "authors: Paul Gader\n",
    "contributors: Donal O'Leary\n",
    "estimatedTime: 1 hour\n",
    "packagesLibraries: numpy, gdal, matplotlib, matplotlib.pyplot\n",
    "topics: hyperspectral-remote-sensing, HDF5, remote-sensing\n",
    "languagesTool: python\n",
    "dataProduct: NEON.DP1.30006, NEON.DP3.30006, NEON.DP1.30008\n",
    "code1: Python/remote-sensing/hyperspectral-data/Classification_Scikit_SVM.ipynb\n",
    "tutorialSeries: intro-hsi-py-series\n",
    "urlTitle: classification-scikit-svm-python\n",
    "---"
   ]
  },
  {
   "cell_type": "markdown",
   "metadata": {},
   "source": [
    "In this tutorial, we will learn to classify spectral data using the Support \n",
    "Vector Machine (SVM) method. \n",
    "\n",
    "\n",
    "<div id=\"ds-objectives\" markdown=\"1\">\n",
    "\n",
    "### Objectives\n",
    "After completing this tutorial, you will be able to:\n",
    "\n",
    "* Classify spectral remote sensing data using Support Vector Machine (SVM). \n",
    "\n",
    "### Install Python Packages\n",
    "\n",
    "* **numpy**\n",
    "* **gdal** \n",
    "* **matplotlib** \n",
    "* **matplotlib.pyplot** \n",
    "\n",
    "\n",
    "### Download Data\n",
    "\n",
    " <a href=\"https://ndownloader.figshare.com/files/8730436\">\n",
    "Download the spectral classification teaching data subset</a>\n",
    "\n",
    "<a href=\"https://ndownloader.figshare.com/files/8730436\" class=\"link--button link--arrow\">\n",
    "Download Dataset</a>\n",
    "\n",
    "### Additional Materials\n",
    "\n",
    "This tutorial was prepared in conjunction with a presentation on spectral classification\n",
    "that can be downloaded. \n",
    "\n",
    "<a href=\"https://ndownloader.figshare.com/files/8730613\">\n",
    "Download Dr. Paul Gader's Classification 1 PPT</a>\n",
    "\n",
    "<a href=\"https://ndownloader.figshare.com/files/8731960\">\n",
    "Download Dr. Paul Gader's Classification 2 PPT</a>\n",
    "\n",
    "<a href=\"https://ndownloader.figshare.com/files/8731963\">\n",
    "Download Dr. Paul Gader's Classification 3 PPT</a>\n",
    "\n",
    "</div>"
   ]
  },
  {
   "cell_type": "code",
   "execution_count": null,
   "metadata": {},
   "outputs": [],
   "source": [
    "import numpy as np\n",
    "import matplotlib\n",
    "import matplotlib.pyplot as plt\n",
    "from scipy import linalg\n",
    "from scipy import io"
   ]
  },
  {
   "cell_type": "code",
   "execution_count": null,
   "metadata": {},
   "outputs": [],
   "source": [
    "from sklearn import linear_model as lmd"
   ]
  },
  {
   "cell_type": "markdown",
   "metadata": {},
   "source": [
    "Note that you will need to update these filepaths according to your local machine."
   ]
  },
  {
   "cell_type": "code",
   "execution_count": null,
   "metadata": {},
   "outputs": [],
   "source": [
    "InFile1          = '/Users/olearyd/Git/data/RSDI2017-Data-SpecClass/LinSepC1.mat'\n",
    "InFile2          = '/Users/olearyd/Git/data/RSDI2017-Data-SpecClass/LinSepC2.mat'\n",
    "C1Dict           = io.loadmat(InFile1)\n",
    "C2Dict           = io.loadmat(InFile2)\n",
    "C1               = C1Dict['LinSepC1']\n",
    "C2               = C2Dict['LinSepC2']\n",
    "NSampsClass    = 200\n",
    "NSamps         = 2*NSampsClass"
   ]
  },
  {
   "cell_type": "code",
   "execution_count": null,
   "metadata": {},
   "outputs": [],
   "source": [
    "### Set Target Outputs ###\n",
    "TargetOutputs                     =  np.ones((NSamps,1))\n",
    "TargetOutputs[NSampsClass:NSamps] = -TargetOutputs[NSampsClass:NSamps]"
   ]
  },
  {
   "cell_type": "code",
   "execution_count": null,
   "metadata": {},
   "outputs": [],
   "source": [
    "AllSamps     = np.concatenate((C1,C2),axis=0)"
   ]
  },
  {
   "cell_type": "code",
   "execution_count": null,
   "metadata": {},
   "outputs": [],
   "source": [
    "AllSamps.shape"
   ]
  },
  {
   "cell_type": "code",
   "execution_count": null,
   "metadata": {},
   "outputs": [],
   "source": [
    "#import sklearn\n",
    "#sklearn.__version__"
   ]
  },
  {
   "cell_type": "code",
   "execution_count": null,
   "metadata": {},
   "outputs": [],
   "source": [
    "LinMod = lmd.LinearRegression.fit?"
   ]
  },
  {
   "cell_type": "code",
   "execution_count": null,
   "metadata": {},
   "outputs": [],
   "source": [
    "LinMod = lmd.LinearRegression.fit"
   ]
  },
  {
   "cell_type": "code",
   "execution_count": null,
   "metadata": {},
   "outputs": [],
   "source": [
    "LinMod = lmd.LinearRegression.fit"
   ]
  },
  {
   "cell_type": "code",
   "execution_count": null,
   "metadata": {},
   "outputs": [],
   "source": [
    "LinMod = lmd.LinearRegression.fit"
   ]
  },
  {
   "cell_type": "code",
   "execution_count": null,
   "metadata": {},
   "outputs": [],
   "source": [
    "LinMod = lmd.LinearRegression.fit"
   ]
  },
  {
   "cell_type": "code",
   "execution_count": null,
   "metadata": {},
   "outputs": [],
   "source": [
    "M = lmd.LinearRegression()"
   ]
  },
  {
   "cell_type": "code",
   "execution_count": null,
   "metadata": {},
   "outputs": [],
   "source": [
    "print(M)"
   ]
  },
  {
   "cell_type": "code",
   "execution_count": null,
   "metadata": {},
   "outputs": [],
   "source": [
    "LinMod = lmd.LinearRegression.fit(M, AllSamps, TargetOutputs, sample_weight=None)"
   ]
  },
  {
   "cell_type": "code",
   "execution_count": null,
   "metadata": {},
   "outputs": [],
   "source": [
    "R = lmd.LinearRegression.score(LinMod, AllSamps, TargetOutputs, sample_weight=None)"
   ]
  },
  {
   "cell_type": "code",
   "execution_count": null,
   "metadata": {},
   "outputs": [],
   "source": [
    "print(R)"
   ]
  },
  {
   "cell_type": "code",
   "execution_count": null,
   "metadata": {},
   "outputs": [],
   "source": [
    "LinMod"
   ]
  },
  {
   "cell_type": "code",
   "execution_count": null,
   "metadata": {},
   "outputs": [],
   "source": [
    "w = LinMod.coef_\n",
    "w"
   ]
  },
  {
   "cell_type": "code",
   "execution_count": null,
   "metadata": {},
   "outputs": [],
   "source": [
    "w0 = LinMod.intercept_\n",
    "w0"
   ]
  },
  {
   "cell_type": "code",
   "execution_count": null,
   "metadata": {},
   "outputs": [],
   "source": [
    "### Question:  How would we compute the outputs of the regression model?"
   ]
  },
  {
   "cell_type": "markdown",
   "metadata": {},
   "source": [
    "## Kernels\n",
    "\n",
    "Now well use support vector models (SVM) for classification. "
   ]
  },
  {
   "cell_type": "code",
   "execution_count": null,
   "metadata": {},
   "outputs": [],
   "source": [
    "from sklearn.svm import SVC"
   ]
  },
  {
   "cell_type": "code",
   "execution_count": null,
   "metadata": {},
   "outputs": [],
   "source": [
    "### SVC wants a 1d array, not a column vector\n",
    "Targets = np.ravel(TargetOutputs)"
   ]
  },
  {
   "cell_type": "code",
   "execution_count": null,
   "metadata": {},
   "outputs": [],
   "source": [
    "InitSVM = SVC()\n",
    "InitSVM"
   ]
  },
  {
   "cell_type": "code",
   "execution_count": null,
   "metadata": {},
   "outputs": [],
   "source": [
    "TrainedSVM = InitSVM.fit(AllSamps, Targets)"
   ]
  },
  {
   "cell_type": "code",
   "execution_count": null,
   "metadata": {},
   "outputs": [],
   "source": [
    "y = TrainedSVM.predict(AllSamps)"
   ]
  },
  {
   "cell_type": "code",
   "execution_count": null,
   "metadata": {},
   "outputs": [],
   "source": [
    "plt.figure(1)\n",
    "plt.plot(y)\n",
    "plt.show()"
   ]
  },
  {
   "cell_type": "code",
   "execution_count": null,
   "metadata": {},
   "outputs": [],
   "source": [
    "d = TrainedSVM.decision_function(AllSamps)"
   ]
  },
  {
   "cell_type": "code",
   "execution_count": null,
   "metadata": {},
   "outputs": [],
   "source": [
    "plt.figure(1)\n",
    "plt.plot(d)\n",
    "plt.show()"
   ]
  },
  {
   "cell_type": "markdown",
   "metadata": {},
   "source": [
    "## Include Outliers\n",
    "\n",
    "\n",
    "We can also try it with outliers.\n",
    "\n",
    "Let's start by looking at some spectra.\n"
   ]
  },
  {
   "cell_type": "code",
   "execution_count": null,
   "metadata": {},
   "outputs": [],
   "source": [
    "### Look at some Pine and Oak spectra from\n",
    "### NEON Site D03 Ordway-Swisher Biological Station\n",
    "### at UF\n",
    "### Pinus palustris\n",
    "### Quercus virginiana\n",
    "InFile1 = '/Users/olearyd/Git/data/RSDI2017-Data-SpecClass/Pines.mat'\n",
    "InFile2 = '/Users/olearyd/Git/data/RSDI2017-Data-SpecClass/Oaks.mat'\n",
    "C1Dict  = io.loadmat(InFile1)\n",
    "C2Dict  = io.loadmat(InFile2)\n",
    "Pines   = C1Dict['Pines']\n",
    "Oaks    = C2Dict['Oaks']"
   ]
  },
  {
   "cell_type": "code",
   "execution_count": null,
   "metadata": {},
   "outputs": [],
   "source": [
    "WvFile  = '/Users/olearyd/Git/data/RSDI2017-Data-SpecClass/NEONWvsNBB.mat'\n",
    "WvDict  = io.loadmat(WvFile)\n",
    "Wv      = WvDict['NEONWvsNBB']"
   ]
  },
  {
   "cell_type": "code",
   "execution_count": null,
   "metadata": {},
   "outputs": [],
   "source": [
    "Pines.shape"
   ]
  },
  {
   "cell_type": "code",
   "execution_count": null,
   "metadata": {},
   "outputs": [],
   "source": [
    "Oaks.shape"
   ]
  },
  {
   "cell_type": "code",
   "execution_count": null,
   "metadata": {},
   "outputs": [],
   "source": [
    "NBands=Wv.shape[0]\n",
    "print(NBands)"
   ]
  },
  {
   "cell_type": "markdown",
   "metadata": {},
   "source": [
    "Notice that these training sets are unbalanced."
   ]
  },
  {
   "cell_type": "code",
   "execution_count": null,
   "metadata": {},
   "outputs": [],
   "source": [
    "NTrainSampsClass = 600\n",
    "NTestSampsClass  = 200\n",
    "Targets          = np.ones((1200,1))\n",
    "Targets[range(600)] = -Targets[range(600)]\n",
    "Targets             = np.ravel(Targets)\n",
    "print(Targets.shape)"
   ]
  },
  {
   "cell_type": "code",
   "execution_count": null,
   "metadata": {},
   "outputs": [],
   "source": [
    "plt.figure(111)\n",
    "plt.plot(Targets)\n",
    "plt.show()"
   ]
  },
  {
   "cell_type": "code",
   "execution_count": null,
   "metadata": {},
   "outputs": [],
   "source": [
    "TrainPines = Pines[0:600,:]\n",
    "TrainOaks  = Oaks[0:600,:]\n",
    "#TrainSet   = np.concatenate?"
   ]
  },
  {
   "cell_type": "code",
   "execution_count": null,
   "metadata": {},
   "outputs": [],
   "source": [
    "TrainSet   = np.concatenate((TrainPines, TrainOaks), axis=0)\n",
    "print(TrainSet.shape)"
   ]
  },
  {
   "cell_type": "code",
   "execution_count": null,
   "metadata": {},
   "outputs": [],
   "source": [
    "plt.figure(3)\n",
    "### Plot Pine Training Spectra ###\n",
    "plt.subplot(121)\n",
    "plt.plot(Wv, TrainPines.T)\n",
    "plt.ylim((0.0,0.8))\n",
    "plt.xlim((Wv[1], Wv[NBands-1]))\n",
    "### Plot Oak Training Spectra ###\n",
    "plt.subplot(122)\n",
    "plt.plot(Wv, TrainOaks.T)\n",
    "plt.ylim((0.0,0.8))\n",
    "plt.xlim((Wv[1], Wv[NBands-1]))\n",
    "plt.show()"
   ]
  },
  {
   "cell_type": "code",
   "execution_count": null,
   "metadata": {},
   "outputs": [],
   "source": [
    "InitSVM= SVC()"
   ]
  },
  {
   "cell_type": "code",
   "execution_count": null,
   "metadata": {},
   "outputs": [],
   "source": [
    "TrainedSVM=InitSVM.fit(TrainSet, Targets)"
   ]
  },
  {
   "cell_type": "code",
   "execution_count": null,
   "metadata": {},
   "outputs": [],
   "source": [
    "d = TrainedSVM.decision_function(TrainSet)\n",
    "print(d)"
   ]
  },
  {
   "cell_type": "code",
   "execution_count": null,
   "metadata": {},
   "outputs": [],
   "source": [
    "plt.figure(4)\n",
    "plt.plot(d)\n",
    "plt.show()"
   ]
  },
  {
   "cell_type": "markdown",
   "metadata": {},
   "source": [
    "Does this seem to be too good to be true?"
   ]
  },
  {
   "cell_type": "code",
   "execution_count": null,
   "metadata": {},
   "outputs": [],
   "source": [
    "TestPines = Pines[600:800,:]\n",
    "TestOaks  = Oaks[600:800,:]"
   ]
  },
  {
   "cell_type": "code",
   "execution_count": null,
   "metadata": {},
   "outputs": [],
   "source": [
    "TestSet = np.concatenate((TestPines, TestOaks), axis=0)\n",
    "print(TestSet.shape)"
   ]
  },
  {
   "cell_type": "code",
   "execution_count": null,
   "metadata": {},
   "outputs": [],
   "source": [
    "dtest = TrainedSVM.decision_function(TestSet)"
   ]
  },
  {
   "cell_type": "code",
   "execution_count": null,
   "metadata": {},
   "outputs": [],
   "source": [
    "plt.figure(5)\n",
    "plt.plot(dtest)\n",
    "plt.show()"
   ]
  },
  {
   "cell_type": "markdown",
   "metadata": {},
   "source": [
    "Yeah, too good to be true...What can we do?\n",
    "\n",
    "## Error Analysis\n",
    "\n",
    "Error analysis can be used to identify characteristics of errors. \n",
    "\n",
    "You could try different Magic Numbers using Cross Validation, etc.  Stay tuned\n",
    "for a tutorial on this topic. "
   ]
  }
 ],
 "metadata": {
  "kernelspec": {
   "display_name": "Python 3",
   "language": "python",
   "name": "python3"
  },
  "language_info": {
   "codemirror_mode": {
    "name": "ipython",
    "version": 3
   },
   "file_extension": ".py",
   "mimetype": "text/x-python",
   "name": "python",
   "nbconvert_exporter": "python",
   "pygments_lexer": "ipython3",
   "version": "3.7.7"
  }
 },
 "nbformat": 4,
 "nbformat_minor": 2
}
