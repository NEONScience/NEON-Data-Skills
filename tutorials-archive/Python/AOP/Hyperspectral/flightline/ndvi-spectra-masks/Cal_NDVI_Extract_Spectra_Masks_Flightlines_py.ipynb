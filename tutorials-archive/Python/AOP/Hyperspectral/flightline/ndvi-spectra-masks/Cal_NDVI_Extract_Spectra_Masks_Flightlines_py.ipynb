{
 "cells": [
  {
   "cell_type": "code",
   "execution_count": null,
   "metadata": {},
   "outputs": [],
   "source": [
    "# Calculate NDVI\n",
    "\n",
    "The Normalized Difference Vegetation Index (NDVI) is a standard band-ratio calculation frequently used to analyze ecological remote sensing data. NDVI indicates whether the remotely-sensed target contains live green vegetation. When sunlight strikes objects, certain wavelengths of this spectrum are absorbed and other wavelengths are reflected. The pigment chlorophyll in plant leaves strongly absorbs visible light (with wavelengths in the range of 400-700 nm) for use in photosynthesis. The cell structure of the leaves, however, strongly reflects near-infrared light (wavelengths ranging from 700 - 1100 nm). Plants reflect up to 60% more light in the near infrared portion of the spectrum than they do in the green portion of the spectrum. By comparing the ratio of Near Infrared (NIR) to Visible (VIS) bands in hyperspectral data, we can obtain a quick look at vegetation in the region of interest. NDVI is a normalized measure of the difference between reflectance at near infrared and visible bands of the electromagnetic spectrum. \n",
    "\n",
    "The formula for NDVI is: $$NDVI = \\frac{(NIR - VIS)}{(NIR+ VIS)}$$\n",
    "\n",
    "<p>\n",
    "<img src=\"files/ndvi_tree.png\" style=\"width: 250px;\"/>\n",
    "<center><font size=\"2\">Figure: (Wu et al. 2014)</font></center>\n",
    "<center><font size=\"2\">https://www.researchgate.net/figure/266947355_fig1_Figure-1-Green-vegetation-left-absorbs-visible-light-and-reflects-near-infrared-light</font></center>\n",
    "</p>\n",
    "\n",
    "Start by setting plot preferences and loading the neon_aop_refl_hdf5_functions module:"
   ]
  },
  {
   "cell_type": "code",
   "execution_count": null,
   "metadata": {},
   "outputs": [],
   "source": [
    "%matplotlib inline\n",
    "import warnings\n",
    "warnings.filterwarnings('ignore')"
   ]
  },
  {
   "cell_type": "code",
   "execution_count": null,
   "metadata": {},
   "outputs": [],
   "source": [
    "%load neon_aop_refl_hdf5_functions.py"
   ]
  },
  {
   "cell_type": "markdown",
   "metadata": {},
   "source": [
    "## Read in SERC Flightline & Subset"
   ]
  },
  {
   "cell_type": "code",
   "execution_count": null,
   "metadata": {},
   "outputs": [],
   "source": [
    "#Define inputs\n",
    "filename = '../data/SERC/hyperspectral/NEON_D02_SERC_DP1_20160807_160559_reflectance.h5'\n",
    "sercRefl, sercRefl_md, wavelengths = h5refl2array(filename)\n",
    "\n",
    "clipExtDict = {}\n",
    "clipExtDict['xMin'] = 367400.\n",
    "clipExtDict['xMax'] = 368100.\n",
    "clipExtDict['yMin'] = 4305750.\n",
    "clipExtDict['yMax'] = 4306350.\n",
    "\n",
    "clipExtent = (clipExtDict['xMin'],clipExtDict['xMax'],clipExtDict['yMin'],clipExtDict['yMax'])\n",
    "clipIndex = calc_clip_index(clipExtDict,sercRefl_md['ext_dict'])\n",
    "sercReflSubset = subset_clean_refl(sercRefl,sercRefl_md,clipIndex)"
   ]
  },
  {
   "cell_type": "markdown",
   "metadata": {},
   "source": [
    "## Stack NIR and VIS bands\n",
    "\n",
    "Now that we have uploaded all the required functions, we can calculate NDVI and plot it. \n",
    "We will compute NDVI using bands 58 and 90. These correspond to wavelength ranges of:\n",
    "$$band 58: \\lambda_{VIS} = 666.6-671.6 nm$$ $$band 90: \\lambda_{NIR} = 826.8-831.9 nm$$."
   ]
  },
  {
   "cell_type": "code",
   "execution_count": null,
   "metadata": {},
   "outputs": [],
   "source": [
    "#Select bands to be used in the NDVI calculation\n",
    "ndvi_bands = (58,90) #NIR and VIS (Red) bands\n",
    "\n",
    "#Check the center wavelengths that these bands represent\n",
    "band_width = wavelengths.value[1]-wavelengths.value[0]\n",
    "\n",
    "print('band 58 wavelength range: ' + str(round(wavelengths.value[57]-band_width/2,2)) \n",
    "      + '-' + str(round(wavelengths.value[57]+band_width/2,2)) + ' nm')\n",
    "print('band 90 wavelength range: ' + str(round(wavelengths.value[89]-band_width/2,2)) \n",
    "      + '-' + str(round(wavelengths.value[89]+band_width/2,2)) + ' nm')\n",
    "\n",
    "#Use the stack_subset_bands function to create a stack of the subsetted red and NIR bands needed to calculate NDVI\n",
    "\n",
    "ndvi_stack = stack_subset_bands(sercRefl,sercRefl_md,ndvi_bands,clipIndex)"
   ]
  },
  {
   "cell_type": "markdown",
   "metadata": {},
   "source": [
    "# Calculate NDVI & Plot"
   ]
  },
  {
   "cell_type": "code",
   "execution_count": null,
   "metadata": {
    "scrolled": false
   },
   "outputs": [],
   "source": [
    "vis = ndvi_stack[:,:,0].astype(float)\n",
    "nir = ndvi_stack[:,:,1].astype(float)\n",
    "\n",
    "ndvi = np.divide((nir-vis),(nir+vis))\n",
    "\n",
    "plot_band_array(ndvi,clipExtent,(0,np.max(ndvi)),\\\n",
    "                title='SERC Subset NDVI \\n (VIS = Band 58, NIR = Band 90)',cmap_title='NDVI',colormap='seismic')"
   ]
  },
  {
   "cell_type": "markdown",
   "metadata": {},
   "source": [
    "# Extract Spectra Using Masks\n",
    "\n",
    "In the second part of this tutorial, we will learn how to extract the average spectra of pixels whose NDVI exceeds a specified threshold value. There are several ways to do this using `numpy`, including the mask functions `numpy.ma`, as well as `numpy.where` and finally using `boolean` indexing. \n",
    "\n",
    "To start, lets copy the NDVI calculated above and use booleans to create an array only containing NDVI > 0.6."
   ]
  },
  {
   "cell_type": "code",
   "execution_count": null,
   "metadata": {},
   "outputs": [],
   "source": [
    "import copy\n",
    "ndvi_gtpt6 = copy.copy(ndvi)\n",
    "ndvi_gtpt6[ndvi<0.6] = np.nan  #set all pixels with NDVI < 0.6 to nan, keeping only values > 0.6\n",
    "print('Mean NDVI > 0.6:',round(np.nanmean(ndvi_gtpt6),2))\n",
    "\n",
    "plot_band_array(ndvi_gtpt6,clipExtent,(0.6,1),title='SERC Subset NDVI > 0.6 \\n (VIS = Band 58, NIR = Band 90)',\n",
    "                cmap_title='NDVI',colormap='RdYlGn')"
   ]
  },
  {
   "cell_type": "markdown",
   "metadata": {},
   "source": [
    "# Function to calculate the mean spectra for reflectance values thresholed by NDVI using `numpy.ma`:"
   ]
  },
  {
   "cell_type": "code",
   "execution_count": null,
   "metadata": {},
   "outputs": [],
   "source": [
    "import numpy.ma as ma\n",
    "def calculate_mean_masked_spectra(reflArray,ndvi,ndvi_threshold,ineq='>'):\n",
    "    \n",
    "    mean_masked_refl = np.zeros(reflArray.shape[2])\n",
    "    \n",
    "    for i in np.arange(reflArray.shape[2]):\n",
    "        refl_band = reflArray[:,:,i]\n",
    "        \n",
    "        if ineq == '>':\n",
    "            ndvi_mask = ma.masked_where((ndvi<=ndvi_threshold) | (np.isnan(ndvi)),ndvi)\n",
    "        \n",
    "        elif ineq == '<':\n",
    "            ndvi_mask = ma.masked_where((ndvi>=ndvi_threshold) | (np.isnan(ndvi)),ndvi)\n",
    "                \n",
    "        else:\n",
    "            print('ERROR: Invalid inequality. Enter < or >')\n",
    "            \n",
    "        masked_refl = ma.MaskedArray(refl_band,mask=ndvi_mask.mask)\n",
    "        mean_masked_refl[i] = ma.mean(masked_refl)\n",
    "            \n",
    "    return mean_masked_refl"
   ]
  },
  {
   "cell_type": "markdown",
   "metadata": {},
   "source": [
    "We can test out this function for various NDVI thresholds. We'll test two together, and you can try out different values on your own. Let's look at the average spectra for healthy vegetation (NDVI > 0.6), and for a lower threshold (NDVI < 0.3)."
   ]
  },
  {
   "cell_type": "code",
   "execution_count": null,
   "metadata": {},
   "outputs": [],
   "source": [
    "sercSpectra_ndvi_gtpt6 = calculate_mean_masked_spectra(sercReflSubset,ndvi,0.6)\n",
    "sercSpectra_ndvi_ltpt3 = calculate_mean_masked_spectra(sercReflSubset,ndvi,0.3,ineq='<') "
   ]
  },
  {
   "cell_type": "code",
   "execution_count": null,
   "metadata": {},
   "outputs": [],
   "source": [
    "import pandas\n",
    "\n",
    "#Remove water vapor band windows & last 10 bands \n",
    "w = copy.copy(wavelengths.value)\n",
    "w[((w >= 1340) & (w <= 1445)) | ((w >= 1790) & (w <= 1955))]=np.nan\n",
    "w[-10:]=np.nan;  # the last 10 bands sometimes have noise - best to eliminate\n",
    "\n",
    "nan_ind = np.argwhere(np.isnan(w))\n",
    "\n",
    "sercSpectra_ndvi_gtpt6[nan_ind] = np.nan\n",
    "sercSpectra_ndvi_ltpt3[nan_ind] = np.nan\n",
    "\n",
    "#Create dataframe with masked NDVI mean spectra\n",
    "sercSpectra_ndvi_df = pandas.DataFrame()\n",
    "sercSpectra_ndvi_df['wavelength'] = w\n",
    "sercSpectra_ndvi_df['mean_refl_ndvi_gtpt6'] = sercSpectra_ndvi_gtpt6\n",
    "sercSpectra_ndvi_df['mean_refl_ndvi_ltpt3'] = sercSpectra_ndvi_ltpt3"
   ]
  },
  {
   "cell_type": "code",
   "execution_count": null,
   "metadata": {},
   "outputs": [],
   "source": [
    "ax = plt.gca();\n",
    "sercSpectra_ndvi_df.plot(ax=ax,x='wavelength',y='mean_refl_ndvi_gtpt6',color='green',\n",
    "                         edgecolor='none',kind='scatter',label='NDVI > 0.6',legend=True);\n",
    "sercSpectra_ndvi_df.plot(ax=ax,x='wavelength',y='mean_refl_ndvi_ltpt3',color='red',\n",
    "                         edgecolor='none',kind='scatter',label='NDVI < 0.3',legend=True);\n",
    "ax.set_title('Mean Spectra of Reflectance Masked by NDVI')\n",
    "ax.set_xlim([np.nanmin(w),np.nanmax(w)]); ax.set_ylim(0,0.45)\n",
    "ax.set_xlabel(\"Wavelength, nm\"); ax.set_ylabel(\"Reflectance\")\n",
    "ax.grid('on'); "
   ]
  },
  {
   "cell_type": "markdown",
   "metadata": {},
   "source": [
    "## References\n",
    "\n",
    "Wu C-D, McNeely E, Cedeño-Laurent JG, Pan W-C, Adamkiewicz G, Dominici F, et al. (2014) Linking Student Performance in Massachusetts Elementary Schools with the “Greenness” of School Surroundings Using Remote Sensing. PLoS ONE 9(10): e108548. doi:10.1371/journal.pone.0108548"
   ]
  }
 ],
 "metadata": {
  "kernelspec": {
   "display_name": "py37",
   "language": "python",
   "name": "py37"
  },
  "language_info": {
   "codemirror_mode": {
    "name": "ipython",
    "version": 3
   },
   "file_extension": ".py",
   "mimetype": "text/x-python",
   "name": "python",
   "nbconvert_exporter": "python",
   "pygments_lexer": "ipython3",
   "version": "3.7.7"
  }
 },
 "nbformat": 4,
 "nbformat_minor": 1
}
