{
 "cells": [
  {
   "cell_type": "markdown",
   "id": "819d6492",
   "metadata": {},
   "source": [
    "# AOP GEE Time Series Using the Python API"
   ]
  },
  {
   "cell_type": "code",
   "execution_count": 1,
   "id": "dadd2c67",
   "metadata": {},
   "outputs": [],
   "source": [
    "import ee, geemap"
   ]
  },
  {
   "cell_type": "code",
   "execution_count": 2,
   "id": "373e4793",
   "metadata": {},
   "outputs": [
    {
     "data": {
      "text/html": [
       "<p>To authorize access needed by Earth Engine, open the following\n",
       "        URL in a web browser and follow the instructions:</p>\n",
       "        <p><a href=https://code.earthengine.google.com/client-auth?scopes=https%3A//www.googleapis.com/auth/earthengine%20https%3A//www.googleapis.com/auth/devstorage.full_control&request_id=mBBTWVNmb2MWn_wsIXHa9tA9zQN9BsaD0p8-H6I-2qY&tc=LeZ_h2vLoAki3t4shjJyAql_vMyvuEaCMXUksHhUvyE&cc=2DNvFaUcJtgPH-To-4tGthy-eOATS4ctID392EUipwc>https://code.earthengine.google.com/client-auth?scopes=https%3A//www.googleapis.com/auth/earthengine%20https%3A//www.googleapis.com/auth/devstorage.full_control&request_id=mBBTWVNmb2MWn_wsIXHa9tA9zQN9BsaD0p8-H6I-2qY&tc=LeZ_h2vLoAki3t4shjJyAql_vMyvuEaCMXUksHhUvyE&cc=2DNvFaUcJtgPH-To-4tGthy-eOATS4ctID392EUipwc</a></p>\n",
       "        <p>The authorization workflow will generate a code, which you should paste in the box below.</p>\n",
       "        "
      ],
      "text/plain": [
       "<IPython.core.display.HTML object>"
      ]
     },
     "metadata": {},
     "output_type": "display_data"
    },
    {
     "name": "stdout",
     "output_type": "stream",
     "text": [
      "Enter verification code: 4/1AbUR2VN4ZGfN-bLQ0rl0WGp7x3CXT_y4M7WmGvXcuMBWr5MAfbqXVyLfjro\n",
      "\n",
      "Successfully saved authorization token.\n"
     ]
    }
   ],
   "source": [
    "ee.Authenticate()"
   ]
  },
  {
   "cell_type": "code",
   "execution_count": 3,
   "id": "d6439550",
   "metadata": {},
   "outputs": [],
   "source": [
    "ee.Initialize()"
   ]
  },
  {
   "cell_type": "code",
   "execution_count": 16,
   "id": "8b50a654",
   "metadata": {},
   "outputs": [
    {
     "data": {
      "application/vnd.jupyter.widget-view+json": {
       "model_id": "9db7aacf31644c4caef63a3f8942a672",
       "version_major": 2,
       "version_minor": 0
      },
      "text/plain": [
       "Map(center=[20, 0], controls=(WidgetControl(options=['position', 'transparent_bg'], widget=HBox(children=(Togg…"
      ]
     },
     "metadata": {},
     "output_type": "display_data"
    }
   ],
   "source": [
    "Map = geemap.Map()\n",
    "Map"
   ]
  },
  {
   "cell_type": "markdown",
   "id": "ddf64811",
   "metadata": {},
   "source": [
    "First we need to set the NEON site and the years of data we want to pull in. \n",
    "\n",
    "For this example, we will pull in the NEON Great Smokey Mountain Site (GRSM) which currently has three years of data added to Earth Engine: 2016, 2017, and 2021. To see which years of data are available at GRSM, run the code chunk below."
   ]
  },
  {
   "cell_type": "code",
   "execution_count": 43,
   "id": "0fad1505",
   "metadata": {},
   "outputs": [
    {
     "name": "stdout",
     "output_type": "stream",
     "text": [
      "NEON Images in the SDR Collection ['2016_GRSM_2_SDR', '2016_HARV_3_SDR', '2017_GRSM_3_SDR', '2017_SERC_3_SDR', '2019_HARV_6_SDR', '2019_HEAL_3_SDR', '2019_JORN_3_SDR', '2019_SOAP_4_SDR', '2020_CPER_7_SDR', '2021_ABBY_4_SDR', '2021_GRSM_5_SDR', '2021_HEAL_4_SDR', '2021_JORN_4_SDR', '2021_SJER_5_SDR', '2021_SOAP_5_SDR']\n",
      "\n",
      "Data available in GEE for site GRSM :\n",
      "[(2016, 'GRSM'), (2017, 'GRSM'), (2021, 'GRSM')]\n"
     ]
    }
   ],
   "source": [
    "# List all available sites in the NEON SDR image collection:\n",
    "sdrCol = ee.ImageCollection('projects/neon-prod-earthengine/assets/DP3-30006-001')\n",
    "\n",
    "print('NEON Images in the SDR Collection',sdrCol.aggregate_array('system:index').getInfo())\n",
    "\n",
    "flightYears = sdrCol.aggregate_array('FLIGHT_YEAR').getInfo()\n",
    "sites = sdrCol.aggregate_array('NEON_SITE').getInfo()\n",
    "\n",
    "# print('NEON SDR years and sites:', siteYears)\n",
    "print('\\nData available in GEE for site',site,':')\n",
    "print([year_site for year_site in zip(flightYears,sites) if site in year_site])"
   ]
  },
  {
   "cell_type": "code",
   "execution_count": 11,
   "id": "ae18df9e",
   "metadata": {},
   "outputs": [
    {
     "name": "stdout",
     "output_type": "stream",
     "text": [
      "[2016, 2017, 2021]\n"
     ]
    }
   ],
   "source": [
    "years = ee.List([2016, 2017, 2021])\n",
    "print(years.getInfo())\n",
    "\n",
    "site = 'GRSM'"
   ]
  },
  {
   "cell_type": "markdown",
   "id": "9925f060",
   "metadata": {},
   "source": [
    "If you'd like to read in every year, you can use `ee.List.sequence(start_year, end_year)`, but since AOP data is not collected at every site every year, and all of the data has not yet been added, we recommend you check the data availability and hten use `ee.List` to include the data that are available."
   ]
  },
  {
   "cell_type": "code",
   "execution_count": 12,
   "id": "7f2e3d22",
   "metadata": {},
   "outputs": [
    {
     "name": "stdout",
     "output_type": "stream",
     "text": [
      "Adding GRSM 2016 SDR\n",
      "Adding GRSM 2017 SDR\n",
      "Adding GRSM 2021 SDR\n"
     ]
    }
   ],
   "source": [
    "# function to read the AOP SDR image collection, filter on a provided site (4-letter code,\n",
    "# see https://www.neonscience.org/field-sites/explore-field-sites for all NEON sites)\n",
    "# selects the data bands and masks to include only the clear-weather data (<10% cloud cover)\n",
    "def yearly_sdr_image(year):\n",
    "\n",
    "    start_date = ee.Date.fromYMD(year, 1, 1) \n",
    "    end_date = start_date.advance(1, \"year\")\n",
    "    \n",
    "    aop_sdr = ee.ImageCollection('projects/neon-prod-earthengine/assets/DP3-30006-001') \\\n",
    "        .filterDate(start_date, end_date) \\\n",
    "        .filterMetadata('NEON_SITE', 'equals', site).mosaic()\n",
    "    \n",
    "    # Read in only the data bands, all of which start with \"B\", eg. \"B001\"\n",
    "    sdr_data = aop_sdr.select('B.*')\n",
    "    \n",
    "    # Extract Weather Quality Indicator layer\n",
    "    weather_quality_band = aop_sdr.select(['Weather_Quality_Indicator']);\n",
    "\n",
    "    # Select only the clear weather data (<10% cloud cover)\n",
    "    clear_weather = weather_quality_band.eq(1); # 1 = 0-10% cloud cover\n",
    "    \n",
    "    # Mask out all cloudy pixels from the SDR data cube\n",
    "    sdr_clear_weather = sdr_data.updateMask(clear_weather);\n",
    "\n",
    "    return sdr_clear_weather\n",
    "\n",
    "images = years.map(yearly_sdr_image)\n",
    "\n",
    "# Set the visualization parameters so contrast is maximized, and display RGB bands (true-color image)\n",
    "visParams = {'min':0,'max':1200,'gamma':0.9,'bands':['B053','B035','B019']};\n",
    "\n",
    "for index in range(0, len(years.getInfo())):\n",
    "    image = ee.Image(images.get(index))\n",
    "    layer_name = site + \" \" + str(years.getInfo()[index]) + \" SDR\" \n",
    "    print('Adding ' + layer_name)\n",
    "    Map.addLayer(image, visParams, layer_name)\n",
    "    \n",
    "# Center the map on the site\n",
    "grsmCenter = ee.Geometry.Point([-83.5, 35.7]);\n",
    "Map.centerObject(grsmCenter, 11);"
   ]
  },
  {
   "cell_type": "code",
   "execution_count": 13,
   "id": "4f2bed70",
   "metadata": {},
   "outputs": [
    {
     "name": "stdout",
     "output_type": "stream",
     "text": [
      "Adding GRSM 2016 Cloud Cover\n",
      "Adding GRSM 2017 Cloud Cover\n",
      "Adding GRSM 2021 Cloud Cover\n"
     ]
    }
   ],
   "source": [
    "# function to read the AOP SDR image collection, filter on a provided site (4-letter code,\n",
    "# see https://www.neonscience.org/field-sites/explore-field-sites for all NEON sites)\n",
    "# selects the data bands and masks to include only the clear-weather data (<10% cloud cover)\n",
    "def yearly_weather_band(year):\n",
    "\n",
    "    start_date = ee.Date.fromYMD(year, 1, 1) \n",
    "    end_date = start_date.advance(1, \"year\")\n",
    "    \n",
    "#     print('filtering image collection by date and site')\n",
    "    aop_sdr = ee.ImageCollection('projects/neon-prod-earthengine/assets/DP3-30006-001') \\\n",
    "        .filterDate(start_date, end_date) \\\n",
    "        .filterMetadata('NEON_SITE', 'equals', site).mosaic()\n",
    "    \n",
    "    # Extract Weather Quality Indicator band\n",
    "    weather_quality_band = aop_sdr.select(['Weather_Quality_Indicator']);\n",
    "\n",
    "    return weather_quality_band\n",
    "\n",
    "weather_bands = years.map(yearly_weather_band)\n",
    "\n",
    "# Define a palette for the weather - to match NEON AOP's weather color conventions (green-yellow-red)\n",
    "gyrPalette = ['00ff00', # green (<10% cloud cover)\n",
    "              'ffff00', # yellow (10-50% cloud cover)\n",
    "              'ff0000' # red (>50% cloud cover)\n",
    "             ];\n",
    "\n",
    "# parameters to display the weather bands (cloud conditions) with the green-yellow-red palette\n",
    "weather_visParams = {'min': 1, 'max': 3, 'palette': gyrPalette, 'opacity': 0.3};\n",
    "\n",
    "# loop through the layers and add them to the Map\n",
    "for index in range(0, len(years.getInfo())):\n",
    "    weather_band = ee.Image(weather_bands.get(index))\n",
    "    layer_name = site + \" \" + str(years.getInfo()[index]) + \" Cloud Cover\" \n",
    "    print('Adding ' + layer_name)\n",
    "    Map.addLayer(weather_band, weather_visParams, layer_name, 0) # 0 means the layers will not be selected \"on\" by default\n",
    "    \n",
    "# Center the map on the site\n",
    "# grsmCenter = ee.Geometry.Point([-83.5, 35.7]);\n",
    "# Map.centerObject(grsmCenter, 11);"
   ]
  },
  {
   "cell_type": "markdown",
   "id": "2aa21e4e",
   "metadata": {},
   "source": [
    "Now let's add the full image collection (all years) at GRSM as a Map Layer. This is nice for using the time-lapse feature in the map window!"
   ]
  },
  {
   "cell_type": "code",
   "execution_count": 17,
   "id": "9954fba3",
   "metadata": {},
   "outputs": [],
   "source": [
    "# Read in Surface Directional Reflectance (SDR) Image Collection\n",
    "aopSDR = ee.ImageCollection('projects/neon-prod-earthengine/assets/DP3-30006-001')\n",
    "\n",
    "# Filter by site to read in GRSM SDR image collection from all available years\n",
    "grsmSDR = aopSDR.filterMetadata('NEON_SITE', 'equals', site);\n",
    "\n",
    "# sdr2021 = aopSDR.filterDate('2021-01-01', '2021-12-31').filterMetadata('NEON_SITE', 'equals', site).mosaic();\n",
    "\n",
    "# Read in only the data bands, all of which start with \"B\", eg. \"B001\"\n",
    "grsmSDR_data = grsmSDR.select('B.*')\n",
    "\n",
    "# weather_quality_band = grsmSDR.select(['Weather_Quality_Indicator']);\n",
    "\n",
    "# Select only the clear weather data (<10% cloud cover)\n",
    "# clear_weather = weather_quality_band.eq(1); # 1 = 0-10% cloud cover\n",
    "    \n",
    "# Mask out all cloudy pixels from the SDR data cube\n",
    "# grsmSDR_clear_weather = grsmSDR_data.updateMask(clear_weather);\n",
    "\n",
    "# Set the visualization parameters so contrast is maximized, and display RGB bands (true-color image)\n",
    "visParams = {'min':0,'max':1200,'gamma':0.9,'bands':['B053','B035','B019']};\n",
    "\n",
    "# Add the GRSM image collection as a layer to the Map\n",
    "Map.addLayer(grsmSDR_data, visParams, 'GRSM SDR');\n",
    "\n",
    "grsmCenter = ee.Geometry.Point([-83.5, 35.7]);\n",
    "# Center the map on HEAL\n",
    "Map.centerObject(grsmCenter, 11);"
   ]
  }
 ],
 "metadata": {
  "kernelspec": {
   "display_name": "Python 3 (ipykernel)",
   "language": "python",
   "name": "python3"
  },
  "language_info": {
   "codemirror_mode": {
    "name": "ipython",
    "version": 3
   },
   "file_extension": ".py",
   "mimetype": "text/x-python",
   "name": "python",
   "nbconvert_exporter": "python",
   "pygments_lexer": "ipython3",
   "version": "3.9.12"
  }
 },
 "nbformat": 4,
 "nbformat_minor": 5
}
