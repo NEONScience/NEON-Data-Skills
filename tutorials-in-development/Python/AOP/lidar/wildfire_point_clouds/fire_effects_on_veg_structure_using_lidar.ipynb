{
 "cells": [
  {
   "cell_type": "markdown",
   "id": "e962dad7",
   "metadata": {},
   "source": [
    "# Detecting changes in vegetation structure following fires using discrete-return LiDAR"
   ]
  },
  {
   "cell_type": "markdown",
   "id": "73a5b1c1",
   "metadata": {},
   "source": [
    "The **Creek Fire** was a large wildfire which started in September, 2020, in the Sierra National Forest, California, and became one of the largest fires of the [2020 California wildfire season](https://en.wikipedia.org/wiki/2020_California_wildfires). This fire had burned into NEON's [Soaproot Saddle (SOAP)](https://www.neonscience.org/field-sites/soap) site by mid-September, causing a [high intensity burn over much of the site](https://www.neonscience.org/impact/observatory-blog/domain-digest-no-4-fire-field-sites-and-recovery) - standing trees became charcoal spires, shrubs and their root systems burned completely, the thick litter layer was incinerated, and the soil severely burned.\n",
    "\n",
    "The NEON Airbone Observation Platform (AOP) conducted aerial surveys over SOAP in 2019 and 2021, a year before and after the Creek Fire. The goal of this exercise is to study the effects of fire on vegetation structure by comparing the lidar-derived relative height percentiles before and after the fire. In addition to the discrete return data, this tutorial uses a Digital Terrain Model (DTM) to determine the relative height of the discrete returns with respect to the ground.\n",
    "\n",
    "This Python tutorial is broken down into the following steps:\n",
    "1. Read the NEON discrete-return lidar data ([DP1.30003.001](https://data.neonscience.org/data-products/DP1.30003.001)) and the lidar-derived Digital Terrain Model ([DP3.30024.001](https://data.neonscience.org/data-products/DP3.30024.001)) in Python. \n",
    "2. Visualize the 3D lidar point cloud. Compare the spatial extent of the lidar data used in this tutorial with that of the Creek Fire perimeter and the SOAP flight boundary.\n",
    "3. Calculate and compare the relative height percentiles before and after the 2020 Creek Fire. \n",
    "\n",
    "\n",
    "### Data\n",
    "The data used in this tutorial is available on this [Google Drive link](https://drive.google.com/drive/folders/1b-hU4ZgW32gMLzP3_qkv5H2PrXHcY2hL?usp=sharing). This folder contains shapefiles for the Creek Fire perimeter, a kml file for the Soaproot site boundary, discrete-return lidar data for the years 2019 and 2021 in .laz format for a small fire-affected area within the SOAP site, and DTM data in .tif format for the same area. The unzipped folder has a size of about 113 MB. \n",
    "\n",
    "### Python packages used \n",
    "* **rasterio & rioxarray** for reading and plotting raster data\n",
    "* **geopandas** for reading shapefiles and kml \n",
    "* **laspy** for reading lidar point cloud\n",
    "* **pptk** for visualizing 3d lidar point cloud\n",
    "* **pyproj** to change map projections \n",
    "* **shapely** to create vector polygons\n",
    "* **seaborn** for making boxplots and histograms\n",
    "\n",
    "To install each of these python packages, run the command \"pip install \" followed by the name of the package on the terminal.\n",
    "\n",
    "### Other NEON tutorials on discrete-return lidar\n",
    "* If you're interested in using the NEON API to download lidar data using just a few lines of code, please refer to this [python tutorial](https://www.neonscience.org/resources/learning-hub/tutorials/neon-discrete-point-clouds).\n",
    "* For a more general indroduction to lidar and how to process lidar data in R, please follow this [R Tutorial series](https://www.neonscience.org/resources/learning-hub/tutorials/introduction-light-detection-and-ranging-lidar-explore-point#toggle-0). \n",
    "* You may also refer to this [R tutorial](https://www.neonscience.org/resources/learning-hub/tutorials/structural-diversity-discrete-return) on calculating forest structural diversity metrics for different NEON sites. "
   ]
  },
  {
   "cell_type": "markdown",
   "id": "63bcec65",
   "metadata": {},
   "source": [
    "## Part 1: Reading lidar data"
   ]
  },
  {
   "cell_type": "markdown",
   "id": "00b84ff9",
   "metadata": {},
   "source": [
    "If you haven't installed packages, you can install them from within the Jupyter Notebook as follows:\n",
    "```python\n",
    "!pip install rioxarray\n",
    "!pip install pptk\n",
    "```"
   ]
  },
  {
   "cell_type": "code",
   "execution_count": 1,
   "id": "7b99a111",
   "metadata": {},
   "outputs": [],
   "source": [
    "## Import all python packages needed for this tutorial\n",
    "import pandas as pd\n",
    "import numpy as np\n",
    "import laspy, os, glob\n",
    "import matplotlib.pyplot as plt\n",
    "from matplotlib.lines import Line2D\n",
    "import pyproj\n",
    "import shapely\n",
    "import seaborn as sns\n",
    "import rasterio\n",
    "import rioxarray\n",
    "#import pptk"
   ]
  },
  {
   "cell_type": "markdown",
   "id": "6fa13165",
   "metadata": {},
   "source": [
    "### Read las files in python"
   ]
  },
  {
   "cell_type": "markdown",
   "id": "4bfae151",
   "metadata": {},
   "source": [
    "First, download the Google drive folder with all the data onto your local machine. The link to the data folder is provided in the description above. If you move the data to a different location (which we recommend), you will need to change the data root directory variable (`data_root_dir`) to the new directory. For simplicity, we will assume the data is in the Downloads folder."
   ]
  },
  {
   "cell_type": "code",
   "execution_count": 2,
   "id": "a61e081c",
   "metadata": {},
   "outputs": [],
   "source": [
    "home = os.path.expanduser(\"~\")\n",
    "downloads_path = home + os.sep + \"Downloads\"\n",
    "data_root_dir = os.path.join(downloads_path,\"NEON_lidar_tutorial_datasets\")"
   ]
  },
  {
   "cell_type": "markdown",
   "id": "a3cb0367",
   "metadata": {},
   "source": [
    "Move into the \"Discrete_return_lidar_returns\" folder and import the point cloud data for 2019 and 2021."
   ]
  },
  {
   "cell_type": "code",
   "execution_count": 3,
   "id": "d623cdbf",
   "metadata": {},
   "outputs": [
    {
     "name": "stdout",
     "output_type": "stream",
     "text": [
      "['X', 'Y', 'Z', 'intensity', 'return_number', 'number_of_returns', 'synthetic', 'key_point', 'withheld', 'overlap', 'scanner_channel', 'scan_direction_flag', 'edge_of_flight_line', 'classification', 'user_data', 'scan_angle', 'point_source_id', 'gps_time', 'red', 'green', 'blue']\n"
     ]
    }
   ],
   "source": [
    "# define the discrete_lidar_directory and change into that directory to read in the point cloud files\n",
    "discrete_lidar_dir = os.path.join(data_root_dir,\"Discrete_return_lidar_returns\")\n",
    "os.chdir(discrete_lidar_dir)\n",
    "las_2021 = laspy.read(\"NEON_D17_SOAP_DP1_293000_4097000_classified_point_cloud_colorized_2021.laz\")\n",
    "las_2019 = laspy.read(\"NEON_D17_SOAP_DP1_293000_4097000_classified_point_cloud_colorized_2019.laz\")\n",
    "\n",
    "## Print all the fields provided by the las files\n",
    "print(list(las_2021.point_format.dimension_names))"
   ]
  },
  {
   "cell_type": "markdown",
   "id": "30e964cc",
   "metadata": {},
   "source": [
    "### Read point cloud data as a dataframe"
   ]
  },
  {
   "cell_type": "markdown",
   "id": "a944e5c4",
   "metadata": {},
   "source": [
    "The \"las_to_df\" function defined below imports the .las file as a python dataframe. For more information about the las format, please refer to the [ASPRS documentation](https://www.asprs.org/wp-content/uploads/2010/12/LAS_1_4_r13.pdf). Las files provide the following information:\n",
    " * X, Y and Z (height above ellipsoid) coordinates of the discrete return.\n",
    " * Intensity of the return.\n",
    " * Return number and total number of returns per pulse. Each lidar pulse can have multiple returns along the vertical profile. The first return typically comes from the top of the canopy while the last return tends to be from the ground.\n",
    " * Classification of the return. Lastools software follows the [standard ASPRS classification](https://www.asprs.org/wp-content/uploads/2010/12/LAS_1_4_r13.pdf) scheme to classify returns as ground, low vegetation, high vegetation, buildings etc.\n",
    " * Scan angle of the lidar sensor at which the return was collected (can vary from -18 degrees to + 18 degrees). This information could be used to drop returns collected at extreme values of scan angle.\n",
    " \n",
    "For more information about how the lidar point clouds were created, refer to the \"NEON L0-to-L1 Discrete Return LiDAR Algorithm Theoretical Basis Document (ATBD)\" found on the [NEON data product page](https://data.neonscience.org/data-products/DP1.30003.001). You may also refer to this [tutorial series](https://www.neonscience.org/resources/learning-hub/tutorials/introduction-light-detection-and-ranging-lidar-explore-point#toggle-0)."
   ]
  },
  {
   "cell_type": "code",
   "execution_count": 4,
   "id": "e3ba514f",
   "metadata": {},
   "outputs": [],
   "source": [
    "## Function to import las file as a dataframe in python\n",
    "def las_to_df(las):\n",
    "  x = pd.DataFrame(np.array(las.x))\n",
    "  y = pd.DataFrame(np.array(las.y))\n",
    "  z = pd.DataFrame(np.array(las.z))\n",
    "  intensity = pd.DataFrame(np.array(las.intensity))\n",
    "  return_num = pd.DataFrame(np.array(las.return_number))\n",
    "  number_of_returns = pd.DataFrame(np.array(las.number_of_returns))\n",
    "  classification = pd.DataFrame(np.array(las.classification)) ## 0 - 31 as per ASPRS classification scheme\n",
    "    \n",
    "  df = pd.concat([x, y, z, intensity, return_num, number_of_returns, classification], axis=1)\n",
    "  df.columns=[\"x\", \"y\", \"z\", \"intensity\", \"return_num\", \"number_of_returns\", \"classification\"]\n",
    "  return(df)"
   ]
  },
  {
   "cell_type": "code",
   "execution_count": 5,
   "id": "1bad63a1",
   "metadata": {},
   "outputs": [
    {
     "data": {
      "text/html": [
       "<div>\n",
       "<style scoped>\n",
       "    .dataframe tbody tr th:only-of-type {\n",
       "        vertical-align: middle;\n",
       "    }\n",
       "\n",
       "    .dataframe tbody tr th {\n",
       "        vertical-align: top;\n",
       "    }\n",
       "\n",
       "    .dataframe thead th {\n",
       "        text-align: right;\n",
       "    }\n",
       "</style>\n",
       "<table border=\"1\" class=\"dataframe\">\n",
       "  <thead>\n",
       "    <tr style=\"text-align: right;\">\n",
       "      <th></th>\n",
       "      <th>x</th>\n",
       "      <th>y</th>\n",
       "      <th>z</th>\n",
       "      <th>intensity</th>\n",
       "      <th>return_num</th>\n",
       "      <th>number_of_returns</th>\n",
       "      <th>classification</th>\n",
       "    </tr>\n",
       "  </thead>\n",
       "  <tbody>\n",
       "    <tr>\n",
       "      <th>0</th>\n",
       "      <td>293324.039</td>\n",
       "      <td>4097000.032</td>\n",
       "      <td>567.007</td>\n",
       "      <td>92</td>\n",
       "      <td>1</td>\n",
       "      <td>1</td>\n",
       "      <td>2</td>\n",
       "    </tr>\n",
       "    <tr>\n",
       "      <th>1</th>\n",
       "      <td>293323.314</td>\n",
       "      <td>4097000.029</td>\n",
       "      <td>567.048</td>\n",
       "      <td>137</td>\n",
       "      <td>1</td>\n",
       "      <td>1</td>\n",
       "      <td>2</td>\n",
       "    </tr>\n",
       "    <tr>\n",
       "      <th>2</th>\n",
       "      <td>293322.605</td>\n",
       "      <td>4097000.023</td>\n",
       "      <td>567.131</td>\n",
       "      <td>124</td>\n",
       "      <td>1</td>\n",
       "      <td>1</td>\n",
       "      <td>2</td>\n",
       "    </tr>\n",
       "    <tr>\n",
       "      <th>3</th>\n",
       "      <td>293321.856</td>\n",
       "      <td>4097000.028</td>\n",
       "      <td>567.076</td>\n",
       "      <td>161</td>\n",
       "      <td>1</td>\n",
       "      <td>1</td>\n",
       "      <td>2</td>\n",
       "    </tr>\n",
       "    <tr>\n",
       "      <th>4</th>\n",
       "      <td>293321.039</td>\n",
       "      <td>4097000.053</td>\n",
       "      <td>566.778</td>\n",
       "      <td>91</td>\n",
       "      <td>1</td>\n",
       "      <td>1</td>\n",
       "      <td>2</td>\n",
       "    </tr>\n",
       "  </tbody>\n",
       "</table>\n",
       "</div>"
      ],
      "text/plain": [
       "            x            y        z  intensity  return_num  number_of_returns  \\\n",
       "0  293324.039  4097000.032  567.007         92           1                  1   \n",
       "1  293323.314  4097000.029  567.048        137           1                  1   \n",
       "2  293322.605  4097000.023  567.131        124           1                  1   \n",
       "3  293321.856  4097000.028  567.076        161           1                  1   \n",
       "4  293321.039  4097000.053  566.778         91           1                  1   \n",
       "\n",
       "   classification  \n",
       "0               2  \n",
       "1               2  \n",
       "2               2  \n",
       "3               2  \n",
       "4               2  "
      ]
     },
     "execution_count": 5,
     "metadata": {},
     "output_type": "execute_result"
    }
   ],
   "source": [
    "## Call the las_to_df function to extract the 2019 and 2021 data as separate dataframes\n",
    "point_cloud_df_2019 = las_to_df(las_2019)\n",
    "point_cloud_df_2021 = las_to_df(las_2021)\n",
    "point_cloud_df_2021.head()"
   ]
  },
  {
   "cell_type": "markdown",
   "id": "e090efbd",
   "metadata": {},
   "source": [
    "### Read the Digital Terrain Model (DTM) data"
   ]
  },
  {
   "cell_type": "markdown",
   "id": "9bfce347",
   "metadata": {},
   "source": [
    "Discrete return heights (Z elevations) are specified with respect to a reference datum. We will be using the ground elevations from DTM to calculate the relative height of the discrete returns with respect to ground. "
   ]
  },
  {
   "cell_type": "code",
   "execution_count": 6,
   "id": "8605f865",
   "metadata": {},
   "outputs": [],
   "source": [
    "## Go inside the \"Digital_Terrain_Model\" folder and import the DTM tifs\n",
    "os.chdir(os.path.join(data_root_dir,\"Digital_Terrain_Model\"))\n",
    "DTM_2019 = rasterio.open(\"NEON_D17_SOAP_DP3_293000_4097000_DTM_2019.tif\")\n",
    "DTM_2021 = rasterio.open(\"NEON_D17_SOAP_DP3_293000_4097000_DTM_2021.tif\")"
   ]
  },
  {
   "cell_type": "markdown",
   "id": "926650c9",
   "metadata": {},
   "source": [
    "It's always a good idea to check the metadata of the DTM raster at the time of data ingestion. You can access the metadata using the .tags() option."
   ]
  },
  {
   "cell_type": "code",
   "execution_count": 7,
   "id": "2d6742c7",
   "metadata": {
    "scrolled": true
   },
   "outputs": [
    {
     "name": "stdout",
     "output_type": "stream",
     "text": [
      "AREA_OR_POINT:Area\n",
      "TIFFTAG_ARTIST:Created by the National Ecological Observatory Network (NEON)\n",
      "TIFFTAG_COPYRIGHT:The National Ecological Observatory Network is a project sponsored by the National Science Foundation and managed under cooperative agreement by Battelle Ecology. This material is based in part upon work supported by the National Science Foundation under Grant No. DBI-0752017.\n",
      "TIFFTAG_DATETIME:Flown on 2019061115, 2019061315, 2019061415, 2019061515, 2019061516, 2019061615-P2C1\n",
      "TIFFTAG_IMAGEDESCRIPTION:Elevation LiDAR - NEON.DP3.30024 acquired at SOAP by Optech, Inc Gemini 12SEN311 as part of P2C1\n",
      "TIFFTAG_MAXSAMPLEVALUE:682\n",
      "TIFFTAG_MINSAMPLEVALUE:569\n",
      "TIFFTAG_RESOLUTIONUNIT:2 (pixels/inch)\n",
      "TIFFTAG_SOFTWARE:Tif file created with a Matlab script (write_gtiff.m) written by Tristan Goulden (tgoulden@battelleecology.org) with data processed from the following scripts: create_tiles_from_mosaic.m, combine_DTM_DSM_gtif.m, LasTools_workflow.csh which implemented LAStools version 190728.\n",
      "TIFFTAG_XRESOLUTION:1\n",
      "TIFFTAG_YRESOLUTION:1\n"
     ]
    }
   ],
   "source": [
    "## Check metadata for 2019 DTM \n",
    "for item in DTM_2019.tags():\n",
    "    print(item + \":\" + DTM_2019.tags()[item])"
   ]
  },
  {
   "cell_type": "code",
   "execution_count": 8,
   "id": "0330e27a",
   "metadata": {},
   "outputs": [
    {
     "name": "stdout",
     "output_type": "stream",
     "text": [
      "AREA_OR_POINT:Area\n",
      "TIFFTAG_ARTIST:Created by the National Ecological Observatory Network (NEON)\n",
      "TIFFTAG_COPYRIGHT:The National Ecological Observatory Network is a project sponsored by the National Science Foundation and managed under cooperative agreement by Battelle. This material is based in part upon work supported by the National Science Foundation under Grant No. DBI-0752017.\n",
      "TIFFTAG_DATETIME:Flown on 2021071215, 2021071315-P1C2\n",
      "TIFFTAG_IMAGEDESCRIPTION:Elevation LiDAR - NEON.DP3.30024 acquired at SOAP by Teledyne Optech Galaxy Prime 5060445 as part of P1C2\n",
      "TIFFTAG_MAXSAMPLEVALUE:682\n",
      "TIFFTAG_MINSAMPLEVALUE:566\n",
      "TIFFTAG_RESOLUTIONUNIT:2 (pixels/inch)\n",
      "TIFFTAG_SOFTWARE:Tif file created with a Matlab script (write_gtiff.m) written by Tristan Goulden (tgoulden@battelleecology.org) with data processed from the following scripts: create_tiles_from_mosaic.m, combine_dtm_dsm_gtif.m, lastools_workflow.csh which implemented LAStools version 210418.\n",
      "TIFFTAG_XRESOLUTION:1\n",
      "TIFFTAG_YRESOLUTION:1\n"
     ]
    }
   ],
   "source": [
    "## Check metadata for 2021 DTM\n",
    "for item in DTM_2021.tags():\n",
    "    print(item + \":\" + DTM_2021.tags()[item])"
   ]
  },
  {
   "cell_type": "markdown",
   "id": "092470f0",
   "metadata": {},
   "source": [
    "As per the information provided in the 'TIFFTAG_IMAGEDESCRIPTION' field in the metadata, it can be seen that NEON flew the old Optech Gemini lidar sensor in 2019 and the new Optech Galaxy Prime sensor in 2021. When comparing lidar data collected across different years, it is important to check if the lidar sensors used for the collections are consistent across years. Older sensors like the Optech Gemini have a wider outgoing pulse width, which results in poorer range resolution compared to the newer Optech Galaxy Prime. **Poor range resolution for a lidar sensor makes it difficult to resolve objects that are close to the ground (such as low vegetation).** Optech Gemini has a range resolution of about 2 m, which means that it can be challenging to distinguish objects that are less than 2 m apart along the vertical profile. The range resolution for the newer Optech Galaxy prime is substantially better, at around 67 cm. "
   ]
  },
  {
   "cell_type": "code",
   "execution_count": 9,
   "id": "b61b070e",
   "metadata": {},
   "outputs": [
    {
     "name": "stdout",
     "output_type": "stream",
     "text": [
      "[[617.103 617.088 617.04  ... 681.869 682.16  682.455]\n",
      " [616.992 616.966 616.943 ... 681.567 681.889 682.309]\n",
      " [616.9   616.9   616.794 ... 681.243 681.725 682.125]\n",
      " ...\n",
      " [621.67  621.621 621.484 ... 656.604 656.828 657.036]\n",
      " [622.128 621.906 621.759 ... 656.751 657.011 657.159]\n",
      " [622.553 622.362 622.171 ... 656.915 657.115 657.435]]\n",
      " \n",
      "Number of rows in the DTM array is 1000\n",
      "Number of columns in the DTM array is 1000\n"
     ]
    }
   ],
   "source": [
    "## Ingest DTM as a numpy array\n",
    "DTM_2019_arr = DTM_2019.read(1)\n",
    "DTM_2021_arr = DTM_2021.read(1)\n",
    "\n",
    "print(DTM_2021_arr)\n",
    "print(\" \")\n",
    "print(\"Number of rows in the DTM array is %d\" %DTM_2021_arr.shape[0])\n",
    "print(\"Number of columns in the DTM array is %d\" %DTM_2021_arr.shape[1])"
   ]
  },
  {
   "cell_type": "markdown",
   "id": "34b2d91b",
   "metadata": {},
   "source": [
    "## Part 2: Data Visualization"
   ]
  },
  {
   "cell_type": "markdown",
   "id": "a03ec375",
   "metadata": {},
   "source": [
    "### Create 3d visualization of discrete-return point cloud using pptk library "
   ]
  },
  {
   "cell_type": "markdown",
   "id": "e06ffcaf",
   "metadata": {},
   "source": [
    "Here we'll visualize the discrete returns in three dimensions. The `laspy` package has limited options for visualization, so we will use the `pptk` library. To visualize the 3D point cloud data, we first stack the X, Y, and Z dimensions using numpy (np.stack). We then import the pptk library, pass the stacked point data, and colorize each discrete-return.  "
   ]
  },
  {
   "cell_type": "code",
   "execution_count": 10,
   "id": "54584387",
   "metadata": {},
   "outputs": [
    {
     "name": "stdout",
     "output_type": "stream",
     "text": [
      "Number of discrete returns in the 2021 point cloud file = 11,360,254\n",
      "Number of discrete returns in the 2019 point cloud file = 3,114,025\n"
     ]
    }
   ],
   "source": [
    "## Plot 3D point cloud\n",
    "## Use np.stack to combine the X, Y and Z into one array\n",
    "## Convert (3 x n) array to (n x 3) using transpose\n",
    "point_data_2021 = np.stack([las_2021.X, las_2021.Y, las_2021.Z]).transpose() \n",
    "point_data_2019 = np.stack([las_2019.X, las_2019.Y, las_2019.Z]).transpose()\n",
    "\n",
    "## Extract the Red (R),Green (G), Blue (B) values associated with each discrete return\n",
    "## The R,G,B values are obtained from the camera sensor fitted on the airplane\n",
    "## Think of this as \"draping\" the camera imagery on top of the lidar discrete-returns\n",
    "colors_2021 = np.stack([las_2021.red, las_2021.green, las_2021.blue]).transpose()\n",
    "colors_2019 = np.stack([las_2019.red, las_2019.green, las_2019.blue]).transpose()\n",
    "print(\"Number of discrete returns in the 2021 point cloud file = %s\" %\"{:,}\".format(point_data_2021.shape[0]))\n",
    "print(\"Number of discrete returns in the 2019 point cloud file = %s\" %\"{:,}\".format(point_data_2019.shape[0]))"
   ]
  },
  {
   "cell_type": "markdown",
   "id": "ff1bde17",
   "metadata": {},
   "source": [
    "```python\n",
    "## Visualize the 2021 point cloud using pptk package\n",
    "pc_2021 = pptk.viewer(point_data_2021)\n",
    "## Our color values are coded on 16 bits in the las file.\n",
    "## We need to scale it to [0,1]; thus we divide it by 65535\n",
    "pc_2021.attributes(colors_2021/65535)\n",
    "\n",
    "## Similar for 2019 point cloud data\n",
    "pc_2019 = pptk.viewer(point_data_2019)\n",
    "pc_2019.attributes(colors_2019/65535)\n",
    "```"
   ]
  },
  {
   "cell_type": "markdown",
   "id": "e0f2999a",
   "metadata": {},
   "source": [
    "When you run the chunk of code above, the 3D point clouds for the years 2019 and 2021 are displayed in separate pop-up windows. Visually comparing the colorized point cloud from the two years reveals burn scars with greater gaps in vegetation in the year 2021 relative to 2019."
   ]
  },
  {
   "cell_type": "markdown",
   "id": "201044d2",
   "metadata": {},
   "source": [
    "### Plot the 2021 DTM \n",
    "\n",
    "Next, we'll explore another Python library called `rioxarray` for reading and plotting raster data. Printing this variable will display some information about the xarray object and some of the metadata information stored in the tiff tags."
   ]
  },
  {
   "cell_type": "code",
   "execution_count": 11,
   "id": "cf9926ca",
   "metadata": {},
   "outputs": [
    {
     "name": "stdout",
     "output_type": "stream",
     "text": [
      "<xarray.DataArray (band: 1, y: 1000, x: 1000)>\n",
      "[1000000 values with dtype=float32]\n",
      "Coordinates:\n",
      "  * band         (band) int32 1\n",
      "  * x            (x) float64 2.93e+05 2.93e+05 2.93e+05 ... 2.94e+05 2.94e+05\n",
      "  * y            (y) float64 4.098e+06 4.098e+06 ... 4.097e+06 4.097e+06\n",
      "    spatial_ref  int32 0\n",
      "Attributes:\n",
      "    AREA_OR_POINT:             Area\n",
      "    TIFFTAG_ARTIST:            Created by the National Ecological Observatory...\n",
      "    TIFFTAG_COPYRIGHT:         The National Ecological Observatory Network is...\n",
      "    TIFFTAG_DATETIME:          Flown on 2021071215, 2021071315-P1C2\n",
      "    TIFFTAG_IMAGEDESCRIPTION:  Elevation LiDAR - NEON.DP3.30024 acquired at S...\n",
      "    TIFFTAG_MAXSAMPLEVALUE:    682\n",
      "    TIFFTAG_MINSAMPLEVALUE:    566\n",
      "    TIFFTAG_RESOLUTIONUNIT:    2 (pixels/inch)\n",
      "    TIFFTAG_SOFTWARE:          Tif file created with a Matlab script (write_g...\n",
      "    TIFFTAG_XRESOLUTION:       1\n",
      "    TIFFTAG_YRESOLUTION:       1\n",
      "    _FillValue:                -9999.0\n",
      "    scale_factor:              1.0\n",
      "    add_offset:                0.0\n"
     ]
    }
   ],
   "source": [
    "os.chdir(os.path.join(data_root_dir,\"Digital_Terrain_Model\"))\n",
    "dtm = rioxarray.open_rasterio(\"NEON_D17_SOAP_DP3_293000_4097000_DTM_2021.tif\")\n",
    "print(dtm)"
   ]
  },
  {
   "cell_type": "markdown",
   "id": "fd21e7b4",
   "metadata": {},
   "source": [
    "We can plot the data as follows:"
   ]
  },
  {
   "cell_type": "code",
   "execution_count": 12,
   "id": "28ca20b4",
   "metadata": {},
   "outputs": [
    {
     "data": {
      "image/png": "[encoded data removed]",
      "text/plain": [
       "<Figure size 432x288 with 2 Axes>"
      ]
     },
     "metadata": {
      "needs_background": "light"
     },
     "output_type": "display_data"
    }
   ],
   "source": [
    "dtm.plot()\n",
    "plt.title(\"2021 Digital Terrain Model showing ground elevations (in m) with respect to the \\n NAVD88 reference datum in UTM Zone 11N projection\", fontsize=10, pad=12)\n",
    "plt.ylabel(\"Northing (m)\", labelpad=12)\n",
    "plt.xlabel(\"Easting (m)\", labelpad=12)\n",
    "\n",
    "xticks = np.arange(293000, 294200, 200)\n",
    "comma_sep_xticks = []\n",
    "for num in xticks:\n",
    "   comma_sep_num = \"{:,}\".format(num)\n",
    "   comma_sep_xticks.append(comma_sep_num)\n",
    "\n",
    "yticks = np.arange(4097000,4098200,200)\n",
    "comma_sep_yticks = []\n",
    "for num in yticks:\n",
    "   comma_sep_num = \"{:,}\".format(num)\n",
    "   comma_sep_yticks.append(comma_sep_num)\n",
    "    \n",
    "plt.xticks(xticks, comma_sep_xticks)\n",
    "plt.yticks(yticks, comma_sep_yticks)\n",
    "\n",
    "plt.show()"
   ]
  },
  {
   "cell_type": "markdown",
   "id": "a1c7d2c6",
   "metadata": {},
   "source": [
    "### Visualize the relative spatial extent of the lidar data used in relation to the Creek Fire perimeter\n",
    "\n",
    "Next we can use the Python packages `matplotlib`, `geopandas`, and `rasterio` to look at the extents of the lidar data in the context of the larger Creek Fire."
   ]
  },
  {
   "cell_type": "code",
   "execution_count": 13,
   "id": "3cc418c4",
   "metadata": {},
   "outputs": [
    {
     "data": {
      "text/plain": [
       "Text(5.433133888203805, 0.5, 'Latitude')"
      ]
     },
     "execution_count": 13,
     "metadata": {},
     "output_type": "execute_result"
    },
    {
     "data": {
      "image/png": "[encoded data removed]",
      "text/plain": [
       "<Figure size 252x360 with 1 Axes>"
      ]
     },
     "metadata": {
      "needs_background": "light"
     },
     "output_type": "display_data"
    }
   ],
   "source": [
    "import os\n",
    "import matplotlib.pyplot as plt\n",
    "from matplotlib.patches import Patch\n",
    "import geopandas as gpd\n",
    "from rasterio.plot import show\n",
    "import warnings\n",
    "warnings.filterwarnings('ignore')\n",
    "\n",
    "## Go inside the creek fire boundary subfolder and ingest the shape file\n",
    "os.chdir(os.path.join(data_root_dir,\"Creek_fire_boundary\"))\n",
    "creek_fire_perimeter = gpd.read_file(\"creek_fire_perimeter.shp\")\n",
    "\n",
    "## Now go into the Soaproot site boundary subfolder and ingest the kml file\n",
    "os.chdir(os.path.join(data_root_dir,\"SOAP_site_boundary\"))\n",
    "gpd.io.file.fiona.drvsupport.supported_drivers['KML'] = 'rw'  ## Make geopandas read a kml file\n",
    "soap_boundary = gpd.read_file(\"NEON_D17_SOAP_DPQA_2021_full_boundary.kml\", driver='KML')\n",
    "\n",
    "## Plot the extents of the 2020 Creek Fire and the SOAP site boundary\n",
    "creek_fire = creek_fire_perimeter.plot(color='red', figsize=(3.5,5))\n",
    "soap_boundary.plot(ax=creek_fire, color='yellow')\n",
    "plt.xlabel(\"Longitude\")\n",
    "plt.ylabel(\"Latitude\")"
   ]
  },
  {
   "cell_type": "markdown",
   "id": "3e7f89e3",
   "metadata": {},
   "source": [
    "We can also plot the extent of 2021 DTM, which is available in UTM Zone 11N projection. The shapefiles are not projected. This difference in projection systems prevents us from plotting the DTM and the shapefiles together. We will be using Pyproj package to convert the UTM coordinates of the DTM bounding box to lat lon. Then we will use shapely package to create a polygon whose corners are the lat lon values of the DTM bounding box."
   ]
  },
  {
   "cell_type": "markdown",
   "id": "96a7982b",
   "metadata": {},
   "source": [
    "```python\n",
    "## Install pyproj by running 'pip install pyproj' on the terminal, or '!pip install pyrpoj' in the Jupyter Notebook\n",
    "from pyproj import Proj\n",
    "\n",
    "utm_proj = Proj(\"+proj=utm +zone=11 +north +ellps=WGS84 +datum=WGS84 +units=m\")\n",
    "lon_min, lat_min = utm_proj(DTM_2021.bounds[0], DTM_2021.bounds[1], inverse=True)\n",
    "lon_max, lat_max = utm_proj(DTM_2021.bounds[2], DTM_2021.bounds[3], inverse=True)\n",
    "\n",
    "corner_coords = [[lon_min, lat_min], [lon_min, lat_max], [lon_max, lat_max], [lon_max, lat_min]]\n",
    "\n",
    "## Create a shapely polygon using corner coordinates\n",
    "from shapely import Polygon ## Install shapely using 'pip install shapely' on the terminal\n",
    "polygon_geometry = Polygon(corner_coords)\n",
    "df = {'Attribute':['DTM_extent'], 'geometry':polygon_geometry} # create a dictionary with needed attributed\n",
    "dtm_polygon = gpd.GeoDataFrame(df, geometry='geometry', crs='EPSG:4326')\n",
    "dtm_polygon.plot(color='black', ax=creek_fire)\n",
    "\n",
    "## Add legend\n",
    "legend_elements = [Patch(facecolor='red', edgecolor='red', label='2020 Creek Fire perimeter'), \n",
    "                  Patch(facecolor='none', edgecolor='yellow', label='Total extent of lidar data collected for SOAP site'),\n",
    "                  Patch(facecolor='black', edgecolor='black', label='Lidar data used in this tutorial')]\n",
    "plt.legend(handles=legend_elements, bbox_to_anchor=(2.6,1))\n",
    "plt.show()\n",
    "```"
   ]
  },
  {
   "cell_type": "markdown",
   "id": "4b7e8544",
   "metadata": {},
   "source": [
    "## Part 3: Calculate and compare the relative height percentiles on a pixel-wise basis before (2019) and after (2021) the 2020 Creek fire."
   ]
  },
  {
   "cell_type": "markdown",
   "id": "26a95d41",
   "metadata": {},
   "source": [
    "We will now be calculating pixel-wise height percentiles relative to the Digital Terrain Model (DTM). To ensure that we have sufficient number of lidar returns for calculating percentiles, we will be calculating these metrics for every 5m pixel on the ground. So, our tasks here would be to:\n",
    "\n",
    "1) Calculate relative heights of discrete returns with repect to the 1m DTM. We will be using the 2021 DTM to calculate relative heights for both the 2019 and 2021 discrete return data. The 2020 fire event would have likely cleared up some of the low vegetation and ground litter, thereby improving ground detection post-fire in 2021. The 2021 DTM could be a more accurate representation of the true ground compared to the 2019 DTM.\n",
    "2) Create a 5m spatial resolution raster grid and assign a unique id to each 5m pixel.\n",
    "3) Group all discrete returns based on the 5m pixel they fall into.\n",
    "4) Calculate relative height percentiles for each 5m pixel and create spatial maps."
   ]
  },
  {
   "cell_type": "markdown",
   "id": "72fe48bf",
   "metadata": {},
   "source": [
    "### 1. Discrete-return heights relative to 2021 1m DTM "
   ]
  },
  {
   "cell_type": "markdown",
   "id": "00476ce1",
   "metadata": {},
   "source": [
    "We will be sampling the raster values from the 2021 DTM at the x,y locations of each discrete return"
   ]
  },
  {
   "cell_type": "code",
   "execution_count": 14,
   "id": "f1eb108c",
   "metadata": {},
   "outputs": [
    {
     "name": "stdout",
     "output_type": "stream",
     "text": [
      "[(293324.039, 4097000.032), (293323.314, 4097000.029), (293322.605, 4097000.023), (293321.856, 4097000.028), (293321.039, 4097000.053)]\n"
     ]
    }
   ],
   "source": [
    "## zip all x and y coordinates together for sampling rasters in the next cell\n",
    "coords_2019 = [(x,y) for x, y in zip(point_cloud_df_2019[\"x\"], point_cloud_df_2019[\"y\"])]\n",
    "coords_2021 = [(x,y) for x, y in zip(point_cloud_df_2021[\"x\"], point_cloud_df_2021[\"y\"])]\n",
    "\n",
    "## print the first five elements of coords_2021\n",
    "print(coords_2021[0:5])"
   ]
  },
  {
   "cell_type": "code",
   "execution_count": 15,
   "id": "f5b3cc99",
   "metadata": {},
   "outputs": [],
   "source": [
    "## Sample the raster using \"rasterio.sample.sample_gen()\"\n",
    "## This chunk of code could take a substantial amount of time to run (~15-20 min). Reduce your spatial extent to save time. \n",
    "\n",
    "## Sample the 2021 DTM raster for ground elevation at each (x,y) location of the 2021 discrete returns\n",
    "dtm_vals_2021 = pd.DataFrame(list(rasterio.sample.sample_gen(DTM_2021, coords_2021)))\n",
    "\n",
    "## Sample the 2021 DTM raster for ground elevation at each (x,y) location of the 2019 discrete returns\n",
    "dtm_vals_2019 = pd.DataFrame(list(rasterio.sample.sample_gen(DTM_2021, coords_2019)))"
   ]
  },
  {
   "cell_type": "code",
   "execution_count": 16,
   "id": "2fced7a4",
   "metadata": {},
   "outputs": [
    {
     "data": {
      "text/html": [
       "<div>\n",
       "<style scoped>\n",
       "    .dataframe tbody tr th:only-of-type {\n",
       "        vertical-align: middle;\n",
       "    }\n",
       "\n",
       "    .dataframe tbody tr th {\n",
       "        vertical-align: top;\n",
       "    }\n",
       "\n",
       "    .dataframe thead th {\n",
       "        text-align: right;\n",
       "    }\n",
       "</style>\n",
       "<table border=\"1\" class=\"dataframe\">\n",
       "  <thead>\n",
       "    <tr style=\"text-align: right;\">\n",
       "      <th></th>\n",
       "      <th>x</th>\n",
       "      <th>y</th>\n",
       "      <th>z</th>\n",
       "      <th>intensity</th>\n",
       "      <th>return_num</th>\n",
       "      <th>number_of_returns</th>\n",
       "      <th>classification</th>\n",
       "      <th>ground_elevation</th>\n",
       "      <th>relative_height_return</th>\n",
       "    </tr>\n",
       "  </thead>\n",
       "  <tbody>\n",
       "    <tr>\n",
       "      <th>0</th>\n",
       "      <td>293324.039</td>\n",
       "      <td>4097000.032</td>\n",
       "      <td>567.007</td>\n",
       "      <td>92</td>\n",
       "      <td>1</td>\n",
       "      <td>1</td>\n",
       "      <td>2</td>\n",
       "      <td>567.023010</td>\n",
       "      <td>-0.016010</td>\n",
       "    </tr>\n",
       "    <tr>\n",
       "      <th>1</th>\n",
       "      <td>293323.314</td>\n",
       "      <td>4097000.029</td>\n",
       "      <td>567.048</td>\n",
       "      <td>137</td>\n",
       "      <td>1</td>\n",
       "      <td>1</td>\n",
       "      <td>2</td>\n",
       "      <td>566.999023</td>\n",
       "      <td>0.048977</td>\n",
       "    </tr>\n",
       "    <tr>\n",
       "      <th>2</th>\n",
       "      <td>293322.605</td>\n",
       "      <td>4097000.023</td>\n",
       "      <td>567.131</td>\n",
       "      <td>124</td>\n",
       "      <td>1</td>\n",
       "      <td>1</td>\n",
       "      <td>2</td>\n",
       "      <td>567.146973</td>\n",
       "      <td>-0.015973</td>\n",
       "    </tr>\n",
       "    <tr>\n",
       "      <th>3</th>\n",
       "      <td>293321.856</td>\n",
       "      <td>4097000.028</td>\n",
       "      <td>567.076</td>\n",
       "      <td>161</td>\n",
       "      <td>1</td>\n",
       "      <td>1</td>\n",
       "      <td>2</td>\n",
       "      <td>567.033020</td>\n",
       "      <td>0.042980</td>\n",
       "    </tr>\n",
       "    <tr>\n",
       "      <th>4</th>\n",
       "      <td>293321.039</td>\n",
       "      <td>4097000.053</td>\n",
       "      <td>566.778</td>\n",
       "      <td>91</td>\n",
       "      <td>1</td>\n",
       "      <td>1</td>\n",
       "      <td>2</td>\n",
       "      <td>567.033020</td>\n",
       "      <td>-0.255020</td>\n",
       "    </tr>\n",
       "  </tbody>\n",
       "</table>\n",
       "</div>"
      ],
      "text/plain": [
       "            x            y        z  intensity  return_num  number_of_returns  \\\n",
       "0  293324.039  4097000.032  567.007         92           1                  1   \n",
       "1  293323.314  4097000.029  567.048        137           1                  1   \n",
       "2  293322.605  4097000.023  567.131        124           1                  1   \n",
       "3  293321.856  4097000.028  567.076        161           1                  1   \n",
       "4  293321.039  4097000.053  566.778         91           1                  1   \n",
       "\n",
       "   classification  ground_elevation  relative_height_return  \n",
       "0               2        567.023010               -0.016010  \n",
       "1               2        566.999023                0.048977  \n",
       "2               2        567.146973               -0.015973  \n",
       "3               2        567.033020                0.042980  \n",
       "4               2        567.033020               -0.255020  "
      ]
     },
     "execution_count": 16,
     "metadata": {},
     "output_type": "execute_result"
    }
   ],
   "source": [
    "## Merge the point cloud dataframe generated earlier (point_cloud_df_20xx) with the DTM ground elevations extracted in the previous cell\n",
    "## Calculate the relative height of each return with respect to ground (\"relative_height_return\") \n",
    "\n",
    "## 2019\n",
    "df_2019 = pd.concat([point_cloud_df_2019, dtm_vals_2019], axis=1)\n",
    "df_2019.columns = [\"x\", \"y\", \"z\", \"intensity\", \"return_num\", \"number_of_returns\", \"classification\", \"ground_elevation\"]\n",
    "df_2019[\"relative_height_return\"] = df_2019[\"z\"] - df_2019[\"ground_elevation\"]\n",
    "\n",
    "## Do the same for 2021 data as well\n",
    "df_2021 = pd.concat([point_cloud_df_2021, dtm_vals_2021], axis=1)\n",
    "df_2021.columns = [\"x\", \"y\", \"z\", \"intensity\", \"return_num\", \"number_of_returns\", \"classification\", \"ground_elevation\"]\n",
    "df_2021[\"relative_height_return\"] = df_2021[\"z\"] - df_2021[\"ground_elevation\"]\n",
    "df_2021.head()"
   ]
  },
  {
   "cell_type": "markdown",
   "id": "8f54e1a1",
   "metadata": {},
   "source": [
    "### 2. Create a 5m spatial resolution raster grid and assign a unique id to each 5m pixel"
   ]
  },
  {
   "cell_type": "code",
   "execution_count": 17,
   "id": "06a1fe2c",
   "metadata": {},
   "outputs": [],
   "source": [
    "## Save the new 5m raster in the DTM data folder\n",
    "dtm_directory = os.path.join(data_root_dir,\"Digital_Terrain_Model\")\n",
    "os.chdir(dtm_directory)\n",
    "\n",
    "## Create a (200 x 200) dataframe with each cell having a unique value between 0 and 40,000  \n",
    "ids = pd.DataFrame(data=np.arange(0, 200*200).reshape(200,200), index=np.arange(0,200), columns=np.arange(0,200))\n",
    "\n",
    "## Create a scaled transform\n",
    "scaled_transform = DTM_2021.transform * DTM_2021.transform.scale((5),(5))\n",
    "\n",
    "## Using rasterio, save the dataframe as a 5m raster in the tif format \n",
    "with rasterio.open(\n",
    "    dtm_directory + '/DTM_5m_unique_id.tif',\n",
    "    'w',\n",
    "    driver='GTiff',\n",
    "    height=ids.shape[0],\n",
    "    width=ids.shape[1],\n",
    "    count=1,\n",
    "    dtype=np.dtype(np.int32),\n",
    "    crs=DTM_2021.crs,\n",
    "    transform=scaled_transform,\n",
    ") as dst:\n",
    "    dst.write(ids, 1)"
   ]
  },
  {
   "cell_type": "code",
   "execution_count": 18,
   "id": "2e8d0fc2",
   "metadata": {},
   "outputs": [
    {
     "name": "stdout",
     "output_type": "stream",
     "text": [
      "<xarray.DataArray (band: 1, y: 200, x: 200)>\n",
      "array([[[    0,     1, ...,   198,   199],\n",
      "        [  200,   201, ...,   398,   399],\n",
      "        ...,\n",
      "        [39600, 39601, ..., 39798, 39799],\n",
      "        [39800, 39801, ..., 39998, 39999]]])\n",
      "Coordinates:\n",
      "  * band         (band) int32 1\n",
      "  * x            (x) float64 2.93e+05 2.93e+05 2.93e+05 ... 2.94e+05 2.94e+05\n",
      "  * y            (y) float64 4.098e+06 4.098e+06 ... 4.097e+06 4.097e+06\n",
      "    spatial_ref  int32 0\n",
      "Attributes:\n",
      "    AREA_OR_POINT:  Area\n",
      "    scale_factor:   1.0\n",
      "    add_offset:     0.0\n"
     ]
    },
    {
     "data": {
      "image/png": "[encoded data removed]",
      "text/plain": [
       "<Figure size 432x288 with 2 Axes>"
      ]
     },
     "metadata": {
      "needs_background": "light"
     },
     "output_type": "display_data"
    }
   ],
   "source": [
    "## Use rioxarray again to plot the newly created 5m raster\n",
    "raster_5m = rioxarray.open_rasterio(\"DTM_5m_unique_id.tif\")\n",
    "print(raster_5m)\n",
    "raster_5m.plot()\n",
    "plt.xlabel(\"Easting (m)\")\n",
    "plt.ylabel(\"Northing (m)\")\n",
    "plt.title(\"5m raster with unique pixel ids\")\n",
    "plt.show()"
   ]
  },
  {
   "cell_type": "markdown",
   "id": "35f439fd",
   "metadata": {},
   "source": [
    "### 3.  Group all discrete returns based on the 5m pixel they fall into."
   ]
  },
  {
   "cell_type": "code",
   "execution_count": 19,
   "id": "4a5e67d1",
   "metadata": {},
   "outputs": [],
   "source": [
    "## Here, we assign unique ids to each discrete return\n",
    "## Sample the unique ids from the 5m raster for each discrete return for the years 2019 and 2021\n",
    "## This sampling step might again take a substantial amount of time to run\n",
    "\n",
    "raster_5m = rasterio.open(\"DTM_5m_unique_id.tif\")\n",
    "## For the year 2021\n",
    "dtm_id_vals_2021 = pd.DataFrame(list(rasterio.sample.sample_gen(raster_5m, coords_2021)))\n",
    "\n",
    "## For the year 2019\n",
    "dtm_id_vals_2019 = pd.DataFrame(list(rasterio.sample.sample_gen(raster_5m, coords_2019)))"
   ]
  },
  {
   "cell_type": "code",
   "execution_count": 20,
   "id": "2eec0afa",
   "metadata": {},
   "outputs": [
    {
     "data": {
      "text/html": [
       "<div>\n",
       "<style scoped>\n",
       "    .dataframe tbody tr th:only-of-type {\n",
       "        vertical-align: middle;\n",
       "    }\n",
       "\n",
       "    .dataframe tbody tr th {\n",
       "        vertical-align: top;\n",
       "    }\n",
       "\n",
       "    .dataframe thead th {\n",
       "        text-align: right;\n",
       "    }\n",
       "</style>\n",
       "<table border=\"1\" class=\"dataframe\">\n",
       "  <thead>\n",
       "    <tr style=\"text-align: right;\">\n",
       "      <th></th>\n",
       "      <th>x</th>\n",
       "      <th>y</th>\n",
       "      <th>z</th>\n",
       "      <th>intensity</th>\n",
       "      <th>return_num</th>\n",
       "      <th>number_of_returns</th>\n",
       "      <th>classification</th>\n",
       "      <th>ground_elevation</th>\n",
       "      <th>relative_height_return</th>\n",
       "      <th>uniq_id</th>\n",
       "    </tr>\n",
       "  </thead>\n",
       "  <tbody>\n",
       "    <tr>\n",
       "      <th>0</th>\n",
       "      <td>293324.039</td>\n",
       "      <td>4097000.032</td>\n",
       "      <td>567.007</td>\n",
       "      <td>92</td>\n",
       "      <td>1</td>\n",
       "      <td>1</td>\n",
       "      <td>2</td>\n",
       "      <td>567.023010</td>\n",
       "      <td>-0.016010</td>\n",
       "      <td>39864</td>\n",
       "    </tr>\n",
       "    <tr>\n",
       "      <th>1</th>\n",
       "      <td>293323.314</td>\n",
       "      <td>4097000.029</td>\n",
       "      <td>567.048</td>\n",
       "      <td>137</td>\n",
       "      <td>1</td>\n",
       "      <td>1</td>\n",
       "      <td>2</td>\n",
       "      <td>566.999023</td>\n",
       "      <td>0.048977</td>\n",
       "      <td>39864</td>\n",
       "    </tr>\n",
       "    <tr>\n",
       "      <th>2</th>\n",
       "      <td>293322.605</td>\n",
       "      <td>4097000.023</td>\n",
       "      <td>567.131</td>\n",
       "      <td>124</td>\n",
       "      <td>1</td>\n",
       "      <td>1</td>\n",
       "      <td>2</td>\n",
       "      <td>567.146973</td>\n",
       "      <td>-0.015973</td>\n",
       "      <td>39864</td>\n",
       "    </tr>\n",
       "    <tr>\n",
       "      <th>3</th>\n",
       "      <td>293321.856</td>\n",
       "      <td>4097000.028</td>\n",
       "      <td>567.076</td>\n",
       "      <td>161</td>\n",
       "      <td>1</td>\n",
       "      <td>1</td>\n",
       "      <td>2</td>\n",
       "      <td>567.033020</td>\n",
       "      <td>0.042980</td>\n",
       "      <td>39864</td>\n",
       "    </tr>\n",
       "    <tr>\n",
       "      <th>4</th>\n",
       "      <td>293321.039</td>\n",
       "      <td>4097000.053</td>\n",
       "      <td>566.778</td>\n",
       "      <td>91</td>\n",
       "      <td>1</td>\n",
       "      <td>1</td>\n",
       "      <td>2</td>\n",
       "      <td>567.033020</td>\n",
       "      <td>-0.255020</td>\n",
       "      <td>39864</td>\n",
       "    </tr>\n",
       "  </tbody>\n",
       "</table>\n",
       "</div>"
      ],
      "text/plain": [
       "            x            y        z  intensity  return_num  number_of_returns  \\\n",
       "0  293324.039  4097000.032  567.007         92           1                  1   \n",
       "1  293323.314  4097000.029  567.048        137           1                  1   \n",
       "2  293322.605  4097000.023  567.131        124           1                  1   \n",
       "3  293321.856  4097000.028  567.076        161           1                  1   \n",
       "4  293321.039  4097000.053  566.778         91           1                  1   \n",
       "\n",
       "   classification  ground_elevation  relative_height_return  uniq_id  \n",
       "0               2        567.023010               -0.016010    39864  \n",
       "1               2        566.999023                0.048977    39864  \n",
       "2               2        567.146973               -0.015973    39864  \n",
       "3               2        567.033020                0.042980    39864  \n",
       "4               2        567.033020               -0.255020    39864  "
      ]
     },
     "execution_count": 20,
     "metadata": {},
     "output_type": "execute_result"
    }
   ],
   "source": [
    "## Merge the unique ids extracted above with the discrete return dataframe created earlier\n",
    "\n",
    "## Update 2019 df\n",
    "df_2019_with_ids = pd.concat([df_2019, dtm_id_vals_2019], axis=1)\n",
    "df_2019_with_ids.columns = [\"x\", \"y\", \"z\", \"intensity\", \"return_num\", \"number_of_returns\", \"classification\", \n",
    "                   \"ground_elevation\", \"relative_height_return\", \"uniq_id\"]\n",
    "df_2019_with_ids = df_2019_with_ids[df_2019_with_ids[\"ground_elevation\"] > -9999.0].reset_index(drop=True)\n",
    "\n",
    "## Update 2021 df\n",
    "df_2021_with_ids = pd.concat([df_2021, dtm_id_vals_2021], axis=1)\n",
    "df_2021_with_ids.columns = [\"x\", \"y\", \"z\", \"intensity\", \"return_num\", \"number_of_returns\", \"classification\", \n",
    "                            \"ground_elevation\", \"relative_height_return\", \"uniq_id\"]\n",
    "df_2021_with_ids = df_2021_with_ids[df_2021_with_ids[\"ground_elevation\"] > -9999.0].reset_index(drop=True)\n",
    "df_2021_with_ids.head()"
   ]
  },
  {
   "cell_type": "markdown",
   "id": "9443e8be",
   "metadata": {},
   "source": [
    "Before we calculate the relative height percentiles, let's look at the distribution of the number of discrete returns per 5m pixel for the years 2019 and 2021. A sufficient number of returns per 5 pixel will ensure that the height percentiles are robust."
   ]
  },
  {
   "cell_type": "code",
   "execution_count": 21,
   "id": "d8826d2c",
   "metadata": {},
   "outputs": [
    {
     "data": {
      "image/png": "[encoded data removed]",
      "text/plain": [
       "<Figure size 432x288 with 1 Axes>"
      ]
     },
     "metadata": {
      "needs_background": "light"
     },
     "output_type": "display_data"
    }
   ],
   "source": [
    "return_counts_per_5m_pixel_2019 = np.unique(df_2019_with_ids[\"uniq_id\"].sort_values(), return_counts=True)[1]\n",
    "return_counts_per_5m_pixel_2021 = np.unique(df_2021_with_ids[\"uniq_id\"].sort_values(), return_counts=True)[1]\n",
    "plt.hist(return_counts_per_5m_pixel_2019, bins=np.arange(0,500,10), density=True, alpha=0.5, color=\"blue\")\n",
    "plt.hist(return_counts_per_5m_pixel_2021, bins=np.arange(0,1000,10), density=True, alpha=0.5, color=\"red\")\n",
    "plt.xlabel(\"# returns per 5m pixel\", labelpad=10)\n",
    "plt.ylabel(\"Density\", labelpad=10)\n",
    "plt.title(\"The Galaxy Prime lidar sensor used in the 2021 collection \\n has many more returns per 5m pixel\", fontsize=12, pad=10)\n",
    "\n",
    "legend_elements = [Patch(facecolor=\"blue\", edgecolor=\"blue\", label='2019', alpha=0.5),\n",
    "                  Patch(facecolor=\"red\", edgecolor=\"red\", label='2021', alpha=0.5)]\n",
    "plt.legend(handles=legend_elements)\n",
    "plt.show()"
   ]
  },
  {
   "cell_type": "markdown",
   "id": "68cdb471",
   "metadata": {},
   "source": [
    "### 4. Calculate relative height percentiles for each 5m pixel and create spatial maps."
   ]
  },
  {
   "cell_type": "markdown",
   "id": "d0c0e9ad",
   "metadata": {},
   "source": [
    "### Compare boxplots of 20th, 50th, 75th and 90th ptile heights for 2019 and 2021 "
   ]
  },
  {
   "cell_type": "code",
   "execution_count": 22,
   "id": "8ee7a30f",
   "metadata": {
    "scrolled": true
   },
   "outputs": [],
   "source": [
    "## Subset the dataframes to include only the relevant columns\n",
    "df_2019_sub = pd.concat([df_2019_with_ids[\"x\"], df_2019_with_ids[\"y\"], df_2019_with_ids[\"uniq_id\"], df_2019[\"relative_height_return\"]], axis=1)\n",
    "df_2021_sub = pd.concat([df_2021_with_ids[\"x\"], df_2021_with_ids[\"y\"], df_2021_with_ids[\"uniq_id\"], df_2021[\"relative_height_return\"]], axis=1)\n",
    "\n",
    "## Calculate the number of returns per 5 m pixel\n",
    "return_counts_per_5m_pixel_2019 = pd.DataFrame(np.unique(df_2019_sub[\"uniq_id\"].sort_values(), return_counts=True)).transpose()\n",
    "return_counts_per_5m_pixel_2021 = pd.DataFrame(np.unique(df_2021_sub[\"uniq_id\"].sort_values(), return_counts=True)).transpose()\n",
    "return_counts_per_5m_pixel_2019.columns = return_counts_per_5m_pixel_2021.columns = [\"uniq_id\", \"number_of_returns\"]\n",
    "\n",
    "## Select only those 5m pixels which have at least 50 returns\n",
    "return_counts_per_5m_pixel_2019 = return_counts_per_5m_pixel_2019[return_counts_per_5m_pixel_2019[\"number_of_returns\"] > 50].reset_index(drop=True)\n",
    "return_counts_per_5m_pixel_2021 = return_counts_per_5m_pixel_2021[return_counts_per_5m_pixel_2021[\"number_of_returns\"] > 50].reset_index(drop=True)\n",
    "valid_5m_pixels_2019 = return_counts_per_5m_pixel_2019[\"uniq_id\"]\n",
    "valid_5m_pixels_2021 = return_counts_per_5m_pixel_2021[\"uniq_id\"]\n",
    "\n",
    "## Update df_sub to include only valid 5m pixels (returns > 50)\n",
    "df_2019_sub = df_2019_sub[df_2019_sub[\"uniq_id\"].isin(valid_5m_pixels_2019)].reset_index(drop=True)\n",
    "df_2021_sub = df_2021_sub[df_2021_sub[\"uniq_id\"].isin(valid_5m_pixels_2021)].reset_index(drop=True)"
   ]
  },
  {
   "cell_type": "code",
   "execution_count": 23,
   "id": "c80bb0a8",
   "metadata": {},
   "outputs": [],
   "source": [
    "## For each unique id (uniq_id), calculate relative height percentiles (20th, 30th, 50th, 75th and 90th)\n",
    "\n",
    "## First define a function to calculate the percentile and return a percentile dataframe\n",
    "def calc_percentile(df,percentile):\n",
    "    ptile_df = pd.DataFrame(df.groupby(by=[\"uniq_id\"])[\"relative_height_return\"].quantile(percentile).reset_index(drop=True))\n",
    "    ptile_df[\"RH_ptile\"] = percentile*100\n",
    "    ptile_df.columns = [\"height\", \"RH_ptile\"]\n",
    "    return ptile_df\n",
    "\n",
    "ptile_20_2019 = calc_percentile(df_2019_sub,0.2)\n",
    "ptile_30_2019 = calc_percentile(df_2019_sub,0.3)\n",
    "ptile_50_2019 = calc_percentile(df_2019_sub,0.5)\n",
    "ptile_75_2019 = calc_percentile(df_2019_sub,0.75)\n",
    "ptile_90_2019 = calc_percentile(df_2019_sub,0.9)\n",
    "\n",
    "ptile_20_2021 = calc_percentile(df_2021_sub,0.2)\n",
    "ptile_30_2021 = calc_percentile(df_2021_sub,0.3)\n",
    "ptile_50_2021 = calc_percentile(df_2021_sub,0.5)\n",
    "ptile_75_2021 = calc_percentile(df_2021_sub,0.75)\n",
    "ptile_90_2021 = calc_percentile(df_2021_sub,0.9)"
   ]
  },
  {
   "cell_type": "markdown",
   "id": "53044b0d",
   "metadata": {},
   "source": [
    "Combine these into single dataframes so we can plot all the data together."
   ]
  },
  {
   "cell_type": "code",
   "execution_count": 24,
   "id": "4e0eb20b",
   "metadata": {},
   "outputs": [],
   "source": [
    "rh_percentiles_2019 = pd.concat([ptile_20_2019, ptile_30_2019, ptile_50_2019, ptile_75_2019, ptile_90_2019], axis=0)\n",
    "rh_percentiles_2019[\"year\"] = 2019\n",
    "\n",
    "rh_percentiles_2021 = pd.concat([ptile_20_2021, ptile_30_2021, ptile_50_2021, ptile_75_2021, ptile_90_2021], axis=0)\n",
    "rh_percentiles_2021[\"year\"] = 2021\n",
    "\n",
    "## Combine 2019 and 2021 dataframes\n",
    "rh_percentiles_combined = pd.concat([rh_percentiles_2019, rh_percentiles_2021], axis=0)"
   ]
  },
  {
   "cell_type": "markdown",
   "id": "4057e64b",
   "metadata": {},
   "source": [
    "Lastly, we can visualize the percentiles from 2019 and 2021 by creating a boxplot figure."
   ]
  },
  {
   "cell_type": "code",
   "execution_count": 25,
   "id": "c78437f1",
   "metadata": {},
   "outputs": [
    {
     "data": {
      "image/png": "[encoded data removed]",
      "text/plain": [
       "<Figure size 576x360 with 1 Axes>"
      ]
     },
     "metadata": {
      "needs_background": "light"
     },
     "output_type": "display_data"
    }
   ],
   "source": [
    "## Compare boxplots\n",
    "plt.subplots(figsize=(8,5))\n",
    "sns.boxplot(x=rh_percentiles_combined[\"RH_ptile\"], y=rh_percentiles_combined[\"height\"], hue=rh_percentiles_combined[\"year\"],\n",
    "           fliersize=0, whis=[5,95])\n",
    "plt.ylim(0,15)\n",
    "plt.xlabel(\"Height percentile\", fontsize=12)\n",
    "plt.ylabel(\"Heights (in m)\", fontsize=12)\n",
    "plt.title(\"Relative Height Percentiles before (2019) and after (2021) the 2020 Creek Fire\")\n",
    "plt.show()"
   ]
  }
 ],
 "metadata": {
  "kernelspec": {
   "display_name": "Python 3 (ipykernel)",
   "language": "python",
   "name": "python3"
  },
  "language_info": {
   "codemirror_mode": {
    "name": "ipython",
    "version": 3
   },
   "file_extension": ".py",
   "mimetype": "text/x-python",
   "name": "python",
   "nbconvert_exporter": "python",
   "pygments_lexer": "ipython3",
   "version": "3.9.12"
  }
 },
 "nbformat": 4,
 "nbformat_minor": 5
}
