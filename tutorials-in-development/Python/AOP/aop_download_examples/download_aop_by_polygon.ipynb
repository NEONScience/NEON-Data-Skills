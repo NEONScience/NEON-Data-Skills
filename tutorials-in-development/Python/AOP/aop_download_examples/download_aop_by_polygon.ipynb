{
 "cells": [
  {
   "cell_type": "markdown",
   "id": "35d968d1",
   "metadata": {},
   "source": [
    "## Download AOP data from the API in Python\n",
    "### Subset by an area of interest, specified by a Polygon\n",
    "\n",
    "This script runs through a basic workflow of using functions to explore the NEON API, and downloads a subset of NEON discrete lidar data within an area of interest at the NEON site SERC (Smithsonian Environmental Research Center).\n",
    "\n",
    "### Requirements\n",
    "1. Python packages (only the non-standard ones are listed):\n",
    "    - h5py\n",
    "    - requests\n",
    "    - urllib\n",
    "    - shapely\n",
    "    \n",
    "2. This script calls on a module located in the sub-directory '../python_modules', which will be in the correct location if you clone this full repository. The module is called `neon_aop_download.py`.\n",
    "\n",
    "The first code chunks below import the required Python packages and modules, creates a class provided the input requirements for the API (requests and token) and defines the NEON discrete lidar data product ID and site of interest."
   ]
  },
  {
   "cell_type": "code",
   "execution_count": 1,
   "id": "a7b94090",
   "metadata": {},
   "outputs": [],
   "source": [
    "# download the required packages; this script calls on two modules (scripts) that need to be saved in the same directory as this notebook\n",
    "import os, sys\n",
    "import time\n",
    "import numpy as np\n",
    "import pandas as pd\n",
    "from shapely.geometry import Polygon, box"
   ]
  },
  {
   "cell_type": "code",
   "execution_count": 2,
   "id": "3451493e",
   "metadata": {},
   "outputs": [],
   "source": [
    "# add the python_modules to the path and import the python neon download and hyperspectral functions\n",
    "sys.path.insert(0, '../python_modules')\n",
    "import neon_aop_download_functions as neon_dl"
   ]
  },
  {
   "cell_type": "markdown",
   "id": "1cb22901",
   "metadata": {},
   "source": [
    "TIP: When downloading data using the NEON API, we recommend using a token. To set this up, refer to the first part of the [NEON API Tokens Tutorial](https://www.neonscience.org/resources/learning-hub/tutorials/neon-api-tokens-tutorial). While this tutorial is written for working in R, the instructions for creating your personal token are the same.\n",
    "\n",
    "You would enter your token in the Python download function as follows, where 'token_string' will be your token string obtained from your NEON User Account. By default, the function will not use a token (as shown in the code block below).\n",
    "\n",
    "For AOP we only have the current release (2023) + Provisional data, so you can leave this as the default (None). Please be aware of the nature of Provisional data. For more information please read: [data-revisions-releases](https://www.neonscience.org/data-samples/data-management/data-revisions-releases)\n",
    "\n",
    "```python\n",
    "my_token = 'token_string' \n",
    "neon_api = neon_dl.AopApiHandler(token=my_token, release_tag=None)\n",
    "```"
   ]
  },
  {
   "cell_type": "code",
   "execution_count": 3,
   "id": "7acdb748",
   "metadata": {},
   "outputs": [],
   "source": [
    "# define a class with optional inputs (of token and release_tag), or leave blank for default parameters\n",
    "neon_api = neon_dl.AopApiHandler()\n",
    "\n",
    "# replace with the code below including your token\n",
    "# my_token = 'token_string'\n",
    "# neon_api = neon_dl.AopApiHandler(token = my_token)"
   ]
  },
  {
   "cell_type": "code",
   "execution_count": 4,
   "id": "9d69eacd",
   "metadata": {},
   "outputs": [
    {
     "data": {
      "text/plain": [
       "['https://data.neonscience.org/api/v0/data/DP1.30003.001/SERC/2016-07',\n",
       " 'https://data.neonscience.org/api/v0/data/DP1.30003.001/SERC/2017-07',\n",
       " 'https://data.neonscience.org/api/v0/data/DP1.30003.001/SERC/2017-08',\n",
       " 'https://data.neonscience.org/api/v0/data/DP1.30003.001/SERC/2019-05',\n",
       " 'https://data.neonscience.org/api/v0/data/DP1.30003.001/SERC/2021-08',\n",
       " 'https://data.neonscience.org/api/v0/data/DP1.30003.001/SERC/2022-05']"
      ]
     },
     "execution_count": 4,
     "metadata": {},
     "output_type": "execute_result"
    }
   ],
   "source": [
    "# use the neon_download_functions \"neon_dl.list_available_urls\" to show the urls of data available at SERC\n",
    "serc_urls = neon_api.list_urls_by_product_site('DP1.30003.001','SERC')\n",
    "serc_urls"
   ]
  },
  {
   "cell_type": "code",
   "execution_count": 5,
   "id": "721a8461",
   "metadata": {},
   "outputs": [],
   "source": [
    "# set the NEON data product ID and site, see links in comments below for more details on these\n",
    "dpID='DP1.30003.001' # https://data.neonscience.org/data-products/DP1.30003.001\n",
    "site = 'SERC' # https://www.neonscience.org/field-sites/serc"
   ]
  },
  {
   "cell_type": "markdown",
   "id": "270ad8d7",
   "metadata": {},
   "source": [
    "Now you can use the `neon_api` class to determine what data is available, what files are available, and subset by an area (polygon) of interest."
   ]
  },
  {
   "cell_type": "code",
   "execution_count": 6,
   "id": "120abb3f",
   "metadata": {},
   "outputs": [
    {
     "data": {
      "text/plain": [
       "['https://data.neonscience.org/api/v0/data/DP1.30003.001/SERC/2016-07',\n",
       " 'https://data.neonscience.org/api/v0/data/DP1.30003.001/SERC/2017-07',\n",
       " 'https://data.neonscience.org/api/v0/data/DP1.30003.001/SERC/2017-08',\n",
       " 'https://data.neonscience.org/api/v0/data/DP1.30003.001/SERC/2019-05',\n",
       " 'https://data.neonscience.org/api/v0/data/DP1.30003.001/SERC/2021-08',\n",
       " 'https://data.neonscience.org/api/v0/data/DP1.30003.001/SERC/2022-05']"
      ]
     },
     "execution_count": 6,
     "metadata": {},
     "output_type": "execute_result"
    }
   ],
   "source": [
    "# use the neon_download_functions \"neon_dl.list_available_urls\" to show the urls of data available at SERC\n",
    "neon_api.list_urls_by_product_site(dpID,site)"
   ]
  },
  {
   "cell_type": "code",
   "execution_count": 7,
   "id": "dc1facfe",
   "metadata": {},
   "outputs": [],
   "source": [
    "# let's look at only the last year of data (the last url in the list)\n",
    "urls = ['https://data.neonscience.org/api/v0/data/DP1.30003.001/SERC/2022-05']"
   ]
  },
  {
   "cell_type": "code",
   "execution_count": 8,
   "id": "0be385f0",
   "metadata": {},
   "outputs": [
    {
     "data": {
      "text/plain": [
       "['2022053017_P1C1_SBET_QAQC.pdf',\n",
       " 'NEON.D02.SERC.DP1.30003.001.readme.20220725T151332Z.txt',\n",
       " 'NEON_D02_SERC_DP1_361000_4301000_classified_point_cloud_colorized.laz',\n",
       " 'NEON_D02_SERC_DPQA_359000_4301000_boundary.prj',\n",
       " 'NEON_D02_SERC_DPQA_359000_4304000_boundary.prj',\n",
       " 'NEON_D02_SERC_DP1_358000_4304000_classified_point_cloud_colorized.laz',\n",
       " 'NEON_D02_SERC_DPQA_L014-1_2022053017_boundary.kml',\n",
       " 'NEON_D02_SERC_DPQA_363000_4300000_boundary.dbf',\n",
       " 'NEON_D02_SERC_DPQA_363000_4303000_boundary.dbf',\n",
       " 'NEON_D02_SERC_DP1_363000_4309000_classified_point_cloud_colorized.laz']"
      ]
     },
     "execution_count": 8,
     "metadata": {},
     "output_type": "execute_result"
    }
   ],
   "source": [
    "# the discrete lidar data product (DP1.30003.001) includes the unclassified point clouds by flight line, \n",
    "# classified (and colorized) point cloud by 1km x 1km tile, and metadata shape files\n",
    "all_laz_files = neon_api.list_all_files(urls)\n",
    "all_laz_files[:10]"
   ]
  },
  {
   "cell_type": "code",
   "execution_count": 9,
   "id": "48ddd985",
   "metadata": {},
   "outputs": [
    {
     "data": {
      "text/plain": [
       "['NEON_D02_SERC_DP1_361000_4301000_classified_point_cloud_colorized.laz',\n",
       " 'NEON_D02_SERC_DP1_358000_4304000_classified_point_cloud_colorized.laz',\n",
       " 'NEON_D02_SERC_DP1_363000_4309000_classified_point_cloud_colorized.laz',\n",
       " 'NEON_D02_SERC_DP1_361000_4306000_classified_point_cloud_colorized.laz',\n",
       " 'NEON_D02_SERC_DP1_365000_4302000_classified_point_cloud_colorized.laz',\n",
       " 'NEON_D02_SERC_DP1_365000_4307000_classified_point_cloud_colorized.laz',\n",
       " 'NEON_D02_SERC_DP1_363000_4304000_classified_point_cloud_colorized.laz',\n",
       " 'NEON_D02_SERC_DP1_358000_4309000_classified_point_cloud_colorized.laz',\n",
       " 'NEON_D02_SERC_DP1_368000_4307000_classified_point_cloud_colorized.laz',\n",
       " 'NEON_D02_SERC_DP1_366000_4304000_classified_point_cloud_colorized.laz']"
      ]
     },
     "execution_count": 9,
     "metadata": {},
     "output_type": "execute_result"
    }
   ],
   "source": [
    "# extensions for classified point clouds are either 'colorized.laz' or '_classified_point_cloud.laz'\n",
    "# to see all the files available for only the classified point cloud data, specify those extensions\n",
    "classified_laz_exts = ('colorized.laz','_classified_point_cloud.laz')\n",
    "classified_laz_files = neon_api.list_all_files(urls,classified_laz_exts)\n",
    "classified_laz_files[:10]"
   ]
  },
  {
   "cell_type": "code",
   "execution_count": 10,
   "id": "6a3b09a5",
   "metadata": {},
   "outputs": [
    {
     "data": {
      "text/plain": [
       "['NEON_D02_SERC_DPQA_L014-1_2022053017_boundary.kml',\n",
       " 'NEON_D02_SERC_DPQA_365000_4309000_boundary.kml',\n",
       " 'NEON_D02_SERC_DPQA_365000_4300000_boundary.kml',\n",
       " 'NEON_D02_SERC_DPQA_365000_4306000_boundary.kml',\n",
       " 'NEON_D02_SERC_DPQA_365000_4303000_boundary.kml',\n",
       " 'NEON_D02_SERC_DPQA_L022-1_2022053017_boundary.kml',\n",
       " 'NEON_D02_SERC_DPQA_L021-1_2022053017_boundary.kml',\n",
       " 'NEON_D02_SERC_DPQA_L026-1_2022052911_boundary.kml',\n",
       " 'NEON_D02_SERC_DPQA_362000_4305000_boundary.kml',\n",
       " 'NEON_D02_SERC_DPQA_362000_4308000_boundary.kml']"
      ]
     },
     "execution_count": 10,
     "metadata": {},
     "output_type": "execute_result"
    }
   ],
   "source": [
    "# to see the corresponding shape files, you can use the boundary.kml extension\n",
    "# these include shapefiles of the flightline boundaries as well as the tile boundaries\n",
    "boundary_kmls = neon_api.list_all_files(urls,'boundary.kml')\n",
    "boundary_kmls[:10]"
   ]
  },
  {
   "cell_type": "code",
   "execution_count": 11,
   "id": "f3f3258e",
   "metadata": {},
   "outputs": [
    {
     "name": "stdout",
     "output_type": "stream",
     "text": [
      "Classified point cloud tiles found within the polygon:\n",
      "10 files found\n",
      "NEON_D02_SERC_DP1_364000_4306000_classified_point_cloud_colorized.laz\n",
      "NEON_D02_SERC_DP1_363000_4305000_classified_point_cloud_colorized.laz\n",
      "NEON_D02_SERC_DP1_365000_4306000_classified_point_cloud_colorized.laz\n",
      "NEON_D02_SERC_DP1_364000_4307000_classified_point_cloud_colorized.laz\n",
      "NEON_D02_SERC_DP1_364000_4305000_classified_point_cloud_colorized.laz\n",
      "NEON_D02_SERC_DP1_363000_4306000_classified_point_cloud_colorized.laz\n",
      "NEON_D02_SERC_DP1_363000_4307000_classified_point_cloud_colorized.laz\n",
      "NEON_D02_SERC_DP1_362000_4308000_classified_point_cloud_colorized.laz\n",
      "NEON_D02_SERC_DP1_362000_4306000_classified_point_cloud_colorized.laz\n",
      "NEON_D02_SERC_DP1_362000_4307000_classified_point_cloud_colorized.laz\n"
     ]
    }
   ],
   "source": [
    "# Define the UTM polygon vertices\n",
    "polygon_vertices = [(362050, 4308050), (364600, 4307460), (365200, 4306600), (363525, 4305230)]\n",
    "polygon = Polygon(polygon_vertices)\n",
    "\n",
    "# Function to extract UTM coordinates from file names\n",
    "def extract_coordinates(file_name):\n",
    "    parts = file_name.split('_')\n",
    "    utm_x = int(parts[4])\n",
    "    utm_y = int(parts[5])\n",
    "    return utm_x, utm_y\n",
    "\n",
    "# Function to create a tile polygon from UTM coordinates\n",
    "def create_tile_polygon(utm_x, utm_y):\n",
    "    # Each tile is 1km by 1km\n",
    "    return box(utm_x, utm_y, utm_x + 1000, utm_y + 1000)\n",
    "\n",
    "# Find tiles that intersect with the polygon\n",
    "tile_subset = []\n",
    "\n",
    "for file_name in classified_laz_files:\n",
    "#     if file_name.endswith('.laz'):\n",
    "    utm_x, utm_y = extract_coordinates(file_name)\n",
    "    tile_polygon = create_tile_polygon(utm_x, utm_y)\n",
    "    if tile_polygon.intersects(polygon) or tile_polygon.within(polygon):\n",
    "        tile_subset.append(file_name)\n",
    "\n",
    "# Print the list of tiles that intersect with the polygon\n",
    "print('Classified point cloud tiles found within the polygon:')\n",
    "print(\"%s files found\" % len(tile_subset))\n",
    "for tile_name in tile_subset:\n",
    "    print(tile_name)"
   ]
  },
  {
   "cell_type": "code",
   "execution_count": 12,
   "id": "9ec2fc07",
   "metadata": {},
   "outputs": [
    {
     "data": {
      "text/plain": [
       "['NEON_D02_SERC_DPQA_364000_4306000_boundary.kml',\n",
       " 'NEON_D02_SERC_DPQA_363000_4305000_boundary.kml',\n",
       " 'NEON_D02_SERC_DPQA_365000_4306000_boundary.kml',\n",
       " 'NEON_D02_SERC_DPQA_364000_4307000_boundary.kml',\n",
       " 'NEON_D02_SERC_DPQA_364000_4305000_boundary.kml',\n",
       " 'NEON_D02_SERC_DPQA_363000_4306000_boundary.kml',\n",
       " 'NEON_D02_SERC_DPQA_363000_4307000_boundary.kml',\n",
       " 'NEON_D02_SERC_DPQA_362000_4308000_boundary.kml',\n",
       " 'NEON_D02_SERC_DPQA_362000_4306000_boundary.kml',\n",
       " 'NEON_D02_SERC_DPQA_362000_4307000_boundary.kml']"
      ]
     },
     "execution_count": 12,
     "metadata": {},
     "output_type": "execute_result"
    }
   ],
   "source": [
    "# trick to find the associated boundary kml files, they follow a similar naming convention\n",
    "laz_boundary_subset = [f.replace('DP1','DPQA').replace('classified_point_cloud_colorized.laz','boundary.kml') for f in tile_subset]\n",
    "laz_boundary_subset"
   ]
  },
  {
   "cell_type": "code",
   "execution_count": 13,
   "id": "67bff247",
   "metadata": {},
   "outputs": [
    {
     "name": "stdout",
     "output_type": "stream",
     "text": [
      "https://data.neonscience.org/api/v0/data/DP1.30003.001/SERC/2022-05\n"
     ]
    }
   ],
   "source": [
    "file_urls = neon_api.get_aop_file_urls(product=dpID,\n",
    "                                       site='SERC',\n",
    "                                       file_list=tile_subset,\n",
    "                                       year='2022')"
   ]
  },
  {
   "cell_type": "markdown",
   "id": "129a25e3",
   "metadata": {},
   "source": [
    "Download these file lists (for the boundary kml files and associated classified point cloud data tiles) using the `download_aop_file_list` function:"
   ]
  },
  {
   "cell_type": "code",
   "execution_count": 14,
   "id": "3c4ce7c4",
   "metadata": {},
   "outputs": [
    {
     "name": "stdout",
     "output_type": "stream",
     "text": [
      "Downloading NEON_D02_SERC_DPQA_365000_4306000_boundary.kml to .\\data\\laz_boundary\n",
      "Downloading NEON_D02_SERC_DPQA_362000_4308000_boundary.kml to .\\data\\laz_boundary\n",
      "Downloading NEON_D02_SERC_DPQA_363000_4305000_boundary.kml to .\\data\\laz_boundary\n",
      "Downloading NEON_D02_SERC_DPQA_364000_4306000_boundary.kml to .\\data\\laz_boundary\n",
      "Downloading NEON_D02_SERC_DPQA_364000_4305000_boundary.kml to .\\data\\laz_boundary\n",
      "Downloading NEON_D02_SERC_DPQA_364000_4307000_boundary.kml to .\\data\\laz_boundary\n",
      "Downloading NEON_D02_SERC_DPQA_362000_4307000_boundary.kml to .\\data\\laz_boundary\n",
      "Downloading NEON_D02_SERC_DPQA_363000_4306000_boundary.kml to .\\data\\laz_boundary\n",
      "Downloading NEON_D02_SERC_DPQA_362000_4306000_boundary.kml to .\\data\\laz_boundary\n",
      "Downloading NEON_D02_SERC_DPQA_363000_4307000_boundary.kml to .\\data\\laz_boundary\n",
      "--- 1.0 seconds ---\n"
     ]
    }
   ],
   "source": [
    "# download the laz_boundary_files (kmls) within the polygon\n",
    "start_time = time.time()\n",
    "neon_api.download_aop_file_list(product=dpID,\n",
    "                               site='SERC',\n",
    "                               file_list=laz_boundary_subset,\n",
    "                               year='2022',\n",
    "                               download_folder='.\\data\\laz_boundary',\n",
    "                               check_size = False)\n",
    "print(\"--- %s seconds ---\" % round((time.time() - start_time),0))"
   ]
  },
  {
   "cell_type": "code",
   "execution_count": 15,
   "id": "6d39876e",
   "metadata": {},
   "outputs": [
    {
     "name": "stdout",
     "output_type": "stream",
     "text": [
      "file count: 10\n",
      "Download size: 1.54 GB\n",
      "Do you want to continue with the download? (y/n) y\n",
      "Downloading NEON_D02_SERC_DP1_364000_4306000_classified_point_cloud_colorized.laz to .\\data\\laz\n",
      "Downloading NEON_D02_SERC_DP1_363000_4305000_classified_point_cloud_colorized.laz to .\\data\\laz\n",
      "Downloading NEON_D02_SERC_DP1_365000_4306000_classified_point_cloud_colorized.laz to .\\data\\laz\n",
      "Downloading NEON_D02_SERC_DP1_364000_4307000_classified_point_cloud_colorized.laz to .\\data\\laz\n",
      "Downloading NEON_D02_SERC_DP1_364000_4305000_classified_point_cloud_colorized.laz to .\\data\\laz\n",
      "Downloading NEON_D02_SERC_DP1_363000_4306000_classified_point_cloud_colorized.laz to .\\data\\laz\n",
      "Downloading NEON_D02_SERC_DP1_363000_4307000_classified_point_cloud_colorized.laz to .\\data\\laz\n",
      "Downloading NEON_D02_SERC_DP1_362000_4308000_classified_point_cloud_colorized.laz to .\\data\\laz\n",
      "Downloading NEON_D02_SERC_DP1_362000_4306000_classified_point_cloud_colorized.laz to .\\data\\laz\n",
      "Downloading NEON_D02_SERC_DP1_362000_4307000_classified_point_cloud_colorized.laz to .\\data\\laz\n",
      "--- 1.2 minutes ---\n"
     ]
    }
   ],
   "source": [
    "start_time = time.time()\n",
    "neon_api.download_aop_file_list(product=dpID,\n",
    "                               site='SERC',\n",
    "                               file_list=tile_subset,\n",
    "                               year='2022',\n",
    "                               download_folder='.\\data\\laz',\n",
    "                               check_size = True)\n",
    "print(\"--- %s minutes ---\" % round((time.time() - start_time)/60,1))"
   ]
  }
 ],
 "metadata": {
  "kernelspec": {
   "display_name": "Python 3 (ipykernel)",
   "language": "python",
   "name": "python3"
  },
  "language_info": {
   "codemirror_mode": {
    "name": "ipython",
    "version": 3
   },
   "file_extension": ".py",
   "mimetype": "text/x-python",
   "name": "python",
   "nbconvert_exporter": "python",
   "pygments_lexer": "ipython3",
   "version": "3.9.12"
  }
 },
 "nbformat": 4,
 "nbformat_minor": 5
}
