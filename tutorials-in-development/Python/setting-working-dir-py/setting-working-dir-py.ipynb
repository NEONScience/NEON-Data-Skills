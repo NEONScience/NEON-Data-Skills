{
 "cells": [
  {
   "cell_type": "markdown",
   "metadata": {},
   "source": [
    "---\n",
    "syncID:\n",
    "title: \"Setting Working Directory in Python\"\n",
    "description: \"This tutorial shows you how to set your working directory in Python.\"\n",
    "dateCreated: 2017-12-08\n",
    "authors: Donal O'Leary\n",
    "contributors: \n",
    "estimatedTime: 0.5 hour\n",
    "packagesLibraries: os\n",
    "topics: data-analysis, data-management\n",
    "languagesTool: Python\n",
    "dataProduct: \n",
    "code1: \n",
    "tutorialSeries: \n",
    "urlTitle: setting-working-directory-in-python\n",
    "---"
   ]
  },
  {
   "cell_type": "markdown",
   "metadata": {},
   "source": [
    "## Why Set Working Directory\n",
    "Most of NEON's Data Skills tutorials either read in data, write out data, or both. \n",
    "When doing data analysis in Python, you need to tell your computer where \n",
    "to find data that you want to read in, as well as where you want to write data to. \n",
    "\n",
    "In general, there are two ways to describe a file location to your computer. \n",
    "As an analogy, let's say that you wanted to order a pizza to your house. The pizza \n",
    "devliery driver is your computer, the file that you want to find is your house, \n",
    "and the driver's current location is the 'current working directory'. \n",
    " \n",
    "1) You can give your computer the full file path e.g.,\n",
    "    \"C:/Users/myName/Git/data/images/NEON_image.tif\"\n",
    "    This method is similar to giving the pizza delivery driver your full address\n",
    "    that they enter into their smartphone - they can find your house \n",
    "    _no matter where they are starting from._\n",
    "    \n",
    "2) Or, you can give you computer a relative pathway to follow from your current working directory\n",
    "    e.g., \"./data/images/NEON_image.tif\"\n",
    "    Which the computer reads as: \"From my current working directory (\".\"), go into 'data', then \n",
    "    'images' and use the 'NEON_image.tif' file.\n",
    "    This method is similar to telling the delivery driver: \"From the pizzeria, turn left on \n",
    "    Pine Street, right on Catalpa, and I'm the third house on the Right.\" - they can find your \n",
    "    house with few directions, but _only if they start in the right place._\n",
    "\n",
    "In order to give instructions based on the relative pathway, you need to tell the \n",
    "computer where to start (\"From the _pizzeria_...\"). \n",
    "\n",
    "At first, it might seem like it's always easiest to give the full file path, however \n",
    "that can become onerous if you have long filepaths (makes your code messy), and it \n",
    "can also become a problem when you share your code (because \"C:/Users/myName/...\" will have \n",
    "to become \"C:/Users/theirName/...\" in every instance). Ultimately, it easier and far more \n",
    "flexible to use relative filepaths when possible. For most NEON tutorials, we will change \n",
    "the working directory to wherever the example data are before conducting our analysis using \n",
    "relative filepaths.\n",
    "\n",
    "## Reading and setting the current working directory\n",
    "\n",
    "To use relative filepaths, you will need to define your current working directory \n",
    "to ensure that your computer can find your data. It can also be very useful (especially \n",
    "when troubleshooting) to have your computer tell you what is its current working directory. \n",
    "In order to interface with these 'operating system'-level functions, we first need to \n",
    "import the `os` <a href=\"https://docs.python.org/3/library/os.html\" target=\"_blank\">('operating system') package.</a>"
   ]
  },
  {
   "cell_type": "code",
   "execution_count": 1,
   "metadata": {},
   "outputs": [],
   "source": [
    "import os"
   ]
  },
  {
   "cell_type": "markdown",
   "metadata": {},
   "source": [
    "In order to read or change the current working directory, we will use the \n",
    "`getcwd()` and `chdir()` functions from the `os` package. `getcwd()` returns \n",
    "the current working directory's filepath, which we will need to print to see."
   ]
  },
  {
   "cell_type": "code",
   "execution_count": 2,
   "metadata": {},
   "outputs": [
    {
     "name": "stdout",
     "output_type": "stream",
     "text": [
      "/Users/olearyd/Git/dev-aten/NEON-Data-Skills/tutorials-in-development/Python/setting-working-dir-py\n"
     ]
    }
   ],
   "source": [
    "# get the current working directory, and print that to the console\n",
    "print(os.getcwd())"
   ]
  },
  {
   "cell_type": "markdown",
   "metadata": {},
   "source": [
    "Now, let's say that you want to move one directory up in your file structure. \n",
    "You can use the \"..\" notation to specify that you are moving one directory higher.\n",
    "__Protip:__ you can also use \".\" to specify the current working directory."
   ]
  },
  {
   "cell_type": "code",
   "execution_count": 5,
   "metadata": {},
   "outputs": [
    {
     "name": "stdout",
     "output_type": "stream",
     "text": [
      "/Users/olearyd/Git/dev-aten/NEON-Data-Skills/tutorials-in-development/Python\n"
     ]
    }
   ],
   "source": [
    "os.chdir(\"..\")\n",
    "print(os.getcwd())"
   ]
  },
  {
   "cell_type": "markdown",
   "metadata": {},
   "source": [
    "Now, try to run the same code above, but this time enter in your own path to a directory \n",
    "on your computer. Be sure to enter this path in quotes. \n",
    "\n",
    "__Protip:__ Most code editors can help\n",
    "you write out your pathway - as you are typing the pathway (\"C:/...\" for windows, or \"~/\" for mac), \n",
    "hit the `tab` button, which should automatically fill in the rest of that directory (in the terminal),\n",
    "or may bring up a list of options to choose from (Jupyter Notebooks, PyCharm, etc.). This can be \n",
    "especially helpful to avoid typos in long filepaths. Read more about <a href=\"https://miykael.github.io/nipype_tutorial/notebooks/introduction_jupyter-notebook.html\" target=\"_blank\"> Using Tab Completion in Jupyter Notebooks</a> or <a href=\"https://www.howtogeek.com/195207/use-tab-completion-to-type-commands-faster-on-any-operating-system/\" target=\"_blank\">Using Tab Completion in the Terminal for Any Operating System. </a>\n",
    "\n",
    "## Setting current working directory for NEON tutorials\n",
    "Most NEON tutorials use an example dataset that you will download from a link at the top \n",
    "of the tutorial. Often this will save to your /Downloads/ folder, but you may want to move \n",
    "your download to another location for better organization. Most of the example datasets \n",
    "are .zip files, and when expanded, may produce a single directory (\"NEON_example_data\") \n",
    "that contains several other files and directories.\n",
    "\n",
    "When setting the current working directory for these tutorials, be sure to change your \n",
    "computer to the directory that _contains the example dataset download_ (i.e., the directory \n",
    "that \"NEON_example_data\" is in) using the `os.chdir()` function. \n",
    "\n",
    "## Exercise - change your current working directory and read in file\n",
    "To test your new skills in setting the working directory, download \n",
    "<a href=\"https://ndownloader.figshare.com/files/22392069\" target=\"_blank\"> this tiny text file </a> \n",
    "and change your current working directory to wherever this file is located (probably in your /Downloads/ \n",
    "directory). Then run the lines below to see if it worked!"
   ]
  },
  {
   "cell_type": "code",
   "execution_count": 9,
   "metadata": {},
   "outputs": [
    {
     "name": "stdout",
     "output_type": "stream",
     "text": [
      "It worked! (fist pump!)\n"
     ]
    }
   ],
   "source": [
    "os.chdir(\"/Users/olearyd/Downloads/\") # **Change this line to fit your computer**\n",
    "f=open(\"NEON-test-file.txt\",\"r\") # This line opens a connection to the text file in read (\"r\") mode\n",
    "print(f.read()) # This line reads and prints the contents of the text file"
   ]
  },
  {
   "cell_type": "markdown",
   "metadata": {},
   "source": [
    "Hopefully, at this point you can see the confirmation message in the text file. \n",
    "If you are still having trouble, try to copy and paste your error message into \n",
    "a search engine (thanks, Internet!) or you can always feel free to reach out to \n",
    "NEON staff who will be happy to help you (<a href=\"https://www.neonscience.org/about/contact-us\" target=\"_blank\">Contact Us Here</a>)."
   ]
  },
  {
   "cell_type": "code",
   "execution_count": null,
   "metadata": {},
   "outputs": [],
   "source": []
  }
 ],
 "metadata": {
  "kernelspec": {
   "display_name": "Python 3",
   "language": "python",
   "name": "python3"
  },
  "language_info": {
   "codemirror_mode": {
    "name": "ipython",
    "version": 3
   },
   "file_extension": ".py",
   "mimetype": "text/x-python",
   "name": "python",
   "nbconvert_exporter": "python",
   "pygments_lexer": "ipython3",
   "version": "3.8.2"
  }
 },
 "nbformat": 4,
 "nbformat_minor": 4
}
