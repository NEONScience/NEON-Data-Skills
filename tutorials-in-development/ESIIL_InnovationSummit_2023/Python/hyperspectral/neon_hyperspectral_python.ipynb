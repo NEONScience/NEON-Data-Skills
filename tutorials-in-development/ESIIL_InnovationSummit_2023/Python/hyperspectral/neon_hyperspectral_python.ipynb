{
 "cells": [
  {
   "cell_type": "markdown",
   "id": "35d968d1",
   "metadata": {},
   "source": [
    "## Download and Visualize NEON Hyperspectral Data\n",
    "This script runs through a basic workflow of downloading a NEON hyperspectral tile over the NEON site SERC (Smithsonian Environmental Research Center), plots RGB and false color images of the tile, and plots the spectral signature of a single pixel in that tile. For more detailed tutorials on these, please see the NEON Learning Hub website, specifically the tutorials [Band Stacking, RGB & False Color Images](https://www.neonscience.org/resources/learning-hub/tutorials/neon-hsi-aop-functions-python) and [Plotting a Spectral Signature](https://www.neonscience.org/resources/learning-hub/tutorials/plot-spec-sig-tiles-python).\n",
    "\n",
    "### Requirements\n",
    "1. Python packages (only the non-standard ones are listed):\n",
    "    - h5py\n",
    "    - requests\n",
    "    - urllib\n",
    "2. This script calls on two modules which should be located in the same directory as this Python notebook. These modules are called `neon_aop_download_functions.py` and `neon_aop_hyperspectral.py`."
   ]
  },
  {
   "cell_type": "code",
   "execution_count": 1,
   "id": "a59bebf7",
   "metadata": {},
   "outputs": [],
   "source": [
    "# download the required packages; this script calls on two modules (scripts) that need to be saved in the same directory as this notebook\n",
    "import os, sys\n",
    "import numpy as np\n",
    "import pandas as pd\n",
    "import matplotlib.pyplot as plt"
   ]
  },
  {
   "cell_type": "code",
   "execution_count": 2,
   "id": "3451493e",
   "metadata": {},
   "outputs": [],
   "source": [
    "# add the python_modules to the path and import the python neon download and hyperspectral functions\n",
    "sys.path.insert(0, '../python_modules')\n",
    "import neon_aop_download_functions as neon_dl\n",
    "import neon_aop_hyperspectral as neon_hs\n",
    "%matplotlib inline "
   ]
  },
  {
   "cell_type": "code",
   "execution_count": 3,
   "id": "721a8461",
   "metadata": {},
   "outputs": [],
   "source": [
    "# set the NEON data product ID and site, see links in comments below for more details on these\n",
    "dpID='DP3.30006.001' # https://data.neonscience.org/data-products/DP3.30006.001\n",
    "site = 'SERC' # https://www.neonscience.org/field-sites/serc"
   ]
  },
  {
   "cell_type": "code",
   "execution_count": 4,
   "id": "120abb3f",
   "metadata": {},
   "outputs": [
    {
     "data": {
      "text/plain": [
       "['https://data.neonscience.org/api/v0/data/DP3.30006.001/SERC/2016-07',\n",
       " 'https://data.neonscience.org/api/v0/data/DP3.30006.001/SERC/2017-07',\n",
       " 'https://data.neonscience.org/api/v0/data/DP3.30006.001/SERC/2017-08',\n",
       " 'https://data.neonscience.org/api/v0/data/DP3.30006.001/SERC/2019-05',\n",
       " 'https://data.neonscience.org/api/v0/data/DP3.30006.001/SERC/2021-08']"
      ]
     },
     "execution_count": 4,
     "metadata": {},
     "output_type": "execute_result"
    }
   ],
   "source": [
    "# use the neon_download function \"list_available_urls\" to show what data are available at SERC\n",
    "neon_dl.list_available_urls(dpID,site)"
   ]
  },
  {
   "cell_type": "code",
   "execution_count": 5,
   "id": "a5debb8c",
   "metadata": {},
   "outputs": [
    {
     "name": "stdout",
     "output_type": "stream",
     "text": [
      "./data/SERC/2021/\n"
     ]
    }
   ],
   "source": [
    "# set the year of data to download\n",
    "year='2021'\n",
    "\n",
    "# set the data path where data will be downloaded (modify as needed!)\n",
    "data_root_path = './data/'+site+'/'+year+'/'\n",
    "h5_path = data_root_path+'refl/'\n",
    "\n",
    "# create the data directory, if it doesn't exist\n",
    "if not os.path.exists(h5_path):\n",
    "    os.makedirs(h5_path)\n",
    "    \n",
    "# print the h5 path\n",
    "print(data_root_path)"
   ]
  },
  {
   "cell_type": "code",
   "execution_count": null,
   "id": "775ea5d1",
   "metadata": {},
   "outputs": [
    {
     "name": "stdout",
     "output_type": "stream",
     "text": [
      "Download size: 629.07 MB\n",
      "Do you want to continue with the download? (y/n) y\n",
      "downloading NEON_D02_SERC_DP3_368000_4306000_reflectance.h5 to ./data/SERC/2021/refl/\n",
      "token: False\n"
     ]
    }
   ],
   "source": [
    "# use the download_aop_files function to download a single reflectance (specified by UTM x_y coordinates)\n",
    "# note, you will need to enter \"y\" to download\n",
    "neon_dl.download_aop_files('DP3.30006.001',site,year,h5_path,match_string='368000_4306000_reflectance.h5')"
   ]
  },
  {
   "cell_type": "code",
   "execution_count": null,
   "id": "7f026f01",
   "metadata": {},
   "outputs": [],
   "source": [
    "# display the contents in the data directory\n",
    "os.listdir(h5_path)"
   ]
  },
  {
   "cell_type": "code",
   "execution_count": null,
   "id": "1c97af01",
   "metadata": {},
   "outputs": [],
   "source": [
    "# set the variable h5_file to be the full path of the downloaded reflectance h5 tile\n",
    "h5_file = os.path.join(h5_path,'NEON_D02_SERC_DP3_368000_4306000_reflectance.h5')"
   ]
  },
  {
   "cell_type": "code",
   "execution_count": null,
   "id": "940ef32c",
   "metadata": {
    "scrolled": true
   },
   "outputs": [],
   "source": [
    "# read in the reflectance data using the aop_h5refl2array function\n",
    "refl, refl_metadata, wavelengths = neon_hs.aop_h5refl2array(h5_file,'Reflectance')"
   ]
  },
  {
   "cell_type": "code",
   "execution_count": null,
   "id": "9c3fa77d",
   "metadata": {},
   "outputs": [],
   "source": [
    "# plot a single band of data\n",
    "band56 = refl[:,:,55] # note Python uses 0-based indexing, so 55 corresponds to band 56\n",
    "neon_hs.plot_aop_refl(band56/refl_metadata['scale_factor'],\n",
    "                      refl_metadata['extent'],\n",
    "                      colorlimit=(0,0.3),\n",
    "                      title='SERC Tile Band 56',\n",
    "                      cmap_title='Reflectance',\n",
    "                      colormap='gist_earth')"
   ]
  },
  {
   "cell_type": "code",
   "execution_count": null,
   "id": "97e94c09",
   "metadata": {},
   "outputs": [],
   "source": [
    "# pull out the true-color and false-color band combinations\n",
    "rgb_bands = (58,34,19) # set the red, green, and blue bands\n",
    "cir_bands = (90,34,19) # set the color infrared bands\n",
    "\n",
    "# stack the 3-band combinations (rgb and cir) using stack_rgb function\n",
    "rgb_unscaled = neon_hs.stack_rgb(refl,rgb_bands)\n",
    "cir_unscaled = neon_hs.stack_rgb(refl,cir_bands)\n",
    "\n",
    "# apply the reflectance scale factor\n",
    "rgb = rgb_unscaled/refl_metadata['scale_factor']\n",
    "cir = cir_unscaled/refl_metadata['scale_factor']"
   ]
  },
  {
   "cell_type": "code",
   "execution_count": null,
   "id": "ca191b4b",
   "metadata": {},
   "outputs": [],
   "source": [
    "# plot the true color image (rgb)\n",
    "neon_hs.plot_aop_rgb(rgb,\n",
    "                     refl_metadata['extent'],\n",
    "                     plot_title='SERC RGB Image')"
   ]
  },
  {
   "cell_type": "code",
   "execution_count": null,
   "id": "8aaddcc3",
   "metadata": {},
   "outputs": [],
   "source": [
    "# plot the false color image (color infrared / cir)\n",
    "neon_hs.plot_aop_rgb(cir,\n",
    "                     refl_metadata['extent'],\n",
    "                     plot_title='SERC Color Infrared Image')"
   ]
  },
  {
   "cell_type": "code",
   "execution_count": null,
   "id": "d424d6ac",
   "metadata": {},
   "outputs": [],
   "source": [
    "# read in the spectral information from the center pixel (of the 1000 x 1000 m tile) to a dataframe\n",
    "serc_pixel_df = pd.DataFrame()\n",
    "serc_pixel_df['reflectance'] = refl[500,500,:]\n",
    "serc_pixel_df['wavelengths'] = wavelengths"
   ]
  },
  {
   "cell_type": "code",
   "execution_count": null,
   "id": "77045059",
   "metadata": {},
   "outputs": [],
   "source": [
    "# plot the spectral signature\n",
    "serc_pixel_df.plot.line(x='wavelengths',y='reflectance',linewidth=2)\n",
    "plt.title('Spectral Signature for SERC Center Pixel'); ax = plt.gca() \n",
    "# set the x limit to the 98th percentile - this cuts out some of the noisy data at the SWIR edge of the spectrum\n",
    "ax.set_xlim([np.min(serc_pixel_df['wavelengths']),np.percentile(serc_pixel_df['wavelengths'],98)])\n",
    "ax.set_ylim([np.min(serc_pixel_df['reflectance']),np.percentile(serc_pixel_df['reflectance'],98)])\n",
    "ax.set_xlabel(\"Wavelength, nm\")\n",
    "ax.set_ylabel(\"Reflectance\")\n",
    "ax.grid('on')"
   ]
  }
 ],
 "metadata": {
  "kernelspec": {
   "display_name": "Python 3 (ipykernel)",
   "language": "python",
   "name": "python3"
  },
  "language_info": {
   "codemirror_mode": {
    "name": "ipython",
    "version": 3
   },
   "file_extension": ".py",
   "mimetype": "text/x-python",
   "name": "python",
   "nbconvert_exporter": "python",
   "pygments_lexer": "ipython3",
   "version": "3.9.12"
  }
 },
 "nbformat": 4,
 "nbformat_minor": 5
}
